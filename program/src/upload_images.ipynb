{
 "cells": [
  {
   "cell_type": "code",
   "execution_count": 4,
   "metadata": {},
   "outputs": [
    {
     "data": {
      "text/plain": [
       "0.0"
      ]
     },
     "execution_count": 4,
     "metadata": {},
     "output_type": "execute_result"
    }
   ],
   "source": [
    "from arweave.arweave_lib import Wallet, Transaction, API_URL\n",
    "import json\n",
    "import os\n",
    "from tqdm import tqdm\n",
    "\n",
    "# Load your arweave wallet\n",
    "your_ar_wallet = Wallet('arweave-key.json')\n",
    "your_ar_wallet.balance\n"
   ]
  },
  {
   "cell_type": "code",
   "execution_count": 2,
   "metadata": {},
   "outputs": [
    {
     "data": {
      "text/plain": [
       "{'Champion': [],\n",
       " 'Local': [],\n",
       " 'Casual': [],\n",
       " 'NewB': [],\n",
       " 'Rookie': [],\n",
       " 'Proffesional': [],\n",
       " 'Amature': []}"
      ]
     },
     "execution_count": 2,
     "metadata": {},
     "output_type": "execute_result"
    }
   ],
   "source": [
    "Rarities = [\"Champion\", \"Local\", \"Casual\", \"NewB\", \"Rookie\", \"Proffesional\", \"Amature\"]\n",
    "\n",
    "Report = {}\n",
    "for rarity in Rarities:\n",
    "    Report[rarity] = []\n",
    "Report\n"
   ]
  },
  {
   "cell_type": "code",
   "execution_count": 6,
   "metadata": {},
   "outputs": [],
   "source": [
    "\n",
    "for rarity in tqdm(Rarities):\n",
    "\n",
    "    arr = os.listdir(f'./Avatars/{rarity}')\n",
    "\n",
    "    for img in arr:\n",
    "\n",
    "        with open(f'./Avatars/{rarity}/{img}', 'rb') as f:\n",
    "            img_in_bytes = f.read()\n",
    "\n",
    "    # Upload image to Arweave\n",
    "        transaction = Transaction(your_ar_wallet, data=img_in_bytes)\n",
    "        transaction.add_tag('Content-Type', 'image/png')\n",
    "        transaction.sign()\n",
    "        transaction.send()\n",
    "\n",
    "        image_url = API_URL+\"/\"+transaction.id\n",
    "\n",
    "        metadata = {\n",
    "        \"name\": rarity,\n",
    "        \"symbol\": \"GTree\",\n",
    "        \"description\": \"Decentralizing Solana Via Gamification\",\n",
    "        \"seller_fee_basis_points\": 500,\n",
    "        \"external_url\": \"https://www.Gamestree.com\",\n",
    "        \"attributes\": [\n",
    "            {\n",
    "                \"trait_type\": \"Generation\",\n",
    "                \"value\": \"1\"\n",
    "            }\n",
    "        ],\n",
    "        \"collection\": {\n",
    "            \"name\": \"Gamestree Avatars\",\n",
    "            \"family\": \"Rarity\",\n",
    "        },\n",
    "        \"properties\": {\n",
    "            \"files\": [\n",
    "                {\n",
    "                    \"uri\": image_url,\n",
    "                    \"type\": \"image/png\",\n",
    "                },\n",
    "            ],\n",
    "            \"category\": \"image\",\n",
    "            \"maxSupply\": None,\n",
    "            \"creators\":[\n",
    "                {\n",
    "                \"address\": \"8yKqaBE3PY3HnBKnHDjogtwpuMYK8gKVUNgnPqVxBcwz\",\n",
    "                \"verified\":1,\n",
    "                \"share\": 0,\n",
    "                },\n",
    "                {\n",
    "                \"address\": \"G473EkeR5gowVn8CRwTSDop3zPwaNixwp62qi7nyVf4z\",\n",
    "                \"verified\": 0,\n",
    "                \"share\": 100,\n",
    "                }\n",
    "                ],\n",
    "        },\n",
    "        \"image\": image_url,\n",
    "        }\n",
    "\n",
    "\n",
    "            # Upload metadata to Arweave\n",
    "        meta_transaction = Transaction(your_ar_wallet, data=json.dumps(metadata))\n",
    "        meta_transaction.add_tag('Content-Type', 'text/html')\n",
    "        meta_transaction.sign()\n",
    "        meta_transaction.send()\n",
    "\n",
    "        metadata_url = API_URL+\"/\"+meta_transaction.id\n",
    "\n",
    "        Report[rarity].append(metadata_url)"
   ]
  },
  {
   "cell_type": "code",
   "execution_count": null,
   "metadata": {},
   "outputs": [
    {
     "data": {
      "text/plain": [
       "['Copy of 202112051639.png',\n",
       " 'Copy of artflow_202112051639.png',\n",
       " 'Copy of artflow_202112052028.png',\n",
       " 'Copy of artflow_202112052030.png']"
      ]
     },
     "execution_count": 5,
     "metadata": {},
     "output_type": "execute_result"
    }
   ],
   "source": [
    "Report"
   ]
  }
 ],
 "metadata": {
  "interpreter": {
   "hash": "b68919eb655d0773185a23d07bc600bc0399219a4090e8bc721f64f37132571c"
  },
  "kernelspec": {
   "display_name": "Python 3.9.7 64-bit (conda)",
   "language": "python",
   "name": "python3"
  },
  "language_info": {
   "codemirror_mode": {
    "name": "ipython",
    "version": 3
   },
   "file_extension": ".py",
   "mimetype": "text/x-python",
   "name": "python",
   "nbconvert_exporter": "python",
   "pygments_lexer": "ipython3",
   "version": "3.9.7"
  },
  "orig_nbformat": 4
 },
 "nbformat": 4,
 "nbformat_minor": 2
}
