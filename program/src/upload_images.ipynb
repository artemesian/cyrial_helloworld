{
 "cells": [
  {
   "cell_type": "code",
   "execution_count": 1,
   "metadata": {},
   "outputs": [
    {
     "data": {
      "text/plain": [
       "0.0"
      ]
     },
     "execution_count": 1,
     "metadata": {},
     "output_type": "execute_result"
    }
   ],
   "source": [
    "from arweave.arweave_lib import Wallet, Transaction, API_URL\n",
    "import json\n",
    "import os\n",
    "from tqdm import tqdm\n",
    "\n",
    "# Load your arweave wallet\n",
    "your_ar_wallet = Wallet('arweave-key.json')\n",
    "your_ar_wallet.balance\n"
   ]
  },
  {
   "cell_type": "code",
   "execution_count": null,
   "metadata": {},
   "outputs": [],
   "source": []
  },
  {
   "cell_type": "code",
   "execution_count": 2,
   "metadata": {},
   "outputs": [
    {
     "data": {
      "text/plain": [
       "{'Champion': [],\n",
       " 'Local': [],\n",
       " 'Casual': [],\n",
       " 'NewB': [],\n",
       " 'Rookie': [],\n",
       " 'Proffesional': [],\n",
       " 'Amature': []}"
      ]
     },
     "execution_count": 2,
     "metadata": {},
     "output_type": "execute_result"
    }
   ],
   "source": [
    "Rarities = [\"Champion\", \"Local\", \"Casual\", \"NewB\", \"Rookie\", \"Proffesional\", \"Amature\"]\n",
    "\n",
    "Report = {}\n",
    "for rarity in Rarities:\n",
    "    Report[rarity] = []\n",
    "Report\n"
   ]
  },
  {
   "cell_type": "code",
   "execution_count": 3,
   "metadata": {},
   "outputs": [
    {
     "name": "stderr",
     "output_type": "stream",
     "text": [
      "  0%|          | 0/7 [00:00<?, ?it/s]"
     ]
    }
   ],
   "source": [
    "\n",
    "for rarity in tqdm(Rarities):\n",
    "\n",
    "    arr = os.listdir(f'./Avatars/{rarity}')\n",
    "\n",
    "    for img in arr:\n",
    "\n",
    "        with open(f'./Avatars/{rarity}/{img}', 'rb') as f:\n",
    "            img_in_bytes = f.read()\n",
    "\n",
    "    # Upload image to Arweave\n",
    "        transaction = Transaction(your_ar_wallet, data=img_in_bytes)\n",
    "        transaction.add_tag('Content-Type', 'image/png')\n",
    "        transaction.sign()\n",
    "        transaction.send()\n",
    "\n",
    "        image_url = API_URL+\"/\"+transaction.id\n",
    "\n",
    "        metadata = {\n",
    "        \"name\": \"Gamestree\",\n",
    "        \"symbol\": \"GTree\",\n",
    "        \"description\": \"Decentralizing Solana Via Gamification\",\n",
    "        \"seller_fee_basis_points\": 500,\n",
    "        \"external_url\": \"https://www.Gamestree.com\",\n",
    "        \"attributes\": [\n",
    "            {\n",
    "                \"trait_type\": \"Generation\",\n",
    "                \"value\": \"1\"\n",
    "            }\n",
    "        ],\n",
    "        \"collection\": {\n",
    "            \"name\": \"Gamestree Avatars\",\n",
    "            \"family\": rarity,\n",
    "        },\n",
    "        \"properties\": {\n",
    "            \"files\": [\n",
    "                {\n",
    "                    \"uri\": image_url,\n",
    "                    \"type\": \"image/png\",\n",
    "                },\n",
    "            ],\n",
    "            \"category\": \"image\",\n",
    "            \"maxSupply\": None,\n",
    "            \"creators\":[\n",
    "                {\n",
    "                \"address\": \"8yKqaBE3PY3HnBKnHDjogtwpuMYK8gKVUNgnPqVxBcwz\",\n",
    "                \"verified\":1,\n",
    "                \"share\": 0,\n",
    "                },\n",
    "                {\n",
    "                \"address\": \"G473EkeR5gowVn8CRwTSDop3zPwaNixwp62qi7nyVf4z\",\n",
    "                \"verified\": 0,\n",
    "                \"share\": 100,\n",
    "                }\n",
    "                ],\n",
    "        },\n",
    "        \"image\": image_url,\n",
    "        }\n",
    "\n",
    "\n",
    "            # Upload metadata to Arweave\n",
    "        meta_transaction = Transaction(your_ar_wallet, data=json.dumps(metadata))\n",
    "        meta_transaction.add_tag('Content-Type', 'text/html')\n",
    "        meta_transaction.sign()\n",
    "        meta_transaction.send()\n",
    "\n",
    "        metadata_url = API_URL+\"/\"+meta_transaction.id\n",
    "\n",
    "        Report[rarity].append(metadata_url)"
   ]
  },
  {
   "cell_type": "code",
   "execution_count": null,
   "metadata": {},
   "outputs": [
    {
     "data": {
      "text/plain": [
       "{'Champion': ['https://arweave.net/9PpWTTi7HtqsaqVA3Xj3HSSOgZmSd6Xp8LtIIJGpXZQ',\n",
       "  'https://arweave.net/HrwBGdAvm7JNcwtELnFcKpASzOxpM6DiabXNhwzhIvo',\n",
       "  'https://arweave.net/jMS9hTVfVDzZTLmjK4b9wMlU5IvaKkaIq4rkWd8v6tI',\n",
       "  'https://arweave.net/hW1v0aRSgyiLSf3T-g-KrVy149vnLxRogzW1OKhJ9M4'],\n",
       " 'Local': ['https://arweave.net/s6BsAVvf6ghtUKt1H8eoirE-yZBPvBjqN3Wyguyc1e8',\n",
       "  'https://arweave.net/b7qTQMMzzBPmCKFPYb930axSH-EmZ-nGg3AROB-QZQA',\n",
       "  'https://arweave.net/PF361VjEBHx81b9CTxZfnCO2XNJ3L3caGIQj9DyuDrg',\n",
       "  'https://arweave.net/jUt_Epc5vFBsDfTHMIcuVybofVN8mbS9CpcmZD3fjHs',\n",
       "  'https://arweave.net/BKiGDPit3T1xVFZ2Wc1QLbTsfo2sTLcNokbqlx2Y-uY',\n",
       "  'https://arweave.net/HVzFwe4ZCEg_hEM4bkLsRC7FsLrwFfo_9PBb8Sy9J4Y',\n",
       "  'https://arweave.net/lbD_lTQjomJkvpTXZ6hiGWNkpsN0d2GUbst6zpmEdYs',\n",
       "  'https://arweave.net/c9I8MC-4T5zzGsLy5LJ-Hj3ocZ05KaafqMp5annaONM'],\n",
       " 'Casual': ['https://arweave.net/IxukmJfBlOuSepj2hdaqyTLmaTnDZXQnqJTs97qr-lA',\n",
       "  'https://arweave.net/vlb-F7-S-qdYmvXVpK4GExTp_obewqdA_yFUeSQ0I14',\n",
       "  'https://arweave.net/UN8cD_YeTYBj7qvxw6ehsTlen-LotD-tKmFLG54LGrU',\n",
       "  'https://arweave.net/jVYynpUgTQMqZJdYz2KRoJweDu_3kh-swyVmCbNoGVw',\n",
       "  'https://arweave.net/WRSuzjG5uWeItfBzGUwK7h12nlT_uYXnzEG8Tq7fg8M',\n",
       "  'https://arweave.net/PWrCyeV0KXCT1Q0fCZBA9DFhIErsT0vDK__WlpmMka8',\n",
       "  'https://arweave.net/TODSEFXy_znd-HQV2rXfPYTumscOXtShvVU2MeRcbI0',\n",
       "  'https://arweave.net/0mkC4YFF2SDckKNTSU2nqS9Xxa7DEhCodvqwhe8oh3o',\n",
       "  'https://arweave.net/4hhUOFtBpPHQrNRwkDJKpQpvW4wL5Dux5wjYd6v0SHs',\n",
       "  'https://arweave.net/YVBheCFbLPF3cksqZfYCWc0rReZDVLUS782ViWNk-tc',\n",
       "  'https://arweave.net/GvirKFNoGQ1PhCzkNyG5BDINVlnaZ9Nj7T_PPf6FbR8'],\n",
       " 'NewB': ['https://arweave.net/x_6w07Fdw-AD48dS4BRbXyQQtWKm9nzQS10zqBeLGV8',\n",
       "  'https://arweave.net/z7IuHYAz1vmY6aN3e9aDpYK3QP31muhP_C5L7-4o-4c',\n",
       "  'https://arweave.net/uV_No3g8qVOoTEKCoIPUvdQRvZjapZ7ryC7PKkDtoSQ',\n",
       "  'https://arweave.net/OD9qv9iHThs9qU_S7HIrWo7vxjMxOl6OkVbiq2CWq0o',\n",
       "  'https://arweave.net/t6W1W_FIUqon4qPT1srhINpbEZXeIgnc5k1HyVe4aA4',\n",
       "  'https://arweave.net/HqedV5z0wI0boB1EgERV3x-9LeZqOFB8E6qRY7AarKk',\n",
       "  'https://arweave.net/t3FEIA2ciOXEPCtojae_e9IiEiR6-urIq2agK5AHOYA',\n",
       "  'https://arweave.net/EFa2XB5NSWedSEdcVu_UMO6vEZP5mEikBqfJoRHdI0I',\n",
       "  'https://arweave.net/KRNDxr6O8YQremLzPLeut7Cv5sLNozov0Qa5BgZuTdM',\n",
       "  'https://arweave.net/c2cmZycexv1xAfyMIn0j1uu6CMmnEQ0KSgoIZphQBOw'],\n",
       " 'Rookie': ['https://arweave.net/--IWT_ar1dmtaD59TmuEtxpzo78dA1CtB0Rw4NQImgY',\n",
       "  'https://arweave.net/OgLLqseURKEhpnG2pemY8-GABb02Sv3-bd-Z-zSCU6E',\n",
       "  'https://arweave.net/1Cg372-PuRnC3NpQPkU_S2mwQ1cA5c0INw6iGjh6qm8',\n",
       "  'https://arweave.net/QuLsWewEBafc1vgj81CCqXM9RHWThNLpdYlF69f7n4s',\n",
       "  'https://arweave.net/JXB0E8Y2qibfWnBH2a46Nr6tWDjoUXQw94lp8nIF8Go',\n",
       "  'https://arweave.net/BG_y-_b9Wf9cWqPbiqq8a29HTyzF7ZkzQoU2WoZt2uE'],\n",
       " 'Proffesional': ['https://arweave.net/d7SkjEvOnrnjd70VJolcYH9wPHvKlCnHbK-cELj80ns',\n",
       "  'https://arweave.net/P0KnKMBd1HDEiuusImQyCZvXxMPIeTwnxAhpUKak-dU',\n",
       "  'https://arweave.net/L4RT2S0lMfpCb-VSgcxgQf2_d_yQtLcd7LPG69ktZ7Y',\n",
       "  'https://arweave.net/XbcADvU4mVYA16uQ9ntgT5mqeBReReEGB0gBlfQcGt0',\n",
       "  'https://arweave.net/o_RA3BIqkCfVJBDk2BoUinTVKzn7kp1sd66HhmNDxus',\n",
       "  'https://arweave.net/dfqYLcfA-IfAm5kwxe9r4FY7t4GjI3tQ5qp71PF5NUI'],\n",
       " 'Amature': ['https://arweave.net/aHxrUZhvlBlwKl5fS0R7xeVb7cSiUO2DrjtkymGZmYA',\n",
       "  'https://arweave.net/T61vjM7QnPX_1xF2pYeqXefzAeFN36CoJVWhAYpqOqQ',\n",
       "  'https://arweave.net/e37eKriHf96MTgTkQQf-MoqPqetJzgLxstLQqZKoDxE',\n",
       "  'https://arweave.net/plH8N9Y-hlR0wZBreKvoGrWebOfNrsfGEqLf2N8QSsE',\n",
       "  'https://arweave.net/O3v3x7bDzmmoegsOJD-0PaXZZp5nYaDErjQ16LMOrm8',\n",
       "  'https://arweave.net/EY8tIfzsjz2GVKgojuYw5aD6993TsETZN_2ybkZVdak']}"
      ]
     },
     "execution_count": 4,
     "metadata": {},
     "output_type": "execute_result"
    }
   ],
   "source": [
    "Report"
   ]
  }
 ],
 "metadata": {
  "interpreter": {
   "hash": "b68919eb655d0773185a23d07bc600bc0399219a4090e8bc721f64f37132571c"
  },
  "kernelspec": {
   "display_name": "Python 3.9.7 64-bit (conda)",
   "language": "python",
   "name": "python3"
  },
  "language_info": {
   "codemirror_mode": {
    "name": "ipython",
    "version": 3
   },
   "file_extension": ".py",
   "mimetype": "text/x-python",
   "name": "python",
   "nbconvert_exporter": "python",
   "pygments_lexer": "ipython3",
   "version": "3.9.7"
  },
  "orig_nbformat": 4
 },
 "nbformat": 4,
 "nbformat_minor": 2
}
