{
 "cells": [
  {
   "cell_type": "code",
   "execution_count": 3,
   "metadata": {},
   "outputs": [
    {
     "data": {
      "text/plain": [
       "'ApPRG76AL_XAMGkvhuSqIqaSDkeduWBGXA3Cmz4C1Zc'"
      ]
     },
     "execution_count": 3,
     "metadata": {},
     "output_type": "execute_result"
    }
   ],
   "source": [
    "from arweave.arweave_lib import Wallet, Transaction, API_URL\n",
    "import json\n",
    "\n",
    "# Load your arweave wallet\n",
    "your_ar_wallet = Wallet('arweave-key.json')\n",
    "your_ar_wallet.address"
   ]
  },
  {
   "cell_type": "code",
   "execution_count": null,
   "metadata": {},
   "outputs": [],
   "source": [
    "metadata = {\n",
    "    \"name\": \"Custom NFT #1\",\n",
    "    \"symbol\": \"CNFT\",\n",
    "    \"description\": \"A description about my custom NFT #1\",\n",
    "    \"seller_fee_basis_points\": 500,\n",
    "    \"external_url\": \"https://www.customnft.com/\",\n",
    "    \"attributes\": [\n",
    "        {\n",
    "            \"trait_type\": \"NFT type\",\n",
    "            \"value\": \"Custom\"\n",
    "        }\n",
    "    ],\n",
    "    \"collection\": {\n",
    "        \"name\": \"Gamestree Avatars\",\n",
    "        \"family\": \"Champion\",\n",
    "    },\n",
    "    \"properties\": {\n",
    "        \"files\": [\n",
    "            {\n",
    "                \"uri\": \"https://cdn.discordapp.com/attachments/884618293577670697/917153336984227870/202112051639.png\",\n",
    "                \"type\": \"image/png\",\n",
    "            },\n",
    "        ],\n",
    "        \"category\": \"image\",\n",
    "        \"maxSupply\": 0,\n",
    "        \"creators\":[\n",
    "            {\n",
    "            \"address\": \"8yKqaBE3PY3HnBKnHDjogtwpuMYK8gKVUNgnPqVxBcwz\",\n",
    "            \"verified\":1,\n",
    "            \"share\": 0,\n",
    "            },\n",
    "            {\n",
    "            \"address\": \"G473EkeR5gowVn8CRwTSDop3zPwaNixwp62qi7nyVf4z\",\n",
    "            \"verified\": 0,\n",
    "            \"share\": 100,\n",
    "            }\n",
    "            ],\n",
    "    },\n",
    "    \"image\": \"https://cdn.discordapp.com/attachments/884618293577670697/917153336984227870/202112051639.png\",\n",
    "}"
   ]
  }
 ],
 "metadata": {
  "interpreter": {
   "hash": "b3ba2566441a7c06988d0923437866b63cedc61552a5af99d1f4fb67d367b25f"
  },
  "kernelspec": {
   "display_name": "Python 3.8.8 64-bit ('base': conda)",
   "language": "python",
   "name": "python3"
  },
  "language_info": {
   "codemirror_mode": {
    "name": "ipython",
    "version": 3
   },
   "file_extension": ".py",
   "mimetype": "text/x-python",
   "name": "python",
   "nbconvert_exporter": "python",
   "pygments_lexer": "ipython3",
   "version": "3.9.7"
  },
  "orig_nbformat": 4
 },
 "nbformat": 4,
 "nbformat_minor": 2
}
