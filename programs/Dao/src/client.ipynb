{
 "cells": [
  {
   "cell_type": "code",
   "execution_count": 1,
   "metadata": {},
   "outputs": [
    {
     "data": {
      "text/plain": [
       "True"
      ]
     },
     "execution_count": 1,
     "metadata": {},
     "output_type": "execute_result"
    }
   ],
   "source": [
    "import solana\n",
    "from solana.publickey import PublicKey\n",
    "from solana.rpc.api import Client\n",
    "from solana.keypair import Keypair\n",
    "from solana import system_program\n",
    "from solana import transaction\n",
    "from solana.system_program import SYS_PROGRAM_ID, CreateAccountParams, create_account\n",
    "from solana.transaction import *\n",
    "from spl.token.constants import TOKEN_PROGRAM_ID, ASSOCIATED_TOKEN_PROGRAM_ID\n",
    "from spl.token.instructions import initialize_mint, InitializeMintParams, get_associated_token_address\n",
    "from spl.token._layouts import MINT_LAYOUT\n",
    "from spl.token.client import Token\n",
    "from spl.token import instructions\n",
    "import base64\n",
    "import base58\n",
    "from borsh_construct import *\n",
    "from solana.rpc.commitment import Commitment\n",
    "import time\n",
    "import sys\n",
    "sys.path.append('../../GlobalRepo/')\n",
    "from global_repo import *\n",
    "\n",
    "\n",
    "client = Client(\"https://api.devnet.solana.com\")\n",
    "\n",
    "client.is_connected()"
   ]
  },
  {
   "cell_type": "code",
   "execution_count": 2,
   "metadata": {},
   "outputs": [],
   "source": [
    "def create_num_cnt(num):\n",
    "    return [int((num-num%255)/255),255,num%255]\n",
    "proposal = \"Helly world, This is my first proposal ever. Do you think it will work?\"\n",
    "# proposal = proposal.encode(encoding = 'UTF-8', errors = 'strict')\n",
    "choices = [\"No, Not at all\", \"Yes, Ofccourse\", \"Yes, Eventually\", \"Clueless\", \"hello world\"]\n",
    "\n",
    "\n",
    "proposal += '\\0' * (500-len(proposal));\n",
    "\n",
    "choices = [choice + '\\0'* (30-len(choice)) for choice in choices]\n",
    "# print (\"length of {0} is {1}\".format(repr(mystring), len(mystring)))\n",
    "\n",
    "\n",
    "\n",
    "# len(proposal)"
   ]
  },
  {
   "cell_type": "code",
   "execution_count": 3,
   "metadata": {},
   "outputs": [],
   "source": [
    "program_id = DAO_PROGRAM_ID\n",
    "sys_program_meta = AccountMeta(SYS_PROGRAM_ID, False, False)\n",
    "spl_program_meta  = AccountMeta(TOKEN_PROGRAM_ID, False, False)"
   ]
  },
  {
   "cell_type": "code",
   "execution_count": 4,
   "metadata": {},
   "outputs": [],
   "source": [
    "def getAccountInfo(client: Client, account_pk: PublicKey):\n",
    "    \"\"\"Fetch account information from RPC, parse out the data and deserialize\"\"\"\n",
    "    comm = Commitment(\"confirmed\")\n",
    "    res = client.get_account_info(account_pk, comm, encoding='base64')\n",
    "    data = res['result']\n",
    "    if isinstance(data, dict):\n",
    "        return accountSchema.parse(base64.urlsafe_b64decode(data['value']['data'][0]))\n",
    "    else:\n",
    "        raise AttributeError(f'Unknown RPC result {data}')"
   ]
  },
  {
   "cell_type": "code",
   "execution_count": 5,
   "metadata": {},
   "outputs": [],
   "source": [
    "payer_keypair = Keypair.from_secret_key(base58.b58decode(\"mH4PkhAttpFXSrntbpiJgC8J6wHYFDK5PFWcPN53hMJKziWQucux7MFiW7uXnqKsAY3XBnxUtyVKnomZnD9JxHW\"))\n"
   ]
  },
  {
   "cell_type": "code",
   "execution_count": 18,
   "metadata": {},
   "outputs": [
    {
     "data": {
      "text/plain": [
       "Container(proposal_id=4)"
      ]
     },
     "execution_count": 18,
     "metadata": {},
     "output_type": "execute_result"
    }
   ],
   "source": [
    "accountSchema = CStruct(\n",
    "    \"proposal_id\" / U32\n",
    ")\n",
    "\n",
    "(proposals_pda, proposals_pda_bump) = PublicKey.find_program_address([b\"Dsol_Dao_Governance\"], program_id)\n",
    "\n",
    "proposals = getAccountInfo(client,proposals_pda)\n",
    "# proposals.proposal_id += 1\n",
    "proposals"
   ]
  },
  {
   "cell_type": "code",
   "execution_count": 19,
   "metadata": {},
   "outputs": [],
   "source": [
    "proposal_pda, _ = PublicKey.find_program_address([b\"Dsol_Dao_Governance\", proposals.proposal_id.to_bytes(4,\"big\") ], program_id)\n",
    "metadata_program_pubkey = PublicKey(\"metaqbxxUerdq28cj1RbAWkYQm3ybzjb6a8bt518x1s\")\n",
    "governor_account_meta = AccountMeta(PublicKey(\"J3ACcSXB2ACbX2CL4FWxvZh81KRQt4AtF3XhyvpxxrJK\"), False, False)\n",
    "(metadata_pda, metadata_nonce) = PublicKey.find_program_address([b'metadata', bytes(metadata_program_pubkey), bytes(governor_account_meta.pubkey)], metadata_program_pubkey)\n",
    "\n",
    "\n",
    "\n",
    "payer_account_meta = AccountMeta(payer_keypair.public_key, True, True)\n",
    "proposals_account_meta = AccountMeta(proposals_pda, False, True)\n",
    "proposal_pda_meta = AccountMeta(proposal_pda, False, True)\n",
    "sysvar_clock_meta = AccountMeta(solana.sysvar.SYSVAR_CLOCK_PUBKEY, False, False)\n",
    "metadata_account_meta = AccountMeta(metadata_pda, False, True)\n",
    "governor_associated_meta = AccountMeta(get_associated_token_address(payer_keypair.public_key, governor_account_meta.pubkey), False, False)\n",
    "\n"
   ]
  },
  {
   "cell_type": "code",
   "execution_count": 20,
   "metadata": {},
   "outputs": [
    {
     "data": {
      "text/plain": [
       "AccountMeta(pubkey=6hL3XHdm94oFtoydvFWarvbeW8XAo5LCHwj88fWZLWQQ, is_signer=False, is_writable=True)"
      ]
     },
     "execution_count": 20,
     "metadata": {},
     "output_type": "execute_result"
    }
   ],
   "source": [
    "accounts = [\n",
    "    payer_account_meta,\n",
    "    governor_account_meta,\n",
    "    proposals_account_meta,\n",
    "    proposal_pda_meta,\n",
    "    sysvar_clock_meta,\n",
    "    metadata_account_meta,\n",
    "    governor_associated_meta,\n",
    "    AccountMeta(GOVERNOR_VAULT_ID, False, False),\n",
    "\n",
    "    sys_program_meta,\n",
    "    sys_program_meta,\n",
    "]\n",
    "\n",
    "proposal_pda_meta\n"
   ]
  },
  {
   "cell_type": "code",
   "execution_count": 21,
   "metadata": {},
   "outputs": [],
   "source": [
    "instruction_data = bytes([1])\n",
    "\n",
    "instruction_data += bytes(proposal, \"ascii\")\n",
    "for choice in choices:\n",
    "    instruction_data += bytes(choice, \"ascii\")\n",
    "\n",
    "instruction_data += bytes(create_num_cnt(65279))\n",
    "# instruction_data"
   ]
  },
  {
   "cell_type": "code",
   "execution_count": 22,
   "metadata": {},
   "outputs": [
    {
     "data": {
      "text/plain": [
       "'https://explorer.solana.com/tx/29zyxZghoyKjbhak4MJCDNMide5Km7mh3EKRa1ATRtcksuaZn5PJdvSgCDCAAW9yAYjoPbCcdzR8MSm9QiqFz64R?cluster=devnet'"
      ]
     },
     "execution_count": 22,
     "metadata": {},
     "output_type": "execute_result"
    }
   ],
   "source": [
    "transaction = Transaction()\n",
    "transaction.add(TransactionInstruction(\n",
    "    accounts,\n",
    "    program_id,\n",
    "    instruction_data\n",
    "))\n",
    "f\"https://explorer.solana.com/tx/{client.send_transaction(transaction, payer_keypair)['result']}?cluster=devnet\""
   ]
  },
  {
   "cell_type": "code",
   "execution_count": null,
   "metadata": {},
   "outputs": [],
   "source": []
  },
  {
   "cell_type": "code",
   "execution_count": 8,
   "metadata": {},
   "outputs": [],
   "source": [
    "ProposalResult = CStruct(\n",
    "    \"leading_choice_bump\" / U8,\n",
    "    \"choices\" / U32[5],\n",
    "    \n",
    ")\n",
    "\n",
    "\n",
    "Vote = CStruct(\n",
    "    \"proposal_pda\" / U8[32],\n",
    "   \"mint_id\" / U8[32],\n",
    "    \"choice_bumps\" / U8[5]\n",
    ")\n",
    "\n",
    "accountSchema = CStruct(\n",
    "    \"proposal_pda\" / U8[32],\n",
    "    \"proposal\" / String,\n",
    "    \"choices\" / String,\n",
    "    \"max_vote_bump\" / U32,\n",
    "    \"proposal_governor_id\" / U8[32],\n",
    "    \"duration\" / U64,\n",
    "    \"ending_data\" / U64,\n",
    "    \"votes\" / Vec(Vote),\n",
    "    \"result\" / ProposalResult\n",
    "\n",
    ")"
   ]
  },
  {
   "cell_type": "code",
   "execution_count": 14,
   "metadata": {},
   "outputs": [],
   "source": [
    "\n",
    "Proposal = getAccountInfo(client, PublicKey(\"12Q8B2KuurUbEKQAteniz1RF3PL5MUddzTW2tWcfxaUh\"))"
   ]
  },
  {
   "cell_type": "code",
   "execution_count": 15,
   "metadata": {},
   "outputs": [
    {
     "data": {
      "text/plain": [
       "16502400"
      ]
     },
     "execution_count": 15,
     "metadata": {},
     "output_type": "execute_result"
    }
   ],
   "source": [
    "choices = [Proposal.choices[i*30 : i*30 + 30].strip('\\0') for i in range(5)]\n",
    "proposal = Proposal.proposal.strip(\"\\0\")\n",
    "# [Proposal.max_vote_bump, proposal, Proposal.votes, choices, Proposal.result]\n",
    "Proposal.duration"
   ]
  },
  {
   "cell_type": "code",
   "execution_count": 64,
   "metadata": {},
   "outputs": [],
   "source": [
    "\n",
    "accounts = [\n",
    "    payer_account_meta,\n",
    "    proposal_pda_meta]"
   ]
  },
  {
   "cell_type": "code",
   "execution_count": 65,
   "metadata": {},
   "outputs": [],
   "source": [
    "mints = [\"3dQrQQHJc7xhzXsStN1ox4qWffHChYnJgAktjohqNnLa\", \"GKPKFvBhgJSkX1Ts6e4nhcj4XzcACbCZC4dv1TTe2Wjs\", \"Aus1568aZYNXkqhHv9j6BNx5mpbmWURkQAnpHRXuxfBf\", \"21mMpgfMcn2NEnaZzQ1SX73ryj6t8yg8akWRakcSWTCd\", \"A2ve82vbWNjaCJWNdUQp2AiBsZmcGrMVRGBvKGwDuuFy\", \"FGmgjsekE1TDYHAsCjv4HDrigWnpaWMdWogH9d1emdEh\", \"J3ACcSXB2ACbX2CL4FWxvZh81KRQt4AtF3XhyvpxxrJK\", \"2MnyqF3DGRSjfVe4HXtgYoAuXBcPGmN2Qmo7LJ1GkdMc\", \"2bABzKph2JzdGr7nwqhQt74sDmVuJaYA6eVnTtFwY7ki\" ]\n",
    "\n",
    "for mint in mints:\n",
    "    governor_account_meta = AccountMeta(PublicKey(mint), False, False)\n",
    "\n",
    "    metadata_program_pubkey = PublicKey(\"metaqbxxUerdq28cj1RbAWkYQm3ybzjb6a8bt518x1s\")\n",
    "    (metadata_pda, metadata_nonce) = PublicKey.find_program_address([b'metadata', bytes(metadata_program_pubkey), bytes(governor_account_meta.pubkey)], metadata_program_pubkey)\n",
    "\n",
    "\n",
    "    governor_associated_meta = AccountMeta(get_associated_token_address(payer_keypair.public_key, governor_account_meta.pubkey), False, False)\n",
    "    \n",
    "    accounts += [\n",
    "        governor_account_meta,\n",
    "        AccountMeta(metadata_pda, False, False),\n",
    "        governor_associated_meta]\n",
    "\n",
    "accounts += [sys_program_meta, sys_program_meta]"
   ]
  },
  {
   "cell_type": "code",
   "execution_count": 66,
   "metadata": {},
   "outputs": [
    {
     "data": {
      "text/plain": [
       "'https://explorer.solana.com/tx/2sVzVU462m66LaGc5UdZXrtYdzxgWMpanVK1t1zSY8euMFC9upfMETcpEDkBG2qg8shgxjzDstEzLL98o7HquXAd?cluster=devnet'"
      ]
     },
     "execution_count": 66,
     "metadata": {},
     "output_type": "execute_result"
    }
   ],
   "source": [
    "transaction = Transaction()\n",
    "transaction.add(TransactionInstruction(\n",
    "    accounts,\n",
    "    program_id,\n",
    "    bytes([2,len(mints),2,0,5,13,0] + create_num_cnt(Proposal.max_vote_bump))\n",
    "))\n",
    "f\"https://explorer.solana.com/tx/{client.send_transaction(transaction, payer_keypair)['result']}?cluster=devnet\""
   ]
  },
  {
   "cell_type": "code",
   "execution_count": 67,
   "metadata": {},
   "outputs": [
    {
     "data": {
      "text/plain": [
       "'https://explorer.solana.com/tx/5ifJUF8teih1QbPSS5dE6fFhVpKRqQi4G5EbfrdymTS7Ye6i9KnUnpvNtJTh4rvWN5wXoXstWUrkk1D5SCjgvCQL?cluster=devnet'"
      ]
     },
     "execution_count": 67,
     "metadata": {},
     "output_type": "execute_result"
    }
   ],
   "source": [
    "accounts = [proposal_pda_meta]\n",
    "\n",
    "transaction = Transaction()\n",
    "transaction.add(TransactionInstruction(\n",
    "    accounts,\n",
    "    program_id,\n",
    "    bytes([4])\n",
    "))\n",
    "f\"https://explorer.solana.com/tx/{client.send_transaction(transaction, payer_keypair)['result']}?cluster=devnet\""
   ]
  },
  {
   "cell_type": "code",
   "execution_count": null,
   "metadata": {},
   "outputs": [],
   "source": []
  }
 ],
 "metadata": {
  "interpreter": {
   "hash": "b68919eb655d0773185a23d07bc600bc0399219a4090e8bc721f64f37132571c"
  },
  "kernelspec": {
   "display_name": "Python 3.9.7",
   "language": "python",
   "name": "python3"
  },
  "language_info": {
   "codemirror_mode": {
    "name": "ipython",
    "version": 3
   },
   "file_extension": ".py",
   "mimetype": "text/x-python",
   "name": "python",
   "nbconvert_exporter": "python",
   "pygments_lexer": "ipython3",
   "version": "3.9.7"
  },
  "orig_nbformat": 4
 },
 "nbformat": 4,
 "nbformat_minor": 2
}
