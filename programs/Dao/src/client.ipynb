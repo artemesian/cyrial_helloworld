{
 "cells": [
  {
   "cell_type": "code",
   "execution_count": 1,
   "metadata": {},
   "outputs": [
    {
     "data": {
      "text/plain": [
       "True"
      ]
     },
     "execution_count": 1,
     "metadata": {},
     "output_type": "execute_result"
    }
   ],
   "source": [
    "import solana\n",
    "from solana.publickey import PublicKey\n",
    "from solana.rpc.api import Client\n",
    "from solana.keypair import Keypair\n",
    "from solana import system_program\n",
    "from solana import transaction\n",
    "from solana.system_program import SYS_PROGRAM_ID, CreateAccountParams, create_account\n",
    "from solana.transaction import *\n",
    "from spl.token.constants import TOKEN_PROGRAM_ID, ASSOCIATED_TOKEN_PROGRAM_ID\n",
    "from spl.token.instructions import initialize_mint, InitializeMintParams, get_associated_token_address\n",
    "from spl.token._layouts import MINT_LAYOUT\n",
    "from spl.token.client import Token\n",
    "from spl.token import instructions\n",
    "import base64\n",
    "from borsh_construct import *\n",
    "from solana.rpc.commitment import Commitment\n",
    "import time\n",
    "import requests\n",
    "import concurrent.futures\n",
    "\n",
    "\n",
    "client = Client(\"https://api.devnet.solana.com\")\n",
    "\n",
    "client.is_connected()"
   ]
  },
  {
   "cell_type": "code",
   "execution_count": 343,
   "metadata": {},
   "outputs": [],
   "source": [
    "def create_num_cnt(num):\n",
    "    return [int((num-num%255)/255),255,num%255]\n",
    "proposal = \"Helly world, This is my first proposal ever. Do you think it will work?\"\n",
    "# proposal = proposal.encode(encoding = 'UTF-8', errors = 'strict')\n",
    "choices = [\"No, Not at all\", \"Yes, Ofccourse\", \"Yes, Eventually\", \"Clueless\", \"hello world\"]\n",
    "\n",
    "\n",
    "proposal += '\\0' * (500-len(proposal));\n",
    "\n",
    "choices = [choice + '\\0'* (30-len(choice)) for choice in choices]\n",
    "# print (\"length of {0} is {1}\".format(repr(mystring), len(mystring)))\n",
    "\n",
    "\n",
    "\n",
    "# len(proposal)"
   ]
  },
  {
   "cell_type": "code",
   "execution_count": 344,
   "metadata": {},
   "outputs": [],
   "source": [
    "program_id = PublicKey(\"DrSryh4M2nYyRSqgDNMiASK73LSoZrN56oHWXaAcnmCt\")\n",
    "sys_program_meta = AccountMeta(SYS_PROGRAM_ID, False, False)\n",
    "spl_program_meta  = AccountMeta(TOKEN_PROGRAM_ID, False, False)"
   ]
  },
  {
   "cell_type": "code",
   "execution_count": 345,
   "metadata": {},
   "outputs": [],
   "source": [
    "def getAccountInfo(client: Client, account_pk: PublicKey):\n",
    "    \"\"\"Fetch account information from RPC, parse out the data and deserialize\"\"\"\n",
    "    comm = Commitment(\"confirmed\")\n",
    "    res = client.get_account_info(account_pk, comm, encoding='base64')\n",
    "    data = res['result']\n",
    "    if isinstance(data, dict):\n",
    "        return accountSchema.parse(base64.urlsafe_b64decode(data['value']['data'][0]))\n",
    "    else:\n",
    "        raise AttributeError(f'Unknown RPC result {data}')"
   ]
  },
  {
   "cell_type": "code",
   "execution_count": 346,
   "metadata": {},
   "outputs": [],
   "source": [
    "seed = bytes([125,215,212,54,213,98,45,123]*4)\n",
    "payer_keypair = Keypair.from_seed(seed)\n"
   ]
  },
  {
   "cell_type": "code",
   "execution_count": 347,
   "metadata": {},
   "outputs": [
    {
     "data": {
      "text/plain": [
       "Container(proposal_id=0)"
      ]
     },
     "execution_count": 347,
     "metadata": {},
     "output_type": "execute_result"
    }
   ],
   "source": [
    "accountSchema = CStruct(\n",
    "    \"proposal_id\" / U32\n",
    ")\n",
    "\n",
    "(proposals_pda, proposals_pda_bump) = PublicKey.find_program_address([b\"Dsol_Dao_Governance\"], program_id)\n",
    "\n",
    "proposals = getAccountInfo(client,proposals_pda)\n",
    "proposals"
   ]
  },
  {
   "cell_type": "code",
   "execution_count": 348,
   "metadata": {},
   "outputs": [],
   "source": [
    "proposal_pda, _ = PublicKey.find_program_address([b\"Dsol_Dao_Governance\", proposals.proposal_id.to_bytes(4,\"little\") ], program_id)\n",
    "metadata_program_pubkey = PublicKey(\"metaqbxxUerdq28cj1RbAWkYQm3ybzjb6a8bt518x1s\")\n",
    "governor_account_meta = AccountMeta(PublicKey(\"GFUQwvXZwHVhnoeyDf1i621j3SaZWY4zXN4Z9Kfpw66M\"), False, False)\n",
    "(metadata_pda, metadata_nonce) = PublicKey.find_program_address([b'metadata', bytes(metadata_program_pubkey), bytes(governor_account_meta.pubkey)], metadata_program_pubkey)\n",
    "\n",
    "\n",
    "\n",
    "payer_account_meta = AccountMeta(payer_keypair.public_key, True, True)\n",
    "proposals_account_meta = AccountMeta(proposals_pda, False, True)\n",
    "proposal_pda_meta = AccountMeta(proposal_pda, False, True)\n",
    "sysvar_clock_meta = AccountMeta(solana.sysvar.SYSVAR_CLOCK_PUBKEY, False, False)\n",
    "metadata_account_meta = AccountMeta(metadata_pda, False, True)\n",
    "governor_associated_meta = AccountMeta(get_associated_token_address(payer_keypair.public_key, governor_account_meta.pubkey), False, False)\n",
    "\n"
   ]
  },
  {
   "cell_type": "code",
   "execution_count": 349,
   "metadata": {},
   "outputs": [
    {
     "data": {
      "text/plain": [
       "AccountMeta(pubkey=3KV9CU1asMRnbBhSMHnLxGfDGHoKXrmvGY9go87utWCH, is_signer=False, is_writable=True)"
      ]
     },
     "execution_count": 349,
     "metadata": {},
     "output_type": "execute_result"
    }
   ],
   "source": [
    "accounts = [\n",
    "    payer_account_meta,\n",
    "    governor_account_meta,\n",
    "    proposals_account_meta,\n",
    "    proposal_pda_meta,\n",
    "    sysvar_clock_meta,\n",
    "    metadata_account_meta,\n",
    "    governor_associated_meta,\n",
    "\n",
    "    sys_program_meta\n",
    "]\n",
    "\n",
    "proposal_pda_meta\n"
   ]
  },
  {
   "cell_type": "code",
   "execution_count": 350,
   "metadata": {},
   "outputs": [],
   "source": [
    "instruction_data = bytes([1])\n",
    "\n",
    "instruction_data += bytes(proposal, \"ascii\")\n",
    "for choice in choices:\n",
    "    instruction_data += bytes(choice, \"ascii\")\n",
    "\n",
    "instruction_data += bytes(create_num_cnt(65279))\n",
    "# instruction_data"
   ]
  },
  {
   "cell_type": "code",
   "execution_count": 351,
   "metadata": {},
   "outputs": [
    {
     "ename": "RPCException",
     "evalue": "{'code': -32002, 'message': 'Transaction simulation failed: Error processing Instruction 0: custom program error: 0x0', 'data': {'accounts': None, 'err': {'InstructionError': [0, {'Custom': 0}]}, 'logs': ['Program DrSryh4M2nYyRSqgDNMiASK73LSoZrN56oHWXaAcnmCt invoke [1]', 'Program log: \\nDATA_0: 1\\n', 'Program log: \\nPROPOSAL_PDA: 3KV9CU1asMRnbBhSMHnLxGfDGHoKXrmvGY9go87utWCH:             PROPOSAL_ID: [0, 0, 0, 0]\\n', 'Program 11111111111111111111111111111111 invoke [2]', 'Create Account: account Address { address: 3KV9CU1asMRnbBhSMHnLxGfDGHoKXrmvGY9go87utWCH, base: None } already in use', 'Program 11111111111111111111111111111111 failed: custom program error: 0x0', 'Program DrSryh4M2nYyRSqgDNMiASK73LSoZrN56oHWXaAcnmCt consumed 31468 of 200000 compute units', 'Program DrSryh4M2nYyRSqgDNMiASK73LSoZrN56oHWXaAcnmCt failed: custom program error: 0x0']}}",
     "output_type": "error",
     "traceback": [
      "\u001b[1;31m---------------------------------------------------------------------------\u001b[0m",
      "\u001b[1;31mRPCException\u001b[0m                              Traceback (most recent call last)",
      "\u001b[1;32m~\\AppData\\Local\\Temp/ipykernel_25540/2809594250.py\u001b[0m in \u001b[0;36m<module>\u001b[1;34m\u001b[0m\n\u001b[0;32m      5\u001b[0m     \u001b[0minstruction_data\u001b[0m\u001b[1;33m\u001b[0m\u001b[1;33m\u001b[0m\u001b[0m\n\u001b[0;32m      6\u001b[0m ))\n\u001b[1;32m----> 7\u001b[1;33m \u001b[1;34mf\"https://explorer.solana.com/tx/{client.send_transaction(transaction, payer_keypair)['result']}?cluster=devnet\"\u001b[0m\u001b[1;33m\u001b[0m\u001b[1;33m\u001b[0m\u001b[0m\n\u001b[0m",
      "\u001b[1;32m~\\anaconda3\\lib\\site-packages\\solana\\rpc\\api.py\u001b[0m in \u001b[0;36msend_transaction\u001b[1;34m(self, txn, opts, recent_blockhash, *signers)\u001b[0m\n\u001b[0;32m   1176\u001b[0m \u001b[1;33m\u001b[0m\u001b[0m\n\u001b[0;32m   1177\u001b[0m         \u001b[0mtxn\u001b[0m\u001b[1;33m.\u001b[0m\u001b[0msign\u001b[0m\u001b[1;33m(\u001b[0m\u001b[1;33m*\u001b[0m\u001b[0msigners\u001b[0m\u001b[1;33m)\u001b[0m\u001b[1;33m\u001b[0m\u001b[1;33m\u001b[0m\u001b[0m\n\u001b[1;32m-> 1178\u001b[1;33m         \u001b[0mtxn_resp\u001b[0m \u001b[1;33m=\u001b[0m \u001b[0mself\u001b[0m\u001b[1;33m.\u001b[0m\u001b[0msend_raw_transaction\u001b[0m\u001b[1;33m(\u001b[0m\u001b[0mtxn\u001b[0m\u001b[1;33m.\u001b[0m\u001b[0mserialize\u001b[0m\u001b[1;33m(\u001b[0m\u001b[1;33m)\u001b[0m\u001b[1;33m,\u001b[0m \u001b[0mopts\u001b[0m\u001b[1;33m=\u001b[0m\u001b[0mopts\u001b[0m\u001b[1;33m)\u001b[0m\u001b[1;33m\u001b[0m\u001b[1;33m\u001b[0m\u001b[0m\n\u001b[0m\u001b[0;32m   1179\u001b[0m         \u001b[1;32mif\u001b[0m \u001b[0mself\u001b[0m\u001b[1;33m.\u001b[0m\u001b[0mblockhash_cache\u001b[0m\u001b[1;33m:\u001b[0m\u001b[1;33m\u001b[0m\u001b[1;33m\u001b[0m\u001b[0m\n\u001b[0;32m   1180\u001b[0m             \u001b[0mblockhash_resp\u001b[0m \u001b[1;33m=\u001b[0m \u001b[0mself\u001b[0m\u001b[1;33m.\u001b[0m\u001b[0mget_recent_blockhash\u001b[0m\u001b[1;33m(\u001b[0m\u001b[0mFinalized\u001b[0m\u001b[1;33m)\u001b[0m\u001b[1;33m\u001b[0m\u001b[1;33m\u001b[0m\u001b[0m\n",
      "\u001b[1;32m~\\anaconda3\\lib\\site-packages\\solana\\rpc\\api.py\u001b[0m in \u001b[0;36msend_raw_transaction\u001b[1;34m(self, txn, opts)\u001b[0m\n\u001b[0;32m   1130\u001b[0m         \u001b[0mresp\u001b[0m \u001b[1;33m=\u001b[0m \u001b[0mself\u001b[0m\u001b[1;33m.\u001b[0m\u001b[0m_provider\u001b[0m\u001b[1;33m.\u001b[0m\u001b[0mmake_request\u001b[0m\u001b[1;33m(\u001b[0m\u001b[1;33m*\u001b[0m\u001b[0margs\u001b[0m\u001b[1;33m)\u001b[0m\u001b[1;33m\u001b[0m\u001b[1;33m\u001b[0m\u001b[0m\n\u001b[0;32m   1131\u001b[0m         \u001b[1;32mif\u001b[0m \u001b[0mopts\u001b[0m\u001b[1;33m.\u001b[0m\u001b[0mskip_confirmation\u001b[0m\u001b[1;33m:\u001b[0m\u001b[1;33m\u001b[0m\u001b[1;33m\u001b[0m\u001b[0m\n\u001b[1;32m-> 1132\u001b[1;33m             \u001b[1;32mreturn\u001b[0m \u001b[0mself\u001b[0m\u001b[1;33m.\u001b[0m\u001b[0m_post_send\u001b[0m\u001b[1;33m(\u001b[0m\u001b[0mresp\u001b[0m\u001b[1;33m)\u001b[0m\u001b[1;33m\u001b[0m\u001b[1;33m\u001b[0m\u001b[0m\n\u001b[0m\u001b[0;32m   1133\u001b[0m         \u001b[0mpost_send_args\u001b[0m \u001b[1;33m=\u001b[0m \u001b[0mself\u001b[0m\u001b[1;33m.\u001b[0m\u001b[0m_send_raw_transaction_post_send_args\u001b[0m\u001b[1;33m(\u001b[0m\u001b[0mresp\u001b[0m\u001b[1;33m,\u001b[0m \u001b[0mopts\u001b[0m\u001b[1;33m)\u001b[0m\u001b[1;33m\u001b[0m\u001b[1;33m\u001b[0m\u001b[0m\n\u001b[0;32m   1134\u001b[0m         \u001b[1;32mreturn\u001b[0m \u001b[0mself\u001b[0m\u001b[1;33m.\u001b[0m\u001b[0m__post_send_with_confirm\u001b[0m\u001b[1;33m(\u001b[0m\u001b[1;33m*\u001b[0m\u001b[0mpost_send_args\u001b[0m\u001b[1;33m)\u001b[0m\u001b[1;33m\u001b[0m\u001b[1;33m\u001b[0m\u001b[0m\n",
      "\u001b[1;32m~\\anaconda3\\lib\\site-packages\\solana\\rpc\\core.py\u001b[0m in \u001b[0;36m_post_send\u001b[1;34m(resp)\u001b[0m\n\u001b[0;32m    386\u001b[0m         \u001b[0mmaybe_error\u001b[0m \u001b[1;33m=\u001b[0m \u001b[0mresp\u001b[0m\u001b[1;33m.\u001b[0m\u001b[0mget\u001b[0m\u001b[1;33m(\u001b[0m\u001b[1;34m\"error\"\u001b[0m\u001b[1;33m)\u001b[0m\u001b[1;33m\u001b[0m\u001b[1;33m\u001b[0m\u001b[0m\n\u001b[0;32m    387\u001b[0m         \u001b[1;32mif\u001b[0m \u001b[0mmaybe_error\u001b[0m \u001b[1;32mis\u001b[0m \u001b[1;32mnot\u001b[0m \u001b[1;32mNone\u001b[0m\u001b[1;33m:\u001b[0m\u001b[1;33m\u001b[0m\u001b[1;33m\u001b[0m\u001b[0m\n\u001b[1;32m--> 388\u001b[1;33m             \u001b[1;32mraise\u001b[0m \u001b[0mRPCException\u001b[0m\u001b[1;33m(\u001b[0m\u001b[0mmaybe_error\u001b[0m\u001b[1;33m)\u001b[0m\u001b[1;33m\u001b[0m\u001b[1;33m\u001b[0m\u001b[0m\n\u001b[0m\u001b[0;32m    389\u001b[0m         \u001b[1;32mif\u001b[0m \u001b[1;32mnot\u001b[0m \u001b[0mresp\u001b[0m\u001b[1;33m.\u001b[0m\u001b[0mget\u001b[0m\u001b[1;33m(\u001b[0m\u001b[1;34m\"result\"\u001b[0m\u001b[1;33m)\u001b[0m\u001b[1;33m:\u001b[0m\u001b[1;33m\u001b[0m\u001b[1;33m\u001b[0m\u001b[0m\n\u001b[0;32m    390\u001b[0m             \u001b[1;32mraise\u001b[0m \u001b[0mException\u001b[0m\u001b[1;33m(\u001b[0m\u001b[1;34m\"Failed to send transaction\"\u001b[0m\u001b[1;33m)\u001b[0m\u001b[1;33m\u001b[0m\u001b[1;33m\u001b[0m\u001b[0m\n",
      "\u001b[1;31mRPCException\u001b[0m: {'code': -32002, 'message': 'Transaction simulation failed: Error processing Instruction 0: custom program error: 0x0', 'data': {'accounts': None, 'err': {'InstructionError': [0, {'Custom': 0}]}, 'logs': ['Program DrSryh4M2nYyRSqgDNMiASK73LSoZrN56oHWXaAcnmCt invoke [1]', 'Program log: \\nDATA_0: 1\\n', 'Program log: \\nPROPOSAL_PDA: 3KV9CU1asMRnbBhSMHnLxGfDGHoKXrmvGY9go87utWCH:             PROPOSAL_ID: [0, 0, 0, 0]\\n', 'Program 11111111111111111111111111111111 invoke [2]', 'Create Account: account Address { address: 3KV9CU1asMRnbBhSMHnLxGfDGHoKXrmvGY9go87utWCH, base: None } already in use', 'Program 11111111111111111111111111111111 failed: custom program error: 0x0', 'Program DrSryh4M2nYyRSqgDNMiASK73LSoZrN56oHWXaAcnmCt consumed 31468 of 200000 compute units', 'Program DrSryh4M2nYyRSqgDNMiASK73LSoZrN56oHWXaAcnmCt failed: custom program error: 0x0']}}"
     ]
    }
   ],
   "source": [
    "transaction = Transaction()\n",
    "transaction.add(TransactionInstruction(\n",
    "    accounts,\n",
    "    program_id,\n",
    "    instruction_data\n",
    "))\n",
    "f\"https://explorer.solana.com/tx/{client.send_transaction(transaction, payer_keypair)['result']}?cluster=devnet\""
   ]
  },
  {
   "cell_type": "code",
   "execution_count": null,
   "metadata": {},
   "outputs": [],
   "source": []
  },
  {
   "cell_type": "code",
   "execution_count": null,
   "metadata": {},
   "outputs": [],
   "source": [
    "ProposalResult = CStruct(\n",
    "    \"leading_choice_bump\" / U8,\n",
    "    \"choices\" / U32[5],\n",
    "    \n",
    ")\n",
    "\n",
    "\n",
    "Vote = CStruct(\n",
    "    \"proposal_pda\" / U8[32],\n",
    "   \"mint_id\" / U8[32],\n",
    "    \"choice_bumps\" / U8[5]\n",
    ")\n",
    "\n",
    "accountSchema = CStruct(\n",
    "    \"proposal_pda\" / U8[32],\n",
    "    \"proposal\" / String,\n",
    "    \"choices\" / String,\n",
    "    \"max_vote_bump\" / U32,\n",
    "    \"proposal_governor_id\" / U8[32],\n",
    "    \"duration\" / U64,\n",
    "    \"ending_data\" / U64,\n",
    "    \"votes\" / Vec(Vote),\n",
    "    \"result\" / ProposalResult\n",
    "\n",
    ")"
   ]
  },
  {
   "cell_type": "code",
   "execution_count": null,
   "metadata": {},
   "outputs": [],
   "source": [
    "Proposal = getAccountInfo(client, proposal_pda)"
   ]
  },
  {
   "cell_type": "code",
   "execution_count": null,
   "metadata": {},
   "outputs": [
    {
     "data": {
      "text/plain": [
       "[4,\n",
       " 'Helly world, This is my first proposal ever. Do you think it will work?',\n",
       " ListContainer([Container(proposal_pda=ListContainer([34, 115, 165, 222, 188, 143, 146, 123, 2, 89, 187, 125, 114, 65, 93, 180, 149, 32, 92, 22, 152, 186, 63, 109, 81, 52, 60, 2, 137, 189, 8, 90]), mint_id=ListContainer([56, 36, 229, 138, 101, 183, 91, 5, 204, 219, 103, 8, 81, 228, 151, 166, 171, 75, 92, 7, 132, 28, 85, 117, 109, 54, 36, 118, 132, 248, 242, 94]), choice_bumps=ListContainer([2, 1, 4, 3, 0])), Container(proposal_pda=ListContainer([34, 115, 165, 222, 188, 143, 146, 123, 2, 89, 187, 125, 114, 65, 93, 180, 149, 32, 92, 22, 152, 186, 63, 109, 81, 52, 60, 2, 137, 189, 8, 90]), mint_id=ListContainer([226, 148, 110, 90, 32, 179, 1, 238, 7, 64, 76, 236, 2, 253, 131, 243, 141, 70, 158, 87, 135, 201, 86, 237, 30, 32, 169, 129, 113, 99, 41, 138]), choice_bumps=ListContainer([2, 1, 4, 3, 0])), Container(proposal_pda=ListContainer([34, 115, 165, 222, 188, 143, 146, 123, 2, 89, 187, 125, 114, 65, 93, 180, 149, 32, 92, 22, 152, 186, 63, 109, 81, 52, 60, 2, 137, 189, 8, 90]), mint_id=ListContainer([182, 209, 137, 169, 166, 4, 72, 95, 97, 246, 139, 108, 235, 42, 187, 108, 6, 187, 84, 223, 62, 20, 226, 149, 137, 244, 201, 127, 236, 0, 240, 53]), choice_bumps=ListContainer([252, 10, 40, 13, 200])), Container(proposal_pda=ListContainer([34, 115, 165, 222, 188, 143, 146, 123, 2, 89, 187, 125, 114, 65, 93, 180, 149, 32, 92, 22, 152, 186, 63, 109, 81, 52, 60, 2, 137, 189, 8, 90]), mint_id=ListContainer([252, 144, 168, 63, 21, 194, 111, 160, 125, 196, 252, 54, 157, 225, 228, 208, 154, 88, 140, 93, 97, 149, 155, 219, 103, 226, 129, 99, 91, 178, 34, 14]), choice_bumps=ListContainer([2, 110, 240, 13, 200]))]),\n",
       " ['No, Not at all',\n",
       "  'Yes, Ofccourse',\n",
       "  'Yes, Eventually',\n",
       "  'Clueless',\n",
       "  'hello world'],\n",
       " Container(leading_choice_bump=4, choices=ListContainer([258, 122, 288, 32, 400]))]"
      ]
     },
     "execution_count": 341,
     "metadata": {},
     "output_type": "execute_result"
    }
   ],
   "source": [
    "choices = [Proposal.choices[i*30 : i*30 + 30].strip('\\0') for i in range(5)]\n",
    "proposal = Proposal.proposal.strip(\"\\0\")\n",
    "[Proposal.max_vote_bump, proposal, Proposal.votes, choices, Proposal.result]"
   ]
  },
  {
   "cell_type": "code",
   "execution_count": null,
   "metadata": {},
   "outputs": [],
   "source": []
  },
  {
   "cell_type": "code",
   "execution_count": null,
   "metadata": {},
   "outputs": [],
   "source": [
    "vote_pda, _ = PublicKey.find_program_address([b\"Dsol_Dao_Governance\", bytes(proposal_pda_meta.pubkey), Proposal.max_vote_bump.to_bytes(4, \"big\")], program_id)\n",
    "\n",
    "governor_account_meta = AccountMeta(PublicKey(\"HzugB5CiTrSr3SZkN3p9cudYoA1R1swzgE68vpFwfQoP\"), False, False)\n",
    "governor_pda, _ = PublicKey.find_program_address([b\"Dsol_Dao_Governance\", bytes(proposal_pda_meta.pubkey), bytes(governor_account_meta.pubkey)], program_id)\n",
    "\n",
    "\n",
    "metadata_program_pubkey = PublicKey(\"metaqbxxUerdq28cj1RbAWkYQm3ybzjb6a8bt518x1s\")\n",
    "(metadata_pda, metadata_nonce) = PublicKey.find_program_address([b'metadata', bytes(metadata_program_pubkey), bytes(governor_account_meta.pubkey)], metadata_program_pubkey)\n",
    "\n",
    "\n",
    "governor_associated_meta = AccountMeta(get_associated_token_address(payer_keypair.public_key, governor_account_meta.pubkey), False, False)\n",
    "\n",
    "accounts = [\n",
    "    payer_account_meta,\n",
    "    governor_account_meta,\n",
    "    # AccountMeta(vote_pda, False, True),\n",
    "    proposal_pda_meta,\n",
    "    AccountMeta(governor_pda, False, True),\n",
    "    AccountMeta(metadata_pda, False, False),\n",
    "    governor_associated_meta,\n",
    "\n",
    "    sys_program_meta,\n",
    "    sys_program_meta\n",
    "]"
   ]
  },
  {
   "cell_type": "code",
   "execution_count": null,
   "metadata": {},
   "outputs": [
    {
     "data": {
      "text/plain": [
       "'https://explorer.solana.com/tx/4MfbKTFwv2ptSLEBWRf8GfupD8msprqGW9AdK7LB2KjdkoHth9svRxZwQzCNv1h8d8DaniGRqafDzLoKndjVnWQs?cluster=devnet'"
      ]
     },
     "execution_count": 336,
     "metadata": {},
     "output_type": "execute_result"
    }
   ],
   "source": [
    "transaction = Transaction()\n",
    "transaction.add(TransactionInstruction(\n",
    "    accounts,\n",
    "    program_id,\n",
    "    bytes([2,2,110,240,13,200] + create_num_cnt(Proposal.max_vote_bump))\n",
    "))\n",
    "f\"https://explorer.solana.com/tx/{client.send_transaction(transaction, payer_keypair)['result']}?cluster=devnet\""
   ]
  },
  {
   "cell_type": "code",
   "execution_count": null,
   "metadata": {},
   "outputs": [
    {
     "data": {
      "text/plain": [
       "'https://explorer.solana.com/tx/3fwmWA6Wv3zEvNvr2YpJVH1DQpcQyzk5GGWBEBRe49p4vJVUoD2n9jARFJKJd5esEo7jsjXRCAhamUNSEfSdL1Aj?cluster=devnet'"
      ]
     },
     "execution_count": 338,
     "metadata": {},
     "output_type": "execute_result"
    }
   ],
   "source": [
    "accounts = [proposal_pda_meta]\n",
    "\n",
    "transaction = Transaction()\n",
    "transaction.add(TransactionInstruction(\n",
    "    accounts,\n",
    "    program_id,\n",
    "    bytes([4] + create_num_cnt(Proposal.max_vote_bump))\n",
    "))\n",
    "f\"https://explorer.solana.com/tx/{client.send_transaction(transaction, payer_keypair)['result']}?cluster=devnet\""
   ]
  },
  {
   "cell_type": "code",
   "execution_count": null,
   "metadata": {},
   "outputs": [],
   "source": []
  }
 ],
 "metadata": {
  "interpreter": {
   "hash": "b68919eb655d0773185a23d07bc600bc0399219a4090e8bc721f64f37132571c"
  },
  "kernelspec": {
   "display_name": "Python 3.9.7",
   "language": "python",
   "name": "python3"
  },
  "language_info": {
   "codemirror_mode": {
    "name": "ipython",
    "version": 3
   },
   "file_extension": ".py",
   "mimetype": "text/x-python",
   "name": "python",
   "nbconvert_exporter": "python",
   "pygments_lexer": "ipython3",
   "version": "3.9.7"
  },
  "orig_nbformat": 4
 },
 "nbformat": 4,
 "nbformat_minor": 2
}
