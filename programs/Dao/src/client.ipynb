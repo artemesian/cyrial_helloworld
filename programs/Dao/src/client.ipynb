{
 "cells": [
  {
   "cell_type": "code",
   "execution_count": 13,
   "metadata": {},
   "outputs": [
    {
     "data": {
      "text/plain": [
       "True"
      ]
     },
     "execution_count": 13,
     "metadata": {},
     "output_type": "execute_result"
    }
   ],
   "source": [
    "import solana\n",
    "from solana.publickey import PublicKey\n",
    "from solana.rpc.api import Client\n",
    "from solana.keypair import Keypair\n",
    "from solana import system_program\n",
    "from solana import transaction\n",
    "from solana.system_program import SYS_PROGRAM_ID, CreateAccountParams, create_account\n",
    "from solana.transaction import *\n",
    "from spl.token.constants import TOKEN_PROGRAM_ID, ASSOCIATED_TOKEN_PROGRAM_ID\n",
    "from spl.token.instructions import initialize_mint, InitializeMintParams, get_associated_token_address\n",
    "from spl.token._layouts import MINT_LAYOUT\n",
    "from spl.token.client import Token\n",
    "from spl.token import instructions\n",
    "import base64\n",
    "import base58\n",
    "from borsh_construct import *\n",
    "from solana.rpc.commitment import Commitment\n",
    "import time\n",
    "import sys\n",
    "sys.path.append('../../GlobalRepo/')\n",
    "from global_repo import *\n",
    "\n",
    "\n",
    "client = Client(\"https://api.devnet.solana.com\")\n",
    "\n",
    "client.is_connected()"
   ]
  },
  {
   "cell_type": "code",
   "execution_count": 14,
   "metadata": {},
   "outputs": [],
   "source": [
    "def create_num_cnt(num):\n",
    "    return [int((num-num%255)/255),255,num%255]\n",
    "proposal = \"Helly world, This is my first proposal ever. Do you think it will work?\"\n",
    "# proposal = proposal.encode(encoding = 'UTF-8', errors = 'strict')\n",
    "choices = [\"No, Not at all\", \"Yes, Ofccourse\", \"Yes, Eventually\", \"Clueless\", \"hello world\"]\n",
    "\n",
    "\n",
    "proposal += '\\0' * (500-len(proposal));\n",
    "\n",
    "choices = [choice + '\\0'* (30-len(choice)) for choice in choices]\n",
    "# print (\"length of {0} is {1}\".format(repr(mystring), len(mystring)))\n",
    "\n",
    "\n",
    "\n",
    "# len(proposal)"
   ]
  },
  {
   "cell_type": "code",
   "execution_count": 15,
   "metadata": {},
   "outputs": [],
   "source": [
    "program_id = DAO_PROGRAM_ID\n",
    "sys_program_meta = AccountMeta(SYS_PROGRAM_ID, False, False)\n",
    "spl_program_meta  = AccountMeta(TOKEN_PROGRAM_ID, False, False)"
   ]
  },
  {
   "cell_type": "code",
   "execution_count": 16,
   "metadata": {},
   "outputs": [],
   "source": [
    "def getAccountInfo(client: Client, account_pk: PublicKey):\n",
    "    \"\"\"Fetch account information from RPC, parse out the data and deserialize\"\"\"\n",
    "    comm = Commitment(\"confirmed\")\n",
    "    res = client.get_account_info(account_pk, comm, encoding='base64')\n",
    "    data = res['result']\n",
    "    if isinstance(data, dict):\n",
    "        return accountSchema.parse(base64.urlsafe_b64decode(data['value']['data'][0]))\n",
    "    else:\n",
    "        raise AttributeError(f'Unknown RPC result {data}')"
   ]
  },
  {
   "cell_type": "code",
   "execution_count": 17,
   "metadata": {},
   "outputs": [],
   "source": [
    "payer_keypair = Keypair.from_secret_key(base58.b58decode(\"mH4PkhAttpFXSrntbpiJgC8J6wHYFDK5PFWcPN53hMJKziWQucux7MFiW7uXnqKsAY3XBnxUtyVKnomZnD9JxHW\"))\n"
   ]
  },
  {
   "cell_type": "code",
   "execution_count": 18,
   "metadata": {},
   "outputs": [
    {
     "data": {
      "text/plain": [
       "Container(proposal_id=4)"
      ]
     },
     "execution_count": 18,
     "metadata": {},
     "output_type": "execute_result"
    }
   ],
   "source": [
    "accountSchema = CStruct(\n",
    "    \"proposal_id\" / U32\n",
    ")\n",
    "\n",
    "(proposals_pda, proposals_pda_bump) = PublicKey.find_program_address([b\"Dsol_Dao_Governance\"], program_id)\n",
    "\n",
    "proposals = getAccountInfo(client,proposals_pda)\n",
    "# proposals.proposal_id += 1\n",
    "proposals"
   ]
  },
  {
   "cell_type": "code",
   "execution_count": 19,
   "metadata": {},
   "outputs": [],
   "source": [
    "proposal_pda, _ = PublicKey.find_program_address([b\"Dsol_Dao_Governance\", proposals.proposal_id.to_bytes(4,\"big\") ], program_id)\n",
    "metadata_program_pubkey = PublicKey(\"metaqbxxUerdq28cj1RbAWkYQm3ybzjb6a8bt518x1s\")\n",
    "governor_account_meta = AccountMeta(PublicKey(\"J3ACcSXB2ACbX2CL4FWxvZh81KRQt4AtF3XhyvpxxrJK\"), False, False)\n",
    "(metadata_pda, metadata_nonce) = PublicKey.find_program_address([b'metadata', bytes(metadata_program_pubkey), bytes(governor_account_meta.pubkey)], metadata_program_pubkey)\n",
    "\n",
    "\n",
    "\n",
    "payer_account_meta = AccountMeta(payer_keypair.public_key, True, True)\n",
    "proposals_account_meta = AccountMeta(proposals_pda, False, True)\n",
    "proposal_pda_meta = AccountMeta(proposal_pda, False, True)\n",
    "sysvar_clock_meta = AccountMeta(solana.sysvar.SYSVAR_CLOCK_PUBKEY, False, False)\n",
    "metadata_account_meta = AccountMeta(metadata_pda, False, True)\n",
    "governor_associated_meta = AccountMeta(get_associated_token_address(payer_keypair.public_key, governor_account_meta.pubkey), False, False)\n",
    "\n"
   ]
  },
  {
   "cell_type": "code",
   "execution_count": 20,
   "metadata": {},
   "outputs": [
    {
     "data": {
      "text/plain": [
       "AccountMeta(pubkey=6hL3XHdm94oFtoydvFWarvbeW8XAo5LCHwj88fWZLWQQ, is_signer=False, is_writable=True)"
      ]
     },
     "execution_count": 20,
     "metadata": {},
     "output_type": "execute_result"
    }
   ],
   "source": [
    "accounts = [\n",
    "    payer_account_meta,\n",
    "    governor_account_meta,\n",
    "    proposals_account_meta,\n",
    "    proposal_pda_meta,\n",
    "    sysvar_clock_meta,\n",
    "    metadata_account_meta,\n",
    "    governor_associated_meta,\n",
    "\n",
    "    sys_program_meta\n",
    "]\n",
    "\n",
    "proposal_pda_meta\n"
   ]
  },
  {
   "cell_type": "code",
   "execution_count": 21,
   "metadata": {},
   "outputs": [],
   "source": [
    "instruction_data = bytes([1])\n",
    "\n",
    "instruction_data += bytes(proposal, \"ascii\")\n",
    "for choice in choices:\n",
    "    instruction_data += bytes(choice, \"ascii\")\n",
    "\n",
    "instruction_data += bytes(create_num_cnt(65279))\n",
    "# instruction_data"
   ]
  },
  {
   "cell_type": "code",
   "execution_count": 22,
   "metadata": {},
   "outputs": [
    {
     "data": {
      "text/plain": [
       "'https://explorer.solana.com/tx/29zyxZghoyKjbhak4MJCDNMide5Km7mh3EKRa1ATRtcksuaZn5PJdvSgCDCAAW9yAYjoPbCcdzR8MSm9QiqFz64R?cluster=devnet'"
      ]
     },
     "execution_count": 22,
     "metadata": {},
     "output_type": "execute_result"
    }
   ],
   "source": [
    "transaction = Transaction()\n",
    "transaction.add(TransactionInstruction(\n",
    "    accounts,\n",
    "    program_id,\n",
    "    instruction_data\n",
    "))\n",
    "f\"https://explorer.solana.com/tx/{client.send_transaction(transaction, payer_keypair)['result']}?cluster=devnet\""
   ]
  },
  {
   "cell_type": "code",
   "execution_count": null,
   "metadata": {},
   "outputs": [],
   "source": []
  },
  {
   "cell_type": "code",
   "execution_count": 23,
   "metadata": {},
   "outputs": [],
   "source": [
    "ProposalResult = CStruct(\n",
    "    \"leading_choice_bump\" / U8,\n",
    "    \"choices\" / U32[5],\n",
    "    \n",
    ")\n",
    "\n",
    "\n",
    "Vote = CStruct(\n",
    "    \"proposal_pda\" / U8[32],\n",
    "   \"mint_id\" / U8[32],\n",
    "    \"choice_bumps\" / U8[5]\n",
    ")\n",
    "\n",
    "accountSchema = CStruct(\n",
    "    \"proposal_pda\" / U8[32],\n",
    "    \"proposal\" / String,\n",
    "    \"choices\" / String,\n",
    "    \"max_vote_bump\" / U32,\n",
    "    \"proposal_governor_id\" / U8[32],\n",
    "    \"duration\" / U64,\n",
    "    \"ending_data\" / U64,\n",
    "    \"votes\" / Vec(Vote),\n",
    "    \"result\" / ProposalResult\n",
    "\n",
    ")"
   ]
  },
  {
   "cell_type": "code",
   "execution_count": 45,
   "metadata": {},
   "outputs": [],
   "source": [
    "Proposal = getAccountInfo(client, proposal_pda)"
   ]
  },
  {
   "cell_type": "code",
   "execution_count": 46,
   "metadata": {},
   "outputs": [
    {
     "data": {
      "text/plain": [
       "[13,\n",
       " 'Helly world, This is my first proposal ever. Do you think it will work?',\n",
       " ListContainer([Container(proposal_pda=ListContainer([84, 159, 51, 20, 152, 27, 251, 17, 212, 224, 140, 43, 153, 80, 26, 118, 190, 183, 9, 71, 78, 74, 138, 109, 88, 240, 93, 188, 156, 14, 50, 121]), mint_id=ListContainer([39, 11, 64, 149, 67, 38, 97, 166, 207, 233, 79, 188, 45, 138, 207, 37, 223, 253, 118, 190, 11, 95, 165, 9, 99, 194, 42, 220, 111, 84, 226, 139]), choice_bumps=ListContainer([2, 0, 5, 13, 0])), Container(proposal_pda=ListContainer([84, 159, 51, 20, 152, 27, 251, 17, 212, 224, 140, 43, 153, 80, 26, 118, 190, 183, 9, 71, 78, 74, 138, 109, 88, 240, 93, 188, 156, 14, 50, 121]), mint_id=ListContainer([227, 148, 253, 103, 116, 50, 245, 164, 160, 121, 132, 97, 7, 39, 47, 149, 110, 19, 233, 142, 0, 185, 86, 15, 50, 192, 12, 105, 73, 57, 218, 2]), choice_bumps=ListContainer([2, 0, 5, 13, 0])), Container(proposal_pda=ListContainer([84, 159, 51, 20, 152, 27, 251, 17, 212, 224, 140, 43, 153, 80, 26, 118, 190, 183, 9, 71, 78, 74, 138, 109, 88, 240, 93, 188, 156, 14, 50, 121]), mint_id=ListContainer([147, 67, 235, 196, 67, 225, 226, 61, 193, 248, 5, 52, 52, 18, 91, 247, 247, 65, 62, 64, 85, 240, 73, 45, 216, 230, 7, 166, 159, 73, 175, 90]), choice_bumps=ListContainer([2, 0, 5, 13, 0])), Container(proposal_pda=ListContainer([84, 159, 51, 20, 152, 27, 251, 17, 212, 224, 140, 43, 153, 80, 26, 118, 190, 183, 9, 71, 78, 74, 138, 109, 88, 240, 93, 188, 156, 14, 50, 121]), mint_id=ListContainer([15, 13, 216, 3, 241, 176, 15, 39, 210, 158, 53, 240, 129, 37, 52, 214, 145, 76, 103, 172, 224, 105, 142, 0, 238, 51, 114, 128, 179, 14, 63, 130]), choice_bumps=ListContainer([2, 0, 5, 13, 0])), Container(proposal_pda=ListContainer([84, 159, 51, 20, 152, 27, 251, 17, 212, 224, 140, 43, 153, 80, 26, 118, 190, 183, 9, 71, 78, 74, 138, 109, 88, 240, 93, 188, 156, 14, 50, 121]), mint_id=ListContainer([134, 55, 106, 3, 65, 210, 157, 76, 117, 135, 205, 163, 219, 143, 73, 69, 127, 147, 12, 96, 86, 53, 166, 143, 79, 183, 131, 239, 166, 222, 155, 20]), choice_bumps=ListContainer([2, 0, 5, 13, 0])), Container(proposal_pda=ListContainer([84, 159, 51, 20, 152, 27, 251, 17, 212, 224, 140, 43, 153, 80, 26, 118, 190, 183, 9, 71, 78, 74, 138, 109, 88, 240, 93, 188, 156, 14, 50, 121]), mint_id=ListContainer([212, 13, 218, 210, 134, 225, 244, 250, 69, 125, 246, 234, 203, 224, 23, 136, 77, 138, 48, 33, 201, 178, 110, 157, 244, 203, 95, 4, 107, 47, 185, 90]), choice_bumps=ListContainer([2, 0, 5, 13, 0])), Container(proposal_pda=ListContainer([84, 159, 51, 20, 152, 27, 251, 17, 212, 224, 140, 43, 153, 80, 26, 118, 190, 183, 9, 71, 78, 74, 138, 109, 88, 240, 93, 188, 156, 14, 50, 121]), mint_id=ListContainer([253, 36, 61, 247, 71, 79, 195, 79, 143, 106, 251, 107, 9, 136, 238, 113, 109, 233, 237, 14, 29, 180, 9, 115, 186, 255, 239, 164, 118, 236, 128, 120]), choice_bumps=ListContainer([2, 0, 5, 13, 0])), Container(proposal_pda=ListContainer([84, 159, 51, 20, 152, 27, 251, 17, 212, 224, 140, 43, 153, 80, 26, 118, 190, 183, 9, 71, 78, 74, 138, 109, 88, 240, 93, 188, 156, 14, 50, 121]), mint_id=ListContainer([20, 47, 74, 238, 81, 116, 12, 217, 157, 123, 230, 24, 157, 115, 212, 240, 87, 143, 251, 7, 181, 222, 240, 120, 136, 113, 126, 123, 6, 185, 98, 35]), choice_bumps=ListContainer([2, 0, 5, 13, 0])), Container(proposal_pda=ListContainer([84, 159, 51, 20, 152, 27, 251, 17, 212, 224, 140, 43, 153, 80, 26, 118, 190, 183, 9, 71, 78, 74, 138, 109, 88, 240, 93, 188, 156, 14, 50, 121]), mint_id=ListContainer([23, 155, 211, 50, 40, 81, 13, 140, 100, 163, 191, 164, 106, 172, 210, 36, 140, 201, 145, 214, 16, 156, 154, 63, 101, 167, 242, 114, 235, 1, 212, 119]), choice_bumps=ListContainer([2, 0, 5, 13, 0]))]),\n",
       " ['No, Not at all',\n",
       "  'Yes, Ofccourse',\n",
       "  'Yes, Eventually',\n",
       "  'Clueless',\n",
       "  'hello world'],\n",
       " Container(leading_choice_bump=3, choices=ListContainer([18, 0, 45, 117, 0]))]"
      ]
     },
     "execution_count": 46,
     "metadata": {},
     "output_type": "execute_result"
    }
   ],
   "source": [
    "choices = [Proposal.choices[i*30 : i*30 + 30].strip('\\0') for i in range(5)]\n",
    "proposal = Proposal.proposal.strip(\"\\0\")\n",
    "[Proposal.max_vote_bump, proposal, Proposal.votes, choices, Proposal.result]"
   ]
  },
  {
   "cell_type": "code",
   "execution_count": 53,
   "metadata": {},
   "outputs": [],
   "source": [
    "\n",
    "accounts = [\n",
    "    payer_account_meta,\n",
    "    proposal_pda_meta]"
   ]
  },
  {
   "cell_type": "code",
   "execution_count": 54,
   "metadata": {},
   "outputs": [],
   "source": [
    "mints = [\"3dQrQQHJc7xhzXsStN1ox4qWffHChYnJgAktjohqNnLa\", \"GKPKFvBhgJSkX1Ts6e4nhcj4XzcACbCZC4dv1TTe2Wjs\", \"Aus1568aZYNXkqhHv9j6BNx5mpbmWURkQAnpHRXuxfBf\", \"21mMpgfMcn2NEnaZzQ1SX73ryj6t8yg8akWRakcSWTCd\", \"A2ve82vbWNjaCJWNdUQp2AiBsZmcGrMVRGBvKGwDuuFy\", \"FGmgjsekE1TDYHAsCjv4HDrigWnpaWMdWogH9d1emdEh\", \"J3ACcSXB2ACbX2CL4FWxvZh81KRQt4AtF3XhyvpxxrJK\", \"2MnyqF3DGRSjfVe4HXtgYoAuXBcPGmN2Qmo7LJ1GkdMc\", \"2bABzKph2JzdGr7nwqhQt74sDmVuJaYA6eVnTtFwY7ki\" ]\n",
    "\n",
    "for mint in mints:\n",
    "    governor_account_meta = AccountMeta(PublicKey(mint), False, False)\n",
    "\n",
    "    metadata_program_pubkey = PublicKey(\"metaqbxxUerdq28cj1RbAWkYQm3ybzjb6a8bt518x1s\")\n",
    "    (metadata_pda, metadata_nonce) = PublicKey.find_program_address([b'metadata', bytes(metadata_program_pubkey), bytes(governor_account_meta.pubkey)], metadata_program_pubkey)\n",
    "\n",
    "\n",
    "    governor_associated_meta = AccountMeta(get_associated_token_address(payer_keypair.public_key, governor_account_meta.pubkey), False, False)\n",
    "    \n",
    "    accounts += [\n",
    "        governor_account_meta,\n",
    "        AccountMeta(metadata_pda, False, False),\n",
    "        governor_associated_meta]\n",
    "\n",
    "accounts += [sys_program_meta, sys_program_meta]"
   ]
  },
  {
   "cell_type": "code",
   "execution_count": 55,
   "metadata": {},
   "outputs": [
    {
     "data": {
      "text/plain": [
       "'https://explorer.solana.com/tx/ZT8XT179zuj8d2SCuvW2jpR91aQJzi5Dvj8Mu63mujaVDdGt8AfsDApqZiyFchGuEh7zzNV8dPwGVHh1TYsU1SZ?cluster=devnet'"
      ]
     },
     "execution_count": 55,
     "metadata": {},
     "output_type": "execute_result"
    }
   ],
   "source": [
    "transaction = Transaction()\n",
    "transaction.add(TransactionInstruction(\n",
    "    accounts,\n",
    "    program_id,\n",
    "    bytes([2,len(mints),2,0,5,13,0] + create_num_cnt(Proposal.max_vote_bump))\n",
    "))\n",
    "f\"https://explorer.solana.com/tx/{client.send_transaction(transaction, payer_keypair)['result']}?cluster=devnet\""
   ]
  },
  {
   "cell_type": "code",
   "execution_count": 56,
   "metadata": {},
   "outputs": [
    {
     "data": {
      "text/plain": [
       "'https://explorer.solana.com/tx/5snPfcv74ifsRAMxhLhcRZzHTyEkVb3iD7xZqnScZHYNDVTLrtofB3XUYkeRDxNKLujaWP26Z5eV2CBTfrjRHj3i?cluster=devnet'"
      ]
     },
     "execution_count": 56,
     "metadata": {},
     "output_type": "execute_result"
    }
   ],
   "source": [
    "accounts = [proposal_pda_meta]\n",
    "\n",
    "transaction = Transaction()\n",
    "transaction.add(TransactionInstruction(\n",
    "    accounts,\n",
    "    program_id,\n",
    "    bytes([4])\n",
    "))\n",
    "f\"https://explorer.solana.com/tx/{client.send_transaction(transaction, payer_keypair)['result']}?cluster=devnet\""
   ]
  },
  {
   "cell_type": "code",
   "execution_count": null,
   "metadata": {},
   "outputs": [],
   "source": []
  }
 ],
 "metadata": {
  "interpreter": {
   "hash": "b68919eb655d0773185a23d07bc600bc0399219a4090e8bc721f64f37132571c"
  },
  "kernelspec": {
   "display_name": "Python 3.9.7",
   "language": "python",
   "name": "python3"
  },
  "language_info": {
   "codemirror_mode": {
    "name": "ipython",
    "version": 3
   },
   "file_extension": ".py",
   "mimetype": "text/x-python",
   "name": "python",
   "nbconvert_exporter": "python",
   "pygments_lexer": "ipython3",
   "version": "3.9.7"
  },
  "orig_nbformat": 4
 },
 "nbformat": 4,
 "nbformat_minor": 2
}
