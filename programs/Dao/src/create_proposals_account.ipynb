{
 "cells": [
  {
   "cell_type": "code",
<<<<<<< HEAD:programs/Table/src/create_sales_account.ipynb
   "execution_count": 16,
=======
   "execution_count": 28,
>>>>>>> 561388ef832c261d7d240eafa30b6c35f92164a2:programs/Dao/src/create_proposals_account.ipynb
   "metadata": {},
   "outputs": [
    {
     "data": {
      "text/plain": [
       "True"
      ]
     },
<<<<<<< HEAD:programs/Table/src/create_sales_account.ipynb
     "execution_count": 16,
=======
     "execution_count": 28,
>>>>>>> 561388ef832c261d7d240eafa30b6c35f92164a2:programs/Dao/src/create_proposals_account.ipynb
     "metadata": {},
     "output_type": "execute_result"
    }
   ],
   "source": [
    "import solana\n",
    "from solana.publickey import PublicKey\n",
    "from solana.rpc.api import Client\n",
    "from solana.keypair import Keypair\n",
    "from solana import system_program\n",
    "from solana import transaction\n",
    "from solana.system_program import SYS_PROGRAM_ID, CreateAccountParams, create_account\n",
    "from solana.transaction import *\n",
    "from spl.token.constants import TOKEN_PROGRAM_ID, ASSOCIATED_TOKEN_PROGRAM_ID\n",
    "from spl.token.instructions import initialize_mint, InitializeMintParams\n",
    "from spl.token._layouts import MINT_LAYOUT\n",
    "from spl.token.client import Token\n",
    "from spl.token import instructions\n",
    "import base64\n",
    "from borsh_construct import *\n",
    "from solana.rpc.commitment import Commitment\n",
    "import time\n",
    "\n",
    "\n",
    "client = Client(\"https://api.devnet.solana.com\")\n",
    "\n",
    "client.is_connected()"
   ]
  },
  {
   "cell_type": "code",
<<<<<<< HEAD:programs/Table/src/create_sales_account.ipynb
   "execution_count": 17,
   "metadata": {},
   "outputs": [],
   "source": [
    "program_id = PublicKey(\"2dJFaB4Zz7dHKHWvLqwS27M5ma1p3TrCNZutSiDJoFGg\")\n",
    "\n",
    "seed = bytes([125,215,212,54,213,98,45,123]*4)\n",
    "payer_keypair = Keypair.from_seed(seed)\n",
    "(table_sales_pda, table_sales_nonce) = PublicKey.find_program_address([b'table_sales_pda'], program_id)\n",
    "client.request_airdrop(payer_keypair.public_key, 2000000000)\n",
    "payer_account_meta = AccountMeta(payer_keypair.public_key, True, True)\n",
    "table_sales_pda_meta = AccountMeta(table_sales_pda, False, True)\n",
    "sys_program_meta = AccountMeta(SYS_PROGRAM_ID, False, False)\n",
=======
   "execution_count": 29,
   "metadata": {},
   "outputs": [],
   "source": [
    "program_id = PublicKey(\"DrSryh4M2nYyRSqgDNMiASK73LSoZrN56oHWXaAcnmCt\")\n",
    "sys_program_meta = AccountMeta(SYS_PROGRAM_ID, False, False)\n",
    "# spl_program_meta  = AccountMeta(TOKEN_PROGRAM_ID, False, False)"
   ]
  },
  {
   "cell_type": "code",
   "execution_count": 30,
   "metadata": {},
   "outputs": [],
   "source": [
    "(proposals_pda, proposals_pda_bump) = PublicKey.find_program_address([b\"Dsol_Dao_Governance\"], program_id);\n",
    "\n",
    "seed = bytes([125,215,212,54,213,98,45,123]*4)\n",
    "payer_keypair = Keypair.from_seed(seed)\n",
    "\n",
    "payer_account_meta = AccountMeta(payer_keypair.public_key, True, True)\n",
>>>>>>> 561388ef832c261d7d240eafa30b6c35f92164a2:programs/Dao/src/create_proposals_account.ipynb
    "\n",
    "proposals_account_meta = AccountMeta(proposals_pda, False, True)\n",
    "\n"
   ]
  },
  {
   "cell_type": "code",
   "execution_count": 31,
   "metadata": {},
   "outputs": [],
   "source": [
    "accounts = [\n",
    "    payer_account_meta,\n",
<<<<<<< HEAD:programs/Table/src/create_sales_account.ipynb
    "    table_sales_pda_meta,\n",
    "\n",
=======
    "    proposals_account_meta,\n",
>>>>>>> 561388ef832c261d7d240eafa30b6c35f92164a2:programs/Dao/src/create_proposals_account.ipynb
    "\n",
    "    sys_program_meta\n",
    "]"
   ]
  },
  {
   "cell_type": "code",
<<<<<<< HEAD:programs/Table/src/create_sales_account.ipynb
   "execution_count": 18,
=======
   "execution_count": 32,
>>>>>>> 561388ef832c261d7d240eafa30b6c35f92164a2:programs/Dao/src/create_proposals_account.ipynb
   "metadata": {},
   "outputs": [
    {
     "data": {
      "text/plain": [
<<<<<<< HEAD:programs/Table/src/create_sales_account.ipynb
       "'https://explorer.solana.com/tx/3aGPPgwNY3omz3GvD7NfYPozia2PafBGS8V9CUW9YYsYnWJQJtuVG9cRVG1FC4ZnuW3Fjo5NY1vAZUvthEMLVX7Z?cluster=devnet'"
      ]
     },
     "execution_count": 18,
=======
       "'https://explorer.solana.com/tx/3ATNHN4KKuSzG3DN5srWKKj9tuTt1T5TVKbbF4Y3sZNobAutpNjyuGqcjhddHcLyypqALgHWiLg2LKG4FmzVS2jH?cluster=devnet'"
      ]
     },
     "execution_count": 32,
>>>>>>> 561388ef832c261d7d240eafa30b6c35f92164a2:programs/Dao/src/create_proposals_account.ipynb
     "metadata": {},
     "output_type": "execute_result"
    }
   ],
   "source": [
    "transaction = Transaction()\n",
    "transaction.add(TransactionInstruction(\n",
    "    accounts,\n",
    "    program_id,\n",
    "    bytes([2])\n",
    "))\n",
    "f\"https://explorer.solana.com/tx/{client.send_transaction(transaction, payer_keypair)['result']}?cluster=devnet\""
   ]
  },
  {
   "cell_type": "code",
   "execution_count": null,
   "metadata": {},
   "outputs": [],
   "source": []
  }
 ],
 "metadata": {
  "interpreter": {
   "hash": "b68919eb655d0773185a23d07bc600bc0399219a4090e8bc721f64f37132571c"
  },
  "kernelspec": {
   "display_name": "Python 3.9.7",
   "language": "python",
   "name": "python3"
  },
  "language_info": {
   "codemirror_mode": {
    "name": "ipython",
    "version": 3
   },
   "file_extension": ".py",
   "mimetype": "text/x-python",
   "name": "python",
   "nbconvert_exporter": "python",
   "pygments_lexer": "ipython3",
   "version": "3.9.7"
  },
  "orig_nbformat": 4
 },
 "nbformat": 4,
 "nbformat_minor": 2
}
