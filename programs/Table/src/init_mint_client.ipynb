{
 "cells": [
  {
   "cell_type": "code",
   "execution_count": 17,
   "metadata": {},
   "outputs": [
    {
     "data": {
      "text/plain": [
       "True"
      ]
     },
     "execution_count": 17,
     "metadata": {},
     "output_type": "execute_result"
    }
   ],
   "source": [
    "import solana\n",
    "from solana.publickey import PublicKey\n",
    "from solana.rpc.api import Client\n",
    "from solana.keypair import Keypair\n",
    "from solana import system_program\n",
    "from solana import transaction\n",
    "from solana.system_program import SYS_PROGRAM_ID, CreateAccountParams, create_account\n",
    "from solana.transaction import *\n",
    "from spl.token.constants import TOKEN_PROGRAM_ID, ASSOCIATED_TOKEN_PROGRAM_ID\n",
    "from spl.token.instructions import initialize_mint, InitializeMintParams\n",
    "from spl.token._layouts import MINT_LAYOUT\n",
    "from spl.token.client import Token\n",
    "from spl.token import instructions\n",
    "import base64\n",
    "import base58\n",
    "from borsh_construct import *\n",
    "from solana.rpc.commitment import Commitment\n",
    "import time\n",
    "import sys\n",
    "sys.path.append('../../GlobalRepo/')\n",
    "from global_repo import *\n",
    "\n",
    "client = Client(\"https://api.devnet.solana.com\")\n",
    "\n",
    "client.is_connected()"
   ]
  },
  {
   "cell_type": "code",
   "execution_count": 18,
   "metadata": {},
   "outputs": [],
   "source": [
    "program_id = TABLES_PROGRAM_ID\n",
    "metadata_program_pubkey = METAPLEX_PROGRAM_ID\n"
   ]
  },
  {
   "cell_type": "code",
   "execution_count": 19,
   "metadata": {},
   "outputs": [],
   "source": [
    "# client.request_airdrop(PublicKey(\"DxkiJXK31VEd4R6F44mQRszoUQugpPYMwL9ybcrnt22r\"), 2000000000)"
   ]
  },
  {
   "cell_type": "code",
   "execution_count": 5,
   "metadata": {},
   "outputs": [],
   "source": [
    "accountSchema = CStruct(\n",
    "    \"vault_total\" / F32,\n",
    "    \"counter\" / U32,\n",
    ")\n",
    "\n",
    "request_units = CStruct(\n",
    "    \"units\" / U32,\n",
    "    \"additional_fee\" / U32   \n",
    ")\n",
    "\n",
    "def getAccountInfo(client: Client, account_pk: PublicKey):\n",
    "    \"\"\"Fetch account information from RPC, parse out the data and deserialize\"\"\"\n",
    "    comm = Commitment(\"confirmed\")\n",
    "    res = client.get_account_info(account_pk, comm, encoding='base64')\n",
    "    data = res['result']\n",
    "    if isinstance(data, dict):\n",
    "        return accountSchema.parse(base64.urlsafe_b64decode(data['value']['data'][0]))\n",
    "    else:\n",
    "        raise AttributeError(f'Unknown RPC result {data}')"
   ]
  },
  {
   "cell_type": "code",
   "execution_count": 6,
   "metadata": {},
   "outputs": [
    {
     "data": {
      "text/plain": [
       "b'mH4PkhAttpFXSrntbpiJgC8J6wHYFDK5PFWcPN53hMJKziWQucux7MFiW7uXnqKsAY3XBnxUtyVKnomZnD9JxHW'"
      ]
     },
     "execution_count": 6,
     "metadata": {},
     "output_type": "execute_result"
    }
   ],
   "source": [
    "seed = bytes([125,215,212,54,213,98,45,123]*4)\n",
    "payer_keypair = Keypair.from_secret_key(base58.b58decode(\"mH4PkhAttpFXSrntbpiJgC8J6wHYFDK5PFWcPN53hMJKziWQucux7MFiW7uXnqKsAY3XBnxUtyVKnomZnD9JxHW\"))\n",
    "client.request_airdrop(payer_keypair.public_key, 2*10**9)\n",
    "base58.b58encode(payer_keypair.secret_key)"
   ]
  },
  {
   "cell_type": "code",
   "execution_count": 7,
   "metadata": {},
   "outputs": [
    {
     "data": {
      "text/plain": [
       "9tJss21NKCaFSU9CGE8wrPC8dH9mQpoJbqNpinqf8f3P"
      ]
     },
     "execution_count": 7,
     "metadata": {},
     "output_type": "execute_result"
    }
   ],
   "source": [
    "dsol_mint = DSOL_MINT_ID\n",
    "governor_mint = PublicKey(\"J3ACcSXB2ACbX2CL4FWxvZh81KRQt4AtF3XhyvpxxrJK\")\n",
    "payer_bump = 5\n",
    "\n",
    "payer_governor_token_address = instructions.get_associated_token_address(payer_keypair.public_key, governor_mint)\n",
    "\n",
    "table_mint_keypair = Keypair.generate()\n",
    "\n",
    "payer_table_associated_token_address = instructions.get_associated_token_address(payer_keypair.public_key, table_mint_keypair.public_key)\n",
    "\n",
    "(payer_table_data_pda, payer_table_data_pda_bump) = PublicKey.find_program_address([b\"table_data_pda\", bytes(payer_keypair.public_key), payer_bump.to_bytes(4,\"big\")], program_id);\n",
    "\n",
    "(payer_table_metadata_pda, payer_table_metadata_pda_bump) = PublicKey.find_program_address([b\"metadata\", bytes(metadata_program_pubkey), bytes(table_mint_keypair.public_key)], metadata_program_pubkey) \n",
    "\n",
    "(table_sales_pda, table_sales_nonce) = PublicKey.find_program_address([b'table_sales_pda'], program_id)\n",
    "\n",
    "payer_dsol_token_account = instructions.get_associated_token_address(payer_keypair.public_key, dsol_mint)\n",
    "\n",
    "(table_mint_authority, nonce) = PublicKey.find_program_address([b\"table_mint_authority_pda\"], program_id)\n",
    "payer_table_data_pda"
   ]
  },
  {
   "cell_type": "code",
   "execution_count": 8,
   "metadata": {},
   "outputs": [],
   "source": [
    "seed = bytes([25,215,212,154,213,198,45,123]*4)\n",
    "vault_keypair = Keypair.from_seed(seed)\n",
    "# vault_keypair = Keypair.generate()\n",
    "# client.request_airdrop(vault_keypair.public_key, 2*10**9)\n",
    "# time.sleep(5)\n",
    "vault_dsol_token_account = instructions.get_associated_token_address(vault_keypair.public_key, dsol_mint)"
   ]
  },
  {
   "cell_type": "code",
   "execution_count": 9,
   "metadata": {},
   "outputs": [],
   "source": [
    "\n",
    "payer_account_meta = AccountMeta(payer_keypair.public_key, True, True)\n",
    "payer_dsol_token_account_meta = AccountMeta(payer_dsol_token_account, False, True)\n",
    "payer_governor_token_account_meta = AccountMeta(payer_governor_token_address, False, True)\n",
    "# payer_table_associated_account_meta = AccountMeta(payer_table_associated_token_address, False, True)\n",
    "payer_table_data_pda_meta = AccountMeta(payer_table_data_pda, False, True)\n",
    "payer_table_metadata_meta = AccountMeta(payer_table_metadata_pda, False, True)\n",
    "vault_account_meta = AccountMeta(vault_keypair.public_key, False, True)\n",
    "vault_dsol_token_account_meta = AccountMeta(vault_dsol_token_account, False, True)\n",
    "table_mint_account_meta = AccountMeta(table_mint_keypair.public_key, True, True)\n",
    "table_mint_authority_meta = AccountMeta(table_mint_authority, False, False)\n",
    "table_sales_pda_meta = AccountMeta(table_sales_pda, False, True)\n",
    "\n",
    "rent_account_meta = AccountMeta(solana.sysvar.SYSVAR_RENT_PUBKEY, False, False)\n",
    "spl_program_meta  = AccountMeta(TOKEN_PROGRAM_ID, False, False)\n",
    "sys_program_meta = AccountMeta(SYS_PROGRAM_ID, False, False)\n",
    "sysvar_clock_meta = AccountMeta(solana.sysvar.SYSVAR_CLOCK_PUBKEY, False, False)\n",
    "associated_program_meta = AccountMeta(ASSOCIATED_TOKEN_PROGRAM_ID, False, False)\n",
    "metadata_meta = AccountMeta(metadata_program_pubkey, False, False)\n",
    "dsol_mint_meta = AccountMeta(dsol_mint, False, False)\n",
    "compute_program_meta = AccountMeta(PublicKey(\"ComputeBudget111111111111111111111111111111\"), False, False)\n",
    "gov_account_meta = AccountMeta(governor_mint, False, False)\n"
   ]
  },
  {
   "cell_type": "code",
   "execution_count": 10,
   "metadata": {},
   "outputs": [
    {
     "data": {
      "text/plain": [
       "AccountMeta(pubkey=9tJss21NKCaFSU9CGE8wrPC8dH9mQpoJbqNpinqf8f3P, is_signer=False, is_writable=True)"
      ]
     },
     "execution_count": 10,
     "metadata": {},
     "output_type": "execute_result"
    }
   ],
   "source": [
    "payer_table_data_pda_meta"
   ]
  },
  {
   "cell_type": "code",
   "execution_count": 16,
   "metadata": {},
   "outputs": [
    {
     "data": {
      "text/plain": [
       "b'\\x00\\xf4\\x01\\x00\\x00\\x05\\x00\\x00\\x00'"
      ]
     },
     "execution_count": 16,
     "metadata": {},
     "output_type": "execute_result"
    }
   ],
   "source": [
    "\n",
    "\n",
    "# print(dsol_mint)\n",
    "# print(vault_keypair.public_key)\n",
    "# print(vault_dsol_token_account)\n",
    "# print(payer_keypair.public_key)\n",
    "# print(payer_dsol_token_account)\n",
    "# print(payer_governor_token_address)\n",
    "# print(sys_program_meta)\n",
    "# print(spl_program_meta)\n",
    "# print(payer_table_metadata_pda)\n",
    "\n",
    "\n",
    "InstructionEnum = Enum(\n",
    "    \"InitTable\" / CStruct(\"governor_reward\" / U32, \"payer_bump\" / U32),\n",
    "    \"SignTableMint\",\n",
    "    \"CreateTableSalesAccount\",\n",
    "    \"BurnNFTs\" / CStruct(\"rarity\" / U8),\n",
    "    \"MintTable\",\n",
    "    \"LockTable\",\n",
    "    \"UnlockTable\",\n",
    "    enum_name = \"InstructionEnum\"\n",
    ")\n",
    "InstructionEnum.build(InstructionEnum.enum.LockTable())"
   ]
  },
  {
   "cell_type": "code",
   "execution_count": 24,
   "metadata": {},
   "outputs": [],
   "source": [
    "# payer_bump = 0\n",
    "# (table_data_pda, table_data_pda_bump) = PublicKey.find_program_address([b\"table_data_pda\", bytes(payer_account_meta.pubkey), payer_bump.to_bytes(4,\"little\")], program_id);\n",
    "# payer_table_data_pda_meta = AccountMeta(payer_table_data_pda, False, True)\n",
    "\n",
    "vault_pda, _ = PublicKey.find_program_address([b\"Dsol_vault_tables\"], program_id)\n",
    "vault_pda_dsol_token_account_meta = AccountMeta(instructions.get_associated_token_address(vault_pda, dsol_mint), False, True)\n",
    "\n",
    "(pending_pda, pending_nonce) = PublicKey.find_program_address([b'pending_tables'], program_id)\n",
    "pending_tables_meta = AccountMeta(pending_pda, False, True)\n",
    "\n",
    "main_vault_assoc = instructions.get_associated_token_address(VAULT, dsol_mint)\n",
    "\n",
    "main_vault_meta = AccountMeta(main_vault_assoc, False, True)\n",
    "\n",
    "gov_data_pubkey, _ = PublicKey.find_program_address([b'governor_data_pda', bytes(governor_mint)], GOVERNOR_PROGRAM_ID)\n",
    "gove_data_meta = AccountMeta(gov_data_pubkey, False, True)\n"
   ]
  },
  {
   "cell_type": "code",
   "execution_count": 25,
   "metadata": {},
   "outputs": [
    {
     "ename": "RPCException",
     "evalue": "{'code': -32002, 'message': 'Transaction simulation failed: Error processing Instruction 0: custom program error: 0xb', 'data': {'accounts': None, 'err': {'InstructionError': [0, {'Custom': 11}]}, 'logs': ['Program 7fmmvCJ1uH4sfLCdZrDAjJnfHejwtFbYL7aG8nnNR6Yz invoke [1]', 'Program 7fmmvCJ1uH4sfLCdZrDAjJnfHejwtFbYL7aG8nnNR6Yz consumed 8711 of 200000 compute units', 'Program 7fmmvCJ1uH4sfLCdZrDAjJnfHejwtFbYL7aG8nnNR6Yz failed: custom program error: 0xb'], 'unitsConsumed': 0}}",
     "output_type": "error",
     "traceback": [
      "\u001b[1;31m---------------------------------------------------------------------------\u001b[0m",
      "\u001b[1;31mRPCException\u001b[0m                              Traceback (most recent call last)",
      "\u001b[1;32m~\\AppData\\Local\\Temp/ipykernel_38444/1325800443.py\u001b[0m in \u001b[0;36m<module>\u001b[1;34m\u001b[0m\n\u001b[0;32m     61\u001b[0m     \u001b[1;32mreturn\u001b[0m \u001b[1;34mf\"https://explorer.solana.com/tx/{client.send_transaction(transaction, payer_keypair)['result']}?cluster=devnet\"\u001b[0m\u001b[1;33m\u001b[0m\u001b[1;33m\u001b[0m\u001b[0m\n\u001b[0;32m     62\u001b[0m \u001b[1;33m\u001b[0m\u001b[0m\n\u001b[1;32m---> 63\u001b[1;33m \u001b[0minit_table_mint\u001b[0m\u001b[1;33m(\u001b[0m\u001b[1;33m)\u001b[0m\u001b[1;33m\u001b[0m\u001b[1;33m\u001b[0m\u001b[0m\n\u001b[0m\u001b[0;32m     64\u001b[0m \u001b[1;33m\u001b[0m\u001b[0m\n\u001b[0;32m     65\u001b[0m \u001b[1;31m# time.sleep(5)\u001b[0m\u001b[1;33m\u001b[0m\u001b[1;33m\u001b[0m\u001b[0m\n",
      "\u001b[1;32m~\\AppData\\Local\\Temp/ipykernel_38444/1325800443.py\u001b[0m in \u001b[0;36minit_table_mint\u001b[1;34m()\u001b[0m\n\u001b[0;32m     59\u001b[0m     )\n\u001b[0;32m     60\u001b[0m \u001b[1;33m\u001b[0m\u001b[0m\n\u001b[1;32m---> 61\u001b[1;33m     \u001b[1;32mreturn\u001b[0m \u001b[1;34mf\"https://explorer.solana.com/tx/{client.send_transaction(transaction, payer_keypair)['result']}?cluster=devnet\"\u001b[0m\u001b[1;33m\u001b[0m\u001b[1;33m\u001b[0m\u001b[0m\n\u001b[0m\u001b[0;32m     62\u001b[0m \u001b[1;33m\u001b[0m\u001b[0m\n\u001b[0;32m     63\u001b[0m \u001b[0minit_table_mint\u001b[0m\u001b[1;33m(\u001b[0m\u001b[1;33m)\u001b[0m\u001b[1;33m\u001b[0m\u001b[1;33m\u001b[0m\u001b[0m\n",
      "\u001b[1;32m~\\anaconda3\\lib\\site-packages\\solana\\rpc\\api.py\u001b[0m in \u001b[0;36msend_transaction\u001b[1;34m(self, txn, opts, recent_blockhash, *signers)\u001b[0m\n\u001b[0;32m   1176\u001b[0m \u001b[1;33m\u001b[0m\u001b[0m\n\u001b[0;32m   1177\u001b[0m         \u001b[0mtxn\u001b[0m\u001b[1;33m.\u001b[0m\u001b[0msign\u001b[0m\u001b[1;33m(\u001b[0m\u001b[1;33m*\u001b[0m\u001b[0msigners\u001b[0m\u001b[1;33m)\u001b[0m\u001b[1;33m\u001b[0m\u001b[1;33m\u001b[0m\u001b[0m\n\u001b[1;32m-> 1178\u001b[1;33m         \u001b[0mtxn_resp\u001b[0m \u001b[1;33m=\u001b[0m \u001b[0mself\u001b[0m\u001b[1;33m.\u001b[0m\u001b[0msend_raw_transaction\u001b[0m\u001b[1;33m(\u001b[0m\u001b[0mtxn\u001b[0m\u001b[1;33m.\u001b[0m\u001b[0mserialize\u001b[0m\u001b[1;33m(\u001b[0m\u001b[1;33m)\u001b[0m\u001b[1;33m,\u001b[0m \u001b[0mopts\u001b[0m\u001b[1;33m=\u001b[0m\u001b[0mopts\u001b[0m\u001b[1;33m)\u001b[0m\u001b[1;33m\u001b[0m\u001b[1;33m\u001b[0m\u001b[0m\n\u001b[0m\u001b[0;32m   1179\u001b[0m         \u001b[1;32mif\u001b[0m \u001b[0mself\u001b[0m\u001b[1;33m.\u001b[0m\u001b[0mblockhash_cache\u001b[0m\u001b[1;33m:\u001b[0m\u001b[1;33m\u001b[0m\u001b[1;33m\u001b[0m\u001b[0m\n\u001b[0;32m   1180\u001b[0m             \u001b[0mblockhash_resp\u001b[0m \u001b[1;33m=\u001b[0m \u001b[0mself\u001b[0m\u001b[1;33m.\u001b[0m\u001b[0mget_recent_blockhash\u001b[0m\u001b[1;33m(\u001b[0m\u001b[0mFinalized\u001b[0m\u001b[1;33m)\u001b[0m\u001b[1;33m\u001b[0m\u001b[1;33m\u001b[0m\u001b[0m\n",
      "\u001b[1;32m~\\anaconda3\\lib\\site-packages\\solana\\rpc\\api.py\u001b[0m in \u001b[0;36msend_raw_transaction\u001b[1;34m(self, txn, opts)\u001b[0m\n\u001b[0;32m   1130\u001b[0m         \u001b[0mresp\u001b[0m \u001b[1;33m=\u001b[0m \u001b[0mself\u001b[0m\u001b[1;33m.\u001b[0m\u001b[0m_provider\u001b[0m\u001b[1;33m.\u001b[0m\u001b[0mmake_request\u001b[0m\u001b[1;33m(\u001b[0m\u001b[1;33m*\u001b[0m\u001b[0margs\u001b[0m\u001b[1;33m)\u001b[0m\u001b[1;33m\u001b[0m\u001b[1;33m\u001b[0m\u001b[0m\n\u001b[0;32m   1131\u001b[0m         \u001b[1;32mif\u001b[0m \u001b[0mopts\u001b[0m\u001b[1;33m.\u001b[0m\u001b[0mskip_confirmation\u001b[0m\u001b[1;33m:\u001b[0m\u001b[1;33m\u001b[0m\u001b[1;33m\u001b[0m\u001b[0m\n\u001b[1;32m-> 1132\u001b[1;33m             \u001b[1;32mreturn\u001b[0m \u001b[0mself\u001b[0m\u001b[1;33m.\u001b[0m\u001b[0m_post_send\u001b[0m\u001b[1;33m(\u001b[0m\u001b[0mresp\u001b[0m\u001b[1;33m)\u001b[0m\u001b[1;33m\u001b[0m\u001b[1;33m\u001b[0m\u001b[0m\n\u001b[0m\u001b[0;32m   1133\u001b[0m         \u001b[0mpost_send_args\u001b[0m \u001b[1;33m=\u001b[0m \u001b[0mself\u001b[0m\u001b[1;33m.\u001b[0m\u001b[0m_send_raw_transaction_post_send_args\u001b[0m\u001b[1;33m(\u001b[0m\u001b[0mresp\u001b[0m\u001b[1;33m,\u001b[0m \u001b[0mopts\u001b[0m\u001b[1;33m)\u001b[0m\u001b[1;33m\u001b[0m\u001b[1;33m\u001b[0m\u001b[0m\n\u001b[0;32m   1134\u001b[0m         \u001b[1;32mreturn\u001b[0m \u001b[0mself\u001b[0m\u001b[1;33m.\u001b[0m\u001b[0m__post_send_with_confirm\u001b[0m\u001b[1;33m(\u001b[0m\u001b[1;33m*\u001b[0m\u001b[0mpost_send_args\u001b[0m\u001b[1;33m)\u001b[0m\u001b[1;33m\u001b[0m\u001b[1;33m\u001b[0m\u001b[0m\n",
      "\u001b[1;32m~\\anaconda3\\lib\\site-packages\\solana\\rpc\\core.py\u001b[0m in \u001b[0;36m_post_send\u001b[1;34m(resp)\u001b[0m\n\u001b[0;32m    386\u001b[0m         \u001b[0mmaybe_error\u001b[0m \u001b[1;33m=\u001b[0m \u001b[0mresp\u001b[0m\u001b[1;33m.\u001b[0m\u001b[0mget\u001b[0m\u001b[1;33m(\u001b[0m\u001b[1;34m\"error\"\u001b[0m\u001b[1;33m)\u001b[0m\u001b[1;33m\u001b[0m\u001b[1;33m\u001b[0m\u001b[0m\n\u001b[0;32m    387\u001b[0m         \u001b[1;32mif\u001b[0m \u001b[0mmaybe_error\u001b[0m \u001b[1;32mis\u001b[0m \u001b[1;32mnot\u001b[0m \u001b[1;32mNone\u001b[0m\u001b[1;33m:\u001b[0m\u001b[1;33m\u001b[0m\u001b[1;33m\u001b[0m\u001b[0m\n\u001b[1;32m--> 388\u001b[1;33m             \u001b[1;32mraise\u001b[0m \u001b[0mRPCException\u001b[0m\u001b[1;33m(\u001b[0m\u001b[0mmaybe_error\u001b[0m\u001b[1;33m)\u001b[0m\u001b[1;33m\u001b[0m\u001b[1;33m\u001b[0m\u001b[0m\n\u001b[0m\u001b[0;32m    389\u001b[0m         \u001b[1;32mif\u001b[0m \u001b[1;32mnot\u001b[0m \u001b[0mresp\u001b[0m\u001b[1;33m.\u001b[0m\u001b[0mget\u001b[0m\u001b[1;33m(\u001b[0m\u001b[1;34m\"result\"\u001b[0m\u001b[1;33m)\u001b[0m\u001b[1;33m:\u001b[0m\u001b[1;33m\u001b[0m\u001b[1;33m\u001b[0m\u001b[0m\n\u001b[0;32m    390\u001b[0m             \u001b[1;32mraise\u001b[0m \u001b[0mException\u001b[0m\u001b[1;33m(\u001b[0m\u001b[1;34m\"Failed to send transaction\"\u001b[0m\u001b[1;33m)\u001b[0m\u001b[1;33m\u001b[0m\u001b[1;33m\u001b[0m\u001b[0m\n",
      "\u001b[1;31mRPCException\u001b[0m: {'code': -32002, 'message': 'Transaction simulation failed: Error processing Instruction 0: custom program error: 0xb', 'data': {'accounts': None, 'err': {'InstructionError': [0, {'Custom': 11}]}, 'logs': ['Program 7fmmvCJ1uH4sfLCdZrDAjJnfHejwtFbYL7aG8nnNR6Yz invoke [1]', 'Program 7fmmvCJ1uH4sfLCdZrDAjJnfHejwtFbYL7aG8nnNR6Yz consumed 8711 of 200000 compute units', 'Program 7fmmvCJ1uH4sfLCdZrDAjJnfHejwtFbYL7aG8nnNR6Yz failed: custom program error: 0xb'], 'unitsConsumed': 0}}"
     ]
    }
   ],
   "source": [
    "def init_table_mint():\n",
    "    accounts = [\n",
    "        payer_account_meta,\n",
    "        payer_dsol_token_account_meta,\n",
    "        payer_governor_token_account_meta,\n",
    "        # payer_table_associated_account_meta,\n",
    "        payer_table_data_pda_meta,\n",
    "        # payer_table_metadata_meta,\n",
    "        # vault_account_meta,\n",
    "        vault_pda_dsol_token_account_meta,\n",
    "        # table_mint_account_meta,\n",
    "        # table_mint_authority_meta,\n",
    "        table_sales_pda_meta,\n",
    "        # sys_program_meta,\n",
    "        spl_program_meta,\n",
    "        # rent_account_meta,\n",
    "        sysvar_clock_meta,\n",
    "        pending_tables_meta,\n",
    "        main_vault_meta,\n",
    "        gove_data_meta,\n",
    "        gov_account_meta,\n",
    "\n",
    "        # compute_program_meta,\n",
    "        spl_program_meta,\n",
    "        spl_program_meta,\n",
    "        sys_program_meta,\n",
    "        # associated_program_meta,\n",
    "        # spl_program_meta,\n",
    "        # metadata_meta,\n",
    "        # metadata_meta,\n",
    "        # spl_program_meta,\n",
    "        # spl_program_meta,\n",
    "        # sys_program_meta,\n",
    "    ]\n",
    "\n",
    "\n",
    "    transaction = Transaction()\n",
    "\n",
    "    # request_units = CStruct(\n",
    "    # \"units\" / U32,\n",
    "    # \"additional_fee\" / U32   \n",
    "    # )\n",
    "\n",
    "\n",
    "    # transaction.add(\n",
    "    #     TransactionInstruction(\n",
    "    #         [],\n",
    "    #         compute_program_meta.pubkey,\n",
    "    #         request_units.build({\"units\": 500000, \"additional_fee\": int(0.01*10**9)})\n",
    "    #     )\n",
    "    # )\n",
    "\n",
    "    transaction.add(\n",
    "        TransactionInstruction(\n",
    "            accounts,\n",
    "            program_id,\n",
    "            InstructionEnum.build(InstructionEnum.enum.InitTable(governor_reward = 500, payer_bump = payer_bump))\n",
    "        )\n",
    "    )\n",
    "    \n",
    "    return f\"https://explorer.solana.com/tx/{client.send_transaction(transaction, payer_keypair)['result']}?cluster=devnet\"\n",
    "\n",
    "init_table_mint()\n",
    "\n",
    "# time.sleep(5)"
   ]
  },
  {
   "cell_type": "code",
   "execution_count": null,
   "metadata": {},
   "outputs": [
    {
     "data": {
      "text/plain": [
       "7fmmvCJ1uH4sfLCdZrDAjJnfHejwtFbYL7aG8nnNR6Yz"
      ]
     },
     "execution_count": 23,
     "metadata": {},
     "output_type": "execute_result"
    }
   ],
   "source": [
    "program_id"
   ]
  },
  {
   "cell_type": "code",
   "execution_count": null,
   "metadata": {},
   "outputs": [],
   "source": [
    "# def mint_avatar():\n",
    "#     accounts = [\n",
    "#         # program_id_account_meta,\n",
    "#         payer_account_meta,\n",
    "#         payer_dsol_token_account_meta,\n",
    "#         vault_account_meta, \n",
    "#         vault_dsol_token_account_meta,\n",
    "#         mint_account_meta, \n",
    "#         rent_account_meta, \n",
    "#         associated_account_meta,\n",
    "#         spl_program_meta,\n",
    "#         AccountMeta(SYS_PROGRAM_ID, False, False),\n",
    "#         mint_authority_meta,\n",
    "#         avatar_data_pda_meta,\n",
    "#         sales_pda_meta,\n",
    "#         AccountMeta(metadata_pda, False, True),\n",
    "#         sysvar_clock_meta,\n",
    "\n",
    "#         spl_program_meta,\n",
    "#         AccountMeta(ASSOCIATED_TOKEN_PROGRAM_ID, False, False),\n",
    "#         spl_program_meta,\n",
    "#         spl_program_meta,\n",
    "#         AccountMeta(metadata_program_pubkey, False, False),\n",
    "#     ]   \n",
    "\n",
    "#     transaction = Transaction()\n",
    "#     transaction.add(TransactionInstruction(\n",
    "#         accounts,\n",
    "#         program_id,\n",
    "#         bytes([0])\n",
    "#     ))\n",
    "    \n",
    "#     return f\"https://explorer.solana.com/tx/{client.send_transaction(transaction, payer_keypair, mint_account, vault_keypair)['result']}?cluster=devnet\"\n",
    "\n",
    "# mint_avatar()"
   ]
  },
  {
   "cell_type": "code",
   "execution_count": null,
   "metadata": {},
   "outputs": [],
   "source": [
    "\n",
    "# accountSchema = CStruct(\n",
    "#     \"vault_total\" / F32,\n",
    "#     \"counter\" / U32,\n",
    "# )\n",
    "\n",
    "# (sales_pda, sales_nonce) = PublicKey.find_program_address([b'sales_pda', bytes(program_id)], program_id)\n",
    "# print(f\"PDA: {sales_pda, sales_nonce}\")\n",
    "\n",
    "# getAccountInfo(client,sales_pda)"
   ]
  },
  {
   "cell_type": "code",
   "execution_count": 24,
   "metadata": {},
   "outputs": [
    {
     "data": {
      "text/plain": [
       "Container(date_created=1646664889, id=3, rarity=1, creators=ListContainer([ListContainer([55, 150, 108, 206, 0, 165, 248, 105, 20, 106, 122, 114, 14, 182, 186, 150, 210, 119, 119, 108, 0, 117, 0, 164, 110, 197, 167, 182, 212, 40, 30, 60]), ListContainer([181, 81, 167, 153, 25, 48, 166, 0, 192, 140, 146, 52, 85, 156, 4, 134, 93, 134, 45, 240, 124, 33, 189, 35, 112, 53, 252, 186, 125, 103, 15, 78]), ListContainer([248, 3, 43, 108, 102, 68, 126, 82, 103, 220, 76, 148, 58, 80, 17, 225, 55, 55, 238, 207, 198, 123, 126, 109, 181, 166, 230, 5, 139, 83, 140, 253]), ListContainer([176, 93, 13, 189, 195, 250, 118, 232, 31, 170, 192, 162, 165, 238, 168, 72, 44, 42, 245, 93, 15, 153, 95, 161, 128, 156, 99, 137, 162, 52, 115, 173]), ListContainer([136, 188, 64, 60, 113, 132, 31, 30, 77, 154, 45, 218, 43, 245, 8, 103, 243, 100, 6, 245, 175, 164, 250, 227, 94, 106, 7, 13, 162, 244, 77, 48])]), num_creators=5, governor_reward=500, minted=True, is_on_lobby=False)"
      ]
     },
     "execution_count": 24,
     "metadata": {},
     "output_type": "execute_result"
    }
   ],
   "source": [
    "accountSchema = CStruct(\n",
    "    \"date_created\" / U32,\n",
    "    \"id\" / U32,\n",
    "    \"rarity\" / U8,\n",
    "    \"creators\" / Vec(U8[32]),\n",
    "    \"num_creators\" / U8,\n",
    "    \"governor_reward\" / U32,\n",
    "    \"minted\" / Bool,\n",
    "    \"is_on_lobby\" / Bool,\n",
    ")\n",
    "\n",
    "table_data_pda, _ = PublicKey.find_program_address([b\"table_data_pda\", bytes(PublicKey(\"FXyQAAPKHqxGcKtF9jPnchV1aL2iUdEfBEkkKpJhr6i1\"))], TABLES_PROGRAM_ID)\n",
    "\n",
    "getAccountInfo(client, table_data_pda)"
   ]
  },
  {
   "cell_type": "code",
   "execution_count": null,
   "metadata": {},
   "outputs": [],
   "source": [
    "# time.sleep(120)\n",
    "\n",
    "# new_accounts = [\n",
    "#     mint_account_meta,\n",
    "#     associated_account_meta,\n",
    "#     spl_program_meta,\n",
    "#     mint_authority_meta,\n",
    "#     avatar_data_pda_meta,\n",
    "#     sysvar_clock_meta,\n",
    "\n",
    "#     spl_program_meta\n",
    "# ]\n",
    "\n",
    "# transaction = Transaction()\n",
    "# transaction.add(TransactionInstruction(\n",
    "#     new_accounts,\n",
    "#     program_id,\n",
    "#     bytes([1])\n",
    "# ))\n",
    "# f\"https://explorer.solana.com/tx/{client.send_transaction(transaction, payer_keypair, mint_account)['result']}?cluster=devnet\""
   ]
  },
  {
   "cell_type": "code",
   "execution_count": null,
   "metadata": {},
   "outputs": [],
   "source": [
    "\n",
    "\n"
   ]
  }
 ],
 "metadata": {
  "interpreter": {
   "hash": "b3ba2566441a7c06988d0923437866b63cedc61552a5af99d1f4fb67d367b25f"
  },
  "kernelspec": {
   "display_name": "Python 3.8.8 64-bit ('base': conda)",
   "language": "python",
   "name": "python3"
  },
  "language_info": {
   "codemirror_mode": {
    "name": "ipython",
    "version": 3
   },
   "file_extension": ".py",
   "mimetype": "text/x-python",
   "name": "python",
   "nbconvert_exporter": "python",
   "pygments_lexer": "ipython3",
   "version": "3.9.7"
  },
  "orig_nbformat": 4
 },
 "nbformat": 4,
 "nbformat_minor": 2
}
