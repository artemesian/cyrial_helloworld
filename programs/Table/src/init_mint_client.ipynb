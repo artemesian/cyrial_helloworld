{
 "cells": [
  {
   "cell_type": "code",
   "execution_count": 285,
   "metadata": {},
   "outputs": [
    {
     "data": {
      "text/plain": [
       "True"
      ]
     },
     "execution_count": 285,
     "metadata": {},
     "output_type": "execute_result"
    }
   ],
   "source": [
    "import solana\n",
    "from solana.publickey import PublicKey\n",
    "from solana.rpc.api import Client\n",
    "from solana.keypair import Keypair\n",
    "from solana import system_program\n",
    "from solana import transaction\n",
    "from solana.system_program import SYS_PROGRAM_ID, CreateAccountParams, create_account\n",
    "from solana.transaction import *\n",
    "from spl.token.constants import TOKEN_PROGRAM_ID, ASSOCIATED_TOKEN_PROGRAM_ID\n",
    "from spl.token.instructions import initialize_mint, InitializeMintParams\n",
    "from spl.token._layouts import MINT_LAYOUT\n",
    "from spl.token.client import Token\n",
    "from spl.token import instructions\n",
    "import base64\n",
    "import base58\n",
    "from borsh_construct import *\n",
    "from solana.rpc.commitment import Commitment\n",
    "import time\n",
    "\n",
    "\n",
    "\n",
    "client = Client(\"https://api.devnet.solana.com\")\n",
    "\n",
    "client.is_connected()"
   ]
  },
  {
   "cell_type": "code",
   "execution_count": 286,
   "metadata": {},
   "outputs": [],
   "source": [
    "program_id = PublicKey(\"7fmmvCJ1uH4sfLCdZrDAjJnfHejwtFbYL7aG8nnNR6Yz\")\n",
    "metadata_program_pubkey = PublicKey(\"metaqbxxUerdq28cj1RbAWkYQm3ybzjb6a8bt518x1s\")\n"
   ]
  },
  {
   "cell_type": "code",
   "execution_count": 287,
   "metadata": {},
   "outputs": [],
   "source": [
    "# client.request_airdrop(PublicKey(\"DxkiJXK31VEd4R6F44mQRszoUQugpPYMwL9ybcrnt22r\"), 2000000000)"
   ]
  },
  {
   "cell_type": "code",
   "execution_count": 288,
   "metadata": {},
   "outputs": [],
   "source": [
    "accountSchema = CStruct(\n",
    "    \"vault_total\" / F32,\n",
    "    \"counter\" / U32,\n",
    ")\n",
    "\n",
    "request_units = CStruct(\n",
    "    \"units\" / U32,\n",
    "    \"additional_fee\" / U32   \n",
    ")\n",
    "\n",
    "def getAccountInfo(client: Client, account_pk: PublicKey):\n",
    "    \"\"\"Fetch account information from RPC, parse out the data and deserialize\"\"\"\n",
    "    comm = Commitment(\"confirmed\")\n",
    "    res = client.get_account_info(account_pk, comm, encoding='base64')\n",
    "    data = res['result']\n",
    "    if isinstance(data, dict):\n",
    "        return accountSchema.parse(base64.urlsafe_b64decode(data['value']['data'][0]))\n",
    "    else:\n",
    "        raise AttributeError(f'Unknown RPC result {data}')"
   ]
  },
  {
   "cell_type": "code",
   "execution_count": 289,
   "metadata": {},
   "outputs": [
    {
     "data": {
      "text/plain": [
       "b'mH4PkhAttpFXSrntbpiJgC8J6wHYFDK5PFWcPN53hMJKziWQucux7MFiW7uXnqKsAY3XBnxUtyVKnomZnD9JxHW'"
      ]
     },
     "execution_count": 289,
     "metadata": {},
     "output_type": "execute_result"
    }
   ],
   "source": [
    "seed = bytes([125,215,212,54,213,98,45,123]*4)\n",
    "payer_keypair = Keypair.from_secret_key(base58.b58decode(\"mH4PkhAttpFXSrntbpiJgC8J6wHYFDK5PFWcPN53hMJKziWQucux7MFiW7uXnqKsAY3XBnxUtyVKnomZnD9JxHW\"))\n",
    "client.request_airdrop(payer_keypair.public_key, 2*10**9)\n",
    "base58.b58encode(payer_keypair.secret_key)"
   ]
  },
  {
   "cell_type": "code",
   "execution_count": 290,
   "metadata": {},
   "outputs": [
    {
     "data": {
      "text/plain": [
       "4uq6eSCtD39xgSZJrE4oKJhp6iLr6jN3aN3cEFiq9iSP"
      ]
     },
     "execution_count": 290,
     "metadata": {},
     "output_type": "execute_result"
    }
   ],
   "source": [
    "dsol_mint = PublicKey(\"HSYdApQF2FKVNnX6FQ1ySYstGLe5Gp8NseHVFavWye66\")\n",
    "governor_mint = PublicKey(\"5TvLJ3Xd9LbB4q97mmYWcJqjKEpqPQE7ZEgQc5M9xt1v\")\n",
    "payer_bump = 2\n",
    "\n",
    "payer_governor_token_address = instructions.get_associated_token_address(payer_keypair.public_key, governor_mint)\n",
    "\n",
    "table_mint_keypair = Keypair.generate()\n",
    "\n",
    "payer_table_associated_token_address = instructions.get_associated_token_address(payer_keypair.public_key, table_mint_keypair.public_key)\n",
    "\n",
    "(payer_table_data_pda, payer_table_data_pda_bump) = PublicKey.find_program_address([b\"table_data_pda\", bytes(payer_keypair.public_key), payer_bump.to_bytes(4,\"big\")], program_id);\n",
    "\n",
    "(payer_table_metadata_pda, payer_table_metadata_pda_bump) = PublicKey.find_program_address([b\"metadata\", bytes(metadata_program_pubkey), bytes(table_mint_keypair.public_key)], metadata_program_pubkey) \n",
    "\n",
    "(table_sales_pda, table_sales_nonce) = PublicKey.find_program_address([b'table_sales_pda'], program_id)\n",
    "\n",
    "payer_dsol_token_account = instructions.get_associated_token_address(payer_keypair.public_key, dsol_mint)\n",
    "\n",
    "(table_mint_authority, nonce) = PublicKey.find_program_address([b\"table_mint_authority_pda\"], program_id)\n",
    "payer_table_data_pda"
   ]
  },
  {
   "cell_type": "code",
   "execution_count": 291,
   "metadata": {},
   "outputs": [],
   "source": [
    "seed = bytes([25,215,212,154,213,198,45,123]*4)\n",
    "vault_keypair = Keypair.from_seed(seed)\n",
    "# vault_keypair = Keypair.generate()\n",
    "# client.request_airdrop(vault_keypair.public_key, 2*10**9)\n",
    "# time.sleep(5)\n",
    "vault_dsol_token_account = instructions.get_associated_token_address(vault_keypair.public_key, dsol_mint)"
   ]
  },
  {
   "cell_type": "code",
   "execution_count": 292,
   "metadata": {},
   "outputs": [],
   "source": [
    "\n",
    "payer_account_meta = AccountMeta(payer_keypair.public_key, True, True)\n",
    "payer_dsol_token_account_meta = AccountMeta(payer_dsol_token_account, False, True)\n",
    "payer_governor_token_account_meta = AccountMeta(payer_governor_token_address, False, True)\n",
    "# payer_table_associated_account_meta = AccountMeta(payer_table_associated_token_address, False, True)\n",
    "payer_table_data_pda_meta = AccountMeta(payer_table_data_pda, False, True)\n",
    "payer_table_metadata_meta = AccountMeta(payer_table_metadata_pda, False, True)\n",
    "vault_account_meta = AccountMeta(vault_keypair.public_key, False, True)\n",
    "vault_dsol_token_account_meta = AccountMeta(vault_dsol_token_account, False, True)\n",
    "table_mint_account_meta = AccountMeta(table_mint_keypair.public_key, True, True)\n",
    "table_mint_authority_meta = AccountMeta(table_mint_authority, False, False)\n",
    "table_sales_pda_meta = AccountMeta(table_sales_pda, False, True)\n",
    "\n",
    "rent_account_meta = AccountMeta(solana.sysvar.SYSVAR_RENT_PUBKEY, False, False)\n",
    "spl_program_meta  = AccountMeta(TOKEN_PROGRAM_ID, False, False)\n",
    "sys_program_meta = AccountMeta(SYS_PROGRAM_ID, False, False)\n",
    "sysvar_clock_meta = AccountMeta(solana.sysvar.SYSVAR_CLOCK_PUBKEY, False, False)\n",
    "associated_program_meta = AccountMeta(ASSOCIATED_TOKEN_PROGRAM_ID, False, False)\n",
    "metadata_meta = AccountMeta(metadata_program_pubkey, False, False)\n",
    "dsol_mint_meta = AccountMeta(dsol_mint, False, False)\n",
    "compute_program_meta = AccountMeta(PublicKey(\"ComputeBudget111111111111111111111111111111\"), False, False)\n",
    "gov_account_meta = AccountMeta(governor_mint, False, False)\n"
   ]
  },
  {
   "cell_type": "code",
   "execution_count": 293,
   "metadata": {},
   "outputs": [
    {
     "data": {
      "text/plain": [
       "AccountMeta(pubkey=4uq6eSCtD39xgSZJrE4oKJhp6iLr6jN3aN3cEFiq9iSP, is_signer=False, is_writable=True)"
      ]
     },
     "execution_count": 293,
     "metadata": {},
     "output_type": "execute_result"
    }
   ],
   "source": [
    "payer_table_data_pda_meta"
   ]
  },
  {
   "cell_type": "code",
   "execution_count": 294,
   "metadata": {},
   "outputs": [],
   "source": [
    "\n",
    "\n",
    "# print(dsol_mint)\n",
    "# print(vault_keypair.public_key)\n",
    "# print(vault_dsol_token_account)\n",
    "# print(payer_keypair.public_key)\n",
    "# print(payer_dsol_token_account)\n",
    "# print(payer_governor_token_address)\n",
    "# print(sys_program_meta)\n",
    "# print(spl_program_meta)\n",
    "# print(payer_table_metadata_pda)\n",
    "\n",
    "\n",
    "InstructionEnum = Enum(\n",
    "    \"InitTable\" / CStruct(\"governor_reward\" / U32, \"payer_bump\" / U32),\n",
    "    \"SignTableMint\",\n",
    "    \"CreateTableSalesAccount\",\n",
    "    \"BurnNFTs\" / CStruct(\"rarity\" / U8),\n",
    "    \"MintTable\",\n",
    "    enum_name = \"InstructionEnum\"\n",
    ")"
   ]
  },
  {
   "cell_type": "code",
   "execution_count": 295,
   "metadata": {},
   "outputs": [],
   "source": [
    "# payer_bump = 0\n",
    "# (table_data_pda, table_data_pda_bump) = PublicKey.find_program_address([b\"table_data_pda\", bytes(payer_account_meta.pubkey), payer_bump.to_bytes(4,\"little\")], program_id);\n",
    "# payer_table_data_pda_meta = AccountMeta(payer_table_data_pda, False, True)\n",
    "\n",
    "vault_pda, _ = PublicKey.find_program_address([b\"Dsol_vault_tables\"], program_id)\n",
    "vault_pda_dsol_token_account_meta = AccountMeta(instructions.get_associated_token_address(vault_pda, dsol_mint), False, True)\n",
    "\n",
    "(pending_pda, pending_nonce) = PublicKey.find_program_address([b'pending_tables'], program_id)\n",
    "pending_tables_meta = AccountMeta(pending_pda, False, True)\n",
    "\n",
    "main_vault_assoc = instructions.get_associated_token_address(PublicKey(\"G473EkeR5gowVn8CRwTSDop3zPwaNixwp62qi7nyVf4z\"), dsol_mint)\n",
    "\n",
    "main_vault_meta = AccountMeta(main_vault_assoc, False, True)\n",
    "\n",
    "gov_data_pubkey, _ = PublicKey.find_program_address([b'governor_data_pda', bytes(governor_mint)], PublicKey(\"GWJQHiudaVnhBmvCkRmMPeWs2rffhG2fmkXVRJHM9t5s\"))\n",
    "gove_data_meta = AccountMeta(gov_data_pubkey, False, True)\n"
   ]
  },
  {
   "cell_type": "code",
   "execution_count": 296,
   "metadata": {},
   "outputs": [
    {
     "data": {
      "text/plain": [
       "'https://explorer.solana.com/tx/41f2hkY5iYjAgtkhS77CLUFV7Gd6UBtEcxAeHtvhYyarKqdVJ7tn4RdRx4NNihUHUFLgTbJBPhdULEWyyPd2SscT?cluster=devnet'"
      ]
     },
     "execution_count": 296,
     "metadata": {},
     "output_type": "execute_result"
    }
   ],
   "source": [
    "def init_table_mint():\n",
    "    accounts = [\n",
    "        payer_account_meta,\n",
    "        payer_dsol_token_account_meta,\n",
    "        payer_governor_token_account_meta,\n",
    "        # payer_table_associated_account_meta,\n",
    "        payer_table_data_pda_meta,\n",
    "        # payer_table_metadata_meta,\n",
    "        # vault_account_meta,\n",
    "        vault_pda_dsol_token_account_meta,\n",
    "        # table_mint_account_meta,\n",
    "        # table_mint_authority_meta,\n",
    "        table_sales_pda_meta,\n",
    "        # sys_program_meta,\n",
    "        spl_program_meta,\n",
    "        # rent_account_meta,\n",
    "        sysvar_clock_meta,\n",
    "        pending_tables_meta,\n",
    "        main_vault_meta,\n",
    "        gove_data_meta,\n",
    "        gov_account_meta,\n",
    "\n",
    "        # compute_program_meta,\n",
    "        spl_program_meta,\n",
    "        spl_program_meta,\n",
    "        sys_program_meta,\n",
    "        # associated_program_meta,\n",
    "        # spl_program_meta,\n",
    "        # metadata_meta,\n",
    "        # metadata_meta,\n",
    "        # spl_program_meta,\n",
    "        # spl_program_meta,\n",
    "        # sys_program_meta,\n",
    "    ]\n",
    "\n",
    "\n",
    "    transaction = Transaction()\n",
    "\n",
    "    # request_units = CStruct(\n",
    "    # \"units\" / U32,\n",
    "    # \"additional_fee\" / U32   \n",
    "    # )\n",
    "\n",
    "\n",
    "    # transaction.add(\n",
    "    #     TransactionInstruction(\n",
    "    #         [],\n",
    "    #         compute_program_meta.pubkey,\n",
    "    #         request_units.build({\"units\": 500000, \"additional_fee\": int(0.01*10**9)})\n",
    "    #     )\n",
    "    # )\n",
    "\n",
    "    transaction.add(\n",
    "        TransactionInstruction(\n",
    "            accounts,\n",
    "            program_id,\n",
    "            InstructionEnum.build(InstructionEnum.enum.InitTable(governor_reward = 500, payer_bump = payer_bump))\n",
    "        )\n",
    "    )\n",
    "    \n",
    "    return f\"https://explorer.solana.com/tx/{client.send_transaction(transaction, payer_keypair)['result']}?cluster=devnet\"\n",
    "\n",
    "init_table_mint()\n",
    "\n",
    "# time.sleep(5)"
   ]
  },
  {
   "cell_type": "code",
   "execution_count": 297,
   "metadata": {},
   "outputs": [
    {
     "data": {
      "text/plain": [
       "7fmmvCJ1uH4sfLCdZrDAjJnfHejwtFbYL7aG8nnNR6Yz"
      ]
     },
     "execution_count": 297,
     "metadata": {},
     "output_type": "execute_result"
    }
   ],
   "source": [
    "program_id"
   ]
  },
  {
   "cell_type": "code",
   "execution_count": 298,
   "metadata": {},
   "outputs": [],
   "source": [
    "# def mint_avatar():\n",
    "#     accounts = [\n",
    "#         # program_id_account_meta,\n",
    "#         payer_account_meta,\n",
    "#         payer_dsol_token_account_meta,\n",
    "#         vault_account_meta, \n",
    "#         vault_dsol_token_account_meta,\n",
    "#         mint_account_meta, \n",
    "#         rent_account_meta, \n",
    "#         associated_account_meta,\n",
    "#         spl_program_meta,\n",
    "#         AccountMeta(SYS_PROGRAM_ID, False, False),\n",
    "#         mint_authority_meta,\n",
    "#         avatar_data_pda_meta,\n",
    "#         sales_pda_meta,\n",
    "#         AccountMeta(metadata_pda, False, True),\n",
    "#         sysvar_clock_meta,\n",
    "\n",
    "#         spl_program_meta,\n",
    "#         AccountMeta(ASSOCIATED_TOKEN_PROGRAM_ID, False, False),\n",
    "#         spl_program_meta,\n",
    "#         spl_program_meta,\n",
    "#         AccountMeta(metadata_program_pubkey, False, False),\n",
    "#     ]   \n",
    "\n",
    "#     transaction = Transaction()\n",
    "#     transaction.add(TransactionInstruction(\n",
    "#         accounts,\n",
    "#         program_id,\n",
    "#         bytes([0])\n",
    "#     ))\n",
    "    \n",
    "#     return f\"https://explorer.solana.com/tx/{client.send_transaction(transaction, payer_keypair, mint_account, vault_keypair)['result']}?cluster=devnet\"\n",
    "\n",
    "# mint_avatar()"
   ]
  },
  {
   "cell_type": "code",
   "execution_count": 299,
   "metadata": {},
   "outputs": [],
   "source": [
    "\n",
    "# accountSchema = CStruct(\n",
    "#     \"vault_total\" / F32,\n",
    "#     \"counter\" / U32,\n",
    "# )\n",
    "\n",
    "# (sales_pda, sales_nonce) = PublicKey.find_program_address([b'sales_pda', bytes(program_id)], program_id)\n",
    "# print(f\"PDA: {sales_pda, sales_nonce}\")\n",
    "\n",
    "# getAccountInfo(client,sales_pda)"
   ]
  },
  {
   "cell_type": "code",
   "execution_count": 300,
   "metadata": {},
   "outputs": [],
   "source": [
    "# accountSchema = CStruct(\n",
    "#     \"date_created\" / U32,\n",
    "#     \"unlockable_date\" / U32,\n",
    "#     \"numeration\" /U32,\n",
    "#     \"rarity\" / U8,\n",
    "#     \"level\" / U8,\n",
    "#     \"xp\" / U32,\n",
    "# )\n",
    "\n",
    "\n",
    "# (locktime_pda, locktime_nonce) = PublicKey.find_program_address([b'locktime_pda', bytes(mint_account_meta.pubkey), bytes(associated_account_meta.pubkey)], program_id)\n",
    "# print(f\"PDA: {avatar_data_pda, avatar_pda_nonce}\")\n",
    "\n",
    "# getAccountInfo(client,avatar_data_pda)"
   ]
  },
  {
   "cell_type": "code",
   "execution_count": 301,
   "metadata": {},
   "outputs": [],
   "source": [
    "# time.sleep(120)\n",
    "\n",
    "# new_accounts = [\n",
    "#     mint_account_meta,\n",
    "#     associated_account_meta,\n",
    "#     spl_program_meta,\n",
    "#     mint_authority_meta,\n",
    "#     avatar_data_pda_meta,\n",
    "#     sysvar_clock_meta,\n",
    "\n",
    "#     spl_program_meta\n",
    "# ]\n",
    "\n",
    "# transaction = Transaction()\n",
    "# transaction.add(TransactionInstruction(\n",
    "#     new_accounts,\n",
    "#     program_id,\n",
    "#     bytes([1])\n",
    "# ))\n",
    "# f\"https://explorer.solana.com/tx/{client.send_transaction(transaction, payer_keypair, mint_account)['result']}?cluster=devnet\""
   ]
  },
  {
   "cell_type": "code",
   "execution_count": null,
   "metadata": {},
   "outputs": [],
   "source": [
    "\n",
    "\n"
   ]
  }
 ],
 "metadata": {
  "interpreter": {
   "hash": "b3ba2566441a7c06988d0923437866b63cedc61552a5af99d1f4fb67d367b25f"
  },
  "kernelspec": {
   "display_name": "Python 3.8.8 64-bit ('base': conda)",
   "language": "python",
   "name": "python3"
  },
  "language_info": {
   "codemirror_mode": {
    "name": "ipython",
    "version": 3
   },
   "file_extension": ".py",
   "mimetype": "text/x-python",
   "name": "python",
   "nbconvert_exporter": "python",
   "pygments_lexer": "ipython3",
   "version": "3.9.7"
  },
  "orig_nbformat": 4
 },
 "nbformat": 4,
 "nbformat_minor": 2
}
