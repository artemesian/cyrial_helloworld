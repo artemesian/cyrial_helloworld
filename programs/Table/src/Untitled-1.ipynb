{
 "cells": [
  {
   "cell_type": "code",
   "execution_count": 113,
   "metadata": {},
   "outputs": [
    {
     "data": {
      "text/plain": [
       "True"
      ]
     },
     "execution_count": 113,
     "metadata": {},
     "output_type": "execute_result"
    }
   ],
   "source": [
    "import solana\n",
    "from solana.publickey import PublicKey\n",
    "from solana.rpc.api import Client\n",
    "from solana.keypair import Keypair\n",
    "from solana import system_program\n",
    "from solana import transaction\n",
    "from solana.system_program import SYS_PROGRAM_ID, CreateAccountParams, create_account\n",
    "from solana.transaction import *\n",
    "from spl.token.constants import TOKEN_PROGRAM_ID, ASSOCIATED_TOKEN_PROGRAM_ID\n",
    "from spl.token.instructions import initialize_mint, InitializeMintParams\n",
    "from spl.token._layouts import MINT_LAYOUT\n",
    "from spl.token.client import Token\n",
    "from spl.token import instructions\n",
    "import base64\n",
    "import base58\n",
    "from borsh_construct import *\n",
    "from solana.rpc.commitment import Commitment\n",
    "import time\n",
    "\n",
    "\n",
    "\n",
    "client = Client(\"https://api.devnet.solana.com\")\n",
    "\n",
    "client.is_connected()"
   ]
  },
  {
   "cell_type": "code",
   "execution_count": 114,
   "metadata": {},
   "outputs": [],
   "source": [
    "program_id = PublicKey(\"2dJFaB4Zz7dHKHWvLqwS27M5ma1p3TrCNZutSiDJoFGg\")\n",
    "metadata_program_pubkey = PublicKey(\"metaqbxxUerdq28cj1RbAWkYQm3ybzjb6a8bt518x1s\")\n"
   ]
  },
  {
   "cell_type": "code",
   "execution_count": 115,
   "metadata": {},
   "outputs": [],
   "source": [
    "# client.request_airdrop(PublicKey(\"DxkiJXK31VEd4R6F44mQRszoUQugpPYMwL9ybcrnt22r\"), 2000000000)"
   ]
  },
  {
   "cell_type": "code",
   "execution_count": 116,
   "metadata": {},
   "outputs": [],
   "source": [
    "accountSchema = CStruct(\n",
    "    \"vault_total\" / F32,\n",
    "    \"counter\" / U32,\n",
    ")\n",
    "\n",
    "request_units = CStruct(\n",
    "    \"units\" / U32,\n",
    "    \"additional_fee\" / U32   \n",
    ")\n",
    "\n",
    "def getAccountInfo(client: Client, account_pk: PublicKey):\n",
    "    \"\"\"Fetch account information from RPC, parse out the data and deserialize\"\"\"\n",
    "    comm = Commitment(\"confirmed\")\n",
    "    res = client.get_account_info(account_pk, comm, encoding='base64')\n",
    "    data = res['result']\n",
    "    if isinstance(data, dict):\n",
    "        return accountSchema.parse(base64.urlsafe_b64decode(data['value']['data'][0]))\n",
    "    else:\n",
    "        raise AttributeError(f'Unknown RPC result {data}')"
   ]
  },
  {
   "cell_type": "code",
   "execution_count": 117,
   "metadata": {},
   "outputs": [
    {
     "data": {
      "text/plain": [
       "b'3Wvr1y8TQRVBw4DiyE4j9Lu8s1ycDYfBasNcNK5TSpDzzhSAZK712J89yevZUUAbRsyC3c9V13giG9ojJU4MbQ1p'"
      ]
     },
     "execution_count": 117,
     "metadata": {},
     "output_type": "execute_result"
    }
   ],
   "source": [
    "seed = bytes([125,215,212,54,213,98,45,123]*4)\n",
    "payer_keypair = Keypair.from_seed(seed)\n",
    "client.request_airdrop(payer_keypair.public_key, 2*10**9)\n",
    "base58.b58encode(payer_keypair.secret_key)"
   ]
  },
  {
   "cell_type": "code",
   "execution_count": 118,
   "metadata": {},
   "outputs": [],
   "source": [
    "dsol_mint = PublicKey(\"4hnebtBZBkWF8NvPr4XUdKQFNj2tHim8nqephcMCsBos\")\n",
    "governor_mint = PublicKey(\"DeEoeaJQctx5VxJzKbt7iHoZ4rjdDmhwfQSnHVUoWokC\")\n",
    "\n",
    "payer_governor_token_address = instructions.get_associated_token_address(payer_keypair.public_key, governor_mint)\n",
    "\n",
    "table_mint_keypair = Keypair.generate()\n",
    "\n",
    "payer_table_associated_token_address = instructions.get_associated_token_address(payer_keypair.public_key, table_mint_keypair.public_key)\n",
    "\n",
    "(payer_table_data_pda, payer_table_data_pda_bump) = PublicKey.find_program_address([b\"table_data_pda\", bytes(table_mint_keypair.public_key)], program_id)\n",
    "\n",
    "(payer_table_metadata_pda, payer_table_metadata_pda_bump) = PublicKey.find_program_address([b\"metadata\", bytes(metadata_program_pubkey), bytes(table_mint_keypair.public_key)], metadata_program_pubkey) \n",
    "\n",
    "(table_sales_pda, table_sales_nonce) = PublicKey.find_program_address([b'table_sales_pda'], program_id)\n",
    "\n",
    "payer_dsol_token_account = instructions.get_associated_token_address(payer_keypair.public_key, dsol_mint)\n",
    "\n",
    "(table_mint_authority, nonce) = PublicKey.find_program_address([b\"table_mint_authority_pda\"], program_id)\n",
    "\n"
   ]
  },
  {
   "cell_type": "code",
   "execution_count": 119,
   "metadata": {},
   "outputs": [],
   "source": [
    "seed = bytes([25,215,212,154,213,198,45,123]*4)\n",
    "vault_keypair = Keypair.from_seed(seed)\n",
    "# vault_keypair = Keypair.generate()\n",
    "# client.request_airdrop(vault_keypair.public_key, 2*10**9)\n",
    "# time.sleep(5)\n",
    "vault_dsol_token_account = instructions.get_associated_token_address(vault_keypair.public_key, dsol_mint)"
   ]
  },
  {
   "cell_type": "code",
   "execution_count": 120,
   "metadata": {},
   "outputs": [],
   "source": [
    "\n",
    "payer_account_meta = AccountMeta(payer_keypair.public_key, True, True)\n",
    "payer_dsol_token_account_meta = AccountMeta(payer_dsol_token_account, False, True)\n",
    "payer_governor_token_account_meta = AccountMeta(payer_governor_token_address, False, True)\n",
    "payer_table_associated_account_meta = AccountMeta(payer_table_associated_token_address, False, True)\n",
    "payer_table_data_pda_meta = AccountMeta(payer_table_data_pda, False, True)\n",
    "payer_table_metadata_meta = AccountMeta(payer_table_metadata_pda, False, True)\n",
    "vault_account_meta = AccountMeta(vault_keypair.public_key, False, True)\n",
    "vault_dsol_token_account_meta = AccountMeta(vault_dsol_token_account, False, True)\n",
    "table_mint_account_meta = AccountMeta(table_mint_keypair.public_key, True, True)\n",
    "table_mint_authority_meta = AccountMeta(table_mint_authority, False, False)\n",
    "table_sales_pda_meta = AccountMeta(table_sales_pda, False, False)\n",
    "\n",
    "rent_account_meta = AccountMeta(solana.sysvar.SYSVAR_RENT_PUBKEY, False, False)\n",
    "spl_program_meta  = AccountMeta(TOKEN_PROGRAM_ID, False, False)\n",
    "sys_program_meta = AccountMeta(SYS_PROGRAM_ID, False, False)\n",
    "sysvar_clock_meta = AccountMeta(solana.sysvar.SYSVAR_CLOCK_PUBKEY, False, False)\n",
    "associated_program_meta = AccountMeta(ASSOCIATED_TOKEN_PROGRAM_ID, False, False)\n",
    "metadata_meta = AccountMeta(metadata_program_pubkey, False, False)\n",
    "dsol_mint_meta = AccountMeta(dsol_mint, False, False)\n",
    "compute_program_meta = AccountMeta(PublicKey(\"ComputeBudget111111111111111111111111111111\"), False, False)\n",
    "\n"
   ]
  },
  {
   "cell_type": "code",
   "execution_count": 121,
   "metadata": {},
   "outputs": [
    {
     "name": "stdout",
     "output_type": "stream",
     "text": [
      "4hnebtBZBkWF8NvPr4XUdKQFNj2tHim8nqephcMCsBos\n",
      "3HqXocfan3tVv3N4tTAFhyVePkP856jxngQ6pQxdupXP\n",
      "9ZJkPCjEZehchPHs1k327BCb9JQVEg7drn7nmkK6Wkqk\n",
      "2ASw3tjK5bSxQxFEMsM6J3DnBozNh7drVErSwc7AtzJv\n",
      "4JTdYhzx6rorDjPMGdXDQCLuF3nM8dpiodnUgqqqhHEc\n",
      "6MZNR1CdWYhiLEntkN7bcyQYkWy53URX7sJRZaUoTWkH\n",
      "AccountMeta(pubkey=11111111111111111111111111111111, is_signer=False, is_writable=False)\n",
      "AccountMeta(pubkey=TokenkegQfeZyiNwAJbNbGKPFXCWuBvf9Ss623VQ5DA, is_signer=False, is_writable=False)\n",
      "CFjqELpVBwtUyUb2nhH6gVMewmSYvzDtMCpfnbXHDdnm\n"
     ]
    }
   ],
   "source": [
    "\n",
    "\n",
    "print(dsol_mint)\n",
    "print(vault_keypair.public_key)\n",
    "print(vault_dsol_token_account)\n",
    "print(payer_keypair.public_key)\n",
    "print(payer_dsol_token_account)\n",
    "print(payer_governor_token_address)\n",
    "print(sys_program_meta)\n",
    "print(spl_program_meta)\n",
    "print(payer_table_metadata_pda)"
   ]
  },
  {
   "cell_type": "code",
   "execution_count": 123,
   "metadata": {},
   "outputs": [
    {
     "ename": "RPCException",
     "evalue": "{'code': -32002, 'message': 'Transaction simulation failed: Error processing Instruction 1: Computational budget exceeded', 'data': {'accounts': None, 'err': {'InstructionError': [1, 'ComputationalBudgetExceeded']}, 'logs': ['Program 2dJFaB4Zz7dHKHWvLqwS27M5ma1p3TrCNZutSiDJoFGg invoke [1]', 'Program log: MintTable { governor_reward: 10 }', 'Program log: Position 6MZNR1CdWYhiLEntkN7bcyQYkWy53URX7sJRZaUoTWkH', 'Program log: Position 2', 'Program log: Position NM7Wmv7GQBsWYTvz5X6KuhLvE4N51AfCjoee3vsTtmV NM7Wmv7GQBsWYTvz5X6KuhLvE4N51AfCjoee3vsTtmV', 'Program log: Current timestamp: 1645509802', 'Program log: Transfer DSOL token', 'Program TokenkegQfeZyiNwAJbNbGKPFXCWuBvf9Ss623VQ5DA invoke [2]', 'Program log: Instruction: Transfer', 'Program TokenkegQfeZyiNwAJbNbGKPFXCWuBvf9Ss623VQ5DA consumed 2643 of 142652 compute units', 'Program TokenkegQfeZyiNwAJbNbGKPFXCWuBvf9Ss623VQ5DA success', 'Program log: Hello', 'Program 11111111111111111111111111111111 invoke [2]', 'Program 11111111111111111111111111111111 success', 'Program log: Hello2', 'Program TokenkegQfeZyiNwAJbNbGKPFXCWuBvf9Ss623VQ5DA invoke [2]', 'Program log: Instruction: InitializeMint', 'Program TokenkegQfeZyiNwAJbNbGKPFXCWuBvf9Ss623VQ5DA consumed 2458 of 130489 compute units', 'Program TokenkegQfeZyiNwAJbNbGKPFXCWuBvf9Ss623VQ5DA success', 'Program log: Hello3', 'Program ATokenGPvbdGVxr1b2hvZbsiqW5xWH25efTNsLJA8knL invoke [2]', 'Program log: Transfer 2039280 lamports to the associated token account', 'Program 11111111111111111111111111111111 invoke [3]', 'Program 11111111111111111111111111111111 success', 'Program log: Allocate space for the associated token account', 'Program 11111111111111111111111111111111 invoke [3]', 'Program 11111111111111111111111111111111 success', 'Program log: Assign the associated token account to the SPL Token program', 'Program 11111111111111111111111111111111 invoke [3]', 'Program 11111111111111111111111111111111 success', 'Program log: Initialize the associated token account', 'Program TokenkegQfeZyiNwAJbNbGKPFXCWuBvf9Ss623VQ5DA invoke [3]', 'Program log: Instruction: InitializeAccount', 'Program TokenkegQfeZyiNwAJbNbGKPFXCWuBvf9Ss623VQ5DA consumed 3297 of 101597 compute units', 'Program TokenkegQfeZyiNwAJbNbGKPFXCWuBvf9Ss623VQ5DA success', 'Program ATokenGPvbdGVxr1b2hvZbsiqW5xWH25efTNsLJA8knL consumed 24372 of 122023 compute units', 'Program ATokenGPvbdGVxr1b2hvZbsiqW5xWH25efTNsLJA8knL success', 'Program log: Hello4', 'Program TokenkegQfeZyiNwAJbNbGKPFXCWuBvf9Ss623VQ5DA invoke [2]', 'Program log: Instruction: MintTo', 'Program TokenkegQfeZyiNwAJbNbGKPFXCWuBvf9Ss623VQ5DA consumed 2613 of 94407 compute units', 'Program TokenkegQfeZyiNwAJbNbGKPFXCWuBvf9Ss623VQ5DA success', 'Program log: Hello_C', 'Program log: Hello_C_0', 'Program log: Hello_C_2 CFjqELpVBwtUyUb2nhH6gVMewmSYvzDtMCpfnbXHDdnm CFjqELpVBwtUyUb2nhH6gVMewmSYvzDtMCpfnbXHDdnm', 'Program log: Hello_C_3', 'Program metaqbxxUerdq28cj1RbAWkYQm3ybzjb6a8bt518x1s invoke [2]', 'Program log: (Deprecated as of 1.1.0) Instruction: Create Metadata Accounts', 'Program log: Transfer 5616720 lamports to the new account', 'Program 11111111111111111111111111111111 invoke [3]', 'Program 11111111111111111111111111111111 success', 'Program log: Allocate space for the account', 'Program 11111111111111111111111111111111 invoke [3]', 'Program 11111111111111111111111111111111 success', 'Program log: Assign the account to the owning program', 'Program 11111111111111111111111111111111 invoke [3]', 'Program 11111111111111111111111111111111 success', 'Program metaqbxxUerdq28cj1RbAWkYQm3ybzjb6a8bt518x1s consumed 43343 of 45741 compute units', 'Program metaqbxxUerdq28cj1RbAWkYQm3ybzjb6a8bt518x1s success', 'Program log: Hello_C_4', 'Program 2dJFaB4Zz7dHKHWvLqwS27M5ma1p3TrCNZutSiDJoFGg consumed 200000 of 200000 compute units', 'Program 2dJFaB4Zz7dHKHWvLqwS27M5ma1p3TrCNZutSiDJoFGg failed: Computational budget exceeded']}}",
     "output_type": "error",
     "traceback": [
      "\u001b[0;31m---------------------------------------------------------------------------\u001b[0m",
      "\u001b[0;31mRPCException\u001b[0m                              Traceback (most recent call last)",
      "\u001b[1;32m/home/artemesian/PROJECTS/cyrial_helloworld/programs/Table/src/Untitled-1.ipynb Cell 10'\u001b[0m in \u001b[0;36m<module>\u001b[0;34m\u001b[0m\n\u001b[1;32m     <a href='vscode-notebook-cell://wsl%2Bubuntu/home/artemesian/PROJECTS/cyrial_helloworld/programs/Table/src/Untitled-1.ipynb#ch0000009vscode-remote?line=42'>43</a>\u001b[0m     transaction\u001b[39m.\u001b[39madd(\n\u001b[1;32m     <a href='vscode-notebook-cell://wsl%2Bubuntu/home/artemesian/PROJECTS/cyrial_helloworld/programs/Table/src/Untitled-1.ipynb#ch0000009vscode-remote?line=43'>44</a>\u001b[0m         TransactionInstruction(\n\u001b[1;32m     <a href='vscode-notebook-cell://wsl%2Bubuntu/home/artemesian/PROJECTS/cyrial_helloworld/programs/Table/src/Untitled-1.ipynb#ch0000009vscode-remote?line=44'>45</a>\u001b[0m             accounts,\n\u001b[0;32m   (...)\u001b[0m\n\u001b[1;32m     <a href='vscode-notebook-cell://wsl%2Bubuntu/home/artemesian/PROJECTS/cyrial_helloworld/programs/Table/src/Untitled-1.ipynb#ch0000009vscode-remote?line=47'>48</a>\u001b[0m         )\n\u001b[1;32m     <a href='vscode-notebook-cell://wsl%2Bubuntu/home/artemesian/PROJECTS/cyrial_helloworld/programs/Table/src/Untitled-1.ipynb#ch0000009vscode-remote?line=48'>49</a>\u001b[0m     )\n\u001b[1;32m     <a href='vscode-notebook-cell://wsl%2Bubuntu/home/artemesian/PROJECTS/cyrial_helloworld/programs/Table/src/Untitled-1.ipynb#ch0000009vscode-remote?line=50'>51</a>\u001b[0m     \u001b[39mreturn\u001b[39;00m \u001b[39mf\u001b[39m\u001b[39m\"\u001b[39m\u001b[39mhttps://explorer.solana.com/tx/\u001b[39m\u001b[39m{\u001b[39;00mclient\u001b[39m.\u001b[39msend_transaction(transaction, payer_keypair, table_mint_keypair)[\u001b[39m'\u001b[39m\u001b[39mresult\u001b[39m\u001b[39m'\u001b[39m]\u001b[39m}\u001b[39;00m\u001b[39m?cluster=devnet\u001b[39m\u001b[39m\"\u001b[39m\n\u001b[0;32m---> <a href='vscode-notebook-cell://wsl%2Bubuntu/home/artemesian/PROJECTS/cyrial_helloworld/programs/Table/src/Untitled-1.ipynb#ch0000009vscode-remote?line=52'>53</a>\u001b[0m init_table_mint()\n",
      "\u001b[1;32m/home/artemesian/PROJECTS/cyrial_helloworld/programs/Table/src/Untitled-1.ipynb Cell 10'\u001b[0m in \u001b[0;36minit_table_mint\u001b[0;34m()\u001b[0m\n\u001b[1;32m     <a href='vscode-notebook-cell://wsl%2Bubuntu/home/artemesian/PROJECTS/cyrial_helloworld/programs/Table/src/Untitled-1.ipynb#ch0000009vscode-remote?line=34'>35</a>\u001b[0m transaction\u001b[39m.\u001b[39madd(\n\u001b[1;32m     <a href='vscode-notebook-cell://wsl%2Bubuntu/home/artemesian/PROJECTS/cyrial_helloworld/programs/Table/src/Untitled-1.ipynb#ch0000009vscode-remote?line=35'>36</a>\u001b[0m     TransactionInstruction(\n\u001b[1;32m     <a href='vscode-notebook-cell://wsl%2Bubuntu/home/artemesian/PROJECTS/cyrial_helloworld/programs/Table/src/Untitled-1.ipynb#ch0000009vscode-remote?line=36'>37</a>\u001b[0m         [],\n\u001b[0;32m   (...)\u001b[0m\n\u001b[1;32m     <a href='vscode-notebook-cell://wsl%2Bubuntu/home/artemesian/PROJECTS/cyrial_helloworld/programs/Table/src/Untitled-1.ipynb#ch0000009vscode-remote?line=39'>40</a>\u001b[0m     )\n\u001b[1;32m     <a href='vscode-notebook-cell://wsl%2Bubuntu/home/artemesian/PROJECTS/cyrial_helloworld/programs/Table/src/Untitled-1.ipynb#ch0000009vscode-remote?line=40'>41</a>\u001b[0m )\n\u001b[1;32m     <a href='vscode-notebook-cell://wsl%2Bubuntu/home/artemesian/PROJECTS/cyrial_helloworld/programs/Table/src/Untitled-1.ipynb#ch0000009vscode-remote?line=42'>43</a>\u001b[0m transaction\u001b[39m.\u001b[39madd(\n\u001b[1;32m     <a href='vscode-notebook-cell://wsl%2Bubuntu/home/artemesian/PROJECTS/cyrial_helloworld/programs/Table/src/Untitled-1.ipynb#ch0000009vscode-remote?line=43'>44</a>\u001b[0m     TransactionInstruction(\n\u001b[1;32m     <a href='vscode-notebook-cell://wsl%2Bubuntu/home/artemesian/PROJECTS/cyrial_helloworld/programs/Table/src/Untitled-1.ipynb#ch0000009vscode-remote?line=44'>45</a>\u001b[0m         accounts,\n\u001b[0;32m   (...)\u001b[0m\n\u001b[1;32m     <a href='vscode-notebook-cell://wsl%2Bubuntu/home/artemesian/PROJECTS/cyrial_helloworld/programs/Table/src/Untitled-1.ipynb#ch0000009vscode-remote?line=47'>48</a>\u001b[0m     )\n\u001b[1;32m     <a href='vscode-notebook-cell://wsl%2Bubuntu/home/artemesian/PROJECTS/cyrial_helloworld/programs/Table/src/Untitled-1.ipynb#ch0000009vscode-remote?line=48'>49</a>\u001b[0m )\n\u001b[0;32m---> <a href='vscode-notebook-cell://wsl%2Bubuntu/home/artemesian/PROJECTS/cyrial_helloworld/programs/Table/src/Untitled-1.ipynb#ch0000009vscode-remote?line=50'>51</a>\u001b[0m \u001b[39mreturn\u001b[39;00m \u001b[39mf\u001b[39m\u001b[39m\"\u001b[39m\u001b[39mhttps://explorer.solana.com/tx/\u001b[39m\u001b[39m{\u001b[39;00mclient\u001b[39m.\u001b[39msend_transaction(transaction, payer_keypair, table_mint_keypair)[\u001b[39m'\u001b[39m\u001b[39mresult\u001b[39m\u001b[39m'\u001b[39m]\u001b[39m}\u001b[39;00m\u001b[39m?cluster=devnet\u001b[39m\u001b[39m\"\u001b[39m\n",
      "File \u001b[0;32m~/.local/lib/python3.8/site-packages/solana/rpc/api.py:1185\u001b[0m, in \u001b[0;36mClient.send_transaction\u001b[0;34m(self, txn, opts, recent_blockhash, *signers)\u001b[0m\n\u001b[1;32m   <a href='file:///~/.local/lib/python3.8/site-packages/solana/rpc/api.py?line=1181'>1182</a>\u001b[0m txn\u001b[39m.\u001b[39mrecent_blockhash \u001b[39m=\u001b[39m recent_blockhash\n\u001b[1;32m   <a href='file:///~/.local/lib/python3.8/site-packages/solana/rpc/api.py?line=1183'>1184</a>\u001b[0m txn\u001b[39m.\u001b[39msign(\u001b[39m*\u001b[39msigners)\n\u001b[0;32m-> <a href='file:///~/.local/lib/python3.8/site-packages/solana/rpc/api.py?line=1184'>1185</a>\u001b[0m txn_resp \u001b[39m=\u001b[39m \u001b[39mself\u001b[39;49m\u001b[39m.\u001b[39;49msend_raw_transaction(txn\u001b[39m.\u001b[39;49mserialize(), opts\u001b[39m=\u001b[39;49mopts)\n\u001b[1;32m   <a href='file:///~/.local/lib/python3.8/site-packages/solana/rpc/api.py?line=1185'>1186</a>\u001b[0m \u001b[39mif\u001b[39;00m \u001b[39mself\u001b[39m\u001b[39m.\u001b[39mblockhash_cache:\n\u001b[1;32m   <a href='file:///~/.local/lib/python3.8/site-packages/solana/rpc/api.py?line=1186'>1187</a>\u001b[0m     blockhash_resp \u001b[39m=\u001b[39m \u001b[39mself\u001b[39m\u001b[39m.\u001b[39mget_recent_blockhash(Finalized)\n",
      "File \u001b[0;32m~/.local/lib/python3.8/site-packages/solana/rpc/api.py:1139\u001b[0m, in \u001b[0;36mClient.send_raw_transaction\u001b[0;34m(self, txn, opts)\u001b[0m\n\u001b[1;32m   <a href='file:///~/.local/lib/python3.8/site-packages/solana/rpc/api.py?line=1136'>1137</a>\u001b[0m resp \u001b[39m=\u001b[39m \u001b[39mself\u001b[39m\u001b[39m.\u001b[39m_provider\u001b[39m.\u001b[39mmake_request(\u001b[39m*\u001b[39margs)\n\u001b[1;32m   <a href='file:///~/.local/lib/python3.8/site-packages/solana/rpc/api.py?line=1137'>1138</a>\u001b[0m \u001b[39mif\u001b[39;00m opts\u001b[39m.\u001b[39mskip_confirmation:\n\u001b[0;32m-> <a href='file:///~/.local/lib/python3.8/site-packages/solana/rpc/api.py?line=1138'>1139</a>\u001b[0m     \u001b[39mreturn\u001b[39;00m \u001b[39mself\u001b[39;49m\u001b[39m.\u001b[39;49m_post_send(resp)\n\u001b[1;32m   <a href='file:///~/.local/lib/python3.8/site-packages/solana/rpc/api.py?line=1139'>1140</a>\u001b[0m post_send_args \u001b[39m=\u001b[39m \u001b[39mself\u001b[39m\u001b[39m.\u001b[39m_send_raw_transaction_post_send_args(resp, opts)\n\u001b[1;32m   <a href='file:///~/.local/lib/python3.8/site-packages/solana/rpc/api.py?line=1140'>1141</a>\u001b[0m \u001b[39mreturn\u001b[39;00m \u001b[39mself\u001b[39m\u001b[39m.\u001b[39m__post_send_with_confirm(\u001b[39m*\u001b[39mpost_send_args)\n",
      "File \u001b[0;32m~/.local/lib/python3.8/site-packages/solana/rpc/core.py:418\u001b[0m, in \u001b[0;36m_ClientCore._post_send\u001b[0;34m(resp)\u001b[0m\n\u001b[1;32m    <a href='file:///~/.local/lib/python3.8/site-packages/solana/rpc/core.py?line=415'>416</a>\u001b[0m error \u001b[39m=\u001b[39m resp\u001b[39m.\u001b[39mget(\u001b[39m\"\u001b[39m\u001b[39merror\u001b[39m\u001b[39m\"\u001b[39m)\n\u001b[1;32m    <a href='file:///~/.local/lib/python3.8/site-packages/solana/rpc/core.py?line=416'>417</a>\u001b[0m \u001b[39mif\u001b[39;00m error:\n\u001b[0;32m--> <a href='file:///~/.local/lib/python3.8/site-packages/solana/rpc/core.py?line=417'>418</a>\u001b[0m     \u001b[39mraise\u001b[39;00m RPCException(error)\n\u001b[1;32m    <a href='file:///~/.local/lib/python3.8/site-packages/solana/rpc/core.py?line=418'>419</a>\u001b[0m \u001b[39mif\u001b[39;00m \u001b[39mnot\u001b[39;00m resp\u001b[39m.\u001b[39mget(\u001b[39m\"\u001b[39m\u001b[39mresult\u001b[39m\u001b[39m\"\u001b[39m):\n\u001b[1;32m    <a href='file:///~/.local/lib/python3.8/site-packages/solana/rpc/core.py?line=419'>420</a>\u001b[0m     \u001b[39mraise\u001b[39;00m RPCNoResultException(\u001b[39m\"\u001b[39m\u001b[39mFailed to send transaction\u001b[39m\u001b[39m\"\u001b[39m)\n",
      "\u001b[0;31mRPCException\u001b[0m: {'code': -32002, 'message': 'Transaction simulation failed: Error processing Instruction 1: Computational budget exceeded', 'data': {'accounts': None, 'err': {'InstructionError': [1, 'ComputationalBudgetExceeded']}, 'logs': ['Program 2dJFaB4Zz7dHKHWvLqwS27M5ma1p3TrCNZutSiDJoFGg invoke [1]', 'Program log: MintTable { governor_reward: 10 }', 'Program log: Position 6MZNR1CdWYhiLEntkN7bcyQYkWy53URX7sJRZaUoTWkH', 'Program log: Position 2', 'Program log: Position NM7Wmv7GQBsWYTvz5X6KuhLvE4N51AfCjoee3vsTtmV NM7Wmv7GQBsWYTvz5X6KuhLvE4N51AfCjoee3vsTtmV', 'Program log: Current timestamp: 1645509802', 'Program log: Transfer DSOL token', 'Program TokenkegQfeZyiNwAJbNbGKPFXCWuBvf9Ss623VQ5DA invoke [2]', 'Program log: Instruction: Transfer', 'Program TokenkegQfeZyiNwAJbNbGKPFXCWuBvf9Ss623VQ5DA consumed 2643 of 142652 compute units', 'Program TokenkegQfeZyiNwAJbNbGKPFXCWuBvf9Ss623VQ5DA success', 'Program log: Hello', 'Program 11111111111111111111111111111111 invoke [2]', 'Program 11111111111111111111111111111111 success', 'Program log: Hello2', 'Program TokenkegQfeZyiNwAJbNbGKPFXCWuBvf9Ss623VQ5DA invoke [2]', 'Program log: Instruction: InitializeMint', 'Program TokenkegQfeZyiNwAJbNbGKPFXCWuBvf9Ss623VQ5DA consumed 2458 of 130489 compute units', 'Program TokenkegQfeZyiNwAJbNbGKPFXCWuBvf9Ss623VQ5DA success', 'Program log: Hello3', 'Program ATokenGPvbdGVxr1b2hvZbsiqW5xWH25efTNsLJA8knL invoke [2]', 'Program log: Transfer 2039280 lamports to the associated token account', 'Program 11111111111111111111111111111111 invoke [3]', 'Program 11111111111111111111111111111111 success', 'Program log: Allocate space for the associated token account', 'Program 11111111111111111111111111111111 invoke [3]', 'Program 11111111111111111111111111111111 success', 'Program log: Assign the associated token account to the SPL Token program', 'Program 11111111111111111111111111111111 invoke [3]', 'Program 11111111111111111111111111111111 success', 'Program log: Initialize the associated token account', 'Program TokenkegQfeZyiNwAJbNbGKPFXCWuBvf9Ss623VQ5DA invoke [3]', 'Program log: Instruction: InitializeAccount', 'Program TokenkegQfeZyiNwAJbNbGKPFXCWuBvf9Ss623VQ5DA consumed 3297 of 101597 compute units', 'Program TokenkegQfeZyiNwAJbNbGKPFXCWuBvf9Ss623VQ5DA success', 'Program ATokenGPvbdGVxr1b2hvZbsiqW5xWH25efTNsLJA8knL consumed 24372 of 122023 compute units', 'Program ATokenGPvbdGVxr1b2hvZbsiqW5xWH25efTNsLJA8knL success', 'Program log: Hello4', 'Program TokenkegQfeZyiNwAJbNbGKPFXCWuBvf9Ss623VQ5DA invoke [2]', 'Program log: Instruction: MintTo', 'Program TokenkegQfeZyiNwAJbNbGKPFXCWuBvf9Ss623VQ5DA consumed 2613 of 94407 compute units', 'Program TokenkegQfeZyiNwAJbNbGKPFXCWuBvf9Ss623VQ5DA success', 'Program log: Hello_C', 'Program log: Hello_C_0', 'Program log: Hello_C_2 CFjqELpVBwtUyUb2nhH6gVMewmSYvzDtMCpfnbXHDdnm CFjqELpVBwtUyUb2nhH6gVMewmSYvzDtMCpfnbXHDdnm', 'Program log: Hello_C_3', 'Program metaqbxxUerdq28cj1RbAWkYQm3ybzjb6a8bt518x1s invoke [2]', 'Program log: (Deprecated as of 1.1.0) Instruction: Create Metadata Accounts', 'Program log: Transfer 5616720 lamports to the new account', 'Program 11111111111111111111111111111111 invoke [3]', 'Program 11111111111111111111111111111111 success', 'Program log: Allocate space for the account', 'Program 11111111111111111111111111111111 invoke [3]', 'Program 11111111111111111111111111111111 success', 'Program log: Assign the account to the owning program', 'Program 11111111111111111111111111111111 invoke [3]', 'Program 11111111111111111111111111111111 success', 'Program metaqbxxUerdq28cj1RbAWkYQm3ybzjb6a8bt518x1s consumed 43343 of 45741 compute units', 'Program metaqbxxUerdq28cj1RbAWkYQm3ybzjb6a8bt518x1s success', 'Program log: Hello_C_4', 'Program 2dJFaB4Zz7dHKHWvLqwS27M5ma1p3TrCNZutSiDJoFGg consumed 200000 of 200000 compute units', 'Program 2dJFaB4Zz7dHKHWvLqwS27M5ma1p3TrCNZutSiDJoFGg failed: Computational budget exceeded']}}"
     ]
    }
   ],
   "source": [
    "def init_table_mint():\n",
    "    accounts = [\n",
    "        payer_account_meta,\n",
    "        payer_dsol_token_account_meta,\n",
    "        payer_governor_token_account_meta,\n",
    "        payer_table_associated_account_meta,\n",
    "        payer_table_data_pda_meta,\n",
    "        payer_table_metadata_meta,\n",
    "        vault_account_meta,\n",
    "        vault_dsol_token_account_meta,\n",
    "        table_mint_account_meta,\n",
    "        table_mint_authority_meta,\n",
    "        table_sales_pda_meta,\n",
    "        sys_program_meta,\n",
    "        spl_program_meta,\n",
    "        rent_account_meta,\n",
    "        sysvar_clock_meta,\n",
    "\n",
    "        # compute_program_meta,\n",
    "        spl_program_meta,\n",
    "        sys_program_meta,\n",
    "        spl_program_meta,\n",
    "        associated_program_meta,\n",
    "        spl_program_meta,\n",
    "        metadata_meta,\n",
    "        metadata_meta,\n",
    "        spl_program_meta,\n",
    "        spl_program_meta,\n",
    "        sys_program_meta,\n",
    "    ]\n",
    "\n",
    "\n",
    "    transaction = Transaction()\n",
    "\n",
    "    request_units = CStruct(\n",
    "    \"units\" / U32,\n",
    "    \"additional_fee\" / U32   \n",
    "    )\n",
    "\n",
    "\n",
    "    transaction.add(\n",
    "        TransactionInstruction(\n",
    "            [],\n",
    "            compute_program_meta.pubkey,\n",
    "            request_units.build({\"units\": 500000, \"additional_fee\": int(0.01*10**9)})\n",
    "        )\n",
    "    )\n",
    "\n",
    "    transaction.add(\n",
    "        TransactionInstruction(\n",
    "            accounts,\n",
    "            program_id,\n",
    "            bytes([0, 10])\n",
    "        )\n",
    "    )\n",
    "    \n",
    "    return f\"https://explorer.solana.com/tx/{client.send_transaction(transaction, payer_keypair, table_mint_keypair)['result']}?cluster=devnet\"\n",
    "\n",
    "init_table_mint()\n",
    "\n",
    "# time.sleep(5)"
   ]
  },
  {
   "cell_type": "code",
   "execution_count": null,
   "metadata": {},
   "outputs": [
    {
     "data": {
      "text/plain": [
       "CrznSBPyrfdxzzzBsRmvm2R1ZeFJz5aDzSpbutGSH3Mb"
      ]
     },
     "execution_count": 179,
     "metadata": {},
     "output_type": "execute_result"
    }
   ],
   "source": [
    "program_id"
   ]
  },
  {
   "cell_type": "code",
   "execution_count": null,
   "metadata": {},
   "outputs": [
    {
     "data": {
      "text/plain": [
       "'https://explorer.solana.com/tx/5tLuzXr1cT9Bxx12DJc7wzMLRT6KC4Wp9J16xicTpTbgYsjqJVNg9fARSVY3h1EYgqeNEYutGXyGh8wfesFptEep?cluster=devnet'"
      ]
     },
     "execution_count": 182,
     "metadata": {},
     "output_type": "execute_result"
    }
   ],
   "source": [
    "# def mint_avatar():\n",
    "#     accounts = [\n",
    "#         # program_id_account_meta,\n",
    "#         payer_account_meta,\n",
    "#         payer_dsol_token_account_meta,\n",
    "#         vault_account_meta, \n",
    "#         vault_dsol_token_account_meta,\n",
    "#         mint_account_meta, \n",
    "#         rent_account_meta, \n",
    "#         associated_account_meta,\n",
    "#         spl_program_meta,\n",
    "#         AccountMeta(SYS_PROGRAM_ID, False, False),\n",
    "#         mint_authority_meta,\n",
    "#         avatar_data_pda_meta,\n",
    "#         sales_pda_meta,\n",
    "#         AccountMeta(metadata_pda, False, True),\n",
    "#         sysvar_clock_meta,\n",
    "\n",
    "#         spl_program_meta,\n",
    "#         AccountMeta(ASSOCIATED_TOKEN_PROGRAM_ID, False, False),\n",
    "#         spl_program_meta,\n",
    "#         spl_program_meta,\n",
    "#         AccountMeta(metadata_program_pubkey, False, False),\n",
    "#     ]   \n",
    "\n",
    "#     transaction = Transaction()\n",
    "#     transaction.add(TransactionInstruction(\n",
    "#         accounts,\n",
    "#         program_id,\n",
    "#         bytes([0])\n",
    "#     ))\n",
    "    \n",
    "#     return f\"https://explorer.solana.com/tx/{client.send_transaction(transaction, payer_keypair, mint_account, vault_keypair)['result']}?cluster=devnet\"\n",
    "\n",
    "# mint_avatar()"
   ]
  },
  {
   "cell_type": "code",
   "execution_count": null,
   "metadata": {},
   "outputs": [
    {
     "name": "stdout",
     "output_type": "stream",
     "text": [
      "PDA: (ALXB7w5iEnonUTum1aF3f2W6rJJrgL94iEEv2bixTpez, 253)\n"
     ]
    },
    {
     "data": {
      "text/plain": [
       "Container(vault_total=57.16346740722656, counter=28)"
      ]
     },
     "execution_count": 20,
     "metadata": {},
     "output_type": "execute_result"
    }
   ],
   "source": [
    "\n",
    "# accountSchema = CStruct(\n",
    "#     \"vault_total\" / F32,\n",
    "#     \"counter\" / U32,\n",
    "# )\n",
    "\n",
    "# (sales_pda, sales_nonce) = PublicKey.find_program_address([b'sales_pda', bytes(program_id)], program_id)\n",
    "# print(f\"PDA: {sales_pda, sales_nonce}\")\n",
    "\n",
    "# getAccountInfo(client,sales_pda)"
   ]
  },
  {
   "cell_type": "code",
   "execution_count": null,
   "metadata": {},
   "outputs": [
    {
     "name": "stdout",
     "output_type": "stream",
     "text": [
      "PDA: (BvggzwsB7fm3D5DDEJ8d8i4DkpDBcEWtTkzB3DCxgKDR, 255)\n"
     ]
    },
    {
     "data": {
      "text/plain": [
       "Container(date_created=1643887151, unlockable_date=1643887240, numeration=28, rarity=1, level=0, xp=0)"
      ]
     },
     "execution_count": 21,
     "metadata": {},
     "output_type": "execute_result"
    }
   ],
   "source": [
    "# accountSchema = CStruct(\n",
    "#     \"date_created\" / U32,\n",
    "#     \"unlockable_date\" / U32,\n",
    "#     \"numeration\" /U32,\n",
    "#     \"rarity\" / U8,\n",
    "#     \"level\" / U8,\n",
    "#     \"xp\" / U32,\n",
    "# )\n",
    "\n",
    "\n",
    "# (locktime_pda, locktime_nonce) = PublicKey.find_program_address([b'locktime_pda', bytes(mint_account_meta.pubkey), bytes(associated_account_meta.pubkey)], program_id)\n",
    "# print(f\"PDA: {avatar_data_pda, avatar_pda_nonce}\")\n",
    "\n",
    "# getAccountInfo(client,avatar_data_pda)"
   ]
  },
  {
   "cell_type": "code",
   "execution_count": null,
   "metadata": {},
   "outputs": [
    {
     "data": {
      "text/plain": [
       "'https://explorer.solana.com/tx/5eptcFoXcqNqZVCRnezsRGuEYWUhsPzoMN3Uj1KUePSCquZNC9gWwQkBtqH5gfhWFNnJyXMWBYNpZ1PQS8Es4yvu?cluster=devnet'"
      ]
     },
     "execution_count": 22,
     "metadata": {},
     "output_type": "execute_result"
    }
   ],
   "source": [
    "# time.sleep(120)\n",
    "\n",
    "# new_accounts = [\n",
    "#     mint_account_meta,\n",
    "#     associated_account_meta,\n",
    "#     spl_program_meta,\n",
    "#     mint_authority_meta,\n",
    "#     avatar_data_pda_meta,\n",
    "#     sysvar_clock_meta,\n",
    "\n",
    "#     spl_program_meta\n",
    "# ]\n",
    "\n",
    "# transaction = Transaction()\n",
    "# transaction.add(TransactionInstruction(\n",
    "#     new_accounts,\n",
    "#     program_id,\n",
    "#     bytes([1])\n",
    "# ))\n",
    "# f\"https://explorer.solana.com/tx/{client.send_transaction(transaction, payer_keypair, mint_account)['result']}?cluster=devnet\""
   ]
  },
  {
   "cell_type": "code",
   "execution_count": null,
   "metadata": {},
   "outputs": [
    {
     "data": {
      "text/plain": [
       "b' \\xa1\\x07\\x00\\x80\\x96\\x98\\x00'"
      ]
     },
     "execution_count": 111,
     "metadata": {},
     "output_type": "execute_result"
    }
   ],
   "source": [
    "\n",
    "\n"
   ]
  }
 ],
 "metadata": {
  "interpreter": {
   "hash": "b3ba2566441a7c06988d0923437866b63cedc61552a5af99d1f4fb67d367b25f"
  },
  "kernelspec": {
   "display_name": "Python 3.8.8 64-bit ('base': conda)",
   "language": "python",
   "name": "python3"
  },
  "language_info": {
   "codemirror_mode": {
    "name": "ipython",
    "version": 3
   },
   "file_extension": ".py",
   "mimetype": "text/x-python",
   "name": "python",
   "nbconvert_exporter": "python",
   "pygments_lexer": "ipython3",
   "version": "3.8.10"
  },
  "orig_nbformat": 4
 },
 "nbformat": 4,
 "nbformat_minor": 2
}
