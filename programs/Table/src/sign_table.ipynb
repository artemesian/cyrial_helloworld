{
 "cells": [
  {
   "cell_type": "code",
   "execution_count": 146,
   "metadata": {},
   "outputs": [
    {
     "data": {
      "text/plain": [
       "True"
      ]
     },
     "execution_count": 146,
     "metadata": {},
     "output_type": "execute_result"
    }
   ],
   "source": [
    "import solana\n",
    "from solana.publickey import PublicKey\n",
    "from solana.rpc.api import Client\n",
    "from solana.keypair import Keypair\n",
    "from solana import system_program\n",
    "from solana import transaction\n",
    "from solana.system_program import SYS_PROGRAM_ID, CreateAccountParams, create_account\n",
    "from solana.transaction import *\n",
    "from spl.token.constants import TOKEN_PROGRAM_ID, ASSOCIATED_TOKEN_PROGRAM_ID\n",
    "from spl.token.instructions import initialize_mint, InitializeMintParams\n",
    "from spl.token._layouts import MINT_LAYOUT\n",
    "from spl.token.client import Token\n",
    "from spl.token import instructions\n",
    "import base64\n",
    "import base58\n",
    "from borsh_construct import *\n",
    "from solana.rpc.commitment import Commitment\n",
    "import time\n",
    "\n",
    "\n",
    "\n",
    "client = Client(\"https://api.devnet.solana.com\")\n",
    "\n",
    "client.is_connected()"
   ]
  },
  {
   "cell_type": "code",
   "execution_count": 147,
   "metadata": {},
   "outputs": [],
   "source": [
    "program_id = PublicKey(\"7fmmvCJ1uH4sfLCdZrDAjJnfHejwtFbYL7aG8nnNR6Yz\")\n",
    "metadata_program_pubkey = PublicKey(\"metaqbxxUerdq28cj1RbAWkYQm3ybzjb6a8bt518x1s\")\n"
   ]
  },
  {
   "cell_type": "code",
   "execution_count": 148,
   "metadata": {},
   "outputs": [],
   "source": [
    "def getAccountInfo(client: Client, account_pk: PublicKey):\n",
    "    \"\"\"Fetch account information from RPC, parse out the data and deserialize\"\"\"\n",
    "    comm = Commitment(\"confirmed\")\n",
    "    res = client.get_account_info(account_pk, comm, encoding='base64')\n",
    "    data = res['result']\n",
    "    if isinstance(data, dict):\n",
    "        return accountSchema.parse(base64.urlsafe_b64decode(data['value']['data'][0]))\n",
    "    else:\n",
    "        raise AttributeError(f'Unknown RPC result {data}')"
   ]
  },
  {
   "cell_type": "code",
   "execution_count": 149,
   "metadata": {},
   "outputs": [
    {
     "data": {
      "text/plain": [
       "2ZHc9QxDDaJwqNEFzpAGUrvxCWZSNnXSffHxV9hG2axp"
      ]
     },
     "execution_count": 149,
     "metadata": {},
     "output_type": "execute_result"
    }
   ],
   "source": [
    "seed = bytes([125,215,212,54,213,98,45,123]*4)\n",
    "payer_keypair = Keypair.from_secret_key(base58.b58decode(\"mH4PkhAttpFXSrntbpiJgC8J6wHYFDK5PFWcPN53hMJKziWQucux7MFiW7uXnqKsAY3XBnxUtyVKnomZnD9JxHW\"))\n",
    "client.request_airdrop(payer_keypair.public_key, 2*10**9)\n",
    "payer_keypair.public_key"
   ]
  },
  {
   "cell_type": "code",
   "execution_count": 150,
   "metadata": {},
   "outputs": [
    {
     "data": {
      "text/plain": [
       "4uq6eSCtD39xgSZJrE4oKJhp6iLr6jN3aN3cEFiq9iSP"
      ]
     },
     "execution_count": 150,
     "metadata": {},
     "output_type": "execute_result"
    }
   ],
   "source": [
    "dsol_mint = PublicKey(\"HSYdApQF2FKVNnX6FQ1ySYstGLe5Gp8NseHVFavWye66\")\n",
    "governor_mint = PublicKey(\"GztMEj2GoghFCH86t2QVtj7ZcY62VPPWUNvTKoPSZG8i\")\n",
    "payer_bump = 2\n",
    "\n",
    "payer_governor_token_address = instructions.get_associated_token_address(payer_keypair.public_key, governor_mint)\n",
    "\n",
    "table_mint_keypair = Keypair.generate()\n",
    "\n",
    "payer_table_associated_token_address = instructions.get_associated_token_address(payer_keypair.public_key, table_mint_keypair.public_key)\n",
    "\n",
    "(payer_table_data_pda, payer_table_data_pda_bump) = PublicKey.find_program_address([b\"table_data_pda\", bytes(payer_keypair.public_key), payer_bump.to_bytes(4,\"big\")], program_id);\n",
    "\n",
    "(payer_table_metadata_pda, payer_table_metadata_pda_bump) = PublicKey.find_program_address([b\"metadata\", bytes(metadata_program_pubkey), bytes(table_mint_keypair.public_key)], metadata_program_pubkey) \n",
    "\n",
    "(table_sales_pda, table_sales_nonce) = PublicKey.find_program_address([b'table_sales_pda'], program_id)\n",
    "\n",
    "payer_dsol_token_account = instructions.get_associated_token_address(payer_keypair.public_key, dsol_mint)\n",
    "\n",
    "(table_mint_authority, nonce) = PublicKey.find_program_address([b\"table_mint_authority_pda\"], program_id)\n",
    "\n",
    "payer_table_data_pda"
   ]
  },
  {
   "cell_type": "code",
   "execution_count": 151,
   "metadata": {},
   "outputs": [],
   "source": [
    "InstructionEnum = Enum(\n",
    "    \"InitTable\" / CStruct(\"governor_reward\" / U32, \"payer_bump\" / U32),\n",
    "    \"SignTableMint\",\n",
    "    \"CreateTableSalesAccount\",\n",
    "    \"BurnNFTs\" / CStruct(\"rarity\" / U8),\n",
    "    \"MintTable\",\n",
    "    enum_name = \"InstructionEnum\"\n",
    ")\n",
    "\n",
    "\n",
    "vault_pda, _ = PublicKey.find_program_address([b\"Dsol_vault_tables\"], program_id)\n",
    "vault_pda_dsol_token_account_meta = AccountMeta(instructions.get_associated_token_address(vault_pda, dsol_mint), False, True)\n",
    "\n",
    "(pending_pda, pending_nonce) = PublicKey.find_program_address([b'pending_tables'], program_id)\n",
    "pending_tables_meta = AccountMeta(pending_pda, False, True)\n",
    "\n",
    "main_vault_assoc = instructions.get_associated_token_address(PublicKey(\"G473EkeR5gowVn8CRwTSDop3zPwaNixwp62qi7nyVf4z\"), dsol_mint)\n",
    "\n",
    "main_vault_meta = AccountMeta(main_vault_assoc, False, True)\n",
    "\n",
    "gov_data_pubkey, _ = PublicKey.find_program_address([b'governor_data_pda', bytes(governor_mint)], PublicKey(\"GWJQHiudaVnhBmvCkRmMPeWs2rffhG2fmkXVRJHM9t5s\"))\n",
    "gove_data_meta = AccountMeta(gov_data_pubkey, False, True)\n",
    "\n",
    "gov_program_id = PublicKey(\"GWJQHiudaVnhBmvCkRmMPeWs2rffhG2fmkXVRJHM9t5s\")\n",
    "governor_mint_authority, _ = PublicKey.find_program_address([b\"mint_authority\"], gov_program_id)\n",
    "gov_mint_authority_meta = AccountMeta(governor_mint_authority, False, True)\n",
    "\n",
    "authorizer_pda, _ = PublicKey.find_program_address([b\"authorizer_pda\"], program_id)\n",
    "authorizer_meta = AccountMeta(authorizer_pda, False, True)"
   ]
  },
  {
   "cell_type": "code",
   "execution_count": 152,
   "metadata": {},
   "outputs": [],
   "source": [
    "\n",
    "payer_account_meta = AccountMeta(payer_keypair.public_key, True, True)\n",
    "payer_dsol_token_account_meta = AccountMeta(payer_dsol_token_account, False, True)\n",
    "payer_governor_token_account_meta = AccountMeta(payer_governor_token_address, False, True)\n",
    "# payer_table_associated_account_meta = AccountMeta(payer_table_associated_token_address, False, True)\n",
    "payer_table_data_pda_meta = AccountMeta(payer_table_data_pda, False, True)\n",
    "payer_table_metadata_meta = AccountMeta(payer_table_metadata_pda, False, True)\n",
    "# vault_account_meta = AccountMeta(vault_keypair.public_key, False, True)\n",
    "# vault_dsol_token_account_meta = AccountMeta(vault_dsol_token_account, False, True)\n",
    "table_mint_account_meta = AccountMeta(table_mint_keypair.public_key, True, True)\n",
    "table_mint_authority_meta = AccountMeta(table_mint_authority, False, False)\n",
    "table_sales_pda_meta = AccountMeta(table_sales_pda, False, True)\n",
    "\n",
    "rent_account_meta = AccountMeta(solana.sysvar.SYSVAR_RENT_PUBKEY, False, False)\n",
    "spl_program_meta  = AccountMeta(TOKEN_PROGRAM_ID, False, False)\n",
    "sys_program_meta = AccountMeta(SYS_PROGRAM_ID, False, False)\n",
    "sysvar_clock_meta = AccountMeta(solana.sysvar.SYSVAR_CLOCK_PUBKEY, False, False)\n",
    "associated_program_meta = AccountMeta(ASSOCIATED_TOKEN_PROGRAM_ID, False, False)\n",
    "metadata_meta = AccountMeta(metadata_program_pubkey, False, False)\n",
    "dsol_mint_meta = AccountMeta(dsol_mint, False, False)\n",
    "compute_program_meta = AccountMeta(PublicKey(\"ComputeBudget111111111111111111111111111111\"), False, False)\n",
    "gov_account_meta = AccountMeta(governor_mint, False, False)\n",
    "vault_account_meta = AccountMeta(vault_pda, False, False)\n"
   ]
  },
  {
   "cell_type": "code",
   "execution_count": 154,
   "metadata": {},
   "outputs": [
    {
     "ename": "RPCException",
     "evalue": "{'code': -32002, 'message': 'Transaction simulation failed: Error processing Instruction 0: invalid instruction data', 'data': {'accounts': None, 'err': {'InstructionError': [0, 'InvalidInstructionData']}, 'logs': ['Program 7fmmvCJ1uH4sfLCdZrDAjJnfHejwtFbYL7aG8nnNR6Yz invoke [1]', 'Program log: Reached checkpoint 1', 'Program log: Table already has enough signatures', 'Program 7fmmvCJ1uH4sfLCdZrDAjJnfHejwtFbYL7aG8nnNR6Yz consumed 5084 of 200000 compute units', 'Program 7fmmvCJ1uH4sfLCdZrDAjJnfHejwtFbYL7aG8nnNR6Yz failed: invalid instruction data'], 'unitsConsumed': 0}}",
     "output_type": "error",
     "traceback": [
      "\u001b[1;31m---------------------------------------------------------------------------\u001b[0m",
      "\u001b[1;31mRPCException\u001b[0m                              Traceback (most recent call last)",
      "\u001b[1;32m~\\AppData\\Local\\Temp/ipykernel_17552/287501550.py\u001b[0m in \u001b[0;36m<module>\u001b[1;34m\u001b[0m\n\u001b[0;32m     29\u001b[0m     \u001b[1;32mreturn\u001b[0m \u001b[1;34mf\"https://explorer.solana.com/tx/{client.send_transaction(transaction, payer_keypair)['result']}?cluster=devnet\"\u001b[0m\u001b[1;33m\u001b[0m\u001b[1;33m\u001b[0m\u001b[0m\n\u001b[0;32m     30\u001b[0m \u001b[1;33m\u001b[0m\u001b[0m\n\u001b[1;32m---> 31\u001b[1;33m \u001b[0minit_table_mint\u001b[0m\u001b[1;33m(\u001b[0m\u001b[1;33m)\u001b[0m\u001b[1;33m\u001b[0m\u001b[1;33m\u001b[0m\u001b[0m\n\u001b[0m\u001b[0;32m     32\u001b[0m \u001b[1;33m\u001b[0m\u001b[0m\n\u001b[0;32m     33\u001b[0m \u001b[1;31m# time.sleep(5)\u001b[0m\u001b[1;33m\u001b[0m\u001b[1;33m\u001b[0m\u001b[0m\n",
      "\u001b[1;32m~\\AppData\\Local\\Temp/ipykernel_17552/287501550.py\u001b[0m in \u001b[0;36minit_table_mint\u001b[1;34m()\u001b[0m\n\u001b[0;32m     27\u001b[0m     )\n\u001b[0;32m     28\u001b[0m \u001b[1;33m\u001b[0m\u001b[0m\n\u001b[1;32m---> 29\u001b[1;33m     \u001b[1;32mreturn\u001b[0m \u001b[1;34mf\"https://explorer.solana.com/tx/{client.send_transaction(transaction, payer_keypair)['result']}?cluster=devnet\"\u001b[0m\u001b[1;33m\u001b[0m\u001b[1;33m\u001b[0m\u001b[0m\n\u001b[0m\u001b[0;32m     30\u001b[0m \u001b[1;33m\u001b[0m\u001b[0m\n\u001b[0;32m     31\u001b[0m \u001b[0minit_table_mint\u001b[0m\u001b[1;33m(\u001b[0m\u001b[1;33m)\u001b[0m\u001b[1;33m\u001b[0m\u001b[1;33m\u001b[0m\u001b[0m\n",
      "\u001b[1;32m~\\anaconda3\\lib\\site-packages\\solana\\rpc\\api.py\u001b[0m in \u001b[0;36msend_transaction\u001b[1;34m(self, txn, opts, recent_blockhash, *signers)\u001b[0m\n\u001b[0;32m   1176\u001b[0m \u001b[1;33m\u001b[0m\u001b[0m\n\u001b[0;32m   1177\u001b[0m         \u001b[0mtxn\u001b[0m\u001b[1;33m.\u001b[0m\u001b[0msign\u001b[0m\u001b[1;33m(\u001b[0m\u001b[1;33m*\u001b[0m\u001b[0msigners\u001b[0m\u001b[1;33m)\u001b[0m\u001b[1;33m\u001b[0m\u001b[1;33m\u001b[0m\u001b[0m\n\u001b[1;32m-> 1178\u001b[1;33m         \u001b[0mtxn_resp\u001b[0m \u001b[1;33m=\u001b[0m \u001b[0mself\u001b[0m\u001b[1;33m.\u001b[0m\u001b[0msend_raw_transaction\u001b[0m\u001b[1;33m(\u001b[0m\u001b[0mtxn\u001b[0m\u001b[1;33m.\u001b[0m\u001b[0mserialize\u001b[0m\u001b[1;33m(\u001b[0m\u001b[1;33m)\u001b[0m\u001b[1;33m,\u001b[0m \u001b[0mopts\u001b[0m\u001b[1;33m=\u001b[0m\u001b[0mopts\u001b[0m\u001b[1;33m)\u001b[0m\u001b[1;33m\u001b[0m\u001b[1;33m\u001b[0m\u001b[0m\n\u001b[0m\u001b[0;32m   1179\u001b[0m         \u001b[1;32mif\u001b[0m \u001b[0mself\u001b[0m\u001b[1;33m.\u001b[0m\u001b[0mblockhash_cache\u001b[0m\u001b[1;33m:\u001b[0m\u001b[1;33m\u001b[0m\u001b[1;33m\u001b[0m\u001b[0m\n\u001b[0;32m   1180\u001b[0m             \u001b[0mblockhash_resp\u001b[0m \u001b[1;33m=\u001b[0m \u001b[0mself\u001b[0m\u001b[1;33m.\u001b[0m\u001b[0mget_recent_blockhash\u001b[0m\u001b[1;33m(\u001b[0m\u001b[0mFinalized\u001b[0m\u001b[1;33m)\u001b[0m\u001b[1;33m\u001b[0m\u001b[1;33m\u001b[0m\u001b[0m\n",
      "\u001b[1;32m~\\anaconda3\\lib\\site-packages\\solana\\rpc\\api.py\u001b[0m in \u001b[0;36msend_raw_transaction\u001b[1;34m(self, txn, opts)\u001b[0m\n\u001b[0;32m   1130\u001b[0m         \u001b[0mresp\u001b[0m \u001b[1;33m=\u001b[0m \u001b[0mself\u001b[0m\u001b[1;33m.\u001b[0m\u001b[0m_provider\u001b[0m\u001b[1;33m.\u001b[0m\u001b[0mmake_request\u001b[0m\u001b[1;33m(\u001b[0m\u001b[1;33m*\u001b[0m\u001b[0margs\u001b[0m\u001b[1;33m)\u001b[0m\u001b[1;33m\u001b[0m\u001b[1;33m\u001b[0m\u001b[0m\n\u001b[0;32m   1131\u001b[0m         \u001b[1;32mif\u001b[0m \u001b[0mopts\u001b[0m\u001b[1;33m.\u001b[0m\u001b[0mskip_confirmation\u001b[0m\u001b[1;33m:\u001b[0m\u001b[1;33m\u001b[0m\u001b[1;33m\u001b[0m\u001b[0m\n\u001b[1;32m-> 1132\u001b[1;33m             \u001b[1;32mreturn\u001b[0m \u001b[0mself\u001b[0m\u001b[1;33m.\u001b[0m\u001b[0m_post_send\u001b[0m\u001b[1;33m(\u001b[0m\u001b[0mresp\u001b[0m\u001b[1;33m)\u001b[0m\u001b[1;33m\u001b[0m\u001b[1;33m\u001b[0m\u001b[0m\n\u001b[0m\u001b[0;32m   1133\u001b[0m         \u001b[0mpost_send_args\u001b[0m \u001b[1;33m=\u001b[0m \u001b[0mself\u001b[0m\u001b[1;33m.\u001b[0m\u001b[0m_send_raw_transaction_post_send_args\u001b[0m\u001b[1;33m(\u001b[0m\u001b[0mresp\u001b[0m\u001b[1;33m,\u001b[0m \u001b[0mopts\u001b[0m\u001b[1;33m)\u001b[0m\u001b[1;33m\u001b[0m\u001b[1;33m\u001b[0m\u001b[0m\n\u001b[0;32m   1134\u001b[0m         \u001b[1;32mreturn\u001b[0m \u001b[0mself\u001b[0m\u001b[1;33m.\u001b[0m\u001b[0m__post_send_with_confirm\u001b[0m\u001b[1;33m(\u001b[0m\u001b[1;33m*\u001b[0m\u001b[0mpost_send_args\u001b[0m\u001b[1;33m)\u001b[0m\u001b[1;33m\u001b[0m\u001b[1;33m\u001b[0m\u001b[0m\n",
      "\u001b[1;32m~\\anaconda3\\lib\\site-packages\\solana\\rpc\\core.py\u001b[0m in \u001b[0;36m_post_send\u001b[1;34m(resp)\u001b[0m\n\u001b[0;32m    386\u001b[0m         \u001b[0mmaybe_error\u001b[0m \u001b[1;33m=\u001b[0m \u001b[0mresp\u001b[0m\u001b[1;33m.\u001b[0m\u001b[0mget\u001b[0m\u001b[1;33m(\u001b[0m\u001b[1;34m\"error\"\u001b[0m\u001b[1;33m)\u001b[0m\u001b[1;33m\u001b[0m\u001b[1;33m\u001b[0m\u001b[0m\n\u001b[0;32m    387\u001b[0m         \u001b[1;32mif\u001b[0m \u001b[0mmaybe_error\u001b[0m \u001b[1;32mis\u001b[0m \u001b[1;32mnot\u001b[0m \u001b[1;32mNone\u001b[0m\u001b[1;33m:\u001b[0m\u001b[1;33m\u001b[0m\u001b[1;33m\u001b[0m\u001b[0m\n\u001b[1;32m--> 388\u001b[1;33m             \u001b[1;32mraise\u001b[0m \u001b[0mRPCException\u001b[0m\u001b[1;33m(\u001b[0m\u001b[0mmaybe_error\u001b[0m\u001b[1;33m)\u001b[0m\u001b[1;33m\u001b[0m\u001b[1;33m\u001b[0m\u001b[0m\n\u001b[0m\u001b[0;32m    389\u001b[0m         \u001b[1;32mif\u001b[0m \u001b[1;32mnot\u001b[0m \u001b[0mresp\u001b[0m\u001b[1;33m.\u001b[0m\u001b[0mget\u001b[0m\u001b[1;33m(\u001b[0m\u001b[1;34m\"result\"\u001b[0m\u001b[1;33m)\u001b[0m\u001b[1;33m:\u001b[0m\u001b[1;33m\u001b[0m\u001b[1;33m\u001b[0m\u001b[0m\n\u001b[0;32m    390\u001b[0m             \u001b[1;32mraise\u001b[0m \u001b[0mException\u001b[0m\u001b[1;33m(\u001b[0m\u001b[1;34m\"Failed to send transaction\"\u001b[0m\u001b[1;33m)\u001b[0m\u001b[1;33m\u001b[0m\u001b[1;33m\u001b[0m\u001b[0m\n",
      "\u001b[1;31mRPCException\u001b[0m: {'code': -32002, 'message': 'Transaction simulation failed: Error processing Instruction 0: invalid instruction data', 'data': {'accounts': None, 'err': {'InstructionError': [0, 'InvalidInstructionData']}, 'logs': ['Program 7fmmvCJ1uH4sfLCdZrDAjJnfHejwtFbYL7aG8nnNR6Yz invoke [1]', 'Program log: Reached checkpoint 1', 'Program log: Table already has enough signatures', 'Program 7fmmvCJ1uH4sfLCdZrDAjJnfHejwtFbYL7aG8nnNR6Yz consumed 5084 of 200000 compute units', 'Program 7fmmvCJ1uH4sfLCdZrDAjJnfHejwtFbYL7aG8nnNR6Yz failed: invalid instruction data'], 'unitsConsumed': 0}}"
     ]
    }
   ],
   "source": [
    "def init_table_mint():\n",
    "    accounts = [\n",
    "        payer_dsol_token_account_meta,\n",
    "        payer_governor_token_account_meta,\n",
    "        gov_account_meta,\n",
    "        gov_mint_authority_meta,\n",
    "        gove_data_meta,\n",
    "        payer_table_data_pda_meta,\n",
    "        vault_account_meta,\n",
    "        vault_pda_dsol_token_account_meta,\n",
    "        spl_program_meta,\n",
    "        sysvar_clock_meta,\n",
    "        authorizer_meta,\n",
    "\n",
    "        AccountMeta(gov_program_id, False, False),\n",
    "        spl_program_meta,\n",
    "    ]\n",
    "\n",
    "    # print(accounts)\n",
    "    transaction = Transaction()\n",
    "    transaction.add(\n",
    "        TransactionInstruction(\n",
    "            accounts,\n",
    "            program_id,\n",
    "            InstructionEnum.build(InstructionEnum.enum.SignTableMint())\n",
    "        )\n",
    "    )\n",
    "    \n",
    "    return f\"https://explorer.solana.com/tx/{client.send_transaction(transaction, payer_keypair)['result']}?cluster=devnet\"\n",
    "\n",
    "init_table_mint()\n",
    "\n",
    "# time.sleep(5)"
   ]
  },
  {
   "cell_type": "code",
   "execution_count": null,
   "metadata": {},
   "outputs": [
    {
     "data": {
      "text/plain": [
       "Container(date_created=1646115152, id=2, rarity=10, creators=ListContainer([ListContainer([41, 170, 109, 160, 66, 109, 122, 77, 230, 225, 203, 217, 48, 106, 198, 250, 8, 207, 25, 191, 221, 179, 197, 184, 2, 161, 241, 94, 82, 201, 171, 47]), ListContainer([48, 125, 114, 120, 168, 151, 154, 249, 142, 90, 19, 109, 192, 105, 1, 42, 234, 96, 252, 94, 246, 69, 44, 32, 198, 175, 201, 1, 73, 103, 0, 88]), ListContainer([233, 25, 95, 122, 228, 54, 171, 158, 141, 115, 125, 144, 10, 98, 156, 188, 87, 72, 132, 87, 221, 24, 163, 85, 64, 210, 9, 75, 125, 166, 4, 204]), ListContainer([42, 147, 157, 29, 205, 82, 2, 13, 221, 145, 164, 150, 31, 0, 73, 243, 131, 187, 13, 144, 103, 25, 7, 238, 58, 215, 135, 144, 204, 142, 118, 60])]), num_creators=5, governor_reward=500)"
      ]
     },
     "execution_count": 136,
     "metadata": {},
     "output_type": "execute_result"
    }
   ],
   "source": [
    "time.sleep(5)\n",
    "accountSchema = CStruct(\n",
    "    \"date_created\" / U32,\n",
    "    \"id\" / U32,\n",
    "    \"rarity\" / U8,\n",
    "    \"creators\" / Vec(U8[32]),\n",
    "    \"num_creators\" / U8,\n",
    "    \"governor_reward\" / U32\n",
    "\n",
    ")\n",
    "\n",
    "getAccountInfo(client, payer_table_data_pda)\n"
   ]
  }
 ],
 "metadata": {
  "interpreter": {
   "hash": "b68919eb655d0773185a23d07bc600bc0399219a4090e8bc721f64f37132571c"
  },
  "kernelspec": {
   "display_name": "Python 3.9.7",
   "language": "python",
   "name": "python3"
  },
  "language_info": {
   "codemirror_mode": {
    "name": "ipython",
    "version": 3
   },
   "file_extension": ".py",
   "mimetype": "text/x-python",
   "name": "python",
   "nbconvert_exporter": "python",
   "pygments_lexer": "ipython3",
   "version": "3.9.7"
  },
  "orig_nbformat": 4
 },
 "nbformat": 4,
 "nbformat_minor": 2
}
