{
 "cells": [
  {
   "cell_type": "code",
   "execution_count": 111,
   "metadata": {},
   "outputs": [],
   "source": [
    "import solana\n",
    "from solana.publickey import PublicKey\n",
    "from solana.rpc.api import Client\n",
    "from solana.keypair import Keypair\n",
    "from solana import system_program\n",
    "from solana import transaction\n",
    "from solana.system_program import SYS_PROGRAM_ID, CreateAccountParams, create_account\n",
    "from solana.transaction import *\n",
    "from spl.token.constants import TOKEN_PROGRAM_ID, ASSOCIATED_TOKEN_PROGRAM_ID\n",
    "from spl.token.instructions import initialize_mint, InitializeMintParams\n",
    "from spl.token._layouts import MINT_LAYOUT\n",
    "from spl.token.client import Token\n",
    "from spl.token import instructions\n",
    "import base64\n",
    "from borsh_construct import *\n",
    "from solana.rpc.commitment import Commitment\n",
    "import time\n",
    "\n",
    "\n",
    "client = Client(\"https://api.devnet.solana.com\")\n",
    "\n",
    "\n",
    "while not client.is_connected():\n",
    "    time.sleep(60)"
   ]
  },
  {
   "cell_type": "code",
   "execution_count": 112,
   "metadata": {},
   "outputs": [],
   "source": [
    "program_id = PublicKey(\"7fmmvCJ1uH4sfLCdZrDAjJnfHejwtFbYL7aG8nnNR6Yz\")\n",
    "dsol_mint = PublicKey(\"HSYdApQF2FKVNnX6FQ1ySYstGLe5Gp8NseHVFavWye66\")\n",
    "\n",
    "seed = bytes([125,215,212,54,213,98,45,123]*4)\n",
    "payer_keypair = Keypair.from_seed(seed)\n",
    "(sales_pda, sales_nonce) = PublicKey.find_program_address([b'table_sales_pda'], program_id)\n",
    "# client.request_airdrop(payer_keypair.public_key, 2*10**9)\n",
    "payer_account_meta = AccountMeta(payer_keypair.public_key, True, True)\n",
    "sales_pda_meta = AccountMeta(sales_pda, False, True)\n",
    "\n",
    "vault_pda, _ = PublicKey.find_program_address([b\"Dsol_vault_tables\"], program_id)\n",
    "vault_account_meta = AccountMeta(vault_pda, False, True)\n",
    "vault_pda_dsol_token_account_meta = AccountMeta(instructions.get_associated_token_address(vault_pda, dsol_mint), False, True)\n",
    "\n",
    "(pending_pda, pending_nonce) = PublicKey.find_program_address([b\"pending_tables\"], program_id)\n",
    "pending_tables_meta = AccountMeta(pending_pda, False, True)\n",
    "\n",
    "main_vault_key = PublicKey(\"G473EkeR5gowVn8CRwTSDop3zPwaNixwp62qi7nyVf4z\")\n",
    "main_vault_assoc = instructions.get_associated_token_address(main_vault_key, dsol_mint)\n",
    "\n",
    "main_vault_assoc_meta = AccountMeta(main_vault_assoc, False, True)\n",
    "main_vault_meta = AccountMeta(main_vault_key, False, True)\n",
    "\n",
    "sys_program_meta = AccountMeta(SYS_PROGRAM_ID, False, False)\n",
    "\n",
    "rent_account_meta = AccountMeta(solana.sysvar.SYSVAR_RENT_PUBKEY, False, False)\n",
    "spl_program_meta  = AccountMeta(TOKEN_PROGRAM_ID, False, False)\n",
    "dsol_mint_meta = AccountMeta(dsol_mint, False, False)\n",
    "associated_program_meta = AccountMeta(ASSOCIATED_TOKEN_PROGRAM_ID, False, False)\n",
    "\n",
    "accounts = [\n",
    "    payer_account_meta,\n",
    "    sales_pda_meta,\n",
    "    pending_tables_meta,\n",
    "    vault_pda_dsol_token_account_meta,\n",
    "    vault_account_meta,\n",
    "    main_vault_assoc_meta,\n",
    "    main_vault_meta,\n",
    "    dsol_mint_meta,\n",
    "    sys_program_meta,\n",
    "    spl_program_meta,\n",
    "    rent_account_meta,\n",
    "\n",
    "\n",
    "    associated_program_meta,\n",
    "    associated_program_meta,\n",
    "    sys_program_meta,\n",
    "    sys_program_meta,\n",
    "    sys_program_meta,\n",
    "    sys_program_meta\n",
    "]\n"
   ]
  },
  {
   "cell_type": "code",
   "execution_count": 113,
   "metadata": {},
   "outputs": [
    {
     "data": {
      "text/plain": [
       "[2ASw3tjK5bSxQxFEMsM6J3DnBozNh7drVErSwc7AtzJv,\n",
       " 3RbZo6tvDdZJ78DYqMR4nxftSkjt91eRZgYSNLjfAuhw,\n",
       " 4rr4wFqxD6dw1o2Ud9dEhSDQHHBYVYdRaoYFq1d35kWz,\n",
       " 9ztksFgqh92Z1C9EcUGRDcV7D8aQfxEDdLqV19G3tRUf,\n",
       " ABd6dVBZHQbB4VrW1tahFETcfVmXtqGrKgzTgdWjhrFL,\n",
       " H5bXtRguFwmif1VLQAVcYZwA5UwBQ8qUMders9TXLiQ7,\n",
       " G473EkeR5gowVn8CRwTSDop3zPwaNixwp62qi7nyVf4z,\n",
       " HSYdApQF2FKVNnX6FQ1ySYstGLe5Gp8NseHVFavWye66,\n",
       " 11111111111111111111111111111111,\n",
       " TokenkegQfeZyiNwAJbNbGKPFXCWuBvf9Ss623VQ5DA,\n",
       " SysvarRent111111111111111111111111111111111,\n",
       " ATokenGPvbdGVxr1b2hvZbsiqW5xWH25efTNsLJA8knL,\n",
       " ATokenGPvbdGVxr1b2hvZbsiqW5xWH25efTNsLJA8knL,\n",
       " 11111111111111111111111111111111,\n",
       " 11111111111111111111111111111111,\n",
       " 11111111111111111111111111111111,\n",
       " 11111111111111111111111111111111]"
      ]
     },
     "execution_count": 113,
     "metadata": {},
     "output_type": "execute_result"
    }
   ],
   "source": [
    "[act.pubkey for act in accounts]"
   ]
  },
  {
   "cell_type": "code",
   "execution_count": 114,
   "metadata": {},
   "outputs": [
    {
     "data": {
      "text/plain": [
       "2ASw3tjK5bSxQxFEMsM6J3DnBozNh7drVErSwc7AtzJv"
      ]
     },
     "execution_count": 114,
     "metadata": {},
     "output_type": "execute_result"
    }
   ],
   "source": [
    "payer_keypair.public_key"
   ]
  },
  {
   "cell_type": "code",
   "execution_count": 115,
   "metadata": {},
   "outputs": [],
   "source": [
    "InstructionEnum = Enum(\n",
    "    \"InitTable\" / CStruct(\"governor_reward\" / U32, \"payer_bump\" / U32),\n",
    "    \"SignTableMint\",\n",
    "    \"CreateTableSalesAccount\",\n",
    "    \"BurnNFTs\" / CStruct(\"rarity\" / U8),\n",
    "    \"MintTable\",\n",
    "    enum_name = \"InstructionEnum\"\n",
    ")"
   ]
  },
  {
   "cell_type": "code",
   "execution_count": 116,
   "metadata": {},
   "outputs": [
    {
     "data": {
      "text/plain": [
       "'https://explorer.solana.com/tx/NRTv5o4i5isn39gY4DbgnJdFGmgDWz4rF9q23qmjtA8oYhPJ4ES1JrwPKxZ2acNrWu7qcUofCutuYkoAj7JroTx?cluster=devnet'"
      ]
     },
     "execution_count": 116,
     "metadata": {},
     "output_type": "execute_result"
    }
   ],
   "source": [
    "transaction = Transaction()\n",
    "transaction.add(TransactionInstruction(\n",
    "    accounts,\n",
    "    program_id,\n",
    "    InstructionEnum.build(InstructionEnum.enum.CreateTableSalesAccount())\n",
    "))\n",
    "f\"https://explorer.solana.com/tx/{client.send_transaction(transaction, payer_keypair)['result']}?cluster=devnet\""
   ]
  }
 ],
 "metadata": {
  "interpreter": {
   "hash": "b68919eb655d0773185a23d07bc600bc0399219a4090e8bc721f64f37132571c"
  },
  "kernelspec": {
   "display_name": "Python 3.9.7 64-bit (conda)",
   "language": "python",
   "name": "python3"
  },
  "language_info": {
   "codemirror_mode": {
    "name": "ipython",
    "version": 3
   },
   "file_extension": ".py",
   "mimetype": "text/x-python",
   "name": "python",
   "nbconvert_exporter": "python",
   "pygments_lexer": "ipython3",
   "version": "3.9.7"
  },
  "orig_nbformat": 4
 },
 "nbformat": 4,
 "nbformat_minor": 2
}
