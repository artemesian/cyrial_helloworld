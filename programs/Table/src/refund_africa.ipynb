{
 "cells": [
  {
   "cell_type": "code",
   "execution_count": 1,
   "metadata": {},
   "outputs": [],
   "source": [
    "from solana.publickey import PublicKey\n",
    "from solana.rpc.api import Client\n",
    "import time\n",
    "\n",
    "pubkey = PublicKey(\"GN84aGHPenixGp98jQqU9dFYZY2XaqrB4fgXYANScbF9\")\n",
    "\n",
    "client = Client(\"https://api.devnet.solana.com\")\n"
   ]
  },
  {
   "cell_type": "code",
   "execution_count": 2,
   "metadata": {},
   "outputs": [
    {
     "ename": "SolanaRpcException",
     "evalue": "",
     "output_type": "error",
     "traceback": [
      "\u001b[0;31m---------------------------------------------------------------------------\u001b[0m",
      "\u001b[0;31mHTTPError\u001b[0m                                 Traceback (most recent call last)",
      "File \u001b[0;32m~/.local/lib/python3.8/site-packages/solana/exceptions.py:33\u001b[0m, in \u001b[0;36mhandle_exceptions.<locals>.func_decorator.<locals>.argument_decorator\u001b[0;34m(*args, **kwargs)\u001b[0m\n\u001b[1;32m     <a href='file:///~/.local/lib/python3.8/site-packages/solana/exceptions.py?line=31'>32</a>\u001b[0m \u001b[39mtry\u001b[39;00m:\n\u001b[0;32m---> <a href='file:///~/.local/lib/python3.8/site-packages/solana/exceptions.py?line=32'>33</a>\u001b[0m     \u001b[39mreturn\u001b[39;00m func(\u001b[39m*\u001b[39;49margs, \u001b[39m*\u001b[39;49m\u001b[39m*\u001b[39;49mkwargs)\n\u001b[1;32m     <a href='file:///~/.local/lib/python3.8/site-packages/solana/exceptions.py?line=33'>34</a>\u001b[0m \u001b[39mexcept\u001b[39;00m exception_types_caught \u001b[39mas\u001b[39;00m exc:\n",
      "File \u001b[0;32m~/.local/lib/python3.8/site-packages/solana/rpc/providers/http.py:24\u001b[0m, in \u001b[0;36mHTTPProvider.make_request\u001b[0;34m(self, method, *params)\u001b[0m\n\u001b[1;32m     <a href='file:///~/.local/lib/python3.8/site-packages/solana/rpc/providers/http.py?line=22'>23</a>\u001b[0m raw_response \u001b[39m=\u001b[39m requests\u001b[39m.\u001b[39mpost(\u001b[39m*\u001b[39m\u001b[39m*\u001b[39mrequest_kwargs, timeout\u001b[39m=\u001b[39m\u001b[39mself\u001b[39m\u001b[39m.\u001b[39mtimeout)\n\u001b[0;32m---> <a href='file:///~/.local/lib/python3.8/site-packages/solana/rpc/providers/http.py?line=23'>24</a>\u001b[0m \u001b[39mreturn\u001b[39;00m \u001b[39mself\u001b[39;49m\u001b[39m.\u001b[39;49m_after_request(raw_response\u001b[39m=\u001b[39;49mraw_response, method\u001b[39m=\u001b[39;49mmethod)\n",
      "File \u001b[0;32m~/.local/lib/python3.8/site-packages/solana/rpc/providers/core.py:54\u001b[0m, in \u001b[0;36m_HTTPProviderCore._after_request\u001b[0;34m(self, raw_response, method)\u001b[0m\n\u001b[1;32m     <a href='file:///~/.local/lib/python3.8/site-packages/solana/rpc/providers/core.py?line=52'>53</a>\u001b[0m \u001b[39mdef\u001b[39;00m \u001b[39m_after_request\u001b[39m(\u001b[39mself\u001b[39m, raw_response: Union[requests\u001b[39m.\u001b[39mResponse, httpx\u001b[39m.\u001b[39mResponse], method: RPCMethod) \u001b[39m-\u001b[39m\u001b[39m>\u001b[39m RPCResponse:\n\u001b[0;32m---> <a href='file:///~/.local/lib/python3.8/site-packages/solana/rpc/providers/core.py?line=53'>54</a>\u001b[0m     raw_response\u001b[39m.\u001b[39;49mraise_for_status()\n\u001b[1;32m     <a href='file:///~/.local/lib/python3.8/site-packages/solana/rpc/providers/core.py?line=54'>55</a>\u001b[0m     \u001b[39mself\u001b[39m\u001b[39m.\u001b[39mlogger\u001b[39m.\u001b[39mdebug(\n\u001b[1;32m     <a href='file:///~/.local/lib/python3.8/site-packages/solana/rpc/providers/core.py?line=55'>56</a>\u001b[0m         \u001b[39m\"\u001b[39m\u001b[39mGetting response HTTP. URI: \u001b[39m\u001b[39m%s\u001b[39;00m\u001b[39m, \u001b[39m\u001b[39m\"\u001b[39m \u001b[39m\"\u001b[39m\u001b[39mMethod: \u001b[39m\u001b[39m%s\u001b[39;00m\u001b[39m, Response: \u001b[39m\u001b[39m%s\u001b[39;00m\u001b[39m\"\u001b[39m, \u001b[39mself\u001b[39m\u001b[39m.\u001b[39mendpoint_uri, method, raw_response\u001b[39m.\u001b[39mtext\n\u001b[1;32m     <a href='file:///~/.local/lib/python3.8/site-packages/solana/rpc/providers/core.py?line=56'>57</a>\u001b[0m     )\n",
      "File \u001b[0;32m~/.local/lib/python3.8/site-packages/requests/models.py:960\u001b[0m, in \u001b[0;36mResponse.raise_for_status\u001b[0;34m(self)\u001b[0m\n\u001b[1;32m    <a href='file:///~/.local/lib/python3.8/site-packages/requests/models.py?line=958'>959</a>\u001b[0m \u001b[39mif\u001b[39;00m http_error_msg:\n\u001b[0;32m--> <a href='file:///~/.local/lib/python3.8/site-packages/requests/models.py?line=959'>960</a>\u001b[0m     \u001b[39mraise\u001b[39;00m HTTPError(http_error_msg, response\u001b[39m=\u001b[39m\u001b[39mself\u001b[39m)\n",
      "\u001b[0;31mHTTPError\u001b[0m: 429 Client Error: Too Many Requests for url: https://api.devnet.solana.com/",
      "\nDuring handling of the above exception, another exception occurred:\n",
      "\u001b[0;31mSolanaRpcException\u001b[0m                        Traceback (most recent call last)",
      "\u001b[1;32m/home/artemesian/PROJECTS/cyrial_helloworld/programs/Table/src/refund_africa.ipynb Cell 2'\u001b[0m in \u001b[0;36m<module>\u001b[0;34m\u001b[0m\n\u001b[1;32m      <a href='vscode-notebook-cell://wsl%2Bubuntu/home/artemesian/PROJECTS/cyrial_helloworld/programs/Table/src/refund_africa.ipynb#ch0000001vscode-remote?line=0'>1</a>\u001b[0m \u001b[39mfor\u001b[39;00m i \u001b[39min\u001b[39;00m \u001b[39mrange\u001b[39m(\u001b[39m20\u001b[39m):\n\u001b[0;32m----> <a href='vscode-notebook-cell://wsl%2Bubuntu/home/artemesian/PROJECTS/cyrial_helloworld/programs/Table/src/refund_africa.ipynb#ch0000001vscode-remote?line=1'>2</a>\u001b[0m     client\u001b[39m.\u001b[39;49mrequest_airdrop(pubkey, \u001b[39m2\u001b[39;49m \u001b[39m*\u001b[39;49m \u001b[39m10\u001b[39;49m\u001b[39m*\u001b[39;49m\u001b[39m*\u001b[39;49m\u001b[39m9\u001b[39;49m)\n\u001b[1;32m      <a href='vscode-notebook-cell://wsl%2Bubuntu/home/artemesian/PROJECTS/cyrial_helloworld/programs/Table/src/refund_africa.ipynb#ch0000001vscode-remote?line=2'>3</a>\u001b[0m     time\u001b[39m.\u001b[39msleep(\u001b[39m5\u001b[39m)\n",
      "File \u001b[0;32m~/.local/lib/python3.8/site-packages/solana/rpc/api.py:1109\u001b[0m, in \u001b[0;36mClient.request_airdrop\u001b[0;34m(self, pubkey, lamports, commitment)\u001b[0m\n\u001b[1;32m   <a href='file:///~/.local/lib/python3.8/site-packages/solana/rpc/api.py?line=1094'>1095</a>\u001b[0m \u001b[39m\"\"\"Requests an airdrop of lamports to a Pubkey.\u001b[39;00m\n\u001b[1;32m   <a href='file:///~/.local/lib/python3.8/site-packages/solana/rpc/api.py?line=1095'>1096</a>\u001b[0m \n\u001b[1;32m   <a href='file:///~/.local/lib/python3.8/site-packages/solana/rpc/api.py?line=1096'>1097</a>\u001b[0m \u001b[39m:param pubkey: Pubkey of account to receive lamports, as base-58 encoded string or public key object.\u001b[39;00m\n\u001b[0;32m   (...)\u001b[0m\n\u001b[1;32m   <a href='file:///~/.local/lib/python3.8/site-packages/solana/rpc/api.py?line=1105'>1106</a>\u001b[0m \u001b[39m 'id': 1}\u001b[39;00m\n\u001b[1;32m   <a href='file:///~/.local/lib/python3.8/site-packages/solana/rpc/api.py?line=1106'>1107</a>\u001b[0m \u001b[39m\"\"\"\u001b[39;00m\n\u001b[1;32m   <a href='file:///~/.local/lib/python3.8/site-packages/solana/rpc/api.py?line=1107'>1108</a>\u001b[0m args \u001b[39m=\u001b[39m \u001b[39mself\u001b[39m\u001b[39m.\u001b[39m_request_airdrop_args(pubkey, lamports, commitment)\n\u001b[0;32m-> <a href='file:///~/.local/lib/python3.8/site-packages/solana/rpc/api.py?line=1108'>1109</a>\u001b[0m \u001b[39mreturn\u001b[39;00m \u001b[39mself\u001b[39;49m\u001b[39m.\u001b[39;49m_provider\u001b[39m.\u001b[39;49mmake_request(\u001b[39m*\u001b[39;49margs)\n",
      "File \u001b[0;32m~/.local/lib/python3.8/site-packages/solana/exceptions.py:35\u001b[0m, in \u001b[0;36mhandle_exceptions.<locals>.func_decorator.<locals>.argument_decorator\u001b[0;34m(*args, **kwargs)\u001b[0m\n\u001b[1;32m     <a href='file:///~/.local/lib/python3.8/site-packages/solana/exceptions.py?line=32'>33</a>\u001b[0m     \u001b[39mreturn\u001b[39;00m func(\u001b[39m*\u001b[39margs, \u001b[39m*\u001b[39m\u001b[39m*\u001b[39mkwargs)\n\u001b[1;32m     <a href='file:///~/.local/lib/python3.8/site-packages/solana/exceptions.py?line=33'>34</a>\u001b[0m \u001b[39mexcept\u001b[39;00m exception_types_caught \u001b[39mas\u001b[39;00m exc:\n\u001b[0;32m---> <a href='file:///~/.local/lib/python3.8/site-packages/solana/exceptions.py?line=34'>35</a>\u001b[0m     \u001b[39mraise\u001b[39;00m internal_exception_cls(exc, func, \u001b[39m*\u001b[39margs, \u001b[39m*\u001b[39m\u001b[39m*\u001b[39mkwargs)\n",
      "\u001b[0;31mSolanaRpcException\u001b[0m: "
     ]
    }
   ],
   "source": [
    "for i in range(20):\n",
    "    client.request_airdrop(pubkey, 2 * 10**9)\n",
    "    time.sleep(15)"
   ]
  }
 ],
 "metadata": {
  "interpreter": {
   "hash": "916dbcbb3f70747c44a77c7bcd40155683ae19c65e1c03b4aa3499c5328201f1"
  },
  "kernelspec": {
   "display_name": "Python 3.8.10 64-bit",
   "language": "python",
   "name": "python3"
  },
  "language_info": {
   "codemirror_mode": {
    "name": "ipython",
    "version": 3
   },
   "file_extension": ".py",
   "mimetype": "text/x-python",
   "name": "python",
   "nbconvert_exporter": "python",
   "pygments_lexer": "ipython3",
   "version": "3.8.10"
  },
  "orig_nbformat": 4
 },
 "nbformat": 4,
 "nbformat_minor": 2
}
