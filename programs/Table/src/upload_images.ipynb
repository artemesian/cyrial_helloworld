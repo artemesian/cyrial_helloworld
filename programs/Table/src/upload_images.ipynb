{
 "cells": [
  {
   "cell_type": "code",
   "execution_count": 5,
   "metadata": {},
   "outputs": [
    {
     "data": {
      "text/plain": [
       "0.0"
      ]
     },
     "execution_count": 5,
     "metadata": {},
     "output_type": "execute_result"
    }
   ],
   "source": [
    "from arweave.arweave_lib import Wallet, Transaction, API_URL\n",
    "import json\n",
    "import os\n",
    "from tqdm import tqdm\n",
    "\n",
    "# Load your arweave wallet\n",
    "your_ar_wallet = Wallet('arweave-key.json')\n",
    "your_ar_wallet.balance\n"
   ]
  },
  {
   "cell_type": "code",
   "execution_count": null,
   "metadata": {},
   "outputs": [],
   "source": []
  },
  {
   "cell_type": "code",
   "execution_count": 6,
   "metadata": {},
   "outputs": [
    {
     "data": {
      "text/plain": [
       "{'Champion': [],\n",
       " 'Local': [],\n",
       " 'Casual': [],\n",
       " 'NewB': [],\n",
       " 'Rookie': [],\n",
       " 'Professional': [],\n",
       " 'Amature': []}"
      ]
     },
     "execution_count": 6,
     "metadata": {},
     "output_type": "execute_result"
    }
   ],
   "source": [
    "Rarities = [\"Champion\", \"Local\", \"Casual\", \"NewB\", \"Rookie\", \"Professional\", \"Amature\"]\n",
    "\n",
    "Report = {}\n",
    "for rarity in Rarities:\n",
    "    Report[rarity] = []\n",
    "Report\n"
   ]
  },
  {
   "cell_type": "code",
   "execution_count": 7,
   "metadata": {},
   "outputs": [
    {
     "name": "stderr",
     "output_type": "stream",
     "text": [
      "100%|██████████| 7/7 [07:24<00:00, 63.56s/it]\n"
     ]
    }
   ],
   "source": [
    "\n",
    "for rarity in tqdm(Rarities):\n",
    "\n",
    "    arr = os.listdir(f'./Tables/{rarity}')\n",
    "\n",
    "    for img in arr:\n",
    "\n",
    "        with open(f'./Tables/{rarity}/{img}', 'rb') as f:\n",
    "            img_in_bytes = f.read()\n",
    "\n",
    "    # Upload image to Arweave\n",
    "        transaction = Transaction(your_ar_wallet, data=img_in_bytes)\n",
    "        transaction.add_tag('Content-Type', 'image/png')\n",
    "        transaction.sign()\n",
    "        transaction.send()\n",
    "\n",
    "        image_url = API_URL+\"/\"+transaction.id\n",
    "\n",
    "        metadata = {\n",
    "        \"name\": \"Dsol DAO\",\n",
    "        \"symbol\": \"Dsol_Ta\",\n",
    "        \"description\": \"Further Decentralizing Solana Via Gamification\",\n",
    "        \"seller_fee_basis_points\": 500,\n",
    "        \"external_url\": \"https://www.dsoldao.io\",\n",
    "        \"attributes\": [\n",
    "            {\n",
    "                \"trait_type\": \"Generation\",\n",
    "                \"value\": \"1\"\n",
    "            }\n",
    "        ],\n",
    "        \"collection\": {\n",
    "            \"name\": \"Dsol DAO Table\",\n",
    "            \"family\": rarity,\n",
    "        },\n",
    "        \"properties\": {\n",
    "            \"files\": [\n",
    "                {\n",
    "                    \"uri\": image_url,\n",
    "                    \"type\": \"image/png\",\n",
    "                },\n",
    "            ],\n",
    "            \"category\": \"image\",\n",
    "            \"maxSupply\": None,\n",
    "            \"creators\":[\n",
    "                {\n",
    "                \"address\": \"GbdAxANFM6qzf5iCAemaHNLyYMbbx5Wiyn8yjALfphwC\",\n",
    "                \"verified\":1,\n",
    "                \"share\": 0,\n",
    "                },\n",
    "                {\n",
    "                \"address\": \"3HqXocfan3tVv3N4tTAFhyVePkP856jxngQ6pQxdupXP\",\n",
    "                \"verified\": 0,\n",
    "                \"share\": 100,\n",
    "                }\n",
    "                ],\n",
    "        },\n",
    "        \"image\": image_url,\n",
    "        }\n",
    "\n",
    "\n",
    "            # Upload metadata to Arweave\n",
    "        meta_transaction = Transaction(your_ar_wallet, data=json.dumps(metadata))\n",
    "        meta_transaction.add_tag('Content-Type', 'text/html')\n",
    "        meta_transaction.sign()\n",
    "        meta_transaction.send()\n",
    "\n",
    "        metadata_url = API_URL+\"/\"+meta_transaction.id\n",
    "\n",
    "        Report[rarity].append(metadata_url)"
   ]
  },
  {
   "cell_type": "code",
   "execution_count": 11,
   "metadata": {},
   "outputs": [
    {
     "data": {
      "text/plain": [
       "{'Champion': ['https://arweave.net/0fCXS86DvoNFASdXOPa3OFOymWJTkKg14G7Os3sJgp8',\n",
       "  'https://arweave.net/2m1FqBBggLB1cy-2naeeELht4hO_T-akci24noTicNM'],\n",
       " 'Local': ['https://arweave.net/p0I9YH6rX28iy7sG-nfatq8YYxOzd__QVR2p1VN7Vkg',\n",
       "  'https://arweave.net/VlenC49KBHJsrN-5Ee7YbemD8hVSo5WoaRW2Wzp85fQ'],\n",
       " 'Casual': ['https://arweave.net/YaSNwhE_3muWsiZD03S-N108uMPWk6vKGE6Zga4eTl8',\n",
       "  'https://arweave.net/4f3YwKviHx2lAeliRiqjhcojh1iYTKHXHgO0Yu_MeeM'],\n",
       " 'NewB': ['https://arweave.net/29vohlNlaok-GwFvg9L7kT2erOoB7nkCCIsAtTgmCuk',\n",
       "  'https://arweave.net/ZCAFDtXBYk8cSWg4bDUaf3dDXrxMrZfD8CC9SPc6LDg'],\n",
       " 'Rookie': ['https://arweave.net/q9rR6ZHMrzMHO0Kv9Wq5rSbxJvYSTGNbL_fqvNSHTeQ',\n",
       "  'https://arweave.net/kTqoJq23E7nAngm8riHWaGLsdM9VVhPNeXTq6Bt9qQA'],\n",
       " 'Professional': ['https://arweave.net/kMwApMdt-FoFFEXYJVGWmGuRbeMoTDodk9RQzFN1HFI',\n",
       "  'https://arweave.net/wklmb-n0P-wx39hEmxb23AKQnvXjgHu_lJKmoqtJTFs'],\n",
       " 'Amature': ['https://arweave.net/Qi89jPp77DyS8KAiJfmKvKeFyyUu29WBuivonhjMShY',\n",
       "  'https://arweave.net/xDcIl1B3W4Lz7GbgHwAoCywD40YacGcKLK7rWOPjluw']}"
      ]
     },
     "execution_count": 11,
     "metadata": {},
     "output_type": "execute_result"
    }
   ],
   "source": [
    "Report"
   ]
  }
 ],
 "metadata": {
  "interpreter": {
   "hash": "b68919eb655d0773185a23d07bc600bc0399219a4090e8bc721f64f37132571c"
  },
  "kernelspec": {
   "display_name": "Python 3.9.7 64-bit (conda)",
   "language": "python",
   "name": "python3"
  },
  "language_info": {
   "codemirror_mode": {
    "name": "ipython",
    "version": 3
   },
   "file_extension": ".py",
   "mimetype": "text/x-python",
   "name": "python",
   "nbconvert_exporter": "python",
   "pygments_lexer": "ipython3",
   "version": "3.9.7"
  },
  "orig_nbformat": 4
 },
 "nbformat": 4,
 "nbformat_minor": 2
}
