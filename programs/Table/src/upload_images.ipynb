{
 "cells": [
  {
   "cell_type": "code",
   "execution_count": 2,
   "metadata": {},
   "outputs": [
    {
     "data": {
      "text/plain": [
       "0.0"
      ]
     },
     "execution_count": 2,
     "metadata": {},
     "output_type": "execute_result"
    }
   ],
   "source": [
    "from arweave.arweave_lib import Wallet, Transaction, API_URL\n",
    "import json\n",
    "import os\n",
    "from tqdm import tqdm\n",
    "\n",
    "# Load your arweave wallet\n",
    "your_ar_wallet = Wallet('arweave-key.json')\n",
    "your_ar_wallet.balance\n"
   ]
  },
  {
   "cell_type": "code",
   "execution_count": null,
   "metadata": {},
   "outputs": [],
   "source": []
  },
  {
   "cell_type": "code",
   "execution_count": 3,
   "metadata": {},
   "outputs": [
    {
     "data": {
      "text/plain": [
       "{'Champion': [],\n",
       " 'Local': [],\n",
       " 'Casual': [],\n",
       " 'NewB': [],\n",
       " 'Rookie': [],\n",
       " 'Proffesional': [],\n",
       " 'Amature': []}"
      ]
     },
     "execution_count": 3,
     "metadata": {},
     "output_type": "execute_result"
    }
   ],
   "source": [
    "Rarities = [\"Champion\", \"Local\", \"Casual\", \"NewB\", \"Rookie\", \"Professional\", \"Amature\"]\n",
    "\n",
    "Report = {}\n",
    "for rarity in Rarities:\n",
    "    Report[rarity] = []\n",
    "Report\n"
   ]
  },
  {
   "cell_type": "code",
   "execution_count": 4,
   "metadata": {},
   "outputs": [
    {
     "name": "stderr",
     "output_type": "stream",
     "text": [
      " 71%|███████▏  | 5/7 [04:49<01:55, 57.96s/it]\n"
     ]
    },
    {
     "ename": "FileNotFoundError",
     "evalue": "[WinError 3] The system cannot find the path specified: './Tables/Proffesional'",
     "output_type": "error",
     "traceback": [
      "\u001b[1;31m---------------------------------------------------------------------------\u001b[0m",
      "\u001b[1;31mFileNotFoundError\u001b[0m                         Traceback (most recent call last)",
      "\u001b[1;32m~\\AppData\\Local\\Temp/ipykernel_10488/1800262625.py\u001b[0m in \u001b[0;36m<module>\u001b[1;34m\u001b[0m\n\u001b[0;32m      1\u001b[0m \u001b[1;32mfor\u001b[0m \u001b[0mrarity\u001b[0m \u001b[1;32min\u001b[0m \u001b[0mtqdm\u001b[0m\u001b[1;33m(\u001b[0m\u001b[0mRarities\u001b[0m\u001b[1;33m)\u001b[0m\u001b[1;33m:\u001b[0m\u001b[1;33m\u001b[0m\u001b[1;33m\u001b[0m\u001b[0m\n\u001b[0;32m      2\u001b[0m \u001b[1;33m\u001b[0m\u001b[0m\n\u001b[1;32m----> 3\u001b[1;33m     \u001b[0marr\u001b[0m \u001b[1;33m=\u001b[0m \u001b[0mos\u001b[0m\u001b[1;33m.\u001b[0m\u001b[0mlistdir\u001b[0m\u001b[1;33m(\u001b[0m\u001b[1;34mf'./Tables/{rarity}'\u001b[0m\u001b[1;33m)\u001b[0m\u001b[1;33m\u001b[0m\u001b[1;33m\u001b[0m\u001b[0m\n\u001b[0m\u001b[0;32m      4\u001b[0m \u001b[1;33m\u001b[0m\u001b[0m\n\u001b[0;32m      5\u001b[0m     \u001b[1;32mfor\u001b[0m \u001b[0mimg\u001b[0m \u001b[1;32min\u001b[0m \u001b[0marr\u001b[0m\u001b[1;33m:\u001b[0m\u001b[1;33m\u001b[0m\u001b[1;33m\u001b[0m\u001b[0m\n",
      "\u001b[1;31mFileNotFoundError\u001b[0m: [WinError 3] The system cannot find the path specified: './Tables/Proffesional'"
     ]
    }
   ],
   "source": [
    "\n",
    "for rarity in tqdm(Rarities):\n",
    "\n",
    "    arr = os.listdir(f'./Tables/{rarity}')\n",
    "\n",
    "    for img in arr:\n",
    "\n",
    "        with open(f'./Tables/{rarity}/{img}', 'rb') as f:\n",
    "            img_in_bytes = f.read()\n",
    "\n",
    "    # Upload image to Arweave\n",
    "        transaction = Transaction(your_ar_wallet, data=img_in_bytes)\n",
    "        transaction.add_tag('Content-Type', 'image/png')\n",
    "        transaction.sign()\n",
    "        transaction.send()\n",
    "\n",
    "        image_url = API_URL+\"/\"+transaction.id\n",
    "\n",
    "        metadata = {\n",
    "        \"name\": \"Dsol DAO\",\n",
    "        \"symbol\": \"Dsol_Ta\",\n",
    "        \"description\": \"Further Decentralizing Solana Via Gamification\",\n",
    "        \"seller_fee_basis_points\": 500,\n",
    "        \"external_url\": \"https://www.dsoldao.io\",\n",
    "        \"attributes\": [\n",
    "            {\n",
    "                \"trait_type\": \"Generation\",\n",
    "                \"value\": \"1\"\n",
    "            }\n",
    "        ],\n",
    "        \"collection\": {\n",
    "            \"name\": \"Dsol DAO Table\",\n",
    "            \"family\": rarity,\n",
    "        },\n",
    "        \"properties\": {\n",
    "            \"files\": [\n",
    "                {\n",
    "                    \"uri\": image_url,\n",
    "                    \"type\": \"image/png\",\n",
    "                },\n",
    "            ],\n",
    "            \"category\": \"image\",\n",
    "            \"maxSupply\": None,\n",
    "            \"creators\":[\n",
    "                {\n",
    "                \"address\": \"GbdAxANFM6qzf5iCAemaHNLyYMbbx5Wiyn8yjALfphwC\",\n",
    "                \"verified\":1,\n",
    "                \"share\": 0,\n",
    "                },\n",
    "                {\n",
    "                \"address\": \"3HqXocfan3tVv3N4tTAFhyVePkP856jxngQ6pQxdupXP\",\n",
    "                \"verified\": 0,\n",
    "                \"share\": 100,\n",
    "                }\n",
    "                ],\n",
    "        },\n",
    "        \"image\": image_url,\n",
    "        }\n",
    "\n",
    "\n",
    "            # Upload metadata to Arweave\n",
    "        meta_transaction = Transaction(your_ar_wallet, data=json.dumps(metadata))\n",
    "        meta_transaction.add_tag('Content-Type', 'text/html')\n",
    "        meta_transaction.sign()\n",
    "        meta_transaction.send()\n",
    "\n",
    "        metadata_url = API_URL+\"/\"+meta_transaction.id\n",
    "\n",
    "        Report[rarity].append(metadata_url)"
   ]
  },
  {
   "cell_type": "code",
   "execution_count": null,
   "metadata": {},
   "outputs": [
    {
     "data": {
      "text/plain": [
       "{'Champion': ['https://arweave.net/CpOk7NBU-vVD7s7N22YXoy0ffAHc-Nwj8FfLIViloiM',\n",
       "  'https://arweave.net/cpyhC6SqEndUMbkjSeNQjCaOfWq8d-TSmwSOqyXymUo',\n",
       "  'https://arweave.net/5baiHqdtLBT7gvQ3JIcG-_WpcQwpKAvzdnj_Z-Oxp0M',\n",
       "  'https://arweave.net/fYLI-txokijyB-NGunyyAU1AopJ6Yu7WX27Fyq8_2nk'],\n",
       " 'Local': ['https://arweave.net/qdHHVXSaIK43drpqGN_wuDO_wEgNUsJZlD8ydU6VWbc',\n",
       "  'https://arweave.net/BRglhPUDSTB24o3rPduGryxMR5J-pLfUn8doL05uLew',\n",
       "  'https://arweave.net/-XKATnahjrFaOcloYuWQEKw-qGrlXMuzD3gMkQVEwX8',\n",
       "  'https://arweave.net/N44KoBYpikDkjHLPPT_boeBbGGJEKQCJ8CzbX-UXwOY',\n",
       "  'https://arweave.net/JU8051m8_JA7RRhVFlm1wGTZTTEZGuG-kZ2eoP-GFvg',\n",
       "  'https://arweave.net/izdjtPhSRLcIMvX7avLzEvAh9hlHSGRKduKLK2AECPA',\n",
       "  'https://arweave.net/GnJyP3iJ1sxuefwwAb9IxIRSC8libLpz0gAhCBSNyok',\n",
       "  'https://arweave.net/qCefeYgtKNWVZtf_2ClK2uivc9gG-y9PUXrgl_8VLjE'],\n",
       " 'Casual': ['https://arweave.net/Q5jiXKJj1ZX5TYd0ejVvigel-7nn9lxOEKRnpKyPOqg',\n",
       "  'https://arweave.net/JT0lmgcDDthb80zTdUUvYUWsbqyFD2g38H5qph5NNJk',\n",
       "  'https://arweave.net/EfwciEqcBWWuKtVbcBkRv1m2I_OjDH3Y7JB9NHL8Tis',\n",
       "  'https://arweave.net/PGLy6MQg7e-OPYXroyErUB7V_WVc0PRbbl2qOi2tcIQ',\n",
       "  'https://arweave.net/zPkM8RaQzkB90cv5c71753l4uvQs-M26gZBhZ-gzGDo',\n",
       "  'https://arweave.net/JmtpPhfsbJnJsMUfBVCOlIzb-DtnUztH7jVfz2hQTjI',\n",
       "  'https://arweave.net/DmWG6IcgIQs7yKJvPCbGgzm5y7So3_2wpPKyudRo_Jo',\n",
       "  'https://arweave.net/YonliitZdSEA53-7nuQHp2rneV4ABxH4qRPzq1wHwt4',\n",
       "  'https://arweave.net/-cDJDLjPtBItePemfMeNTsfY6LOBfEC3iUE_ViBM1_Q',\n",
       "  'https://arweave.net/qxlvXbN_GVRzYST6FhT5gsECrFYhpcLHxA4dE58qT-Y',\n",
       "  'https://arweave.net/RU7fyjhQY8edZUTMnKsTLa0mEgUj_IndReooZB82GcI'],\n",
       " 'NewB': ['https://arweave.net/Nb-LohzpiLB_XwZwWaV1G1V5khZfSWVVcvK8K1klebU',\n",
       "  'https://arweave.net/WimminaDHDBBxHby2dzbXTMomy2UYTLDf4ymCCQLtP4',\n",
       "  'https://arweave.net/LPywYfhL0swv1kxNpuSHv39XXbwEUPKHY7nUU0_LEPg',\n",
       "  'https://arweave.net/vnyXTcWsTbYamqGHeX8HLBMFWbtwFFUXf1PExMg_Z84',\n",
       "  'https://arweave.net/xhCy0q2nJIMY9ZCe4LVUjM6Ttmq-e4ZPebjWMtjQ6aw',\n",
       "  'https://arweave.net/IZdLsGVNL-pmbcALgszEhMcRqT5iXY63KwIXvScfdhc',\n",
       "  'https://arweave.net/9TfUNj4qsggB4vzeDSqtzd49Lpzux-5X8VJedSuiIvs',\n",
       "  'https://arweave.net/kls1o1PDJXapqrk8cz-PIzN2OA2T9bPdZUiupX-pARg',\n",
       "  'https://arweave.net/DNSzlCGMpJsKL83a5QNYktyj_aPUQkITNms7mLKbAiU',\n",
       "  'https://arweave.net/yeFoixkyf6_Zg9fV-1LGWW11HtNS1o0-orBjPZm7ZnI'],\n",
       " 'Rookie': ['https://arweave.net/En6u1uvuUKMb7O1PsQ1uVBHsKshfYToKnV2kzBxx3Nw',\n",
       "  'https://arweave.net/IG4Tts3nwGQVwt21-xDC68lrqV6OVuKl26mOzF-28KQ',\n",
       "  'https://arweave.net/FxNFpy32GkEUkafbp3vkNKbTD8Ml29RT1wrWxXbiWl4',\n",
       "  'https://arweave.net/3XKEMHH7Re34hxYUED_GB9OAvvwb55LThPrGf9eHj9s',\n",
       "  'https://arweave.net/Z5erD_E1IzvoZOjF6GjVTdD6lDOUAO3OVRSDxFz7g6s',\n",
       "  'https://arweave.net/vHTgd0Eq8_Z_WgfDr9YpM2ydEcr0wnOOurN79zMVEIE'],\n",
       " 'Proffesional': ['https://arweave.net/fam42-BK6-2nHDae8pmMjNfadAkfkho42wCMoSBz0qk',\n",
       "  'https://arweave.net/ZAMbpgOnhCx9obof3k9BMBzrkr1HUhYLPda7nauQ_Hs',\n",
       "  'https://arweave.net/mROVz6TzmfcSqmRvKLpL13Ah6yBvA__KezKcYKuNFYk',\n",
       "  'https://arweave.net/sroYNtmTLb-RuVQItBwxpJqAiAg-sgCss4hugja6KzE',\n",
       "  'https://arweave.net/8eE6TanBXmhHbE3iOlqaZGKHBy56TWoI8oydX6TtFXg',\n",
       "  'https://arweave.net/Oi8-7P55WXMNS-h5sjrAlUbZk7P97_2wnGszjRCZBgc'],\n",
       " 'Amature': ['https://arweave.net/jRwtQXRNLRvAdvrauKpIr5scKrVgagiAIxJmC7qwfpo',\n",
       "  'https://arweave.net/GtP4R5B8mA7BFI6ppJ8Tc-kZ95S8zvrNkLfyIJl5heI',\n",
       "  'https://arweave.net/xtOWPQoKXZyCdVUO9lNiLRoW44FtteLG_N7cCjlGakI',\n",
       "  'https://arweave.net/a_RH-sD3REJ-luuXyIDPuFlF_TU_pEzR3gqqwxn65Bo',\n",
       "  'https://arweave.net/6NtxDqBBD5La9VWgNS3A3cAvlR_XjB5z8WLX_Q0sBNg',\n",
       "  'https://arweave.net/dScwfDBgy9ewYgHlXnZazdXFq7vsq5yCES9FZBIdU34']}"
      ]
     },
     "execution_count": 5,
     "metadata": {},
     "output_type": "execute_result"
    }
   ],
   "source": [
    "Report"
   ]
  }
 ],
 "metadata": {
  "interpreter": {
   "hash": "b68919eb655d0773185a23d07bc600bc0399219a4090e8bc721f64f37132571c"
  },
  "kernelspec": {
   "display_name": "Python 3.9.7 64-bit (conda)",
   "language": "python",
   "name": "python3"
  },
  "language_info": {
   "codemirror_mode": {
    "name": "ipython",
    "version": 3
   },
   "file_extension": ".py",
   "mimetype": "text/x-python",
   "name": "python",
   "nbconvert_exporter": "python",
   "pygments_lexer": "ipython3",
   "version": "3.9.7"
  },
  "orig_nbformat": 4
 },
 "nbformat": 4,
 "nbformat_minor": 2
}
