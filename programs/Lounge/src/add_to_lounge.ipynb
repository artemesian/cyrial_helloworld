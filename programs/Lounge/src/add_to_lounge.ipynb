{
 "cells": [
  {
   "cell_type": "code",
   "execution_count": 8,
   "metadata": {},
   "outputs": [
    {
     "data": {
      "text/plain": [
       "True"
      ]
     },
     "execution_count": 8,
     "metadata": {},
     "output_type": "execute_result"
    }
   ],
   "source": [
    "import solana\n",
    "from solana.publickey import PublicKey\n",
    "from solana.rpc.api import Client\n",
    "from solana.keypair import Keypair\n",
    "from solana import system_program\n",
    "from solana import transaction\n",
    "from solana.system_program import SYS_PROGRAM_ID, CreateAccountParams, create_account\n",
    "from solana.transaction import *\n",
    "from spl.token.constants import TOKEN_PROGRAM_ID, ASSOCIATED_TOKEN_PROGRAM_ID\n",
    "from spl.token.instructions import initialize_mint, InitializeMintParams\n",
    "from spl.token._layouts import MINT_LAYOUT\n",
    "from spl.token.client import Token\n",
    "from spl.token import instructions\n",
    "import base64\n",
    "import base58\n",
    "from borsh_construct import *\n",
    "from solana.rpc.commitment import Commitment\n",
    "import time\n",
    "import sys\n",
    "sys.path.append('../../GlobalRepo/')\n",
    "from global_repo import *\n",
    "\n",
    "client = Client(\"https://api.devnet.solana.com\")\n",
    "\n",
    "client.is_connected()"
   ]
  },
  {
   "cell_type": "code",
   "execution_count": 9,
   "metadata": {},
   "outputs": [],
   "source": [
    "program_id = LOUNGE_PROGRAM_ID\n",
    "\n",
    "sys_program_meta = AccountMeta(SYS_PROGRAM_ID, False, False)\n",
    "spl_program_meta  = AccountMeta(TOKEN_PROGRAM_ID, False, False)\n"
   ]
  },
  {
   "cell_type": "code",
   "execution_count": 10,
   "metadata": {},
   "outputs": [
    {
     "data": {
      "text/plain": [
       "2ZHc9QxDDaJwqNEFzpAGUrvxCWZSNnXSffHxV9hG2axp"
      ]
     },
     "execution_count": 10,
     "metadata": {},
     "output_type": "execute_result"
    }
   ],
   "source": [
    "def getAccountInfo(client: Client, account_pk: PublicKey):\n",
    "    \"\"\"Fetch account information from RPC, parse out the data and deserialize\"\"\"\n",
    "    comm = Commitment(\"confirmed\")\n",
    "    res = client.get_account_info(account_pk, comm, encoding='base64')\n",
    "    data = res['result']\n",
    "    if isinstance(data, dict):\n",
    "        return accountSchema.parse(base64.urlsafe_b64decode(data['value']['data'][0]))\n",
    "    else:\n",
    "        raise AttributeError(f'Unknown RPC result {data}')\n",
    "        \n",
    "\n",
    "payer_keypair = payer_keypair = Keypair.from_secret_key(base58.b58decode(\"mH4PkhAttpFXSrntbpiJgC8J6wHYFDK5PFWcPN53hMJKziWQucux7MFiW7uXnqKsAY3XBnxUtyVKnomZnD9JxHW\"))\n",
    "payer_keypair.public_key"
   ]
  },
  {
   "cell_type": "code",
   "execution_count": 64,
   "metadata": {},
   "outputs": [],
   "source": [
    "table_mint_id = PublicKey(\"FXyQAAPKHqxGcKtF9jPnchV1aL2iUdEfBEkkKpJhr6i1\")\n",
    "payer_table_associated_id = instructions.get_associated_token_address(payer_keypair.public_key, table_mint_id)\n",
    "(freeze_authority, nonce) = PublicKey.find_program_address([b\"table_mint_authority_pda\"], TABLES_PROGRAM_ID)\n",
    "table_data_pda, _ = PublicKey.find_program_address([b\"table_data_pda\", bytes(table_mint_id)], TABLES_PROGRAM_ID)\n",
    "lounge_pda, _ = PublicKey.find_program_address([b\"Tables_Lounge\"], program_id)\n",
    "authorizer_pda, _ = PublicKey.find_program_address([b\"authorizer_pda\"], program_id)\n",
    "\n",
    "\n",
    "payer_account_meta = AccountMeta(payer_keypair.public_key, True, False)\n",
    "table_mint_meta = AccountMeta(table_mint_id, False, True)\n",
    "payer_table_associated_meta = AccountMeta(payer_table_associated_id, False, True)\n",
    "freeze_authority_meta = AccountMeta(freeze_authority, False, False)\n",
    "table_data_pda_meta = AccountMeta(table_data_pda, False, True)\n",
    "lounge_pda_meta = AccountMeta(lounge_pda, False, True)\n",
    "authorizer_pda_meta = AccountMeta(authorizer_pda, False, False)\n",
    "table_program_meta = AccountMeta(TABLES_PROGRAM_ID, False, False)\n",
    "\n",
    "\n"
   ]
  },
  {
   "cell_type": "code",
   "execution_count": 65,
   "metadata": {},
   "outputs": [
    {
     "data": {
      "text/plain": [
       "[AccountMeta(pubkey=2ZHc9QxDDaJwqNEFzpAGUrvxCWZSNnXSffHxV9hG2axp, is_signer=True, is_writable=False),\n",
       " AccountMeta(pubkey=FXyQAAPKHqxGcKtF9jPnchV1aL2iUdEfBEkkKpJhr6i1, is_signer=False, is_writable=True),\n",
       " AccountMeta(pubkey=vxkJFw2VgsU3Xz5JemxXjPMmkJSEHEs2fYGN35dPnHk, is_signer=False, is_writable=True),\n",
       " AccountMeta(pubkey=DdCFLwf3fc6XexU7KPDYqKzum11yXKtqB2pFGEvuMTyG, is_signer=False, is_writable=False),\n",
       " AccountMeta(pubkey=HDTWHBVcPsnauREX1wGoRjpXWvigbL4pRoTm8pf4x16h, is_signer=False, is_writable=True),\n",
       " AccountMeta(pubkey=5A9kxy6RK2xTGtZMboWvQhLqifWqfzPdxV9tYZ6mSosJ, is_signer=False, is_writable=True),\n",
       " AccountMeta(pubkey=FLmj5tyHqLGnJ64SomBCpuPWhGnD5qpP1v8TrTHFRPU3, is_signer=False, is_writable=False),\n",
       " AccountMeta(pubkey=TokenkegQfeZyiNwAJbNbGKPFXCWuBvf9Ss623VQ5DA, is_signer=False, is_writable=False),\n",
       " AccountMeta(pubkey=7fmmvCJ1uH4sfLCdZrDAjJnfHejwtFbYL7aG8nnNR6Yz, is_signer=False, is_writable=False)]"
      ]
     },
     "execution_count": 65,
     "metadata": {},
     "output_type": "execute_result"
    }
   ],
   "source": [
    "accounts = [\n",
    "    payer_account_meta, \n",
    "    table_mint_meta,\n",
    "    payer_table_associated_meta,\n",
    "    freeze_authority_meta,\n",
    "    table_data_pda_meta,\n",
    "    lounge_pda_meta,\n",
    "    authorizer_pda_meta,\n",
    "    spl_program_meta,\n",
    "\n",
    "    \n",
    "    table_program_meta,\n",
    "]\n",
    "accounts"
   ]
  },
  {
   "cell_type": "code",
   "execution_count": 69,
   "metadata": {},
   "outputs": [
    {
     "ename": "RPCException",
     "evalue": "{'code': -32002, 'message': 'Transaction simulation failed: Error processing Instruction 0: invalid account data for instruction', 'data': {'accounts': None, 'err': {'InstructionError': [0, 'InvalidAccountData']}, 'logs': ['Program 53toELc2ZRKUQKcbCcpq3JfUxu6CamAfKWThxbHuiwCP invoke [1]', 'Program log: right before table data deserialization', 'Program log: table data indicates table is already on the lobby, an issue stems there', 'Program 53toELc2ZRKUQKcbCcpq3JfUxu6CamAfKWThxbHuiwCP consumed 13742 of 200000 compute units', 'Program 53toELc2ZRKUQKcbCcpq3JfUxu6CamAfKWThxbHuiwCP failed: invalid account data for instruction'], 'unitsConsumed': 0}}",
     "output_type": "error",
     "traceback": [
      "\u001b[1;31m---------------------------------------------------------------------------\u001b[0m",
      "\u001b[1;31mRPCException\u001b[0m                              Traceback (most recent call last)",
      "\u001b[1;32m~\\AppData\\Local\\Temp/ipykernel_47976/1458224393.py\u001b[0m in \u001b[0;36m<module>\u001b[1;34m\u001b[0m\n\u001b[0;32m      5\u001b[0m     \u001b[0mbytes\u001b[0m\u001b[1;33m(\u001b[0m\u001b[1;33m[\u001b[0m\u001b[1;36m0\u001b[0m\u001b[1;33m]\u001b[0m\u001b[1;33m)\u001b[0m\u001b[1;33m\u001b[0m\u001b[1;33m\u001b[0m\u001b[0m\n\u001b[0;32m      6\u001b[0m ))\n\u001b[1;32m----> 7\u001b[1;33m \u001b[1;34mf\"https://explorer.solana.com/tx/{client.send_transaction(transaction, payer_keypair)['result']}?cluster=devnet\"\u001b[0m\u001b[1;33m\u001b[0m\u001b[1;33m\u001b[0m\u001b[0m\n\u001b[0m",
      "\u001b[1;32m~\\anaconda3\\lib\\site-packages\\solana\\rpc\\api.py\u001b[0m in \u001b[0;36msend_transaction\u001b[1;34m(self, txn, opts, recent_blockhash, *signers)\u001b[0m\n\u001b[0;32m   1176\u001b[0m \u001b[1;33m\u001b[0m\u001b[0m\n\u001b[0;32m   1177\u001b[0m         \u001b[0mtxn\u001b[0m\u001b[1;33m.\u001b[0m\u001b[0msign\u001b[0m\u001b[1;33m(\u001b[0m\u001b[1;33m*\u001b[0m\u001b[0msigners\u001b[0m\u001b[1;33m)\u001b[0m\u001b[1;33m\u001b[0m\u001b[1;33m\u001b[0m\u001b[0m\n\u001b[1;32m-> 1178\u001b[1;33m         \u001b[0mtxn_resp\u001b[0m \u001b[1;33m=\u001b[0m \u001b[0mself\u001b[0m\u001b[1;33m.\u001b[0m\u001b[0msend_raw_transaction\u001b[0m\u001b[1;33m(\u001b[0m\u001b[0mtxn\u001b[0m\u001b[1;33m.\u001b[0m\u001b[0mserialize\u001b[0m\u001b[1;33m(\u001b[0m\u001b[1;33m)\u001b[0m\u001b[1;33m,\u001b[0m \u001b[0mopts\u001b[0m\u001b[1;33m=\u001b[0m\u001b[0mopts\u001b[0m\u001b[1;33m)\u001b[0m\u001b[1;33m\u001b[0m\u001b[1;33m\u001b[0m\u001b[0m\n\u001b[0m\u001b[0;32m   1179\u001b[0m         \u001b[1;32mif\u001b[0m \u001b[0mself\u001b[0m\u001b[1;33m.\u001b[0m\u001b[0mblockhash_cache\u001b[0m\u001b[1;33m:\u001b[0m\u001b[1;33m\u001b[0m\u001b[1;33m\u001b[0m\u001b[0m\n\u001b[0;32m   1180\u001b[0m             \u001b[0mblockhash_resp\u001b[0m \u001b[1;33m=\u001b[0m \u001b[0mself\u001b[0m\u001b[1;33m.\u001b[0m\u001b[0mget_recent_blockhash\u001b[0m\u001b[1;33m(\u001b[0m\u001b[0mFinalized\u001b[0m\u001b[1;33m)\u001b[0m\u001b[1;33m\u001b[0m\u001b[1;33m\u001b[0m\u001b[0m\n",
      "\u001b[1;32m~\\anaconda3\\lib\\site-packages\\solana\\rpc\\api.py\u001b[0m in \u001b[0;36msend_raw_transaction\u001b[1;34m(self, txn, opts)\u001b[0m\n\u001b[0;32m   1130\u001b[0m         \u001b[0mresp\u001b[0m \u001b[1;33m=\u001b[0m \u001b[0mself\u001b[0m\u001b[1;33m.\u001b[0m\u001b[0m_provider\u001b[0m\u001b[1;33m.\u001b[0m\u001b[0mmake_request\u001b[0m\u001b[1;33m(\u001b[0m\u001b[1;33m*\u001b[0m\u001b[0margs\u001b[0m\u001b[1;33m)\u001b[0m\u001b[1;33m\u001b[0m\u001b[1;33m\u001b[0m\u001b[0m\n\u001b[0;32m   1131\u001b[0m         \u001b[1;32mif\u001b[0m \u001b[0mopts\u001b[0m\u001b[1;33m.\u001b[0m\u001b[0mskip_confirmation\u001b[0m\u001b[1;33m:\u001b[0m\u001b[1;33m\u001b[0m\u001b[1;33m\u001b[0m\u001b[0m\n\u001b[1;32m-> 1132\u001b[1;33m             \u001b[1;32mreturn\u001b[0m \u001b[0mself\u001b[0m\u001b[1;33m.\u001b[0m\u001b[0m_post_send\u001b[0m\u001b[1;33m(\u001b[0m\u001b[0mresp\u001b[0m\u001b[1;33m)\u001b[0m\u001b[1;33m\u001b[0m\u001b[1;33m\u001b[0m\u001b[0m\n\u001b[0m\u001b[0;32m   1133\u001b[0m         \u001b[0mpost_send_args\u001b[0m \u001b[1;33m=\u001b[0m \u001b[0mself\u001b[0m\u001b[1;33m.\u001b[0m\u001b[0m_send_raw_transaction_post_send_args\u001b[0m\u001b[1;33m(\u001b[0m\u001b[0mresp\u001b[0m\u001b[1;33m,\u001b[0m \u001b[0mopts\u001b[0m\u001b[1;33m)\u001b[0m\u001b[1;33m\u001b[0m\u001b[1;33m\u001b[0m\u001b[0m\n\u001b[0;32m   1134\u001b[0m         \u001b[1;32mreturn\u001b[0m \u001b[0mself\u001b[0m\u001b[1;33m.\u001b[0m\u001b[0m__post_send_with_confirm\u001b[0m\u001b[1;33m(\u001b[0m\u001b[1;33m*\u001b[0m\u001b[0mpost_send_args\u001b[0m\u001b[1;33m)\u001b[0m\u001b[1;33m\u001b[0m\u001b[1;33m\u001b[0m\u001b[0m\n",
      "\u001b[1;32m~\\anaconda3\\lib\\site-packages\\solana\\rpc\\core.py\u001b[0m in \u001b[0;36m_post_send\u001b[1;34m(resp)\u001b[0m\n\u001b[0;32m    386\u001b[0m         \u001b[0mmaybe_error\u001b[0m \u001b[1;33m=\u001b[0m \u001b[0mresp\u001b[0m\u001b[1;33m.\u001b[0m\u001b[0mget\u001b[0m\u001b[1;33m(\u001b[0m\u001b[1;34m\"error\"\u001b[0m\u001b[1;33m)\u001b[0m\u001b[1;33m\u001b[0m\u001b[1;33m\u001b[0m\u001b[0m\n\u001b[0;32m    387\u001b[0m         \u001b[1;32mif\u001b[0m \u001b[0mmaybe_error\u001b[0m \u001b[1;32mis\u001b[0m \u001b[1;32mnot\u001b[0m \u001b[1;32mNone\u001b[0m\u001b[1;33m:\u001b[0m\u001b[1;33m\u001b[0m\u001b[1;33m\u001b[0m\u001b[0m\n\u001b[1;32m--> 388\u001b[1;33m             \u001b[1;32mraise\u001b[0m \u001b[0mRPCException\u001b[0m\u001b[1;33m(\u001b[0m\u001b[0mmaybe_error\u001b[0m\u001b[1;33m)\u001b[0m\u001b[1;33m\u001b[0m\u001b[1;33m\u001b[0m\u001b[0m\n\u001b[0m\u001b[0;32m    389\u001b[0m         \u001b[1;32mif\u001b[0m \u001b[1;32mnot\u001b[0m \u001b[0mresp\u001b[0m\u001b[1;33m.\u001b[0m\u001b[0mget\u001b[0m\u001b[1;33m(\u001b[0m\u001b[1;34m\"result\"\u001b[0m\u001b[1;33m)\u001b[0m\u001b[1;33m:\u001b[0m\u001b[1;33m\u001b[0m\u001b[1;33m\u001b[0m\u001b[0m\n\u001b[0;32m    390\u001b[0m             \u001b[1;32mraise\u001b[0m \u001b[0mException\u001b[0m\u001b[1;33m(\u001b[0m\u001b[1;34m\"Failed to send transaction\"\u001b[0m\u001b[1;33m)\u001b[0m\u001b[1;33m\u001b[0m\u001b[1;33m\u001b[0m\u001b[0m\n",
      "\u001b[1;31mRPCException\u001b[0m: {'code': -32002, 'message': 'Transaction simulation failed: Error processing Instruction 0: invalid account data for instruction', 'data': {'accounts': None, 'err': {'InstructionError': [0, 'InvalidAccountData']}, 'logs': ['Program 53toELc2ZRKUQKcbCcpq3JfUxu6CamAfKWThxbHuiwCP invoke [1]', 'Program log: right before table data deserialization', 'Program log: table data indicates table is already on the lobby, an issue stems there', 'Program 53toELc2ZRKUQKcbCcpq3JfUxu6CamAfKWThxbHuiwCP consumed 13742 of 200000 compute units', 'Program 53toELc2ZRKUQKcbCcpq3JfUxu6CamAfKWThxbHuiwCP failed: invalid account data for instruction'], 'unitsConsumed': 0}}"
     ]
    }
   ],
   "source": [
    "transaction = Transaction()\n",
    "transaction.add(TransactionInstruction(\n",
    "    accounts,\n",
    "    program_id,\n",
    "    bytes([0])\n",
    "))\n",
    "f\"https://explorer.solana.com/tx/{client.send_transaction(transaction, payer_keypair)['result']}?cluster=devnet\""
   ]
  },
  {
   "cell_type": "code",
   "execution_count": 68,
   "metadata": {},
   "outputs": [
    {
     "data": {
      "text/plain": [
       "Container(all_tables=ListContainer([ListContainer([215, 242, 207, 230, 28, 123, 83, 227, 149, 242, 223, 49, 192, 71, 132, 223, 72, 128, 119, 24, 29, 10, 156, 64, 192, 195, 93, 191, 128, 70, 54, 134])]))"
      ]
     },
     "execution_count": 68,
     "metadata": {},
     "output_type": "execute_result"
    }
   ],
   "source": [
    "accountSchema = CStruct(\n",
    "    \"all_tables\" / Vec(U8[32])\n",
    ")\n",
    "\n",
    "getAccountInfo(client, lounge_pda) "
   ]
  }
 ],
 "metadata": {
  "interpreter": {
   "hash": "b68919eb655d0773185a23d07bc600bc0399219a4090e8bc721f64f37132571c"
  },
  "kernelspec": {
   "display_name": "Python 3.9.7",
   "language": "python",
   "name": "python3"
  },
  "language_info": {
   "codemirror_mode": {
    "name": "ipython",
    "version": 3
   },
   "file_extension": ".py",
   "mimetype": "text/x-python",
   "name": "python",
   "nbconvert_exporter": "python",
   "pygments_lexer": "ipython3",
   "version": "3.9.7"
  },
  "orig_nbformat": 4
 },
 "nbformat": 4,
 "nbformat_minor": 2
}
