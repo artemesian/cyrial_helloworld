{
 "cells": [
  {
   "cell_type": "code",
   "execution_count": 1,
   "metadata": {},
   "outputs": [
    {
     "data": {
      "text/plain": [
       "True"
      ]
     },
     "execution_count": 1,
     "metadata": {},
     "output_type": "execute_result"
    }
   ],
   "source": [
    "import solana\n",
    "from solana.publickey import PublicKey\n",
    "from solana.rpc.api import Client\n",
    "from solana.keypair import Keypair\n",
    "from solana import system_program\n",
    "from solana import transaction\n",
    "from solana.system_program import SYS_PROGRAM_ID, CreateAccountParams, create_account\n",
    "from solana.transaction import *\n",
    "from spl.token.constants import TOKEN_PROGRAM_ID, ASSOCIATED_TOKEN_PROGRAM_ID\n",
    "from spl.token.instructions import initialize_mint, InitializeMintParams\n",
    "from spl.token._layouts import MINT_LAYOUT\n",
    "from spl.token.client import Token\n",
    "from spl.token import instructions\n",
    "import base64\n",
    "import base58\n",
    "from borsh_construct import *\n",
    "from solana.rpc.commitment import Commitment\n",
    "import time\n",
    "import sys\n",
    "sys.path.append('../../GlobalRepo/')\n",
    "from global_repo import *\n",
    "\n",
    "client = Client(\"https://api.devnet.solana.com\")\n",
    "\n",
    "client.is_connected()"
   ]
  },
  {
   "cell_type": "code",
   "execution_count": 2,
   "metadata": {},
   "outputs": [],
   "source": [
    "program_id = LOUNGE_PROGRAM_ID\n",
    "\n",
    "sys_program_meta = AccountMeta(SYS_PROGRAM_ID, False, False)\n",
    "spl_program_meta  = AccountMeta(TOKEN_PROGRAM_ID, False, False)\n"
   ]
  },
  {
   "cell_type": "code",
   "execution_count": 3,
   "metadata": {},
   "outputs": [
    {
     "data": {
      "text/plain": [
       "2ZHc9QxDDaJwqNEFzpAGUrvxCWZSNnXSffHxV9hG2axp"
      ]
     },
     "execution_count": 3,
     "metadata": {},
     "output_type": "execute_result"
    }
   ],
   "source": [
    "def getAccountInfo(client: Client, account_pk: PublicKey):\n",
    "    \"\"\"Fetch account information from RPC, parse out the data and deserialize\"\"\"\n",
    "    comm = Commitment(\"confirmed\")\n",
    "    res = client.get_account_info(account_pk, comm, encoding='base64')\n",
    "    data = res['result']\n",
    "    if isinstance(data, dict):\n",
    "        return accountSchema.parse(base64.urlsafe_b64decode(data['value']['data'][0]))\n",
    "    else:\n",
    "        raise AttributeError(f'Unknown RPC result {data}')\n",
    "        \n",
    "\n",
    "payer_keypair = payer_keypair = Keypair.from_secret_key(base58.b58decode(\"mH4PkhAttpFXSrntbpiJgC8J6wHYFDK5PFWcPN53hMJKziWQucux7MFiW7uXnqKsAY3XBnxUtyVKnomZnD9JxHW\"))\n",
    "payer_keypair.public_key"
   ]
  },
  {
   "cell_type": "code",
   "execution_count": 4,
   "metadata": {},
   "outputs": [],
   "source": [
    "table_mint_id = PublicKey(\"FXyQAAPKHqxGcKtF9jPnchV1aL2iUdEfBEkkKpJhr6i1\")\n",
    "payer_table_associated_id = instructions.get_associated_token_address(payer_keypair.public_key, table_mint_id)\n",
    "(freeze_authority, nonce) = PublicKey.find_program_address([b\"table_mint_authority_pda\"], TABLES_PROGRAM_ID)\n",
    "table_data_pda, _ = PublicKey.find_program_address([b\"table_data_pda\", bytes(table_mint_id)], TABLES_PROGRAM_ID)\n",
    "lounge_pda, _ = PublicKey.find_program_address([b\"Tables_Lounge\"], program_id)\n",
    "authorizer_pda, _ = PublicKey.find_program_address([b\"authorizer_pda\"], program_id)\n",
    "\n",
    "\n",
    "payer_account_meta = AccountMeta(payer_keypair.public_key, True, False)\n",
    "table_mint_meta = AccountMeta(table_mint_id, False, True)\n",
    "payer_table_associated_meta = AccountMeta(payer_table_associated_id, False, True)\n",
    "freeze_authority_meta = AccountMeta(freeze_authority, False, False)\n",
    "table_data_pda_meta = AccountMeta(table_data_pda, False, True)\n",
    "lounge_pda_meta = AccountMeta(lounge_pda, False, True)\n",
    "authorizer_pda_meta = AccountMeta(authorizer_pda, False, False)\n",
    "table_program_meta = AccountMeta(TABLES_PROGRAM_ID, False, False)\n",
    "\n",
    "\n"
   ]
  },
  {
   "cell_type": "code",
   "execution_count": 5,
   "metadata": {},
   "outputs": [
    {
     "data": {
      "text/plain": [
       "[AccountMeta(pubkey=2ZHc9QxDDaJwqNEFzpAGUrvxCWZSNnXSffHxV9hG2axp, is_signer=True, is_writable=False),\n",
       " AccountMeta(pubkey=FXyQAAPKHqxGcKtF9jPnchV1aL2iUdEfBEkkKpJhr6i1, is_signer=False, is_writable=True),\n",
       " AccountMeta(pubkey=vxkJFw2VgsU3Xz5JemxXjPMmkJSEHEs2fYGN35dPnHk, is_signer=False, is_writable=True),\n",
       " AccountMeta(pubkey=DdCFLwf3fc6XexU7KPDYqKzum11yXKtqB2pFGEvuMTyG, is_signer=False, is_writable=False),\n",
       " AccountMeta(pubkey=HDTWHBVcPsnauREX1wGoRjpXWvigbL4pRoTm8pf4x16h, is_signer=False, is_writable=True),\n",
       " AccountMeta(pubkey=5A9kxy6RK2xTGtZMboWvQhLqifWqfzPdxV9tYZ6mSosJ, is_signer=False, is_writable=True),\n",
       " AccountMeta(pubkey=FLmj5tyHqLGnJ64SomBCpuPWhGnD5qpP1v8TrTHFRPU3, is_signer=False, is_writable=False),\n",
       " AccountMeta(pubkey=TokenkegQfeZyiNwAJbNbGKPFXCWuBvf9Ss623VQ5DA, is_signer=False, is_writable=False),\n",
       " AccountMeta(pubkey=7fmmvCJ1uH4sfLCdZrDAjJnfHejwtFbYL7aG8nnNR6Yz, is_signer=False, is_writable=False)]"
      ]
     },
     "execution_count": 5,
     "metadata": {},
     "output_type": "execute_result"
    }
   ],
   "source": [
    "accounts = [\n",
    "    payer_account_meta, \n",
    "    table_mint_meta,\n",
    "    payer_table_associated_meta,\n",
    "    freeze_authority_meta,\n",
    "    table_data_pda_meta,\n",
    "    lounge_pda_meta,\n",
    "    authorizer_pda_meta,\n",
    "    spl_program_meta,\n",
    "\n",
    "    \n",
    "    table_program_meta,\n",
    "]\n",
    "accounts"
   ]
  },
  {
   "cell_type": "code",
   "execution_count": 7,
   "metadata": {},
   "outputs": [
    {
     "data": {
      "text/plain": [
       "'https://explorer.solana.com/tx/3tRaRYYphcydHe8wFZwh9QQYucSQ9U9ZjQV12UWqabq9GJjLrPngBWmdb9icadTJZ4cPNMhMbj3ogvNb5JD7JGKG?cluster=devnet'"
      ]
     },
     "execution_count": 7,
     "metadata": {},
     "output_type": "execute_result"
    }
   ],
   "source": [
    "transaction = Transaction()\n",
    "transaction.add(TransactionInstruction(\n",
    "    accounts,\n",
    "    program_id,\n",
    "    bytes([1])\n",
    "))\n",
    "f\"https://explorer.solana.com/tx/{client.send_transaction(transaction, payer_keypair)['result']}?cluster=devnet\""
   ]
  },
  {
   "cell_type": "code",
   "execution_count": 8,
   "metadata": {},
   "outputs": [
    {
     "data": {
      "text/plain": [
       "Container(all_tables=ListContainer([]))"
      ]
     },
     "execution_count": 8,
     "metadata": {},
     "output_type": "execute_result"
    }
   ],
   "source": [
    "accountSchema = CStruct(\n",
    "    \"all_tables\" / Vec(U8[32])\n",
    ")\n",
    "\n",
    "getAccountInfo(client, lounge_pda) "
   ]
  }
 ],
 "metadata": {
  "interpreter": {
   "hash": "b68919eb655d0773185a23d07bc600bc0399219a4090e8bc721f64f37132571c"
  },
  "kernelspec": {
   "display_name": "Python 3.9.7",
   "language": "python",
   "name": "python3"
  },
  "language_info": {
   "codemirror_mode": {
    "name": "ipython",
    "version": 3
   },
   "file_extension": ".py",
   "mimetype": "text/x-python",
   "name": "python",
   "nbconvert_exporter": "python",
   "pygments_lexer": "ipython3",
   "version": "3.9.7"
  },
  "orig_nbformat": 4
 },
 "nbformat": 4,
 "nbformat_minor": 2
}
