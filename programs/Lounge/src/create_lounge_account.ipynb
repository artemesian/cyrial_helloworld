{
 "cells": [
  {
   "cell_type": "code",
   "execution_count": 1,
   "metadata": {},
   "outputs": [
    {
     "data": {
      "text/plain": [
       "True"
      ]
     },
     "execution_count": 1,
     "metadata": {},
     "output_type": "execute_result"
    }
   ],
   "source": [
    "import solana\n",
    "from solana.publickey import PublicKey\n",
    "from solana.rpc.api import Client\n",
    "from solana.keypair import Keypair\n",
    "from solana import system_program\n",
    "from solana import transaction\n",
    "from solana.system_program import SYS_PROGRAM_ID, CreateAccountParams, create_account\n",
    "from solana.transaction import *\n",
    "from spl.token.constants import TOKEN_PROGRAM_ID, ASSOCIATED_TOKEN_PROGRAM_ID\n",
    "from spl.token.instructions import initialize_mint, InitializeMintParams\n",
    "from spl.token._layouts import MINT_LAYOUT\n",
    "from spl.token.client import Token\n",
    "from spl.token import instructions\n",
    "import base64\n",
    "import base58\n",
    "from borsh_construct import *\n",
    "from solana.rpc.commitment import Commitment\n",
    "import time\n",
    "import sys\n",
    "sys.path.append('../../GlobalRepo/')\n",
    "from global_repo import *\n",
    "\n",
    "client = Client(\"https://api.devnet.solana.com\")\n",
    "\n",
    "client.is_connected()"
   ]
  },
  {
   "cell_type": "code",
   "execution_count": 2,
   "metadata": {},
   "outputs": [],
   "source": [
    "program_id = LOUNGE_PROGRAM_ID\n",
    "\n",
    "seed = bytes([125,215,212,54,213,98,45,123]*4)\n",
    "payer_keypair = Keypair.from_seed(seed)\n",
    "\n",
    "(lounge_pda, _) = PublicKey.find_program_address([b'Tables_Lounge'], program_id)\n",
    "payer_account_meta = AccountMeta(payer_keypair.public_key, True, True)\n",
    "lounge_pda_meta = AccountMeta(lounge_pda, False, True)\n",
    "sys_program_meta = AccountMeta(SYS_PROGRAM_ID, False, False)\n",
    "\n",
    "accounts = [\n",
    "    payer_account_meta,\n",
    "    lounge_pda_meta,\n",
    "\n",
    "\n",
    "    sys_program_meta,\n",
    "]\n"
   ]
  },
  {
   "cell_type": "code",
   "execution_count": 3,
   "metadata": {},
   "outputs": [
    {
     "data": {
      "text/plain": [
       "'https://explorer.solana.com/tx/kRTqh5sUaSgeV2qtcppiC6zDqKtULFy39sZQyvyMExwUCZ17gsDV3dH1xsHZ3xxbD2Rz8EMSrejJLmJRFqsf5qC?cluster=devnet'"
      ]
     },
     "execution_count": 3,
     "metadata": {},
     "output_type": "execute_result"
    }
   ],
   "source": [
    "transaction = Transaction()\n",
    "transaction.add(TransactionInstruction(\n",
    "    accounts,\n",
    "    program_id,\n",
    "    bytes([3])\n",
    "))\n",
    "f\"https://explorer.solana.com/tx/{client.send_transaction(transaction, payer_keypair)['result']}?cluster=devnet\""
   ]
  },
  {
   "cell_type": "code",
   "execution_count": 5,
   "metadata": {},
   "outputs": [
    {
     "data": {
      "text/plain": [
       "(5A9kxy6RK2xTGtZMboWvQhLqifWqfzPdxV9tYZ6mSosJ, 255)"
      ]
     },
     "execution_count": 5,
     "metadata": {},
     "output_type": "execute_result"
    }
   ],
   "source": [
    "PublicKey.find_program_address([b\"Tables_Lounge\"], program_id)"
   ]
  }
 ],
 "metadata": {
  "interpreter": {
   "hash": "b68919eb655d0773185a23d07bc600bc0399219a4090e8bc721f64f37132571c"
  },
  "kernelspec": {
   "display_name": "Python 3.9.7",
   "language": "python",
   "name": "python3"
  },
  "language_info": {
   "codemirror_mode": {
    "name": "ipython",
    "version": 3
   },
   "file_extension": ".py",
   "mimetype": "text/x-python",
   "name": "python",
   "nbconvert_exporter": "python",
   "pygments_lexer": "ipython3",
   "version": "3.9.7"
  },
  "orig_nbformat": 4
 },
 "nbformat": 4,
 "nbformat_minor": 2
}
