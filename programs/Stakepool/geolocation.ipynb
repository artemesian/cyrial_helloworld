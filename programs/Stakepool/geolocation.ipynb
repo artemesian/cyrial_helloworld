{
 "cells": [
  {
   "cell_type": "code",
   "execution_count": 2,
   "metadata": {},
   "outputs": [
    {
     "data": {
      "text/plain": [
       "True"
      ]
     },
     "execution_count": 2,
     "metadata": {},
     "output_type": "execute_result"
    }
   ],
   "source": [
    "import solana\n",
    "from solana.publickey import PublicKey\n",
    "from solana.rpc.api import Client\n",
    "from solana.keypair import Keypair\n",
    "from solana import system_program\n",
    "from solana import transaction\n",
    "from solana.system_program import SYS_PROGRAM_ID, CreateAccountParams, create_account\n",
    "from solana.transaction import *\n",
    "from spl.token.constants import TOKEN_PROGRAM_ID, ASSOCIATED_TOKEN_PROGRAM_ID\n",
    "from spl.token.instructions import initialize_mint, InitializeMintParams, get_associated_token_address\n",
    "from spl.token._layouts import MINT_LAYOUT\n",
    "from spl.token.client import Token\n",
    "from spl.token import instructions\n",
    "import base64\n",
    "from borsh_construct import *\n",
    "from solana.rpc.commitment import Commitment\n",
    "import time\n",
    "import requests\n",
    "import concurrent.futures\n",
    "\n",
    "\n",
    "client = Client(\"https://api.devnet.solana.com\")\n",
    "\n",
    "client.is_connected()"
   ]
  },
  {
   "cell_type": "code",
   "execution_count": 18,
   "metadata": {},
   "outputs": [
    {
     "data": {
      "text/plain": [
       "['current', 'delinquent']"
      ]
     },
     "execution_count": 18,
     "metadata": {},
     "output_type": "execute_result"
    }
   ],
   "source": [
    "[i for i in client.get_vote_accounts()['result']]"
   ]
  },
  {
   "cell_type": "code",
   "execution_count": 21,
   "metadata": {},
   "outputs": [
    {
     "data": {
      "text/plain": [
       "11"
      ]
     },
     "execution_count": 21,
     "metadata": {},
     "output_type": "execute_result"
    }
   ],
   "source": [
    "activated= client.get_vote_accounts()['result']['current']\n",
    "\n",
    "len(activated)"
   ]
  },
  {
   "cell_type": "code",
   "execution_count": 3,
   "metadata": {},
   "outputs": [],
   "source": [
    "fin_nodes = [node['gossip'].split(\":\")[0] for node in nodes]\n",
    "# fin_nodes"
   ]
  },
  {
   "cell_type": "code",
   "execution_count": 4,
   "metadata": {},
   "outputs": [],
   "source": [
    "\n",
    "\n",
    "def geo_get(ip):\n",
    "    while True:\n",
    "        try:\n",
    "            req = requests.get(f\"http://apiip.net/api/check?accessKey=f8d67005-f924-4e3d-84b5-1cb2d66be880&ip={ip}\").json()\n",
    "            # print(req)\n",
    "            return req\n",
    "        except Exception as e:\n",
    "            # print(e)\n",
    "            time.sleep(15)\n"
   ]
  },
  {
   "cell_type": "code",
   "execution_count": 5,
   "metadata": {},
   "outputs": [],
   "source": [
    "result = []\n",
    "with concurrent.futures.ThreadPoolExecutor() as executor:\n",
    "    results = executor.map(geo_get, fin_nodes)\n",
    "for i in results:\n",
    "    result.append(i)\n"
   ]
  },
  {
   "cell_type": "code",
   "execution_count": null,
   "metadata": {},
   "outputs": [],
   "source": [
    "fin_results = []\n",
    "cnt = 0\n",
    "for i in result:\n",
    "    try:\n",
    "        if i['latitude'] < 20:\n",
    "            # print(i)\n",
    "            fin_results.append(i)\n",
    "    except Exception as e:\n",
    "        cnt +=1\n",
    "        # print(e)\n",
    "        pass\n",
    "cnt"
   ]
  },
  {
   "cell_type": "code",
   "execution_count": null,
   "metadata": {},
   "outputs": [
    {
     "data": {
      "text/plain": [
       "[['Asia', 'United States'],\n",
       " ['Asia', 'Singapore'],\n",
       " ['Asia', 'United States'],\n",
       " ['Africa', 'Seychelles'],\n",
       " ['Asia', 'United States'],\n",
       " ['Asia', 'United States'],\n",
       " ['Asia', 'United States'],\n",
       " ['Africa', 'Seychelles'],\n",
       " ['Asia', 'United States'],\n",
       " ['Africa', 'Seychelles'],\n",
       " ['Asia', 'United States'],\n",
       " ['Asia', 'United States'],\n",
       " ['Asia', 'United States'],\n",
       " ['Oceania', 'United States'],\n",
       " ['Oceania', 'United States'],\n",
       " ['Asia', 'United States'],\n",
       " ['Asia', 'United States'],\n",
       " ['Asia', 'United States'],\n",
       " ['Asia', 'United States'],\n",
       " ['Asia', 'United States'],\n",
       " ['Asia', 'United States'],\n",
       " ['Asia', 'United States'],\n",
       " ['Asia', 'United States'],\n",
       " ['Asia', 'United States'],\n",
       " ['Asia', 'United States'],\n",
       " ['Asia', 'United States'],\n",
       " ['Asia', 'United States'],\n",
       " ['Asia', 'Singapore'],\n",
       " ['Asia', 'United States'],\n",
       " ['Asia', 'United States'],\n",
       " ['Asia', 'United States'],\n",
       " ['Asia', 'United States'],\n",
       " ['Asia', 'United States'],\n",
       " ['Asia', 'United States'],\n",
       " ['Asia', 'United States'],\n",
       " ['Asia', 'United States'],\n",
       " ['Asia', 'United States'],\n",
       " ['Asia', 'United States'],\n",
       " ['Asia', 'United States'],\n",
       " ['Asia', 'United States'],\n",
       " ['Asia', 'United States'],\n",
       " ['Asia', 'United States'],\n",
       " ['Asia', 'United States'],\n",
       " ['Oceania', 'United States'],\n",
       " ['Asia', 'Ireland'],\n",
       " ['Asia', 'United States'],\n",
       " ['Asia', 'United States'],\n",
       " ['Asia', 'United States'],\n",
       " ['Asia', 'United States'],\n",
       " ['Oceania', 'United States'],\n",
       " ['Oceania', 'United States'],\n",
       " ['Asia', 'United States'],\n",
       " ['Oceania', 'United States'],\n",
       " ['Asia', 'United States'],\n",
       " ['Asia', 'United States'],\n",
       " ['Asia', 'United States'],\n",
       " ['Asia', 'United States'],\n",
       " ['Asia', 'United States'],\n",
       " ['Asia', 'United States'],\n",
       " ['Asia', 'United States'],\n",
       " ['Asia', 'United States'],\n",
       " ['Asia', 'United States'],\n",
       " ['Asia', 'United States'],\n",
       " ['Asia', 'United States'],\n",
       " ['Asia', 'United States'],\n",
       " ['Asia', 'United States'],\n",
       " ['Asia', 'United States'],\n",
       " ['Asia', 'United States'],\n",
       " ['Asia', 'United States'],\n",
       " ['Oceania', 'United States'],\n",
       " ['Oceania', 'United States'],\n",
       " ['Oceania', 'United States'],\n",
       " ['Asia', 'United States'],\n",
       " ['Asia', 'Singapore'],\n",
       " ['Asia', 'United States'],\n",
       " ['Asia', 'United States'],\n",
       " ['Asia', 'United States'],\n",
       " ['Asia', 'United States'],\n",
       " ['Asia', 'United States'],\n",
       " ['Asia', 'United States'],\n",
       " ['Asia', 'United States'],\n",
       " ['Asia', 'United States'],\n",
       " ['Asia', 'United States'],\n",
       " ['Asia', 'United States'],\n",
       " ['Asia', 'United States'],\n",
       " ['Asia', 'United States'],\n",
       " ['Asia', 'United States'],\n",
       " ['Asia', 'United States'],\n",
       " ['Asia', 'United States'],\n",
       " ['Asia', 'United States'],\n",
       " ['Asia', 'United States'],\n",
       " ['Asia', 'United States'],\n",
       " ['Asia', 'United States'],\n",
       " ['Asia', 'United States'],\n",
       " ['Asia', 'United States'],\n",
       " ['Asia', 'United States'],\n",
       " ['Asia', 'United States'],\n",
       " ['Asia', 'United States'],\n",
       " ['Asia', 'United States'],\n",
       " ['Asia', 'United States'],\n",
       " ['Asia', 'United States']]"
      ]
     },
     "execution_count": 52,
     "metadata": {},
     "output_type": "execute_result"
    }
   ],
   "source": [
    "[[i['continentName'],i['countryName']] for i in fin_results]"
   ]
  }
 ],
 "metadata": {
  "interpreter": {
   "hash": "b68919eb655d0773185a23d07bc600bc0399219a4090e8bc721f64f37132571c"
  },
  "kernelspec": {
   "display_name": "Python 3.9.7",
   "language": "python",
   "name": "python3"
  },
  "language_info": {
   "codemirror_mode": {
    "name": "ipython",
    "version": 3
   },
   "file_extension": ".py",
   "mimetype": "text/x-python",
   "name": "python",
   "nbconvert_exporter": "python",
   "pygments_lexer": "ipython3",
   "version": "3.9.7"
  },
  "orig_nbformat": 4
 },
 "nbformat": 4,
 "nbformat_minor": 2
}
