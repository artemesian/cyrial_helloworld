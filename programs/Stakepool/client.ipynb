{
 "cells": [
  {
   "cell_type": "code",
   "execution_count": 2,
   "metadata": {},
   "outputs": [
    {
     "data": {
      "text/plain": [
       "True"
      ]
     },
     "execution_count": 2,
     "metadata": {},
     "output_type": "execute_result"
    }
   ],
   "source": [
    "import solana\n",
    "from solana.publickey import PublicKey\n",
    "from solana.rpc.async_api import AsyncClient\n",
    "from solana.keypair import Keypair\n",
    "from solana import system_program as sys\n",
    "from solana import transaction\n",
    "from solana.system_program import SYS_PROGRAM_ID, CreateAccountParams, create_account\n",
    "from solana.transaction import *\n",
    "from spl.token.constants import TOKEN_PROGRAM_ID, ASSOCIATED_TOKEN_PROGRAM_ID\n",
    "# from spl.token.instructions import initialize_mint, InitializeMintParams, get_associated_token_address\n",
    "from spl.token._layouts import MINT_LAYOUT\n",
    "from spl.token.client import Token\n",
    "from spl.token import instructions\n",
    "import base64\n",
    "import time\n",
    "from borsh_construct import *\n",
    "from solana.rpc.commitment import Commitment\n",
    "from stake_pool.actions import create_all\n",
    "from stake_pool.state import Fee\n",
    "# import asyncio\n",
    "\n",
    "\n",
    "from solana.publickey import PublicKey\n",
    "solana_client = AsyncClient(\"https://api.devnet.solana.com\")\n",
    "await solana_client.is_connected()"
   ]
  },
  {
   "cell_type": "code",
   "execution_count": 110,
   "metadata": {},
   "outputs": [],
   "source": [
    "\n",
    "\n"
   ]
  },
  {
   "cell_type": "code",
   "execution_count": 7,
   "metadata": {},
   "outputs": [
    {
     "data": {
      "text/plain": [
       "7xhiCThbECSxgc582AFUwTEkLSUqfcsBeyWLQd2o9p2k"
      ]
     },
     "execution_count": 7,
     "metadata": {},
     "output_type": "execute_result"
    }
   ],
   "source": [
    "# stakepool_keypair = Keypair.from_seed(b\"seemslikeIneed@newstakepoolsomeh\")\n",
    "manager_keypair = Keypair.from_seed(b\"helloworldmynameisdsoldaomanager\")\n",
    "# staker_keypair =  Keypair.from_seed(b\"helloworldmynameisdsoldaostaker_\")\n",
    "# withdraw_authority, withdraw_bump = PublicKey.find_program_address([bytes(stakepool_keypair.public_key), b\"withdraw\"], stakepool_program_id)\n",
    "# validator_list_keypair = Keypair.generate()\n",
    "# reserve_keypair = Keypair.generate()\n",
    "# pool_mint = Keypair.generate()\n",
    "# manager_fee_pubkey = instructions.get_associated_token_address(manager_keypair.public_key, pool_mint.public_key)\n",
    "# deposit_authority =   Keypair.from_seed(b\"backendsignaturetonecessarytrans\")\n",
    "\n",
    "# client.request_airdrop(manager_keypair.public_key, 10**7)\n",
    "manager_keypair.public_key"
   ]
  },
  {
   "cell_type": "code",
   "execution_count": 4,
   "metadata": {},
   "outputs": [],
   "source": [
    "epoch_fee = Fee(numerator=1, denominator=1000)\n",
    "withdrawal_fee = Fee(numerator=3, denominator=1000)\n",
    "deposit_fee = Fee(numerator=3, denominator=1000)"
   ]
  },
  {
   "cell_type": "code",
   "execution_count": 5,
   "metadata": {},
   "outputs": [
    {
     "name": "stdout",
     "output_type": "stream",
     "text": [
      "Creating stake BysCnVrQZrUJkYo36bcGvnt2HKnxHycEoRZcwsBL4ne3\n",
      "Creating pool token mint A4SjjdhLgcUxupnhShoPo62ACW79bMX47JutkqWFMgsQ\n"
     ]
    },
    {
     "data": {
      "text/plain": [
       "(BHEXdxcCEYD9or7LPYH95P1SsAiQKzYZRiEoVgdi8C8o,\n",
       " BTGPgRuDFoMBQVJQH7FT6TA5YNb7XKNBDYL5Snos2xeo)"
      ]
     },
     "execution_count": 5,
     "metadata": {},
     "output_type": "execute_result"
    }
   ],
   "source": [
    "await create_all(solana_client, manager_keypair, withdrawal_fee, 5 )"
   ]
  }
 ],
 "metadata": {
  "interpreter": {
   "hash": "b68919eb655d0773185a23d07bc600bc0399219a4090e8bc721f64f37132571c"
  },
  "kernelspec": {
   "display_name": "Python 3.9.7",
   "language": "python",
   "name": "python3"
  },
  "language_info": {
   "codemirror_mode": {
    "name": "ipython",
    "version": 3
   },
   "file_extension": ".py",
   "mimetype": "text/x-python",
   "name": "python",
   "nbconvert_exporter": "python",
   "pygments_lexer": "ipython3",
   "version": "3.9.7"
  },
  "orig_nbformat": 4
 },
 "nbformat": 4,
 "nbformat_minor": 2
}
