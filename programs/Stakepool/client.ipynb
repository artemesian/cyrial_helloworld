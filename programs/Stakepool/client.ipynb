{
 "cells": [
  {
   "cell_type": "code",
   "execution_count": 1,
   "metadata": {},
   "outputs": [
    {
     "data": {
      "text/plain": [
       "True"
      ]
     },
     "execution_count": 1,
     "metadata": {},
     "output_type": "execute_result"
    }
   ],
   "source": [
    "import solana\n",
    "from solana.publickey import PublicKey\n",
    "from solana.rpc.api import Client\n",
    "from solana.keypair import Keypair\n",
    "from solana import system_program\n",
    "from solana import transaction\n",
    "from solana.system_program import SYS_PROGRAM_ID, CreateAccountParams, create_account\n",
    "from solana.transaction import *\n",
    "from spl.token.constants import TOKEN_PROGRAM_ID, ASSOCIATED_TOKEN_PROGRAM_ID\n",
    "# from spl.token.instructions import initialize_mint, InitializeMintParams, get_associated_token_address\n",
    "from spl.token._layouts import MINT_LAYOUT\n",
    "from spl.token.client import Token\n",
    "from spl.token import instructions\n",
    "import base64\n",
    "from borsh_construct import *\n",
    "from solana.rpc.commitment import Commitment\n",
    "\n",
    "\n",
    "\n",
    "client = Client(\"https://api.devnet.solana.com\")\n",
    "\n",
    "client.is_connected()\n"
   ]
  },
  {
   "cell_type": "code",
   "execution_count": 2,
   "metadata": {},
   "outputs": [],
   "source": [
    "stakepool_program_id = PublicKey(\"SPoo1Ku8WFXoNDMHPsrGSTSG1Y47rzgn41SLUNakuHy\")\n",
    "\n",
    "from stake_pool.instructions import initialize, InitializeParams\n",
    "from stake_pool.state import Fee\n",
    "\n",
    "\n"
   ]
  },
  {
   "cell_type": "code",
   "execution_count": 10,
   "metadata": {},
   "outputs": [],
   "source": [
    "stakepool_keypair = Keypair.from_seed(b\"seemslikeIneed@newstakepoolsomeh\")\n",
    "manager_keypair = Keypair.from_seed(b\"helloworldmynameisdsoldaomanager\")\n",
    "staker_keypair =  Keypair.from_seed(b\"helloworldmynameisdsoldaostaker_\")\n",
    "withdraw_authority, withdraw_bump = PublicKey.find_program_address([bytes(stakepool_keypair.public_key), b\"withdraw\"], stakepool_program_id)\n",
    "validator_list_keypair = Keypair.generate()\n",
    "reserve_keypair = Keypair.generate()\n",
    "pool_mint = Keypair.generate()\n",
    "manager_fee_keypair = Keypair.from_seed(b\"helloworldmymanager'sfeesaccount\")\n",
    "deposit_authority =   Keypair.from_seed(b\"backendsignaturetonecessarytrans\")"
   ]
  },
  {
   "cell_type": "code",
   "execution_count": 7,
   "metadata": {},
   "outputs": [],
   "source": [
    "epoch_fee = Fee(numerator=1, denominator=1000)\n",
    "withdrawal_fee = Fee(numerator=3, denominator=1000)\n",
    "deposit_fee = Fee(numerator=3, denominator=1000)"
   ]
  },
  {
   "cell_type": "code",
   "execution_count": 9,
   "metadata": {},
   "outputs": [
    {
     "data": {
      "text/plain": [
       "<solana.transaction.Transaction at 0x284522fda90>"
      ]
     },
     "execution_count": 9,
     "metadata": {},
     "output_type": "execute_result"
    }
   ],
   "source": [
    "\n",
    "\n",
    "transaction = Transaction()\n",
    "transaction.add(\n",
    "    initialize(InitializeParams(program_id=stakepool_program_id,stake_pool=stakepool_keypair.public_key, manager=manager_keypair.public_key, staker=staker_keypair.public_key, withdraw_authority=withdraw_authority, validator_list=validator_list_keypair.public_key, reserve_stake=reserve_keypair.public_key, pool_mint=pool_mint.public_key, manager_fee_account=manager_fee_keypair.public_key, token_program_id=TOKEN_PROGRAM_ID, epoch_fee=epoch_fee, withdrawal_fee=withdrawal_fee, deposit_fee=deposit_fee, referral_fee=5, max_validators=1000, deposit_authority=deposit_authority))\n",
    ")"
   ]
  },
  {
   "cell_type": "code",
   "execution_count": null,
   "metadata": {},
   "outputs": [],
   "source": []
  }
 ],
 "metadata": {
  "interpreter": {
   "hash": "b68919eb655d0773185a23d07bc600bc0399219a4090e8bc721f64f37132571c"
  },
  "kernelspec": {
   "display_name": "Python 3.9.7",
   "language": "python",
   "name": "python3"
  },
  "language_info": {
   "codemirror_mode": {
    "name": "ipython",
    "version": 3
   },
   "file_extension": ".py",
   "mimetype": "text/x-python",
   "name": "python",
   "nbconvert_exporter": "python",
   "pygments_lexer": "ipython3",
   "version": "3.9.7"
  },
  "orig_nbformat": 4
 },
 "nbformat": 4,
 "nbformat_minor": 2
}
