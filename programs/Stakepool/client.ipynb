{
 "cells": [
  {
   "cell_type": "code",
   "execution_count": 9,
   "metadata": {},
   "outputs": [
    {
     "name": "stderr",
     "output_type": "stream",
     "text": [
      "Health check failed with error: [Errno 11002] getaddrinfo failed\n"
     ]
    },
    {
     "data": {
      "text/plain": [
       "False"
      ]
     },
     "execution_count": 9,
     "metadata": {},
     "output_type": "execute_result"
    }
   ],
   "source": [
    "import solana\n",
    "from solana.publickey import PublicKey\n",
    "from solana.rpc.async_api import AsyncClient\n",
    "from solana.keypair import Keypair\n",
    "from solana import system_program as sys\n",
    "from solana import transaction\n",
    "from solana.system_program import SYS_PROGRAM_ID, CreateAccountParams, create_account\n",
    "from solana.transaction import *\n",
    "from spl.token.constants import TOKEN_PROGRAM_ID, ASSOCIATED_TOKEN_PROGRAM_ID\n",
    "# from spl.token.instructions import initialize_mint, InitializeMintParams, get_associated_token_address\n",
    "from spl.token._layouts import MINT_LAYOUT\n",
    "from spl.token.client import Token\n",
    "from spl.token import instructions\n",
    "import base64\n",
    "import time\n",
    "from borsh_construct import *\n",
    "from solana.rpc.commitment import Commitment\n",
    "from stake_pool.actions import create_all\n",
    "from stake_pool.state import Fee\n",
    "from bot import rebalance\n",
    "# import asyncio\n",
    "\n",
    "\n",
    "from solana.publickey import PublicKey\n",
    "solana_client = AsyncClient(\"https://api.devnet.solana.com\")\n",
    "await solana_client.is_connected()"
   ]
  },
  {
   "cell_type": "code",
   "execution_count": 110,
   "metadata": {},
   "outputs": [],
   "source": [
    "\n",
    "\n"
   ]
  },
  {
   "cell_type": "code",
   "execution_count": 10,
   "metadata": {},
   "outputs": [
    {
     "data": {
      "text/plain": [
       "7xhiCThbECSxgc582AFUwTEkLSUqfcsBeyWLQd2o9p2k"
      ]
     },
     "execution_count": 10,
     "metadata": {},
     "output_type": "execute_result"
    }
   ],
   "source": [
    "# stakepool_keypair = Keypair.from_seed(b\"seemslikeIneed@newstakepoolsomeh\")\n",
    "manager_keypair = Keypair.from_seed(b\"helloworldmynameisdsoldaomanager\")\n",
    "# staker_keypair =  Keypair.from_seed(b\"helloworldmynameisdsoldaostaker_\")\n",
    "# withdraw_authority, withdraw_bump = PublicKey.find_program_address([bytes(stakepool_keypair.public_key), b\"withdraw\"], stakepool_program_id)\n",
    "# validator_list_keypair = Keypair.generate()\n",
    "# reserve_keypair = Keypair.generate()\n",
    "# pool_mint = Keypair.generate()\n",
    "# manager_fee_pubkey = instructions.get_associated_token_address(manager_keypair.public_key, pool_mint.public_key)\n",
    "# deposit_authority =   Keypair.from_seed(b\"backendsignaturetonecessarytrans\")\n",
    "\n",
    "# client.request_airdrop(manager_keypair.public_key, 10**7)\n",
    "manager_keypair.public_key"
   ]
  },
  {
   "cell_type": "code",
   "execution_count": 4,
   "metadata": {},
   "outputs": [],
   "source": [
    "epoch_fee = Fee(numerator=1, denominator=1000)\n",
    "withdrawal_fee = Fee(numerator=3, denominator=1000)\n",
    "deposit_fee = Fee(numerator=3, denominator=1000)"
   ]
  },
  {
   "cell_type": "code",
   "execution_count": 5,
   "metadata": {},
   "outputs": [
    {
     "name": "stdout",
     "output_type": "stream",
     "text": [
      "Creating stake BysCnVrQZrUJkYo36bcGvnt2HKnxHycEoRZcwsBL4ne3\n",
      "Creating pool token mint A4SjjdhLgcUxupnhShoPo62ACW79bMX47JutkqWFMgsQ\n"
     ]
    },
    {
     "data": {
      "text/plain": [
       "(BHEXdxcCEYD9or7LPYH95P1SsAiQKzYZRiEoVgdi8C8o,\n",
       " BTGPgRuDFoMBQVJQH7FT6TA5YNb7XKNBDYL5Snos2xeo)"
      ]
     },
     "execution_count": 5,
     "metadata": {},
     "output_type": "execute_result"
    }
   ],
   "source": [
    "# await create_all(solana_client, manager_keypair, withdrawal_fee, 5 )"
   ]
  },
  {
   "cell_type": "code",
   "execution_count": 11,
   "metadata": {},
   "outputs": [
    {
     "name": "stdout",
     "output_type": "stream",
     "text": [
      "Connecting to network at https://api.devnet.solana.com\n",
      "Stake pool last update epoch 275, current epoch 276\n",
      "Updating stake pool\n",
      "Container: \n",
      "    account_type = 2\n",
      "    max_validators = 2950\n",
      "    validators_len = 0\n",
      "    validators = ListContainer: \n",
      "Container: \n",
      "    account_type = 2\n",
      "    max_validators = 2950\n",
      "    validators_len = 0\n",
      "    validators = ListContainer: \n",
      "Stake pool stats:\n",
      "* 3000000001 total lamports\n",
      "* 0 validators\n",
      "* Retaining 100000000000 lamports in the reserve\n"
     ]
    },
    {
     "ename": "ZeroDivisionError",
     "evalue": "integer division or modulo by zero",
     "output_type": "error",
     "traceback": [
      "\u001b[1;31m---------------------------------------------------------------------------\u001b[0m",
      "\u001b[1;31mZeroDivisionError\u001b[0m                         Traceback (most recent call last)",
      "\u001b[1;32m~\\AppData\\Local\\Temp/ipykernel_38180/3176046858.py\u001b[0m in \u001b[0;36m<module>\u001b[1;34m\u001b[0m\n\u001b[0;32m      1\u001b[0m \u001b[0mENDPOINT\u001b[0m \u001b[1;33m=\u001b[0m \u001b[1;34m\"https://api.devnet.solana.com\"\u001b[0m\u001b[1;33m\u001b[0m\u001b[1;33m\u001b[0m\u001b[0m\n\u001b[0;32m      2\u001b[0m \u001b[1;33m\u001b[0m\u001b[0m\n\u001b[1;32m----> 3\u001b[1;33m \u001b[1;32mawait\u001b[0m \u001b[0mrebalance\u001b[0m\u001b[1;33m.\u001b[0m\u001b[0mrebalance\u001b[0m\u001b[1;33m(\u001b[0m\u001b[0mENDPOINT\u001b[0m\u001b[1;33m,\u001b[0m \u001b[0mPublicKey\u001b[0m\u001b[1;33m(\u001b[0m\u001b[1;34m\"BHEXdxcCEYD9or7LPYH95P1SsAiQKzYZRiEoVgdi8C8o\"\u001b[0m\u001b[1;33m)\u001b[0m\u001b[1;33m,\u001b[0m \u001b[0mmanager_keypair\u001b[0m\u001b[1;33m,\u001b[0m \u001b[1;36m100\u001b[0m\u001b[1;33m)\u001b[0m\u001b[1;33m\u001b[0m\u001b[1;33m\u001b[0m\u001b[0m\n\u001b[0m",
      "\u001b[1;32mc:\\Users\\ckamd\\OneDrive\\Desktop\\Rust_Solana\\cyrial_helloworld\\programs\\Stakepool\\bot\\rebalance.py\u001b[0m in \u001b[0;36mrebalance\u001b[1;34m(endpoint, stake_pool_address, staker, retained_reserve_amount)\u001b[0m\n\u001b[0;32m     61\u001b[0m     \u001b[0mprint\u001b[0m\u001b[1;33m(\u001b[0m\u001b[1;34mf'* {num_validators} validators'\u001b[0m\u001b[1;33m)\u001b[0m\u001b[1;33m\u001b[0m\u001b[1;33m\u001b[0m\u001b[0m\n\u001b[0;32m     62\u001b[0m     \u001b[0mprint\u001b[0m\u001b[1;33m(\u001b[0m\u001b[1;34mf'* Retaining {retained_reserve_lamports} lamports in the reserve'\u001b[0m\u001b[1;33m)\u001b[0m\u001b[1;33m\u001b[0m\u001b[1;33m\u001b[0m\u001b[0m\n\u001b[1;32m---> 63\u001b[1;33m     \u001b[0mlamports_per_validator\u001b[0m \u001b[1;33m=\u001b[0m \u001b[1;33m(\u001b[0m\u001b[0mstake_pool\u001b[0m\u001b[1;33m.\u001b[0m\u001b[0mtotal_lamports\u001b[0m \u001b[1;33m-\u001b[0m \u001b[0mretained_reserve_lamports\u001b[0m\u001b[1;33m)\u001b[0m \u001b[1;33m//\u001b[0m \u001b[0mnum_validators\u001b[0m\u001b[1;33m\u001b[0m\u001b[1;33m\u001b[0m\u001b[0m\n\u001b[0m\u001b[0;32m     64\u001b[0m     num_increases = sum([\n\u001b[0;32m     65\u001b[0m         \u001b[1;36m1\u001b[0m \u001b[1;32mfor\u001b[0m \u001b[0mvalidator\u001b[0m \u001b[1;32min\u001b[0m \u001b[0mvalidator_list\u001b[0m\u001b[1;33m.\u001b[0m\u001b[0mvalidators\u001b[0m\u001b[1;33m\u001b[0m\u001b[1;33m\u001b[0m\u001b[0m\n",
      "\u001b[1;31mZeroDivisionError\u001b[0m: integer division or modulo by zero"
     ]
    }
   ],
   "source": [
    "ENDPOINT = \"https://api.devnet.solana.com\"\n",
    "\n",
    "await rebalance.rebalance(ENDPOINT, PublicKey(\"BHEXdxcCEYD9or7LPYH95P1SsAiQKzYZRiEoVgdi8C8o\"), manager_keypair, 100)"
   ]
  }
 ],
 "metadata": {
  "interpreter": {
   "hash": "b68919eb655d0773185a23d07bc600bc0399219a4090e8bc721f64f37132571c"
  },
  "kernelspec": {
   "display_name": "Python 3.9.7",
   "language": "python",
   "name": "python3"
  },
  "language_info": {
   "codemirror_mode": {
    "name": "ipython",
    "version": 3
   },
   "file_extension": ".py",
   "mimetype": "text/x-python",
   "name": "python",
   "nbconvert_exporter": "python",
   "pygments_lexer": "ipython3",
   "version": "3.9.7"
  },
  "orig_nbformat": 4
 },
 "nbformat": 4,
 "nbformat_minor": 2
}
