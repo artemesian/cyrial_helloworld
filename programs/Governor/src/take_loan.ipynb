{
 "cells": [
  {
   "cell_type": "code",
   "execution_count": 26,
   "metadata": {},
   "outputs": [
    {
     "data": {
      "text/plain": [
       "True"
      ]
     },
     "execution_count": 26,
     "metadata": {},
     "output_type": "execute_result"
    }
   ],
   "source": [
    "import solana\n",
    "from solana.publickey import PublicKey\n",
    "from solana.rpc.api import Client\n",
    "from solana.keypair import Keypair\n",
    "from solana import system_program\n",
    "from solana import transaction\n",
    "from solana.system_program import SYS_PROGRAM_ID, CreateAccountParams, create_account\n",
    "from solana.transaction import *\n",
    "from spl.token.constants import TOKEN_PROGRAM_ID, ASSOCIATED_TOKEN_PROGRAM_ID\n",
    "from spl.token.instructions import initialize_mint, InitializeMintParams, get_associated_token_address\n",
    "from spl.token._layouts import MINT_LAYOUT\n",
    "from spl.token.client import Token\n",
    "from spl.token import instructions\n",
    "import base64\n",
    "import base58\n",
    "from borsh_construct import *\n",
    "from solana.rpc.commitment import Commitment\n",
    "import time\n",
    "\n",
    "\n",
    "client = Client(\"https://api.devnet.solana.com\")\n",
    "\n",
    "client.is_connected()"
   ]
  },
  {
   "cell_type": "code",
   "execution_count": null,
   "metadata": {},
   "outputs": [],
   "source": []
  },
  {
   "cell_type": "code",
   "execution_count": 27,
   "metadata": {},
   "outputs": [],
   "source": [
    "def getAccountInfo(client: Client, account_pk: PublicKey):\n",
    "    \"\"\"Fetch account information from RPC, parse out the data and deserialize\"\"\"\n",
    "    comm = Commitment(\"confirmed\")\n",
    "    res = client.get_account_info(account_pk, comm, encoding='base64')\n",
    "    data = res['result']\n",
    "    if isinstance(data, dict):\n",
    "        return accountSchema.parse(base64.urlsafe_b64decode(data['value']['data'][0]))\n",
    "    else:\n",
    "        raise AttributeError(f'Unknown RPC result {data}')"
   ]
  },
  {
   "cell_type": "code",
   "execution_count": 28,
   "metadata": {},
   "outputs": [],
   "source": [
    "program_id = PublicKey(\"8Ga7yNCYJiJ6HLTZMu14iNh6una9AGZvuM4n9napx1v3\")\n",
    "# program_id_account_meta = AccountMeta(program_id, False, False)\n",
    "sys_program_meta = AccountMeta(SYS_PROGRAM_ID, False, False)\n",
    "spl_program_meta  = AccountMeta(TOKEN_PROGRAM_ID, False, False)\n",
    "# program_id_account_meta"
   ]
  },
  {
   "cell_type": "code",
   "execution_count": 29,
   "metadata": {},
   "outputs": [
    {
     "data": {
      "text/plain": [
       "2ZHc9QxDDaJwqNEFzpAGUrvxCWZSNnXSffHxV9hG2axp"
      ]
     },
     "execution_count": 29,
     "metadata": {},
     "output_type": "execute_result"
    }
   ],
   "source": [
    "seed = bytes([125,215,212,54,213,98,45,123]*4)\n",
    "payer_keypair = payer_keypair = Keypair.from_secret_key(base58.b58decode(\"mH4PkhAttpFXSrntbpiJgC8J6wHYFDK5PFWcPN53hMJKziWQucux7MFiW7uXnqKsAY3XBnxUtyVKnomZnD9JxHW\"))\n",
    "governor_mint = PublicKey(\"Aus1568aZYNXkqhHv9j6BNx5mpbmWURkQAnpHRXuxfBf\")\n",
    "payer_keypair.public_key"
   ]
  },
  {
   "cell_type": "code",
   "execution_count": null,
   "metadata": {},
   "outputs": [],
   "source": []
  },
  {
   "cell_type": "code",
   "execution_count": 30,
   "metadata": {},
   "outputs": [],
   "source": [
    "# mint_account = Keypair.generate()\n",
    "storage_bump = 2;\n",
    "\n",
    "vault_pda, _ = PublicKey.find_program_address([b\"Governor_Vault\"], program_id)\n",
    "\n",
    "payer_account_meta = AccountMeta(payer_keypair.public_key, True, True)\n",
    "\n",
    "rent_account_meta = AccountMeta(solana.sysvar.SYSVAR_RENT_PUBKEY, False, False)\n",
    "spl_program_meta  = AccountMeta(TOKEN_PROGRAM_ID, False, False)\n",
    "(all_loans_pda, _all_loans_pda_bump) = PublicKey.find_program_address([b\"All Governor Loans\"], program_id);\n",
    "(storage_pda, storage_pda_bump) = PublicKey.find_program_address([b\"Loan_Storage\", bytes(payer_keypair.public_key), storage_bump.to_bytes(4,\"big\")], program_id);\n",
    "governor_data_pda, _ = PublicKey.find_program_address([b\"governor_data_pda\", bytes(governor_mint)], program_id)\n",
    "\n",
    "\n",
    "mint_account_meta = AccountMeta(governor_mint, False, False)\n",
    "(sales_pda, sales_nonce) = PublicKey.find_program_address([b'sales_pda', bytes(program_id)], program_id)\n",
    "sales_pda_meta = AccountMeta(sales_pda, False, False)\n",
    "associated_address = get_associated_token_address(payer_keypair.public_key, mint_account_meta.pubkey)\n",
    "associated_account_meta = AccountMeta(associated_address, False, True)\n",
    "all_loans_meta = AccountMeta(all_loans_pda, False, True)\n",
    "storage_account_meta = AccountMeta(storage_pda, False, True)\n",
    "storage_pda_associated = get_associated_token_address(storage_pda, mint_account_meta.pubkey)\n",
    "storage_associated_meta = AccountMeta(storage_pda_associated, False, True)\n",
    "vault_account_meta = AccountMeta(vault_pda, False, True)\n",
    "governor_data_meta = AccountMeta(governor_data_pda, False, True)\n",
    "sysvar_clock_meta = AccountMeta(solana.sysvar.SYSVAR_CLOCK_PUBKEY, False, False)\n",
    "rent_account_meta = AccountMeta(solana.sysvar.SYSVAR_RENT_PUBKEY, False, False)\n",
    "associated_program_meta = AccountMeta(ASSOCIATED_TOKEN_PROGRAM_ID, False, False)\n"
   ]
  },
  {
   "cell_type": "code",
   "execution_count": 31,
   "metadata": {},
   "outputs": [],
   "source": [
    "accounts = [\n",
    "    payer_account_meta,\n",
    "    mint_account_meta,\n",
    "    sales_pda_meta,\n",
    "    associated_account_meta,\n",
    "    all_loans_meta,\n",
    "    storage_account_meta,\n",
    "    storage_associated_meta,\n",
    "    vault_account_meta,\n",
    "    governor_data_meta,\n",
    "    spl_program_meta,\n",
    "    sys_program_meta,\n",
    "    rent_account_meta,\n",
    "    sysvar_clock_meta,\n",
    "\n",
    "    # sys_program_meta,\n",
    "    associated_program_meta, \n",
    "    spl_program_meta, \n",
    "    sys_program_meta, \n",
    "    \n",
    "]"
   ]
  },
  {
   "cell_type": "code",
   "execution_count": 32,
   "metadata": {},
   "outputs": [
    {
     "data": {
      "text/plain": [
       "'https://explorer.solana.com/tx/PWg1ZfYmxqC1mqVUhvQELw2s8df743Gg3xH68spUDh74T95j31n8WHvXJa91nZaA46QdQ3gdAWPxbjEFbiUGdu6?cluster=devnet'"
      ]
     },
     "execution_count": 32,
     "metadata": {},
     "output_type": "execute_result"
    }
   ],
   "source": [
    "    \n",
    "transaction = Transaction()\n",
    "transaction.add(TransactionInstruction(\n",
    "    accounts,\n",
    "    program_id,\n",
    "    bytes([2,0,0,0,255,3,0,0,0,storage_bump])\n",
    "))\n",
    "f\"https://explorer.solana.com/tx/{client.send_transaction(transaction, payer_keypair)['result']}?cluster=devnet\""
   ]
  }
 ],
 "metadata": {
  "interpreter": {
   "hash": "b68919eb655d0773185a23d07bc600bc0399219a4090e8bc721f64f37132571c"
  },
  "kernelspec": {
   "display_name": "Python 3.9.7",
   "language": "python",
   "name": "python3"
  },
  "language_info": {
   "codemirror_mode": {
    "name": "ipython",
    "version": 3
   },
   "file_extension": ".py",
   "mimetype": "text/x-python",
   "name": "python",
   "nbconvert_exporter": "python",
   "pygments_lexer": "ipython3",
   "version": "3.9.7"
  },
  "orig_nbformat": 4
 },
 "nbformat": 4,
 "nbformat_minor": 2
}
