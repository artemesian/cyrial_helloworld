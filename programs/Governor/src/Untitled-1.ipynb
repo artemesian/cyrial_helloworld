{
 "cells": [
  {
   "cell_type": "code",
   "execution_count": null,
   "metadata": {},
   "outputs": [],
   "source": []
  },
  {
   "cell_type": "code",
   "execution_count": 11,
   "metadata": {},
   "outputs": [
    {
     "data": {
      "text/plain": [
       "True"
      ]
     },
     "execution_count": 11,
     "metadata": {},
     "output_type": "execute_result"
    }
   ],
   "source": [
    "import solana\n",
    "from solana.publickey import PublicKey\n",
    "from solana.rpc.api import Client\n",
    "from solana.keypair import Keypair\n",
    "from solana import system_program\n",
    "from solana import transaction\n",
    "from solana.system_program import SYS_PROGRAM_ID, CreateAccountParams, create_account\n",
    "from solana.transaction import *\n",
    "from spl.token.constants import TOKEN_PROGRAM_ID, ASSOCIATED_TOKEN_PROGRAM_ID\n",
    "from spl.token.instructions import initialize_mint, InitializeMintParams\n",
    "from spl.token._layouts import MINT_LAYOUT\n",
    "from spl.token.client import Token\n",
    "from spl.token import instructions\n",
    "import base64\n",
    "from borsh_construct import *\n",
    "from solana.rpc.commitment import Commitment\n",
    "import time\n",
    "\n",
    "\n",
    "client = Client(\"https://api.devnet.solana.com\")\n",
    "\n",
    "client.is_connected()"
   ]
  },
  {
   "cell_type": "code",
   "execution_count": 12,
   "metadata": {},
   "outputs": [],
   "source": [
    "program_id = PublicKey(\"DdyiDbh71JnpYbxdA9i4ECcd573sTm8Uur2GCgcB3P5k\")\n",
    "# program_id_account_meta = AccountMeta(program_id, False, False)\n",
    "sys_program_meta = AccountMeta(SYS_PROGRAM_ID, False, False)\n",
    "spl_program_meta  = AccountMeta(TOKEN_PROGRAM_ID, False, False)\n",
    "# program_id_account_meta"
   ]
  },
  {
   "cell_type": "code",
   "execution_count": 13,
   "metadata": {},
   "outputs": [],
   "source": [
    "# client.request_airdrop(PublicKey(\"DxkiJXK31VEd4R6F44mQRszoUQugpPYMwL9ybcrnt22r\"), 2000000000)"
   ]
  },
  {
   "cell_type": "code",
   "execution_count": 14,
   "metadata": {},
   "outputs": [],
   "source": [
    "def getAccountInfo(client: Client, account_pk: PublicKey):\n",
    "    \"\"\"Fetch account information from RPC, parse out the data and deserialize\"\"\"\n",
    "    comm = Commitment(\"confirmed\")\n",
    "    res = client.get_account_info(account_pk, comm, encoding='base64')\n",
    "    data = res['result']\n",
    "    if isinstance(data, dict):\n",
    "        return accountSchema.parse(base64.urlsafe_b64decode(data['value']['data'][0]))\n",
    "    else:\n",
    "        raise AttributeError(f'Unknown RPC result {data}')"
   ]
  },
  {
   "cell_type": "code",
   "execution_count": 15,
   "metadata": {},
   "outputs": [],
   "source": [
    "seed = bytes([125,215,212,54,213,98,45,123]*4)\n",
    "payer_keypair = Keypair.from_seed(seed)\n",
    "# client.request_airdrop(payer_keypair.public_key, 2*10**9)"
   ]
  },
  {
   "cell_type": "code",
   "execution_count": 16,
   "metadata": {},
   "outputs": [],
   "source": [
    "mint_account = Keypair.generate()\n",
    "\n",
    "seed1 = bytes([225,215,211,54,213,18,25,122]*4)\n",
    "vault_keypair = Keypair.from_seed(seed1)\n",
    "\n",
    "payer_account_meta = AccountMeta(payer_keypair.public_key, True, True)\n",
    "vault_account_meta = AccountMeta(PublicKey(\"G473EkeR5gowVn8CRwTSDop3zPwaNixwp62qi7nyVf4z\"), False, True)\n",
    "\n",
    "rent_account_meta = AccountMeta(solana.sysvar.SYSVAR_RENT_PUBKEY, False, False)\n",
    "spl_program_meta  = AccountMeta(TOKEN_PROGRAM_ID, False, False)\n"
   ]
  },
  {
   "cell_type": "code",
   "execution_count": 17,
   "metadata": {},
   "outputs": [
    {
     "data": {
      "text/plain": [
       "HzugB5CiTrSr3SZkN3p9cudYoA1R1swzgE68vpFwfQoP"
      ]
     },
     "execution_count": 17,
     "metadata": {},
     "output_type": "execute_result"
    }
   ],
   "source": [
    "mint_account_meta = AccountMeta(mint_account.public_key, True, True)\n",
    "associated_token_address = instructions.get_associated_token_address(payer_keypair.public_key, mint_account.public_key)\n",
    "associated_account_meta = AccountMeta(associated_token_address, False, True)\n",
    "\n",
    "(mint_authority, nonce) = PublicKey.find_program_address([b'cyrial_pda'], program_id)\n",
    "(avatar_data_pda, avatar_pda_nonce) = PublicKey.find_program_address([b'avatar_data_pda', bytes(mint_account_meta.pubkey), bytes(associated_account_meta.pubkey)], program_id)\n",
    "(sales_pda, sales_nonce) = PublicKey.find_program_address([b'sales_pda', bytes(program_id)], program_id)\n",
    "metadata_program_pubkey = PublicKey(\"metaqbxxUerdq28cj1RbAWkYQm3ybzjb6a8bt518x1s\")\n",
    "(metadata_pda, metadata_nonce) = PublicKey.find_program_address([b'metadata', bytes(metadata_program_pubkey), bytes(mint_account_meta.pubkey)], metadata_program_pubkey)\n",
    "\n",
    "\n",
    "avatar_data_pda_meta = AccountMeta(avatar_data_pda, False, True)\n",
    "sysvar_clock_meta = AccountMeta(solana.sysvar.SYSVAR_CLOCK_PUBKEY, False, False)\n",
    "sales_pda_meta = AccountMeta(sales_pda, False, True)\n",
    "mint_authority_meta = AccountMeta(mint_authority, False, False)\n",
    "\n",
    "accounts = [\n",
    "    payer_account_meta, \n",
    "    vault_account_meta, \n",
    "    mint_account_meta, \n",
    "    rent_account_meta, \n",
    "    associated_account_meta,\n",
    "    spl_program_meta,\n",
    "    AccountMeta(SYS_PROGRAM_ID, False, False),\n",
    "    mint_authority_meta,\n",
    "    avatar_data_pda_meta,\n",
    "    sales_pda_meta,\n",
    "    AccountMeta(metadata_pda, False, True),\n",
    "    sysvar_clock_meta,\n",
    "\n",
    "    spl_program_meta,\n",
    "    AccountMeta(ASSOCIATED_TOKEN_PROGRAM_ID, False, False),\n",
    "    spl_program_meta,\n",
    "    spl_program_meta,\n",
    "    AccountMeta(metadata_program_pubkey, False, False),\n",
    "    ]\n",
    "\n",
    "mint_account_meta.pubkey"
   ]
  },
  {
   "cell_type": "code",
   "execution_count": 18,
   "metadata": {},
   "outputs": [
    {
     "data": {
      "text/plain": [
       "'https://explorer.solana.com/tx/4ya13A72f84aqNxQ7de6A8yqWVCiFHmcscxH4ZHDVmJT5qGhtNHeKTc7WvLBHMNGeQP12zBPkPbS5GcA57NcfuqQ?cluster=devnet'"
      ]
     },
     "execution_count": 18,
     "metadata": {},
     "output_type": "execute_result"
    }
   ],
   "source": [
    "    \n",
    "transaction = Transaction()\n",
    "transaction.add(TransactionInstruction(\n",
    "    accounts,\n",
    "    program_id,\n",
    "    bytes([0])\n",
    "))\n",
    "f\"https://explorer.solana.com/tx/{client.send_transaction(transaction, payer_keypair, mint_account)['result']}?cluster=devnet\""
   ]
  },
  {
   "cell_type": "code",
   "execution_count": 19,
   "metadata": {},
   "outputs": [
    {
     "name": "stdout",
     "output_type": "stream",
     "text": [
      "PDA: (C3aVsFBFcMqzJQy6pxoMzJvq9hoHjq2rXtGNfxM7CGqJ, 255)\n"
     ]
    },
    {
     "data": {
      "text/plain": [
       "Container(vault_total=19.965702056884766, counter=12)"
      ]
     },
     "execution_count": 19,
     "metadata": {},
     "output_type": "execute_result"
    }
   ],
   "source": [
    "\n",
    "accountSchema = CStruct(\n",
    "    \"vault_total\" / F32,\n",
    "    \"counter\" / U32,\n",
    ")\n",
    "\n",
    "(sales_pda, sales_nonce) = PublicKey.find_program_address([b'sales_pda', bytes(program_id)], program_id)\n",
    "print(f\"PDA: {sales_pda, sales_nonce}\")\n",
    "\n",
    "getAccountInfo(client,sales_pda)"
   ]
  },
  {
   "cell_type": "code",
   "execution_count": 20,
   "metadata": {},
   "outputs": [
    {
     "name": "stdout",
     "output_type": "stream",
     "text": [
      "PDA: (6CmbS5CQPXL3VNYs44XECCcYA3N8nnU79S1FRnVZiYV6, 253)\n"
     ]
    },
    {
     "data": {
      "text/plain": [
       "Container(date_created=1645374454, unlockable_date=1645374542, numeration=11, rarity=1, level=0, xp=0)"
      ]
     },
     "execution_count": 20,
     "metadata": {},
     "output_type": "execute_result"
    }
   ],
   "source": [
    "accountSchema = CStruct(\n",
    "    \"date_created\" / U32,\n",
    "    \"unlockable_date\" / U32,\n",
    "    \"numeration\" /U32,\n",
    "    \"rarity\" / U8,\n",
    "    \"level\" / U8,\n",
    "    \"xp\" / U32,\n",
    ")\n",
    "\n",
    "\n",
    "(locktime_pda, locktime_nonce) = PublicKey.find_program_address([b'locktime_pda', bytes(mint_account_meta.pubkey), bytes(associated_account_meta.pubkey)], program_id)\n",
    "print(f\"PDA: {avatar_data_pda, avatar_pda_nonce}\")\n",
    "\n",
    "getAccountInfo(client,avatar_data_pda)"
   ]
  },
  {
   "cell_type": "code",
   "execution_count": 36,
   "metadata": {},
   "outputs": [],
   "source": [
    "time.sleep(120)\n",
    "\n",
    "new_accounts = [\n",
    "    mint_account_meta,\n",
    "    associated_account_meta,\n",
    "    spl_program_meta,\n",
    "    mint_authority_meta,\n",
    "    avatar_data_pda_meta,\n",
    "    sysvar_clock_meta,\n",
    "\n",
    "    spl_program_meta\n",
    "]\n",
    "\n",
    "transaction = Transaction()\n",
    "transaction.add(TransactionInstruction(\n",
    "    new_accounts,\n",
    "    program_id,\n",
    "    bytes([1])\n",
    "))\n",
    "f\"https://explorer.solana.com/tx/{client.send_transaction(transaction, payer_keypair, mint_account)['result']}?cluster=devnet\""
   ]
  }
 ],
 "metadata": {
  "interpreter": {
   "hash": "b3ba2566441a7c06988d0923437866b63cedc61552a5af99d1f4fb67d367b25f"
  },
  "kernelspec": {
   "display_name": "Python 3.8.8 64-bit ('base': conda)",
   "language": "python",
   "name": "python3"
  },
  "language_info": {
   "codemirror_mode": {
    "name": "ipython",
    "version": 3
   },
   "file_extension": ".py",
   "mimetype": "text/x-python",
   "name": "python",
   "nbconvert_exporter": "python",
   "pygments_lexer": "ipython3",
   "version": "3.9.7"
  },
  "orig_nbformat": 4
 },
 "nbformat": 4,
 "nbformat_minor": 2
}
