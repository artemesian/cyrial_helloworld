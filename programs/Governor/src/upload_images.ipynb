{
 "cells": [
  {
   "cell_type": "code",
   "execution_count": 10,
   "metadata": {},
   "outputs": [
    {
     "data": {
      "text/plain": [
       "0.0"
      ]
     },
     "execution_count": 10,
     "metadata": {},
     "output_type": "execute_result"
    }
   ],
   "source": [
    "from arweave.arweave_lib import Wallet, Transaction, API_URL\n",
    "import json\n",
    "import os\n",
    "from tqdm import tqdm\n",
    "\n",
    "# Load your arweave wallet\n",
    "your_ar_wallet = Wallet('arweave-key.json')\n",
    "your_ar_wallet.balance\n"
   ]
  },
  {
   "cell_type": "code",
   "execution_count": null,
   "metadata": {},
   "outputs": [],
   "source": []
  },
  {
   "cell_type": "code",
   "execution_count": 11,
   "metadata": {},
   "outputs": [
    {
     "data": {
      "text/plain": [
       "{'Common': [],\n",
       " 'Uncommon': [],\n",
       " 'Rare': [],\n",
       " 'Epic': [],\n",
       " 'Exalted': [],\n",
       " 'Unseen': []}"
      ]
     },
     "execution_count": 11,
     "metadata": {},
     "output_type": "execute_result"
    }
   ],
   "source": [
    "Rarities = [\"Common\", \"Uncommon\", \"Rare\", \"Epic\", \"Exalted\", \"Unseen\"]\n",
    "\n",
    "Report = {}\n",
    "for rarity in Rarities:\n",
    "    Report[rarity] = []\n",
    "Report\n"
   ]
  },
  {
   "cell_type": "code",
   "execution_count": 12,
   "metadata": {},
   "outputs": [
    {
     "name": "stderr",
     "output_type": "stream",
     "text": [
      "100%|██████████| 6/6 [01:53<00:00, 18.93s/it]\n"
     ]
    }
   ],
   "source": [
    "\n",
    "for rarity in tqdm(Rarities):\n",
    "\n",
    "    arr = os.listdir(f'./Governors/{rarity}')\n",
    "\n",
    "    for img in arr:\n",
    "\n",
    "        with open(f'./Governors/{rarity}/{img}', 'rb') as f:\n",
    "            img_in_bytes = f.read()\n",
    "\n",
    "    # Upload image to Arweave\n",
    "        transaction = Transaction(your_ar_wallet, data=img_in_bytes)\n",
    "        transaction.add_tag('Content-Type', 'image/png')\n",
    "        transaction.sign()\n",
    "        transaction.send()\n",
    "\n",
    "        image_url = API_URL+\"/\"+transaction.id\n",
    "\n",
    "        metadata = {\n",
    "        \"name\": \"Dsol DAO\",\n",
    "        \"symbol\": \"DsolG\",\n",
    "        \"description\": \"Further Decentralizing Solana Via Gamification\",\n",
    "        \"seller_fee_basis_points\": 500,\n",
    "        \"external_url\": \"https://www.DsolDao.io\",\n",
    "        \"attributes\": [\n",
    "            {\n",
    "                \"trait_type\": \"Generation\",\n",
    "                \"value\": \"1\"\n",
    "            }\n",
    "        ],\n",
    "        \"collection\": {\n",
    "            \"name\": \"Dsol DAO Governors\",\n",
    "            \"family\": rarity,\n",
    "        },\n",
    "        \"properties\": {\n",
    "            \"files\": [\n",
    "                {\n",
    "                    \"uri\": image_url,\n",
    "                    \"type\": \"image/png\",\n",
    "                },\n",
    "            ],\n",
    "            \"category\": \"image\",\n",
    "            \"maxSupply\": None,\n",
    "            \"creators\":[\n",
    "                {\n",
    "                \"address\": \"BxHRC3Qu6x4ieKr9ML4i3ZgBFC2riWELG35g63jJ2ed4\",\n",
    "                \"verified\":1,\n",
    "                \"share\": 0,\n",
    "                },\n",
    "                {\n",
    "                \"address\": \"25N4Q6k5PPFmeqAco84y7UuM1w9bNmyJdssoJLJ9GqXv\",\n",
    "                \"verified\": 1,\n",
    "                \"share\": 100,\n",
    "                }\n",
    "                ],\n",
    "        },\n",
    "        \"image\": image_url,\n",
    "        }\n",
    "\n",
    "\n",
    "            # Upload metadata to Arweave\n",
    "        meta_transaction = Transaction(your_ar_wallet, data=json.dumps(metadata))\n",
    "        meta_transaction.add_tag('Content-Type', 'text/html')\n",
    "        meta_transaction.sign()\n",
    "        meta_transaction.send()\n",
    "\n",
    "        metadata_url = API_URL+\"/\"+meta_transaction.id\n",
    "\n",
    "        Report[rarity].append(metadata_url)"
   ]
  },
  {
   "cell_type": "code",
   "execution_count": 13,
   "metadata": {},
   "outputs": [
    {
     "data": {
      "text/plain": [
       "{'Common': ['https://arweave.net/pmASLjixcfT6YRjdbwuCBJJwT0cmiQqxHyq0kZVrlSs'],\n",
       " 'Uncommon': ['https://arweave.net/71Bjq4M8mcTmntK5no8ve7yQyN1JBD5VBhAodYubcX0'],\n",
       " 'Rare': ['https://arweave.net/QoNfFG8DY7jRFZXHGUXG-vqVJ30UknIf_vKWlSeLlYM'],\n",
       " 'Epic': ['https://arweave.net/eP77-xr2Nq6DrpcEXFo-1Oo6dFPTRsyKVczjm0rMlbY'],\n",
       " 'Exalted': ['https://arweave.net/_RM4x73TluNcMCIx8mrI9PopQeQkBfsEjX-rrujwFvg'],\n",
       " 'Unseen': ['https://arweave.net/Q-I6v_z3MjL877Czaljgk7pz5iRXbtgApW-o0RqYrWg']}"
      ]
     },
     "execution_count": 13,
     "metadata": {},
     "output_type": "execute_result"
    }
   ],
   "source": [
    "Report"
   ]
  }
 ],
 "metadata": {
  "interpreter": {
   "hash": "b68919eb655d0773185a23d07bc600bc0399219a4090e8bc721f64f37132571c"
  },
  "kernelspec": {
   "display_name": "Python 3.9.7 64-bit (conda)",
   "language": "python",
   "name": "python3"
  },
  "language_info": {
   "codemirror_mode": {
    "name": "ipython",
    "version": 3
   },
   "file_extension": ".py",
   "mimetype": "text/x-python",
   "name": "python",
   "nbconvert_exporter": "python",
   "pygments_lexer": "ipython3",
   "version": "3.9.7"
  },
  "orig_nbformat": 4
 },
 "nbformat": 4,
 "nbformat_minor": 2
}
