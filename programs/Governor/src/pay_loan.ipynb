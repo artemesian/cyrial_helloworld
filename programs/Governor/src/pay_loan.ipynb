{
 "cells": [
  {
   "cell_type": "code",
   "execution_count": 63,
   "metadata": {},
   "outputs": [
    {
     "data": {
      "text/plain": [
       "True"
      ]
     },
     "execution_count": 63,
     "metadata": {},
     "output_type": "execute_result"
    }
   ],
   "source": [
    "import solana\n",
    "from solana.publickey import PublicKey\n",
    "from solana.rpc.api import Client\n",
    "from solana.keypair import Keypair\n",
    "from solana import system_program\n",
    "from solana import transaction\n",
    "from solana.system_program import SYS_PROGRAM_ID, CreateAccountParams, create_account\n",
    "from solana.transaction import *\n",
    "from spl.token.constants import TOKEN_PROGRAM_ID, ASSOCIATED_TOKEN_PROGRAM_ID\n",
    "from spl.token.instructions import initialize_mint, InitializeMintParams, get_associated_token_address\n",
    "from spl.token._layouts import MINT_LAYOUT\n",
    "from spl.token.client import Token\n",
    "from spl.token import instructions\n",
    "import base64\n",
    "import base58\n",
    "from borsh_construct import *\n",
    "from solana.rpc.commitment import Commitment\n",
    "import time\n",
    "\n",
    "\n",
    "client = Client(\"https://api.devnet.solana.com\")\n",
    "\n",
    "client.is_connected()"
   ]
  },
  {
   "cell_type": "code",
   "execution_count": 64,
   "metadata": {},
   "outputs": [],
   "source": [
    "def getAccountInfo(client: Client, account_pk: PublicKey):\n",
    "    \"\"\"Fetch account information from RPC, parse out the data and deserialize\"\"\"\n",
    "    comm = Commitment(\"confirmed\")\n",
    "    res = client.get_account_info(account_pk, comm, encoding='base64')\n",
    "    data = res['result']\n",
    "    if isinstance(data, dict):\n",
    "        return accountSchema.parse(base64.urlsafe_b64decode(data['value']['data'][0]))\n",
    "    else:\n",
    "        raise AttributeError(f'Unknown RPC result {data}')"
   ]
  },
  {
   "cell_type": "code",
   "execution_count": 65,
   "metadata": {},
   "outputs": [],
   "source": [
    "program_id = PublicKey(\"GWJQHiudaVnhBmvCkRmMPeWs2rffhG2fmkXVRJHM9t5s\")\n",
    "\n",
    "sys_program_meta = AccountMeta(SYS_PROGRAM_ID, False, False)\n",
    "spl_program_meta  = AccountMeta(TOKEN_PROGRAM_ID, False, False)\n"
   ]
  },
  {
   "cell_type": "code",
   "execution_count": 66,
   "metadata": {},
   "outputs": [
    {
     "data": {
      "text/plain": [
       "2ZHc9QxDDaJwqNEFzpAGUrvxCWZSNnXSffHxV9hG2axp"
      ]
     },
     "execution_count": 66,
     "metadata": {},
     "output_type": "execute_result"
    }
   ],
   "source": [
    "seed = bytes([125,215,212,54,213,98,45,123]*4)\n",
    "payer_keypair = payer_keypair = Keypair.from_secret_key(base58.b58decode(\"mH4PkhAttpFXSrntbpiJgC8J6wHYFDK5PFWcPN53hMJKziWQucux7MFiW7uXnqKsAY3XBnxUtyVKnomZnD9JxHW\"))\n",
    "avatar_mint = PublicKey(\"8Z7vfkpxENuAV1joZZZDLmQmkUspgJuMhkLiUbq6jcjT\")\n",
    "avatar_program = PublicKey(\"DvTvXKZR9wveQzL3pBM7QJ9YZpConSXBXRTyDsEADNqX\")\n",
    "governor_mint = PublicKey(\"6d2BLJStQPCGC8U7m6zEDQ23SBhfkHmjGHSqCUXFqiP9\")\n",
    "payer_keypair.public_key"
   ]
  },
  {
   "cell_type": "code",
   "execution_count": 67,
   "metadata": {},
   "outputs": [],
   "source": [
    "# mint_account = Keypair.generate()\n",
    "storage_bump = 1;\n",
    "\n",
    "vault_pda, _ = PublicKey.find_program_address([b\"Governor_Vault\"], program_id)\n",
    "\n",
    "payer_account_meta = AccountMeta(payer_keypair.public_key, True, True)\n",
    "\n",
    "rent_account_meta = AccountMeta(solana.sysvar.SYSVAR_RENT_PUBKEY, False, False)\n",
    "spl_program_meta  = AccountMeta(TOKEN_PROGRAM_ID, False, False)\n",
    "(all_loans_pda, _all_loans_pda_bump) = PublicKey.find_program_address([b\"All Governor Loans\"], program_id);\n",
    "(storage_pda, storage_pda_bump) = PublicKey.find_program_address([b\"Loan_Storage\", bytes(payer_keypair.public_key), storage_bump.to_bytes(4,\"big\")], program_id);\n",
    "governor_data_pda, _ = PublicKey.find_program_address([b\"governor_data_pda\", bytes(governor_mint)], program_id)\n",
    "\n",
    "\n",
    "mint_account_meta = AccountMeta(governor_mint, False, False)\n",
    "(sales_pda, sales_nonce) = PublicKey.find_program_address([b'sales_pda', bytes(program_id)], program_id)\n",
    "sales_pda_meta = AccountMeta(sales_pda, False, False)\n",
    "associated_address = get_associated_token_address(payer_keypair.public_key, mint_account_meta.pubkey)\n",
    "associated_account_meta = AccountMeta(associated_address, False, True)\n",
    "all_loans_meta = AccountMeta(all_loans_pda, False, True)\n",
    "storage_account_meta = AccountMeta(storage_pda, False, True)\n",
    "storage_pda_associated = get_associated_token_address(storage_pda, mint_account_meta.pubkey)\n",
    "storage_associated_meta = AccountMeta(storage_pda_associated, False, True)\n",
    "vault_account_meta = AccountMeta(vault_pda, False, True)\n",
    "governor_data_meta = AccountMeta(governor_data_pda, False, True)\n",
    "sysvar_clock_meta = AccountMeta(solana.sysvar.SYSVAR_CLOCK_PUBKEY, False, False)\n",
    "rent_account_meta = AccountMeta(solana.sysvar.SYSVAR_RENT_PUBKEY, False, False)\n",
    "associated_program_meta = AccountMeta(ASSOCIATED_TOKEN_PROGRAM_ID, False, False)\n"
   ]
  },
  {
   "cell_type": "code",
   "execution_count": 68,
   "metadata": {},
   "outputs": [],
   "source": [
    "accounts = [\n",
    "    payer_account_meta,\n",
    "    # mint_account_meta,\n",
    "    # sales_pda_meta,\n",
    "    associated_account_meta,\n",
    "    all_loans_meta,\n",
    "    storage_account_meta,\n",
    "    storage_associated_meta,\n",
    "    vault_account_meta,\n",
    "    # governor_data_meta,\n",
    "    # spl_program_meta,\n",
    "    # sys_program_meta,\n",
    "    # rent_account_meta,\n",
    "    sysvar_clock_meta,\n",
    "\n",
    "    sys_program_meta,\n",
    "    associated_program_meta, \n",
    "    spl_program_meta, \n",
    "    sys_program_meta, \n",
    "    \n",
    "]"
   ]
  },
  {
   "cell_type": "code",
   "execution_count": 72,
   "metadata": {},
   "outputs": [
    {
     "data": {
      "text/plain": [
       "'https://explorer.solana.com/tx/36YjYR2jLyPZvePczwdU66nXS3DroQgRBp5RpEz32XZsz6oNmzT5E4pobo1RJRw62SqR95xgXbX8nZ9SQ6jVWZUh?cluster=devnet'"
      ]
     },
     "execution_count": 72,
     "metadata": {},
     "output_type": "execute_result"
    }
   ],
   "source": [
    "    \n",
    "transaction = Transaction()\n",
    "transaction.add(TransactionInstruction(\n",
    "    accounts,\n",
    "    program_id,\n",
    "    bytes([4,0,0,0,2,100,0,0,0,storage_bump])\n",
    "))\n",
    "f\"https://explorer.solana.com/tx/{client.send_transaction(transaction, payer_keypair)['result']}?cluster=devnet\""
   ]
  },
  {
   "cell_type": "code",
   "execution_count": 74,
   "metadata": {},
   "outputs": [
    {
     "data": {
      "text/plain": [
       "0.61"
      ]
     },
     "execution_count": 74,
     "metadata": {},
     "output_type": "execute_result"
    }
   ],
   "source": [
    "# time.sleep(10)\n",
    "\n",
    "Payment = CStruct(\n",
    "    \"amount\" / U64,\n",
    "    \"time\" / U32\n",
    ")\n",
    "\n",
    "accountSchema = CStruct(\n",
    "    \"mint\" / U8[32],\n",
    "    \"initial_amount\" / U64,\n",
    "    \"amount_left\" / U64,\n",
    "    \"paymeents\" / Vec(Payment),\n",
    "    \"monthly_interest_numerator\" / U32,\n",
    "    \"monthly_interest_denominator\" / U32,\n",
    "    \"initial_loan_date\" / U32,\n",
    "    \"last_pay_date\" / U32,\n",
    "    \"is_loan_active\" / Bool\n",
    ")\n",
    "\n",
    "getAccountInfo(client, storage_account_meta.pubkey).amount_left/(10**9)"
   ]
  }
 ],
 "metadata": {
  "interpreter": {
   "hash": "b68919eb655d0773185a23d07bc600bc0399219a4090e8bc721f64f37132571c"
  },
  "kernelspec": {
   "display_name": "Python 3.9.7",
   "language": "python",
   "name": "python3"
  },
  "language_info": {
   "codemirror_mode": {
    "name": "ipython",
    "version": 3
   },
   "file_extension": ".py",
   "mimetype": "text/x-python",
   "name": "python",
   "nbconvert_exporter": "python",
   "pygments_lexer": "ipython3",
   "version": "3.9.7"
  },
  "orig_nbformat": 4
 },
 "nbformat": 4,
 "nbformat_minor": 2
}
