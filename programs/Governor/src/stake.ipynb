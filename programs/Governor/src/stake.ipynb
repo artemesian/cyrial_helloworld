{
 "cells": [
  {
   "cell_type": "code",
   "execution_count": 30,
   "metadata": {},
   "outputs": [
    {
     "data": {
      "text/plain": [
       "True"
      ]
     },
     "execution_count": 30,
     "metadata": {},
     "output_type": "execute_result"
    }
   ],
   "source": [
    "import solana\n",
    "from solana.publickey import PublicKey\n",
    "from solana.rpc.api import Client\n",
    "from solana.keypair import Keypair\n",
    "from solana import system_program\n",
    "from solana import transaction\n",
    "from solana.system_program import SYS_PROGRAM_ID, CreateAccountParams, create_account\n",
    "from solana.transaction import *\n",
    "from spl.token.constants import TOKEN_PROGRAM_ID, ASSOCIATED_TOKEN_PROGRAM_ID\n",
    "from spl.token.instructions import initialize_mint, InitializeMintParams, get_associated_token_address\n",
    "from spl.token._layouts import MINT_LAYOUT\n",
    "from spl.token.client import Token\n",
    "from spl.token import instructions\n",
    "import base64\n",
    "import base58\n",
    "from borsh_construct import *\n",
    "from solana.rpc.commitment import Commitment\n",
    "import time\n",
    "import sys\n",
    "sys.path.append('../../GlobalRepo/')\n",
    "from global_repo import *\n",
    "\n",
    "\n",
    "client = Client(\"https://api.devnet.solana.com\")\n",
    "\n",
    "client.is_connected()"
   ]
  },
  {
   "cell_type": "code",
   "execution_count": 44,
   "metadata": {},
   "outputs": [
    {
     "data": {
      "text/plain": [
       "[AccountMeta(pubkey=7xhiCThbECSxgc582AFUwTEkLSUqfcsBeyWLQd2o9p2k, is_signer=True, is_writable=False),\n",
       " AccountMeta(pubkey=BUiuAnKsaciN7tAr5wtZpFW32dUpovBWkFxzxXLKjxya, is_signer=False, is_writable=True),\n",
       " AccountMeta(pubkey=idAjrQrj6toXbBCp3ZL1LdhXo134xrppScBDGCMhpc4, is_signer=False, is_writable=True),\n",
       " AccountMeta(pubkey=25N4Q6k5PPFmeqAco84y7UuM1w9bNmyJdssoJLJ9GqXv, is_signer=False, is_writable=True),\n",
       " AccountMeta(pubkey=SysvarRent111111111111111111111111111111111, is_signer=False, is_writable=False),\n",
       " AccountMeta(pubkey=SysvarC1ock11111111111111111111111111111111, is_signer=False, is_writable=False),\n",
       " AccountMeta(pubkey=SysvarStakeHistory1111111111111111111111111, is_signer=False, is_writable=False),\n",
       " AccountMeta(pubkey=Stake11111111111111111111111111111111111111, is_signer=False, is_writable=False),\n",
       " AccountMeta(pubkey=StakeConfig11111111111111111111111111111111, is_signer=False, is_writable=False),\n",
       " AccountMeta(pubkey=11111111111111111111111111111111, is_signer=False, is_writable=False),\n",
       " AccountMeta(pubkey=Stake11111111111111111111111111111111111111, is_signer=False, is_writable=False),\n",
       " AccountMeta(pubkey=Stake11111111111111111111111111111111111111, is_signer=False, is_writable=False)]"
      ]
     },
     "execution_count": 44,
     "metadata": {},
     "output_type": "execute_result"
    }
   ],
   "source": [
    "manager_keypair = Keypair.from_seed(b\"helloworldmynameisdsoldaomanager\")\n",
    "staker_keypair = Keypair.generate()\n",
    "vault_pda, _ = PublicKey.find_program_address([b\"Governor_Vault\"], GOVERNOR_PROGRAM_ID)\n",
    "\n",
    "admin_account_meta = AccountMeta(manager_keypair.public_key, True, False)\n",
    "stake_account_meta = AccountMeta(staker_keypair.public_key, False, True)\n",
    "vote_account_meta = AccountMeta(PublicKey(\"idAjrQrj6toXbBCp3ZL1LdhXo134xrppScBDGCMhpc4\"), False, True)\n",
    "vault_account_meta = AccountMeta(vault_pda, False, True)\n",
    "rent_account_meta = AccountMeta(solana.sysvar.SYSVAR_RENT_PUBKEY, False, False)\n",
    "sysvar_clock_meta = AccountMeta(solana.sysvar.SYSVAR_CLOCK_PUBKEY, False, False)\n",
    "sysvar_stake_history_meta = AccountMeta(solana.sysvar.SYSVAR_STAKE_HISTORY_PUBKEY, False, False)\n",
    "stake_program_meta = AccountMeta(PublicKey(\"Stake11111111111111111111111111111111111111\"), False, False)\n",
    "sys_program_meta = AccountMeta(solana.system_program.SYS_PROGRAM_ID, False, False)\n",
    "stake_config_meta = AccountMeta(PublicKey(\"StakeConfig11111111111111111111111111111111\"), False, False)\n",
    "\n",
    "\n",
    "accounts = [\n",
    "    admin_account_meta,\n",
    "    stake_account_meta,\n",
    "    vote_account_meta,\n",
    "    vault_account_meta,\n",
    "    rent_account_meta, \n",
    "    sysvar_clock_meta,\n",
    "    sysvar_stake_history_meta,\n",
    "    stake_program_meta,\n",
    "    stake_config_meta,\n",
    "\n",
    "    sys_program_meta,\n",
    "    stake_program_meta,\n",
    "    stake_program_meta,\n",
    "]\n",
    "accounts"
   ]
  },
  {
   "cell_type": "code",
   "execution_count": 45,
   "metadata": {},
   "outputs": [
    {
     "data": {
      "text/plain": [
       "'https://explorer.solana.com/tx/hGw4P2fayAmkDS66Xp9cfbLZV2TeQmkVPfgkRS4XrmWZFPPL26D5HhA6XNq6sA6zW9pyKcBHcKU9YaPZxmXZ6Yv?cluster=devnet'"
      ]
     },
     "execution_count": 45,
     "metadata": {},
     "output_type": "execute_result"
    }
   ],
   "source": [
    "transaction = Transaction()\n",
    "transaction.add(TransactionInstruction(\n",
    "    accounts,\n",
    "    GOVERNOR_PROGRAM_ID,\n",
    "    bytes([7])\n",
    "))\n",
    "f\"https://explorer.solana.com/tx/{client.send_transaction(transaction, manager_keypair, staker_keypair)['result']}?cluster=devnet\""
   ]
  }
 ],
 "metadata": {
  "interpreter": {
   "hash": "b68919eb655d0773185a23d07bc600bc0399219a4090e8bc721f64f37132571c"
  },
  "kernelspec": {
   "display_name": "Python 3.9.7",
   "language": "python",
   "name": "python3"
  },
  "language_info": {
   "codemirror_mode": {
    "name": "ipython",
    "version": 3
   },
   "file_extension": ".py",
   "mimetype": "text/x-python",
   "name": "python",
   "nbconvert_exporter": "python",
   "pygments_lexer": "ipython3",
   "version": "3.9.7"
  },
  "orig_nbformat": 4
 },
 "nbformat": 4,
 "nbformat_minor": 2
}
