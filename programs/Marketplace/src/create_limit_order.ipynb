{
 "cells": [
  {
   "cell_type": "code",
   "execution_count": 1,
   "metadata": {},
   "outputs": [
    {
     "data": {
      "text/plain": [
       "True"
      ]
     },
     "execution_count": 1,
     "metadata": {},
     "output_type": "execute_result"
    }
   ],
   "source": [
    "import solana\n",
    "from solana.publickey import PublicKey\n",
    "from solana.rpc.api import Client\n",
    "from solana.keypair import Keypair\n",
    "from solana import system_program\n",
    "from solana import transaction\n",
    "from solana.system_program import SYS_PROGRAM_ID, CreateAccountParams, create_account\n",
    "from solana.transaction import *\n",
    "from spl.token.constants import TOKEN_PROGRAM_ID, ASSOCIATED_TOKEN_PROGRAM_ID\n",
    "from spl.token.instructions import initialize_mint, InitializeMintParams, get_associated_token_address\n",
    "from spl.token._layouts import MINT_LAYOUT\n",
    "from spl.token.client import Token\n",
    "from spl.token import instructions\n",
    "import base64\n",
    "import base58\n",
    "from borsh_construct import *\n",
    "from solana.rpc.commitment import Commitment\n",
    "import time\n",
    "import sys\n",
    "sys.path.append('../../GlobalRepo/')\n",
    "from global_repo import *\n",
    "\n",
    "\n",
    "client = Client(\"https://api.devnet.solana.com\")\n",
    "\n",
    "client.is_connected()"
   ]
  },
  {
   "cell_type": "code",
   "execution_count": 2,
   "metadata": {},
   "outputs": [],
   "source": [
    "program_id = PublicKey(\"5hLihu5RjNSTPFFGP2nurV3xnJCeLj12WJXgphRDVMvE\")\n",
    "# program_id_account_meta = AccountMeta(program_id, False, False)\n",
    "sys_program_meta = AccountMeta(SYS_PROGRAM_ID, False, False)\n",
    "spl_program_meta  = AccountMeta(TOKEN_PROGRAM_ID, False, False)"
   ]
  },
  {
   "cell_type": "code",
   "execution_count": 3,
   "metadata": {},
   "outputs": [],
   "source": [
    "def getAccountInfo(client: Client, account_pk: PublicKey):\n",
    "    \"\"\"Fetch account information from RPC, parse out the data and deserialize\"\"\"\n",
    "    comm = Commitment(\"confirmed\")\n",
    "    res = client.get_account_info(account_pk, comm, encoding='base64')\n",
    "    data = res['result']\n",
    "    if isinstance(data, dict):\n",
    "        return accountSchema.parse(base64.urlsafe_b64decode(data['value']['data'][0]))\n",
    "    else:\n",
    "        raise AttributeError(f'Unknown RPC result {data}')"
   ]
  },
  {
   "cell_type": "code",
   "execution_count": 4,
   "metadata": {},
   "outputs": [],
   "source": [
    "bump = 4;\n",
    "avatar_mint = PublicKey(\"EVQ8rPoba7F8mEdB4TgGSXu4tnuMrfPkfzhrG3p7VjwL\")\n",
    "creator_pda, _ = PublicKey.find_program_address([b\"avatar_mint_authority_pda\"], AVATAR_PROGRAM_ID)\n",
    "payer_keypair = Keypair.from_secret_key(base58.b58decode(\"mH4PkhAttpFXSrntbpiJgC8J6wHYFDK5PFWcPN53hMJKziWQucux7MFiW7uXnqKsAY3XBnxUtyVKnomZnD9JxHW\"))\n",
    "collection_pda, _ = PublicKey.find_program_address([b\"Dsol Dao_seed\", bytes(creator_pda)], program_id)\n",
    "payer_collection_pda, _ = PublicKey.find_program_address([b\"payer_collection_dsol\", bytes(payer_keypair.public_key), bytes(creator_pda)], program_id)\n",
    "container_pda, container_pda_bump = PublicKey.find_program_address( [b\"Dsol Dao_seed\", bump.to_bytes(4, \"big\"), bytes(creator_pda), bytes(payer_keypair.public_key)], program_id);\n",
    "rent_account_meta = AccountMeta(solana.sysvar.SYSVAR_RENT_PUBKEY, False, False)\n",
    "metadata_pda, _metadata_nonce = PublicKey.find_program_address([b\"metadata\", bytes(METAPLEX_PROGRAM_ID), bytes(avatar_mint)], METAPLEX_PROGRAM_ID);\n",
    "\n",
    "accounts = [\n",
    "    AccountMeta(payer_keypair.public_key, True, True),\n",
    "    AccountMeta(creator_pda, False, False),\n",
    "    AccountMeta(collection_pda, False, True),\n",
    "    AccountMeta(container_pda, False, True),\n",
    "    AccountMeta(avatar_mint, False, False),\n",
    "    AccountMeta(instructions.get_associated_token_address(container_pda, avatar_mint), False, True),\n",
    "    rent_account_meta, \n",
    "    spl_program_meta,\n",
    "    sys_program_meta,\n",
    "    AccountMeta(instructions.get_associated_token_address(payer_keypair.public_key, avatar_mint), False, True),\n",
    "    AccountMeta(metadata_pda, False, False),\n",
    "    AccountMeta(payer_collection_pda, False, True),\n",
    "\n",
    "\n",
    "\n",
    "    sys_program_meta,\n",
    "    AccountMeta(ASSOCIATED_TOKEN_PROGRAM_ID, False, False),\n",
    "    spl_program_meta,\n",
    "\n",
    "]\n"
   ]
  },
  {
   "cell_type": "code",
   "execution_count": 5,
   "metadata": {},
   "outputs": [
    {
     "data": {
      "text/plain": [
       "'https://explorer.solana.com/tx/3BDLB4TbuBGizBHTeZmEiXSAmCkW7btqVxRwcCT1AoR5166S2Dmzt9QcCtLs4FVMgdDD6SVQGRX1udVQd8ry1nX8?cluster=devnet'"
      ]
     },
     "execution_count": 5,
     "metadata": {},
     "output_type": "execute_result"
    }
   ],
   "source": [
    "transaction = Transaction()\n",
    "transaction.add(\n",
    "    TransactionInstruction(\n",
    "        accounts,\n",
    "        program_id,\n",
    "        bytes([1,0,0,1,0,0,0,0,0,bump])\n",
    "    )\n",
    ")\n",
    "\n",
    "f\"https://explorer.solana.com/tx/{client.send_transaction(transaction, payer_keypair)['result']}?cluster=devnet\""
   ]
  }
 ],
 "metadata": {
  "interpreter": {
   "hash": "b68919eb655d0773185a23d07bc600bc0399219a4090e8bc721f64f37132571c"
  },
  "kernelspec": {
   "display_name": "Python 3.9.7",
   "language": "python",
   "name": "python3"
  },
  "language_info": {
   "codemirror_mode": {
    "name": "ipython",
    "version": 3
   },
   "file_extension": ".py",
   "mimetype": "text/x-python",
   "name": "python",
   "nbconvert_exporter": "python",
   "pygments_lexer": "ipython3",
   "version": "3.9.7"
  },
  "orig_nbformat": 4
 },
 "nbformat": 4,
 "nbformat_minor": 2
}
