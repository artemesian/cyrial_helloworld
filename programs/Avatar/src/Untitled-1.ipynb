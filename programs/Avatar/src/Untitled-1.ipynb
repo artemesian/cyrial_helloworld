{
 "cells": [
  {
   "cell_type": "code",
   "execution_count": 182,
   "metadata": {},
   "outputs": [
    {
     "data": {
      "text/plain": [
       "True"
      ]
     },
     "execution_count": 182,
     "metadata": {},
     "output_type": "execute_result"
    }
   ],
   "source": [
    "import solana\n",
    "from solana.publickey import PublicKey\n",
    "from solana.rpc.api import Client\n",
    "from solana.keypair import Keypair\n",
    "from solana import system_program\n",
    "from solana import transaction\n",
    "from solana.system_program import SYS_PROGRAM_ID, CreateAccountParams, create_account\n",
    "from solana.transaction import *\n",
    "from spl.token.constants import TOKEN_PROGRAM_ID, ASSOCIATED_TOKEN_PROGRAM_ID\n",
    "from spl.token.instructions import initialize_mint, InitializeMintParams\n",
    "from spl.token._layouts import MINT_LAYOUT\n",
    "from spl.token.client import Token\n",
    "from spl.token import instructions\n",
    "import base64\n",
    "from borsh_construct import *\n",
    "from solana.rpc.commitment import Commitment\n",
    "import time\n",
    "\n",
    "\n",
    "client = Client(\"https://api.devnet.solana.com\")\n",
    "\n",
    "client.is_connected()"
   ]
  },
  {
   "cell_type": "code",
   "execution_count": 183,
   "metadata": {},
   "outputs": [],
   "source": [
    "program_id = PublicKey(\"DvTvXKZR9wveQzL3pBM7QJ9YZpConSXBXRTyDsEADNqX\")\n",
    "# program_id_account_meta = AccountMeta(program_id, False, False)\n",
    "sys_program_meta = AccountMeta(SYS_PROGRAM_ID, False, False)\n",
    "spl_program_meta  = AccountMeta(TOKEN_PROGRAM_ID, False, False)\n",
    "# program_id_account_meta"
   ]
  },
  {
   "cell_type": "code",
   "execution_count": 184,
   "metadata": {},
   "outputs": [],
   "source": [
    "# client.request_airdrop(PublicKey(\"DxkiJXK31VEd4R6F44mQRszoUQugpPYMwL9ybcrnt22r\"), 2000000000)"
   ]
  },
  {
   "cell_type": "code",
   "execution_count": 185,
   "metadata": {},
   "outputs": [],
   "source": [
    "def getAccountInfo(client: Client, account_pk: PublicKey):\n",
    "    \"\"\"Fetch account information from RPC, parse out the data and deserialize\"\"\"\n",
    "    comm = Commitment(\"confirmed\")\n",
    "    res = client.get_account_info(account_pk, comm, encoding='base64')\n",
    "    data = res['result']\n",
    "    if isinstance(data, dict):\n",
    "        return accountSchema.parse(base64.urlsafe_b64decode(data['value']['data'][0]))\n",
    "    else:\n",
    "        raise AttributeError(f'Unknown RPC result {data}')"
   ]
  },
  {
   "cell_type": "code",
   "execution_count": 186,
   "metadata": {},
   "outputs": [],
   "source": [
    "seed = bytes([125,215,212,54,213,98,45,123]*4)\n",
    "payer_keypair = Keypair.from_seed(seed)\n",
    "# client.request_airdrop(payer_keypair.public_key, 2*10**9)"
   ]
  },
  {
   "cell_type": "code",
   "execution_count": 187,
   "metadata": {},
   "outputs": [],
   "source": [
    "dsol_mint = PublicKey(\"4hnebtBZBkWF8NvPr4XUdKQFNj2tHim8nqephcMCsBos\")"
   ]
  },
  {
   "cell_type": "code",
   "execution_count": 188,
   "metadata": {},
   "outputs": [],
   "source": [
    "seed = bytes([25,215,212,154,213,198,45,123]*4)\n",
    "vault_keypair = Keypair.from_seed(seed)\n",
    "# vault_keypair = Keypair.generate()\n",
    "# client.request_airdrop(vault_keypair.public_key, 2*10**9)\n",
    "# time.sleep(5)\n",
    "\n",
    "vault_dsol_token_account = instructions.get_associated_token_address(vault_keypair.public_key, dsol_mint)"
   ]
  },
  {
   "cell_type": "code",
   "execution_count": 189,
   "metadata": {},
   "outputs": [],
   "source": [
    "mint_account = Keypair.generate()\n",
    "\n",
    "payer_dsol_token_account = instructions.get_associated_token_address(payer_keypair.public_key, dsol_mint)\n",
    "payer_account_meta = AccountMeta(payer_keypair.public_key, True, True)\n",
    "vault_account_meta = AccountMeta(vault_keypair.public_key, True, True)\n",
    "\n",
    "rent_account_meta = AccountMeta(solana.sysvar.SYSVAR_RENT_PUBKEY, False, False)\n",
    "spl_program_meta  = AccountMeta(TOKEN_PROGRAM_ID, False, False)\n"
   ]
  },
  {
   "cell_type": "code",
   "execution_count": 190,
   "metadata": {},
   "outputs": [
    {
     "name": "stdout",
     "output_type": "stream",
     "text": [
      "4hnebtBZBkWF8NvPr4XUdKQFNj2tHim8nqephcMCsBos\n",
      "3HqXocfan3tVv3N4tTAFhyVePkP856jxngQ6pQxdupXP\n",
      "9ZJkPCjEZehchPHs1k327BCb9JQVEg7drn7nmkK6Wkqk\n",
      "2ASw3tjK5bSxQxFEMsM6J3DnBozNh7drVErSwc7AtzJv\n",
      "4JTdYhzx6rorDjPMGdXDQCLuF3nM8dpiodnUgqqqhHEc\n",
      "AccountMeta(pubkey=11111111111111111111111111111111, is_signer=False, is_writable=False)\n",
      "AccountMeta(pubkey=TokenkegQfeZyiNwAJbNbGKPFXCWuBvf9Ss623VQ5DA, is_signer=False, is_writable=False)\n",
      "AccountMeta(pubkey=SysvarRent111111111111111111111111111111111, is_signer=False, is_writable=False)\n",
      "EqnuhKqFELYnhETBsivBxgSVVHPgkxLv2C6GYzxnMf1L\n"
     ]
    }
   ],
   "source": [
    "mint_account_meta = AccountMeta(mint_account.public_key, True, True)\n",
    "associated_token_address = instructions.get_associated_token_address(payer_keypair.public_key, mint_account.public_key)\n",
    "associated_account_meta = AccountMeta(associated_token_address, False, True)\n",
    "\n",
    "(mint_authority, nonce) = PublicKey.find_program_address([b\"avatar_mint_authority_pda\"], program_id)\n",
    "(avatar_data_pda, avatar_pda_nonce) = PublicKey.find_program_address([b'avatar_data_pda', bytes(mint_account_meta.pubkey)], program_id)\n",
    "(sales_pda, sales_nonce) = PublicKey.find_program_address([b'sales_pda'], program_id)\n",
    "metadata_program_pubkey = PublicKey(\"metaqbxxUerdq28cj1RbAWkYQm3ybzjb6a8bt518x1s\")\n",
    "(metadata_pda, metadata_nonce) = PublicKey.find_program_address([b'metadata', bytes(metadata_program_pubkey), bytes(mint_account_meta.pubkey)], metadata_program_pubkey)\n",
    "\n",
    "\n",
    "avatar_data_pda_meta = AccountMeta(avatar_data_pda, False, True)\n",
    "sysvar_clock_meta = AccountMeta(solana.sysvar.SYSVAR_CLOCK_PUBKEY, False, False)\n",
    "sales_pda_meta = AccountMeta(sales_pda, False, True)\n",
    "mint_authority_meta = AccountMeta(mint_authority, False, False)\n",
    "associated_program_meta = AccountMeta(ASSOCIATED_TOKEN_PROGRAM_ID, False, False)\n",
    "\n",
    "\n",
    "dsol_mint_meta = AccountMeta(dsol_mint, False, False)\n",
    "vault_dsol_token_account_meta = AccountMeta(vault_dsol_token_account, False, True)\n",
    "payer_dsol_token_account_meta = AccountMeta(payer_dsol_token_account, False, True)\n",
    "\n",
    "print(dsol_mint)\n",
    "print(vault_keypair.public_key)\n",
    "print(vault_dsol_token_account)\n",
    "print(payer_keypair.public_key)\n",
    "print(payer_dsol_token_account)\n",
    "print(sys_program_meta)\n",
    "print(spl_program_meta)\n",
    "print(rent_account_meta)\n",
    "print(associated_token_address)"
   ]
  },
  {
   "cell_type": "code",
   "execution_count": 191,
   "metadata": {},
   "outputs": [],
   "source": [
    "def init_vault():\n",
    "    accounts = [\n",
    "        payer_account_meta,\n",
    "        vault_account_meta,\n",
    "        vault_dsol_token_account_meta,\n",
    "        dsol_mint_meta,\n",
    "        sys_program_meta,\n",
    "        spl_program_meta,\n",
    "        rent_account_meta,\n",
    "\n",
    "        associated_program_meta,\n",
    "        sys_program_meta,\n",
    "        sys_program_meta,\n",
    "    ]\n",
    "\n",
    "    transaction = Transaction()\n",
    "    transaction.add(\n",
    "        TransactionInstruction(\n",
    "            accounts,\n",
    "            program_id,\n",
    "            bytes([9])\n",
    "        )\n",
    "    )\n",
    "    \n",
    "    return f\"https://explorer.solana.com/tx/{client.send_transaction(transaction, payer_keypair, vault_keypair)['result']}?cluster=devnet\"\n",
    "\n",
    "# init_vault()\n",
    "\n",
    "# time.sleep(5)"
   ]
  },
  {
   "cell_type": "code",
   "execution_count": 192,
   "metadata": {},
   "outputs": [
    {
     "data": {
      "text/plain": [
       "DvTvXKZR9wveQzL3pBM7QJ9YZpConSXBXRTyDsEADNqX"
      ]
     },
     "execution_count": 192,
     "metadata": {},
     "output_type": "execute_result"
    }
   ],
   "source": [
    "program_id"
   ]
  },
  {
   "cell_type": "code",
   "execution_count": 193,
   "metadata": {},
   "outputs": [
    {
     "data": {
      "text/plain": [
       "'https://explorer.solana.com/tx/3pxpcoMJX83vpmPnb9iAX78dNL2bHJ6XbLsAow9QyepjzSZe86u2p3Wk8SvgtovUo2HAv5Kc1bvPrR2kW7oir2V?cluster=devnet'"
      ]
     },
     "execution_count": 193,
     "metadata": {},
     "output_type": "execute_result"
    }
   ],
   "source": [
    "def mint_avatar():\n",
    "    accounts = [\n",
    "        # program_id_account_meta,\n",
    "        payer_account_meta,\n",
    "        payer_dsol_token_account_meta,\n",
    "        vault_account_meta, \n",
    "        vault_dsol_token_account_meta,\n",
    "        mint_account_meta, \n",
    "        rent_account_meta, \n",
    "        associated_account_meta,\n",
    "        spl_program_meta,\n",
    "        AccountMeta(SYS_PROGRAM_ID, False, False),\n",
    "        mint_authority_meta,\n",
    "        avatar_data_pda_meta,\n",
    "        sales_pda_meta,\n",
    "        AccountMeta(metadata_pda, False, True),\n",
    "        sysvar_clock_meta,\n",
    "\n",
    "        spl_program_meta,\n",
    "        AccountMeta(ASSOCIATED_TOKEN_PROGRAM_ID, False, False),\n",
    "        spl_program_meta,\n",
    "        spl_program_meta,\n",
    "        AccountMeta(metadata_program_pubkey, False, False),\n",
    "    ]   \n",
    "\n",
    "    transaction = Transaction()\n",
    "    transaction.add(TransactionInstruction(\n",
    "        accounts,\n",
    "        program_id,\n",
    "        bytes([0])\n",
    "    ))\n",
    "    \n",
    "    return f\"https://explorer.solana.com/tx/{client.send_transaction(transaction, payer_keypair, mint_account, vault_keypair)['result']}?cluster=devnet\"\n",
    "\n",
    "mint_avatar()"
   ]
  },
  {
   "cell_type": "code",
   "execution_count": 194,
   "metadata": {},
   "outputs": [
    {
     "name": "stdout",
     "output_type": "stream",
     "text": [
      "PDA: (AxjHKB6QWUWFSefbAwAx5UZggfZZkzpAu7Gs94U8sGAU, 255)\n"
     ]
    },
    {
     "data": {
      "text/plain": [
       "Container(vault_total=17.92838478088379, counter=11, rent_min_listed=0, rent_max_listed=0, rent_max_ever=0)"
      ]
     },
     "execution_count": 194,
     "metadata": {},
     "output_type": "execute_result"
    }
   ],
   "source": [
    "\n",
    "accountSchema = CStruct(\n",
    "    \"vault_total\" / F32,\n",
    "    \"counter\" / U32,\n",
    "    \n",
    "    \"rent_min_listed\"/ U32,\n",
    "    \"rent_max_listed\"/ U32,\n",
    "    \"rent_max_ever\"/ U32,\n",
    ")\n",
    "\n",
    "(sales_pda, sales_nonce) = PublicKey.find_program_address([b'sales_pda'], program_id)\n",
    "print(f\"PDA: {sales_pda, sales_nonce}\")\n",
    "\n",
    "getAccountInfo(client,sales_pda)"
   ]
  },
  {
   "cell_type": "code",
   "execution_count": 195,
   "metadata": {},
   "outputs": [
    {
     "name": "stdout",
     "output_type": "stream",
     "text": [
      "PDA: (EqoGmy4c6Npx8FYwA3eDs4rJzvhLRekbfGidsPpwDUv3, 255)\n"
     ]
    },
    {
     "data": {
      "text/plain": [
       "Container(date_created=1645204021, unlockable_date=1645204021, numeration=10, rarity=1, level=0, xp=0, rented_state=False, use_authority=ListContainer([17, 71, 60, 73, 89, 58, 122, 18, 156, 76, 53, 19, 249, 230, 254, 224, 26, 170, 93, 110, 57, 38, 59, 79, 2, 89, 12, 49, 56, 233, 39, 27]), rent_bump=0)"
      ]
     },
     "execution_count": 195,
     "metadata": {},
     "output_type": "execute_result"
    }
   ],
   "source": [
    "accountSchema = CStruct(\n",
    "    \"date_created\" / U32,\n",
    "    \"unlockable_date\" / U32,\n",
    "    \"numeration\" /U32,\n",
    "    \"rarity\" / U8,\n",
    "    \"level\" / U8,\n",
    "    \"xp\" / U32,\n",
    "    \"rented_state\" / Bool,\n",
    "    \"use_authority\" / U8[32],\n",
    "    \"rent_bump\" / U32,\n",
    ")\n",
    "\n",
    "print(f\"PDA: {avatar_data_pda, avatar_pda_nonce}\")\n",
    "\n",
    "# PublicKey(getAccountInfo(client,avatar_data_pda).use_authority)\n",
    "getAccountInfo(client,avatar_data_pda)"
   ]
  },
  {
   "cell_type": "code",
   "execution_count": 196,
   "metadata": {},
   "outputs": [],
   "source": [
    "# time.sleep(120)\n",
    "\n",
    "# new_accounts = [\n",
    "#     mint_account_meta,\n",
    "#     associated_account_meta,\n",
    "#     spl_program_meta,\n",
    "#     mint_authority_meta,\n",
    "#     avatar_data_pda_meta,\n",
    "#     sysvar_clock_meta,\n",
    "\n",
    "#     spl_program_meta\n",
    "# ]\n",
    "\n",
    "# transaction = Transaction()\n",
    "# transaction.add(TransactionInstruction(\n",
    "#     new_accounts,\n",
    "#     program_id,\n",
    "#     bytes([1])\n",
    "# ))\n",
    "# f\"https://explorer.solana.com/tx/{client.send_transaction(transaction, payer_keypair, mint_account)['result']}?cluster=devnet\""
   ]
  }
 ],
 "metadata": {
  "interpreter": {
   "hash": "b3ba2566441a7c06988d0923437866b63cedc61552a5af99d1f4fb67d367b25f"
  },
  "kernelspec": {
   "display_name": "Python 3.8.8 64-bit ('base': conda)",
   "language": "python",
   "name": "python3"
  },
  "language_info": {
   "codemirror_mode": {
    "name": "ipython",
    "version": 3
   },
   "file_extension": ".py",
   "mimetype": "text/x-python",
   "name": "python",
   "nbconvert_exporter": "python",
   "pygments_lexer": "ipython3",
   "version": "3.8.10"
  },
  "orig_nbformat": 4
 },
 "nbformat": 4,
 "nbformat_minor": 2
}
