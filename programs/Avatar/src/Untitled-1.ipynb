{
 "cells": [
  {
   "cell_type": "code",
<<<<<<< HEAD
   "execution_count": 184,
=======
   "execution_count": 242,
>>>>>>> 561388ef832c261d7d240eafa30b6c35f92164a2
   "metadata": {},
   "outputs": [
    {
     "data": {
      "text/plain": [
       "True"
      ]
     },
<<<<<<< HEAD
     "execution_count": 184,
=======
     "execution_count": 242,
>>>>>>> 561388ef832c261d7d240eafa30b6c35f92164a2
     "metadata": {},
     "output_type": "execute_result"
    }
   ],
   "source": [
    "import solana\n",
    "from solana.publickey import PublicKey\n",
    "from solana.rpc.api import Client\n",
    "from solana.keypair import Keypair\n",
    "from solana import system_program\n",
    "from solana import transaction\n",
    "from solana.system_program import SYS_PROGRAM_ID, CreateAccountParams, create_account\n",
    "from solana.transaction import *\n",
    "from spl.token.constants import TOKEN_PROGRAM_ID, ASSOCIATED_TOKEN_PROGRAM_ID\n",
    "from spl.token.instructions import initialize_mint, InitializeMintParams\n",
    "from spl.token._layouts import MINT_LAYOUT\n",
    "from spl.token.client import Token\n",
    "from spl.token import instructions\n",
    "import base64\n",
    "from borsh_construct import *\n",
    "from solana.rpc.commitment import Commitment\n",
    "import time\n",
    "\n",
    "\n",
    "client = Client(\"https://api.devnet.solana.com\")\n",
    "client.is_connected()"
   ]
  },
  {
   "cell_type": "code",
<<<<<<< HEAD
   "execution_count": 185,
=======
   "execution_count": 243,
>>>>>>> 561388ef832c261d7d240eafa30b6c35f92164a2
   "metadata": {},
   "outputs": [],
   "source": [
    "program_id = PublicKey(\"DvTvXKZR9wveQzL3pBM7QJ9YZpConSXBXRTyDsEADNqX\")\n",
    "sys_program_meta = AccountMeta(SYS_PROGRAM_ID, False, False)\n",
<<<<<<< HEAD
    "spl_program_meta  = AccountMeta(TOKEN_PROGRAM_ID, False, False)\n",
    "# program_id_account_meta"
   ]
  },
  {
   "cell_type": "code",
   "execution_count": 186,
   "metadata": {},
   "outputs": [],
   "source": [
    "# client.request_airdrop(PublicKey(\"DxkiJXK31VEd4R6F44mQRszoUQugpPYMwL9ybcrnt22r\"), 2000000000)"
=======
    "spl_program_meta  = AccountMeta(TOKEN_PROGRAM_ID, False, False)\n"
>>>>>>> 561388ef832c261d7d240eafa30b6c35f92164a2
   ]
  },
  {
   "cell_type": "code",
<<<<<<< HEAD
   "execution_count": 187,
=======
   "execution_count": 245,
>>>>>>> 561388ef832c261d7d240eafa30b6c35f92164a2
   "metadata": {},
   "outputs": [],
   "source": [
    "def getAccountInfo(client: Client, account_pk: PublicKey):\n",
    "    \"\"\"Fetch account information from RPC, parse out the data and deserialize\"\"\"\n",
    "    comm = Commitment(\"confirmed\")\n",
    "    res = client.get_account_info(account_pk, comm, encoding='base64')\n",
    "    data = res['result']\n",
    "    if isinstance(data, dict):\n",
    "        return accountSchema.parse(base64.urlsafe_b64decode(data['value']['data'][0]))\n",
    "    else:\n",
    "        raise AttributeError(f'Unknown RPC result {data}')"
   ]
  },
  {
   "cell_type": "code",
<<<<<<< HEAD
   "execution_count": 188,
   "metadata": {},
   "outputs": [
    {
     "data": {
      "text/plain": [
       "{'jsonrpc': '2.0',\n",
       " 'error': {'code': -32603, 'message': 'Internal error'},\n",
       " 'id': 1}"
      ]
     },
     "execution_count": 188,
     "metadata": {},
     "output_type": "execute_result"
    }
   ],
=======
   "execution_count": 246,
   "metadata": {},
   "outputs": [],
>>>>>>> 561388ef832c261d7d240eafa30b6c35f92164a2
   "source": [
    "seed = bytes([125,215,212,54,213,98,45,123]*4)\n",
    "payer_keypair = Keypair.from_seed(seed)\n",
    "# client.request_airdrop(payer_keypair.public_key, 2*10**9)"
   ]
  },
  {
   "cell_type": "code",
<<<<<<< HEAD
   "execution_count": 189,
=======
   "execution_count": 247,
>>>>>>> 561388ef832c261d7d240eafa30b6c35f92164a2
   "metadata": {},
   "outputs": [],
   "source": [
    "dsol_mint = PublicKey(\"4hnebtBZBkWF8NvPr4XUdKQFNj2tHim8nqephcMCsBos\")"
   ]
  },
  {
   "cell_type": "code",
<<<<<<< HEAD
   "execution_count": 190,
=======
   "execution_count": 248,
>>>>>>> 561388ef832c261d7d240eafa30b6c35f92164a2
   "metadata": {},
   "outputs": [],
   "source": [
    "seed = bytes([25,215,212,154,213,198,45,123]*4)\n",
    "vault_keypair = Keypair.from_seed(seed)\n",
    "# vault_keypair = Keypair.generate()\n",
    "# client.request_airdrop(vault_keypair.public_key, 2*10**9)\n",
    "# time.sleep(5)\n",
    "\n",
    "vault_dsol_token_account = instructions.get_associated_token_address(vault_keypair.public_key, dsol_mint)"
   ]
  },
  {
   "cell_type": "code",
<<<<<<< HEAD
   "execution_count": 191,
=======
   "execution_count": 249,
>>>>>>> 561388ef832c261d7d240eafa30b6c35f92164a2
   "metadata": {},
   "outputs": [],
   "source": [
    "mint_account = Keypair.generate()\n",
    "\n",
    "payer_dsol_token_account = instructions.get_associated_token_address(payer_keypair.public_key, dsol_mint)\n",
    "payer_account_meta = AccountMeta(payer_keypair.public_key, True, True)\n",
    "vault_account_meta = AccountMeta(vault_keypair.public_key, True, True)\n",
    "\n",
    "rent_account_meta = AccountMeta(solana.sysvar.SYSVAR_RENT_PUBKEY, False, False)\n",
    "spl_program_meta  = AccountMeta(TOKEN_PROGRAM_ID, False, False)\n"
   ]
  },
  {
   "cell_type": "code",
<<<<<<< HEAD
   "execution_count": 192,
=======
   "execution_count": 250,
>>>>>>> 561388ef832c261d7d240eafa30b6c35f92164a2
   "metadata": {},
   "outputs": [
    {
     "name": "stdout",
     "output_type": "stream",
     "text": [
      "4hnebtBZBkWF8NvPr4XUdKQFNj2tHim8nqephcMCsBos\n",
      "3HqXocfan3tVv3N4tTAFhyVePkP856jxngQ6pQxdupXP\n",
      "9ZJkPCjEZehchPHs1k327BCb9JQVEg7drn7nmkK6Wkqk\n",
      "2ASw3tjK5bSxQxFEMsM6J3DnBozNh7drVErSwc7AtzJv\n",
      "4JTdYhzx6rorDjPMGdXDQCLuF3nM8dpiodnUgqqqhHEc\n",
      "AccountMeta(pubkey=11111111111111111111111111111111, is_signer=False, is_writable=False)\n",
      "AccountMeta(pubkey=TokenkegQfeZyiNwAJbNbGKPFXCWuBvf9Ss623VQ5DA, is_signer=False, is_writable=False)\n",
      "AccountMeta(pubkey=SysvarRent111111111111111111111111111111111, is_signer=False, is_writable=False)\n",
<<<<<<< HEAD
      "F11uAQehNqTysy5AEonouyK2cosAf2Di89Kmo9qfABu3\n"
=======
      "2rgKgVthtCJ2WdQwMBKqLoRJ9FedqMRphAzFQrxQy9TE\n"
>>>>>>> 561388ef832c261d7d240eafa30b6c35f92164a2
     ]
    }
   ],
   "source": [
    "mint_account_meta = AccountMeta(mint_account.public_key, True, True)\n",
    "associated_token_address = instructions.get_associated_token_address(payer_keypair.public_key, mint_account.public_key)\n",
    "associated_account_meta = AccountMeta(associated_token_address, False, True)\n",
    "\n",
    "(mint_authority, nonce) = PublicKey.find_program_address([b\"avatar_mint_authority_pda\"], program_id)\n",
    "(avatar_data_pda, avatar_pda_nonce) = PublicKey.find_program_address([b'avatar_data_pda', bytes(mint_account_meta.pubkey)], program_id)\n",
    "(sales_pda, sales_nonce) = PublicKey.find_program_address([b'sales_pda'], program_id)\n",
    "metadata_program_pubkey = PublicKey(\"metaqbxxUerdq28cj1RbAWkYQm3ybzjb6a8bt518x1s\")\n",
    "(metadata_pda, metadata_nonce) = PublicKey.find_program_address([b'metadata', bytes(metadata_program_pubkey), bytes(mint_account_meta.pubkey)], metadata_program_pubkey)\n",
    "\n",
    "\n",
    "avatar_data_pda_meta = AccountMeta(avatar_data_pda, False, True)\n",
    "sysvar_clock_meta = AccountMeta(solana.sysvar.SYSVAR_CLOCK_PUBKEY, False, False)\n",
    "sales_pda_meta = AccountMeta(sales_pda, False, True)\n",
    "mint_authority_meta = AccountMeta(mint_authority, False, False)\n",
    "associated_program_meta = AccountMeta(ASSOCIATED_TOKEN_PROGRAM_ID, False, False)\n",
    "\n",
    "\n",
    "dsol_mint_meta = AccountMeta(dsol_mint, False, False)\n",
    "vault_dsol_token_account_meta = AccountMeta(vault_dsol_token_account, False, True)\n",
    "payer_dsol_token_account_meta = AccountMeta(payer_dsol_token_account, False, True)\n",
    "\n",
    "print(dsol_mint)\n",
    "print(vault_keypair.public_key)\n",
    "print(vault_dsol_token_account)\n",
    "print(payer_keypair.public_key)\n",
    "print(payer_dsol_token_account)\n",
    "print(sys_program_meta)\n",
    "print(spl_program_meta)\n",
    "print(rent_account_meta)\n",
    "print(associated_token_address)"
   ]
  },
  {
   "cell_type": "code",
<<<<<<< HEAD
   "execution_count": 193,
   "metadata": {},
   "outputs": [
    {
     "ename": "RPCException",
     "evalue": "{'code': -32002, 'message': 'Transaction simulation failed: Error processing Instruction 0: custom program error: 0x0', 'data': {'accounts': None, 'err': {'InstructionError': [0, {'Custom': 0}]}, 'logs': ['Program J2D3SVcpxaUESZGFWMEmbHRonAQww2v9U2vHjxWg9ZaW invoke [1]', 'Program ATokenGPvbdGVxr1b2hvZbsiqW5xWH25efTNsLJA8knL invoke [2]', 'Program log: Allocate space for the associated token account', 'Program 11111111111111111111111111111111 invoke [3]', 'Allocate: account Address { address: 9ZJkPCjEZehchPHs1k327BCb9JQVEg7drn7nmkK6Wkqk, base: None } already in use', 'Program 11111111111111111111111111111111 failed: custom program error: 0x0', 'Program ATokenGPvbdGVxr1b2hvZbsiqW5xWH25efTNsLJA8knL consumed 8473 of 192043 compute units', 'Program ATokenGPvbdGVxr1b2hvZbsiqW5xWH25efTNsLJA8knL failed: custom program error: 0x0', 'Program J2D3SVcpxaUESZGFWMEmbHRonAQww2v9U2vHjxWg9ZaW consumed 16430 of 200000 compute units', 'Program J2D3SVcpxaUESZGFWMEmbHRonAQww2v9U2vHjxWg9ZaW failed: custom program error: 0x0']}}",
     "output_type": "error",
     "traceback": [
      "\u001b[0;31m---------------------------------------------------------------------------\u001b[0m",
      "\u001b[0;31mRPCException\u001b[0m                              Traceback (most recent call last)",
      "\u001b[1;32m/home/artemesian/PROJECTS/cyrial_helloworld/programs/Avatar/src/Untitled-1.ipynb Cell 10'\u001b[0m in \u001b[0;36m<module>\u001b[0;34m\u001b[0m\n\u001b[1;32m     <a href='vscode-notebook-cell://wsl%2Bubuntu/home/artemesian/PROJECTS/cyrial_helloworld/programs/Avatar/src/Untitled-1.ipynb#ch0000014vscode-remote?line=16'>17</a>\u001b[0m     transaction\u001b[39m.\u001b[39madd(\n\u001b[1;32m     <a href='vscode-notebook-cell://wsl%2Bubuntu/home/artemesian/PROJECTS/cyrial_helloworld/programs/Avatar/src/Untitled-1.ipynb#ch0000014vscode-remote?line=17'>18</a>\u001b[0m         TransactionInstruction(\n\u001b[1;32m     <a href='vscode-notebook-cell://wsl%2Bubuntu/home/artemesian/PROJECTS/cyrial_helloworld/programs/Avatar/src/Untitled-1.ipynb#ch0000014vscode-remote?line=18'>19</a>\u001b[0m             accounts,\n\u001b[0;32m   (...)\u001b[0m\n\u001b[1;32m     <a href='vscode-notebook-cell://wsl%2Bubuntu/home/artemesian/PROJECTS/cyrial_helloworld/programs/Avatar/src/Untitled-1.ipynb#ch0000014vscode-remote?line=21'>22</a>\u001b[0m         )\n\u001b[1;32m     <a href='vscode-notebook-cell://wsl%2Bubuntu/home/artemesian/PROJECTS/cyrial_helloworld/programs/Avatar/src/Untitled-1.ipynb#ch0000014vscode-remote?line=22'>23</a>\u001b[0m     )\n\u001b[1;32m     <a href='vscode-notebook-cell://wsl%2Bubuntu/home/artemesian/PROJECTS/cyrial_helloworld/programs/Avatar/src/Untitled-1.ipynb#ch0000014vscode-remote?line=24'>25</a>\u001b[0m     \u001b[39mreturn\u001b[39;00m \u001b[39mf\u001b[39m\u001b[39m\"\u001b[39m\u001b[39mhttps://explorer.solana.com/tx/\u001b[39m\u001b[39m{\u001b[39;00mclient\u001b[39m.\u001b[39msend_transaction(transaction, payer_keypair, vault_keypair)[\u001b[39m'\u001b[39m\u001b[39mresult\u001b[39m\u001b[39m'\u001b[39m]\u001b[39m}\u001b[39;00m\u001b[39m?cluster=devnet\u001b[39m\u001b[39m\"\u001b[39m\n\u001b[0;32m---> <a href='vscode-notebook-cell://wsl%2Bubuntu/home/artemesian/PROJECTS/cyrial_helloworld/programs/Avatar/src/Untitled-1.ipynb#ch0000014vscode-remote?line=26'>27</a>\u001b[0m init_vault()\n",
      "\u001b[1;32m/home/artemesian/PROJECTS/cyrial_helloworld/programs/Avatar/src/Untitled-1.ipynb Cell 10'\u001b[0m in \u001b[0;36minit_vault\u001b[0;34m()\u001b[0m\n\u001b[1;32m     <a href='vscode-notebook-cell://wsl%2Bubuntu/home/artemesian/PROJECTS/cyrial_helloworld/programs/Avatar/src/Untitled-1.ipynb#ch0000014vscode-remote?line=15'>16</a>\u001b[0m transaction \u001b[39m=\u001b[39m Transaction()\n\u001b[1;32m     <a href='vscode-notebook-cell://wsl%2Bubuntu/home/artemesian/PROJECTS/cyrial_helloworld/programs/Avatar/src/Untitled-1.ipynb#ch0000014vscode-remote?line=16'>17</a>\u001b[0m transaction\u001b[39m.\u001b[39madd(\n\u001b[1;32m     <a href='vscode-notebook-cell://wsl%2Bubuntu/home/artemesian/PROJECTS/cyrial_helloworld/programs/Avatar/src/Untitled-1.ipynb#ch0000014vscode-remote?line=17'>18</a>\u001b[0m     TransactionInstruction(\n\u001b[1;32m     <a href='vscode-notebook-cell://wsl%2Bubuntu/home/artemesian/PROJECTS/cyrial_helloworld/programs/Avatar/src/Untitled-1.ipynb#ch0000014vscode-remote?line=18'>19</a>\u001b[0m         accounts,\n\u001b[0;32m   (...)\u001b[0m\n\u001b[1;32m     <a href='vscode-notebook-cell://wsl%2Bubuntu/home/artemesian/PROJECTS/cyrial_helloworld/programs/Avatar/src/Untitled-1.ipynb#ch0000014vscode-remote?line=21'>22</a>\u001b[0m     )\n\u001b[1;32m     <a href='vscode-notebook-cell://wsl%2Bubuntu/home/artemesian/PROJECTS/cyrial_helloworld/programs/Avatar/src/Untitled-1.ipynb#ch0000014vscode-remote?line=22'>23</a>\u001b[0m )\n\u001b[0;32m---> <a href='vscode-notebook-cell://wsl%2Bubuntu/home/artemesian/PROJECTS/cyrial_helloworld/programs/Avatar/src/Untitled-1.ipynb#ch0000014vscode-remote?line=24'>25</a>\u001b[0m \u001b[39mreturn\u001b[39;00m \u001b[39mf\u001b[39m\u001b[39m\"\u001b[39m\u001b[39mhttps://explorer.solana.com/tx/\u001b[39m\u001b[39m{\u001b[39;00mclient\u001b[39m.\u001b[39msend_transaction(transaction, payer_keypair, vault_keypair)[\u001b[39m'\u001b[39m\u001b[39mresult\u001b[39m\u001b[39m'\u001b[39m]\u001b[39m}\u001b[39;00m\u001b[39m?cluster=devnet\u001b[39m\u001b[39m\"\u001b[39m\n",
      "File \u001b[0;32m~/.local/lib/python3.8/site-packages/solana/rpc/api.py:1185\u001b[0m, in \u001b[0;36mClient.send_transaction\u001b[0;34m(self, txn, opts, recent_blockhash, *signers)\u001b[0m\n\u001b[1;32m   <a href='file:///~/.local/lib/python3.8/site-packages/solana/rpc/api.py?line=1181'>1182</a>\u001b[0m txn\u001b[39m.\u001b[39mrecent_blockhash \u001b[39m=\u001b[39m recent_blockhash\n\u001b[1;32m   <a href='file:///~/.local/lib/python3.8/site-packages/solana/rpc/api.py?line=1183'>1184</a>\u001b[0m txn\u001b[39m.\u001b[39msign(\u001b[39m*\u001b[39msigners)\n\u001b[0;32m-> <a href='file:///~/.local/lib/python3.8/site-packages/solana/rpc/api.py?line=1184'>1185</a>\u001b[0m txn_resp \u001b[39m=\u001b[39m \u001b[39mself\u001b[39;49m\u001b[39m.\u001b[39;49msend_raw_transaction(txn\u001b[39m.\u001b[39;49mserialize(), opts\u001b[39m=\u001b[39;49mopts)\n\u001b[1;32m   <a href='file:///~/.local/lib/python3.8/site-packages/solana/rpc/api.py?line=1185'>1186</a>\u001b[0m \u001b[39mif\u001b[39;00m \u001b[39mself\u001b[39m\u001b[39m.\u001b[39mblockhash_cache:\n\u001b[1;32m   <a href='file:///~/.local/lib/python3.8/site-packages/solana/rpc/api.py?line=1186'>1187</a>\u001b[0m     blockhash_resp \u001b[39m=\u001b[39m \u001b[39mself\u001b[39m\u001b[39m.\u001b[39mget_recent_blockhash(Finalized)\n",
      "File \u001b[0;32m~/.local/lib/python3.8/site-packages/solana/rpc/api.py:1139\u001b[0m, in \u001b[0;36mClient.send_raw_transaction\u001b[0;34m(self, txn, opts)\u001b[0m\n\u001b[1;32m   <a href='file:///~/.local/lib/python3.8/site-packages/solana/rpc/api.py?line=1136'>1137</a>\u001b[0m resp \u001b[39m=\u001b[39m \u001b[39mself\u001b[39m\u001b[39m.\u001b[39m_provider\u001b[39m.\u001b[39mmake_request(\u001b[39m*\u001b[39margs)\n\u001b[1;32m   <a href='file:///~/.local/lib/python3.8/site-packages/solana/rpc/api.py?line=1137'>1138</a>\u001b[0m \u001b[39mif\u001b[39;00m opts\u001b[39m.\u001b[39mskip_confirmation:\n\u001b[0;32m-> <a href='file:///~/.local/lib/python3.8/site-packages/solana/rpc/api.py?line=1138'>1139</a>\u001b[0m     \u001b[39mreturn\u001b[39;00m \u001b[39mself\u001b[39;49m\u001b[39m.\u001b[39;49m_post_send(resp)\n\u001b[1;32m   <a href='file:///~/.local/lib/python3.8/site-packages/solana/rpc/api.py?line=1139'>1140</a>\u001b[0m post_send_args \u001b[39m=\u001b[39m \u001b[39mself\u001b[39m\u001b[39m.\u001b[39m_send_raw_transaction_post_send_args(resp, opts)\n\u001b[1;32m   <a href='file:///~/.local/lib/python3.8/site-packages/solana/rpc/api.py?line=1140'>1141</a>\u001b[0m \u001b[39mreturn\u001b[39;00m \u001b[39mself\u001b[39m\u001b[39m.\u001b[39m__post_send_with_confirm(\u001b[39m*\u001b[39mpost_send_args)\n",
      "File \u001b[0;32m~/.local/lib/python3.8/site-packages/solana/rpc/core.py:418\u001b[0m, in \u001b[0;36m_ClientCore._post_send\u001b[0;34m(resp)\u001b[0m\n\u001b[1;32m    <a href='file:///~/.local/lib/python3.8/site-packages/solana/rpc/core.py?line=415'>416</a>\u001b[0m error \u001b[39m=\u001b[39m resp\u001b[39m.\u001b[39mget(\u001b[39m\"\u001b[39m\u001b[39merror\u001b[39m\u001b[39m\"\u001b[39m)\n\u001b[1;32m    <a href='file:///~/.local/lib/python3.8/site-packages/solana/rpc/core.py?line=416'>417</a>\u001b[0m \u001b[39mif\u001b[39;00m error:\n\u001b[0;32m--> <a href='file:///~/.local/lib/python3.8/site-packages/solana/rpc/core.py?line=417'>418</a>\u001b[0m     \u001b[39mraise\u001b[39;00m RPCException(error)\n\u001b[1;32m    <a href='file:///~/.local/lib/python3.8/site-packages/solana/rpc/core.py?line=418'>419</a>\u001b[0m \u001b[39mif\u001b[39;00m \u001b[39mnot\u001b[39;00m resp\u001b[39m.\u001b[39mget(\u001b[39m\"\u001b[39m\u001b[39mresult\u001b[39m\u001b[39m\"\u001b[39m):\n\u001b[1;32m    <a href='file:///~/.local/lib/python3.8/site-packages/solana/rpc/core.py?line=419'>420</a>\u001b[0m     \u001b[39mraise\u001b[39;00m RPCNoResultException(\u001b[39m\"\u001b[39m\u001b[39mFailed to send transaction\u001b[39m\u001b[39m\"\u001b[39m)\n",
      "\u001b[0;31mRPCException\u001b[0m: {'code': -32002, 'message': 'Transaction simulation failed: Error processing Instruction 0: custom program error: 0x0', 'data': {'accounts': None, 'err': {'InstructionError': [0, {'Custom': 0}]}, 'logs': ['Program J2D3SVcpxaUESZGFWMEmbHRonAQww2v9U2vHjxWg9ZaW invoke [1]', 'Program ATokenGPvbdGVxr1b2hvZbsiqW5xWH25efTNsLJA8knL invoke [2]', 'Program log: Allocate space for the associated token account', 'Program 11111111111111111111111111111111 invoke [3]', 'Allocate: account Address { address: 9ZJkPCjEZehchPHs1k327BCb9JQVEg7drn7nmkK6Wkqk, base: None } already in use', 'Program 11111111111111111111111111111111 failed: custom program error: 0x0', 'Program ATokenGPvbdGVxr1b2hvZbsiqW5xWH25efTNsLJA8knL consumed 8473 of 192043 compute units', 'Program ATokenGPvbdGVxr1b2hvZbsiqW5xWH25efTNsLJA8knL failed: custom program error: 0x0', 'Program J2D3SVcpxaUESZGFWMEmbHRonAQww2v9U2vHjxWg9ZaW consumed 16430 of 200000 compute units', 'Program J2D3SVcpxaUESZGFWMEmbHRonAQww2v9U2vHjxWg9ZaW failed: custom program error: 0x0']}}"
     ]
    }
   ],
=======
   "execution_count": 251,
   "metadata": {},
   "outputs": [],
>>>>>>> 561388ef832c261d7d240eafa30b6c35f92164a2
   "source": [
    "def init_vault():\n",
    "    accounts = [\n",
    "        payer_account_meta,\n",
    "        vault_account_meta,\n",
    "        vault_dsol_token_account_meta,\n",
    "        dsol_mint_meta,\n",
    "        sys_program_meta,\n",
    "        spl_program_meta,\n",
    "        rent_account_meta,\n",
    "\n",
    "        associated_program_meta,\n",
    "        sys_program_meta,\n",
    "        sys_program_meta,\n",
    "    ]\n",
    "\n",
    "    transaction = Transaction()\n",
    "    transaction.add(\n",
    "        TransactionInstruction(\n",
    "            accounts,\n",
    "            program_id,\n",
    "            bytes([9])\n",
    "        )\n",
    "    )\n",
    "    \n",
    "    return f\"https://explorer.solana.com/tx/{client.send_transaction(transaction, payer_keypair, vault_keypair)['result']}?cluster=devnet\"\n",
    "\n",
    "# init_vault()\n",
    "\n",
    "# time.sleep(5)"
   ]
  },
  {
   "cell_type": "code",
<<<<<<< HEAD
   "execution_count": 194,
=======
   "execution_count": 252,
>>>>>>> 561388ef832c261d7d240eafa30b6c35f92164a2
   "metadata": {},
   "outputs": [
    {
     "data": {
      "text/plain": [
<<<<<<< HEAD
       "J2D3SVcpxaUESZGFWMEmbHRonAQww2v9U2vHjxWg9ZaW"
      ]
     },
     "execution_count": 194,
=======
       "DvTvXKZR9wveQzL3pBM7QJ9YZpConSXBXRTyDsEADNqX"
      ]
     },
     "execution_count": 252,
>>>>>>> 561388ef832c261d7d240eafa30b6c35f92164a2
     "metadata": {},
     "output_type": "execute_result"
    }
   ],
   "source": [
    "program_id"
   ]
  },
  {
   "cell_type": "code",
<<<<<<< HEAD
   "execution_count": 195,
=======
   "execution_count": 253,
>>>>>>> 561388ef832c261d7d240eafa30b6c35f92164a2
   "metadata": {},
   "outputs": [
    {
     "data": {
      "text/plain": [
<<<<<<< HEAD
       "'https://explorer.solana.com/tx/519dqcv1vs7ZUaYdsaiaCFDkBLHkDrxuXif6M9rVv3MGTVjpQsGpHCHp6TZMUJdjpHSTARB7AJjfXdtrJS3yiegT?cluster=devnet'"
      ]
     },
     "execution_count": 195,
=======
       "'https://explorer.solana.com/tx/3Qorjk6NBka2yiPTxnrLU5mTDp6srTnY4NtSw651Pq4Ssq6SmGD558FoWU4unzSXDJZJMjKa7MdAAnwtKAB2DdLt?cluster=devnet'"
      ]
     },
     "execution_count": 253,
>>>>>>> 561388ef832c261d7d240eafa30b6c35f92164a2
     "metadata": {},
     "output_type": "execute_result"
    }
   ],
   "source": [
    "def mint_avatar():\n",
    "    accounts = [\n",
    "        # program_id_account_meta,\n",
    "        payer_account_meta,\n",
    "        payer_dsol_token_account_meta,\n",
    "        vault_account_meta, \n",
    "        vault_dsol_token_account_meta,\n",
    "        mint_account_meta, \n",
    "        rent_account_meta, \n",
    "        associated_account_meta,\n",
    "        spl_program_meta,\n",
    "        AccountMeta(SYS_PROGRAM_ID, False, False),\n",
    "        mint_authority_meta,\n",
    "        avatar_data_pda_meta,\n",
    "        sales_pda_meta,\n",
    "        AccountMeta(metadata_pda, False, True),\n",
    "        sysvar_clock_meta,\n",
    "\n",
    "        spl_program_meta,\n",
    "        AccountMeta(ASSOCIATED_TOKEN_PROGRAM_ID, False, False),\n",
    "        spl_program_meta,\n",
    "        spl_program_meta,\n",
    "        AccountMeta(metadata_program_pubkey, False, False),\n",
    "    ]   \n",
    "\n",
    "    transaction = Transaction()\n",
    "    transaction.add(TransactionInstruction(\n",
    "        accounts,\n",
    "        program_id,\n",
    "        bytes([0])\n",
    "    ))\n",
    "    \n",
    "    return f\"https://explorer.solana.com/tx/{client.send_transaction(transaction, payer_keypair, mint_account, vault_keypair)['result']}?cluster=devnet\"\n",
    "\n",
    "mint_avatar()"
   ]
  },
  {
   "cell_type": "code",
   "execution_count": 254,
   "metadata": {},
   "outputs": [
    {
     "name": "stdout",
     "output_type": "stream",
     "text": [
      "PDA: (AxjHKB6QWUWFSefbAwAx5UZggfZZkzpAu7Gs94U8sGAU, 255)\n"
     ]
    },
    {
     "data": {
      "text/plain": [
       "Container(vault_total=26.322830200195312, counter=15, rent_min_listed=0, rent_max_listed=0, rent_max_ever=0)"
      ]
     },
     "execution_count": 254,
     "metadata": {},
     "output_type": "execute_result"
    }
   ],
   "source": [
    "\n",
    "accountSchema = CStruct(\n",
    "    \"vault_total\" / F32,\n",
    "    \"counter\" / U32,\n",
    "    \n",
    "    \"rent_min_listed\"/ U32,\n",
    "    \"rent_max_listed\"/ U32,\n",
    "    \"rent_max_ever\"/ U32,\n",
    ")\n",
    "\n",
    "(sales_pda, sales_nonce) = PublicKey.find_program_address([b'sales_pda'], program_id)\n",
    "print(f\"PDA: {sales_pda, sales_nonce}\")\n",
    "\n",
    "getAccountInfo(client,sales_pda)"
   ]
  },
  {
   "cell_type": "code",
   "execution_count": 255,
   "metadata": {},
   "outputs": [
    {
     "name": "stdout",
     "output_type": "stream",
     "text": [
      "PDA: (CwmMwW4XgbjGYxNvK1y9t7WY4bW1A3zBk7osc3kznK3q, 254)\n"
     ]
    },
    {
     "data": {
      "text/plain": [
       "Container(date_created=1645208843, unlockable_date=1645208843, numeration=14, rarity=1, level=0, xp=0, rented_state=False, use_authority=ListContainer([17, 71, 60, 73, 89, 58, 122, 18, 156, 76, 53, 19, 249, 230, 254, 224, 26, 170, 93, 110, 57, 38, 59, 79, 2, 89, 12, 49, 56, 233, 39, 27]), rent_bump=0)"
      ]
     },
     "execution_count": 255,
     "metadata": {},
     "output_type": "execute_result"
    }
   ],
   "source": [
    "accountSchema = CStruct(\n",
    "    \"date_created\" / U32,\n",
    "    \"unlockable_date\" / U32,\n",
    "    \"numeration\" /U32,\n",
    "    \"rarity\" / U8,\n",
    "    \"level\" / U8,\n",
    "    \"xp\" / U32,\n",
    "    \"rented_state\" / Bool,\n",
    "    \"use_authority\" / U8[32],\n",
    "    \"rent_bump\" / U32,\n",
    ")\n",
    "\n",
    "print(f\"PDA: {avatar_data_pda, avatar_pda_nonce}\")\n",
    "\n",
    "# PublicKey(getAccountInfo(client,avatar_data_pda).use_authority)\n",
    "getAccountInfo(client,avatar_data_pda)"
   ]
  },
  {
   "cell_type": "code",
   "execution_count": 257,
   "metadata": {},
   "outputs": [
    {
     "data": {
      "text/plain": [
       "{'jsonrpc': '2.0',\n",
       " 'result': {'context': {'slot': 115530328},\n",
       "  'value': {'data': ['NwXoaDEQsB/OC9oKslTKiv+DUuYROdKQLtbaoJTbEcYiB4qEmOrEkv2swJzEjguwWxo7meEoxjlj4msxbr/ofgBgjSLiAgAAAAAAAAAAAAAAAAAAAAAAAAAAAAAAAAAAAAAAAAAAAAAAAAAAAQAAAAAAAAAAAAAAAAAAAAAAAAAAAAAAAAAAAAAAAAAAAAAAAAAAAAAAAAAAAAAAAAAAAAAAAAAA',\n",
       "    'base64'],\n",
       "   'executable': False,\n",
       "   'lamports': 2039280,\n",
       "   'owner': 'TokenkegQfeZyiNwAJbNbGKPFXCWuBvf9Ss623VQ5DA',\n",
       "   'rentEpoch': 267}},\n",
       " 'id': 5}"
      ]
     },
     "execution_count": 257,
     "metadata": {},
     "output_type": "execute_result"
    }
   ],
   "source": [
    "# time.sleep(120)\n",
    "\n",
    "# new_accounts = [\n",
    "#     mint_account_meta,\n",
    "#     associated_account_meta,\n",
    "#     spl_program_meta,\n",
    "#     mint_authority_meta,\n",
    "#     avatar_data_pda_meta,\n",
    "#     sysvar_clock_meta,\n",
    "\n",
    "#     spl_program_meta\n",
    "# ]\n",
    "\n",
    "# transaction = Transaction()\n",
    "# transaction.add(TransactionInstruction(\n",
    "#     new_accounts,\n",
    "#     program_id,\n",
    "#     bytes([1])\n",
    "# ))\n",
    "# f\"https://explorer.solana.com/tx/{client.send_transaction(transaction, payer_keypair, mint_account)['result']}?cluster=devnet\"\n",
    "\n",
    "assoc_key = PublicKey(\"9ZJkPCjEZehchPHs1k327BCb9JQVEg7drn7nmkK6Wkqk\")\n",
    "client.get_account_info(assoc_key)"
   ]
  }
 ],
 "metadata": {
  "interpreter": {
   "hash": "b3ba2566441a7c06988d0923437866b63cedc61552a5af99d1f4fb67d367b25f"
  },
  "kernelspec": {
   "display_name": "Python 3.8.8 64-bit ('base': conda)",
   "language": "python",
   "name": "python3"
  },
  "language_info": {
   "codemirror_mode": {
    "name": "ipython",
    "version": 3
   },
   "file_extension": ".py",
   "mimetype": "text/x-python",
   "name": "python",
   "nbconvert_exporter": "python",
   "pygments_lexer": "ipython3",
   "version": "3.9.7"
  },
  "orig_nbformat": 4
 },
 "nbformat": 4,
 "nbformat_minor": 2
}
