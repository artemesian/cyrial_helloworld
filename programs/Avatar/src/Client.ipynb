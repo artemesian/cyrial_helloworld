{
 "cells": [
  {
   "cell_type": "code",
   "execution_count": 65,
   "metadata": {},
   "outputs": [
    {
     "data": {
      "text/plain": [
       "True"
      ]
     },
     "execution_count": 65,
     "metadata": {},
     "output_type": "execute_result"
    }
   ],
   "source": [
    "import solana\n",
    "from solana.publickey import PublicKey\n",
    "from solana.rpc.api import Client\n",
    "from solana.keypair import Keypair\n",
    "from solana import system_program\n",
    "from solana import transaction\n",
    "from solana.system_program import SYS_PROGRAM_ID, CreateAccountParams, create_account\n",
    "from solana.transaction import *\n",
    "from spl.token.constants import TOKEN_PROGRAM_ID, ASSOCIATED_TOKEN_PROGRAM_ID\n",
    "from spl.token.instructions import initialize_mint, InitializeMintParams\n",
    "from spl.token._layouts import MINT_LAYOUT\n",
    "from spl.token.client import Token\n",
    "from spl.token import instructions\n",
    "import base64\n",
    "import base58\n",
    "from borsh_construct import *\n",
    "from solana.rpc.commitment import Commitment\n",
    "import time\n",
    "import sys\n",
    "sys.path.append('../../GlobalRepo/')\n",
    "from global_repo import *\n",
    "\n",
    "\n",
    "client = Client(\"https://api.devnet.solana.com\")\n",
    "\n",
    "client.is_connected()"
   ]
  },
  {
   "cell_type": "code",
   "execution_count": 66,
   "metadata": {},
   "outputs": [],
   "source": [
    "program_id = AVATAR_PROGRAM_ID\n",
    "# program_id_account_meta = AccountMeta(program_id, False, False)\n",
    "sys_program_meta = AccountMeta(SYS_PROGRAM_ID, False, False)\n",
    "spl_program_meta  = AccountMeta(TOKEN_PROGRAM_ID, False, False)\n",
    "# program_id_account_meta"
   ]
  },
  {
   "cell_type": "code",
   "execution_count": 67,
   "metadata": {},
   "outputs": [],
   "source": [
    "# client.request_airdrop(PublicKey(\"DxkiJXK31VEd4R6F44mQRszoUQugpPYMwL9ybcrnt22r\"), 2000000000)"
   ]
  },
  {
   "cell_type": "code",
   "execution_count": 68,
   "metadata": {},
   "outputs": [],
   "source": [
    "def getAccountInfo(client: Client, account_pk: PublicKey):\n",
    "    \"\"\"Fetch account information from RPC, parse out the data and deserialize\"\"\"\n",
    "    comm = Commitment(\"confirmed\")\n",
    "    res = client.get_account_info(account_pk, comm, encoding='base64')\n",
    "    data = res['result']\n",
    "    if isinstance(data, dict):\n",
    "        return accountSchema.parse(base64.urlsafe_b64decode(data['value']['data'][0]))\n",
    "    else:\n",
    "        raise AttributeError(f'Unknown RPC result {data}')"
   ]
  },
  {
   "cell_type": "code",
   "execution_count": 69,
   "metadata": {},
   "outputs": [
    {
     "data": {
      "text/plain": [
       "{'jsonrpc': '2.0',\n",
       " 'result': '2Ru2TPbuinEvWFYttdwXAMmx9n4LGU6SibmhFPVmQWseGgLLL1mtP5NnQHKwo7P6CJYJscEuZqzhQUDwNVecLYg9',\n",
       " 'id': 1}"
      ]
     },
     "execution_count": 69,
     "metadata": {},
     "output_type": "execute_result"
    }
   ],
   "source": [
    "payer_keypair = Keypair.from_secret_key(base58.b58decode(\"mH4PkhAttpFXSrntbpiJgC8J6wHYFDK5PFWcPN53hMJKziWQucux7MFiW7uXnqKsAY3XBnxUtyVKnomZnD9JxHW\"))\n",
    "client.request_airdrop(payer_keypair.public_key, 2*10**9)"
   ]
  },
  {
   "cell_type": "code",
   "execution_count": 70,
   "metadata": {},
   "outputs": [
    {
     "data": {
      "text/plain": [
       "2ZHc9QxDDaJwqNEFzpAGUrvxCWZSNnXSffHxV9hG2axp"
      ]
     },
     "execution_count": 70,
     "metadata": {},
     "output_type": "execute_result"
    }
   ],
   "source": [
    "payer_keypair.public_key"
   ]
  },
  {
   "cell_type": "code",
   "execution_count": 71,
   "metadata": {},
   "outputs": [],
   "source": [
    "dsol_mint = DSOL_MINT_ID"
   ]
  },
  {
   "cell_type": "code",
   "execution_count": 72,
   "metadata": {},
   "outputs": [
    {
     "data": {
      "text/plain": [
       "3HqXocfan3tVv3N4tTAFhyVePkP856jxngQ6pQxdupXP"
      ]
     },
     "execution_count": 72,
     "metadata": {},
     "output_type": "execute_result"
    }
   ],
   "source": [
    "seed = bytes([25,215,212,154,213,198,45,123]*4)\n",
    "vault_keypair = Keypair.from_seed(seed)\n",
    "vault = VAULT\n",
    "# client.request_airdrop(vault_keypair.public_key, 2*10**9)\n",
    "# time.sleep(5)\n",
    "\n",
    "vault_dsol_token_account = instructions.get_associated_token_address(vault, dsol_mint)\n",
    "vault_keypair.public_key"
   ]
  },
  {
   "cell_type": "code",
   "execution_count": 73,
   "metadata": {},
   "outputs": [],
   "source": [
    "mint_account = Keypair.generate()\n",
    "\n",
    "payer_dsol_token_account = instructions.get_associated_token_address(payer_keypair.public_key, dsol_mint)\n",
    "payer_account_meta = AccountMeta(payer_keypair.public_key, True, True)\n",
    "vault_account_meta = AccountMeta(vault, True, True)\n",
    "\n",
    "rent_account_meta = AccountMeta(solana.sysvar.SYSVAR_RENT_PUBKEY, False, False)\n",
    "spl_program_meta  = AccountMeta(TOKEN_PROGRAM_ID, False, False)\n"
   ]
  },
  {
   "cell_type": "code",
   "execution_count": 74,
   "metadata": {},
   "outputs": [
    {
     "name": "stdout",
     "output_type": "stream",
     "text": [
      "HSYdApQF2FKVNnX6FQ1ySYstGLe5Gp8NseHVFavWye66\n",
      "3HqXocfan3tVv3N4tTAFhyVePkP856jxngQ6pQxdupXP\n",
      "H5bXtRguFwmif1VLQAVcYZwA5UwBQ8qUMders9TXLiQ7\n",
      "2ZHc9QxDDaJwqNEFzpAGUrvxCWZSNnXSffHxV9hG2axp\n",
      "fWNUKgUNPKrHkLDvUDq379bFmE6m7MR1MGgiBSpPPWC\n",
      "CaJrkP1duqCUtXqEoYiwT2hNRYVyziU7jwUHPkstkE4K\n",
      "AccountMeta(pubkey=TokenkegQfeZyiNwAJbNbGKPFXCWuBvf9Ss623VQ5DA, is_signer=False, is_writable=False)\n",
      "AccountMeta(pubkey=SysvarRent111111111111111111111111111111111, is_signer=False, is_writable=False)\n",
      "8xk4TAWyS4G3GPLaxmAExMBfJYVCozcsqCLmrASrEAgV\n",
      "3TGD8CqyMPjz9ruuhU1dZKjkHVjHBqr1xrsMYQq5EFbZ\n"
     ]
    }
   ],
   "source": [
    "mint_account_meta = AccountMeta(mint_account.public_key, True, True)\n",
    "associated_token_address = instructions.get_associated_token_address(payer_keypair.public_key, mint_account.public_key)\n",
    "associated_account_meta = AccountMeta(associated_token_address, False, True)\n",
    "\n",
    "(mint_authority, nonce) = PublicKey.find_program_address([b\"avatar_mint_authority_pda\"], program_id)\n",
    "(avatar_data_pda, avatar_pda_nonce) = PublicKey.find_program_address([b'avatar_data_pda', bytes(mint_account_meta.pubkey)], program_id)\n",
    "(sales_pda, sales_nonce) = PublicKey.find_program_address([b'dsol_avatar_sales_pda'], program_id)\n",
    "metadata_program_pubkey = METAPLEX_PROGRAM_ID\n",
    "(metadata_pda, metadata_nonce) = PublicKey.find_program_address([b'metadata', bytes(metadata_program_pubkey), bytes(mint_account_meta.pubkey)], metadata_program_pubkey)\n",
    "\n",
    "\n",
    "avatar_data_pda_meta = AccountMeta(avatar_data_pda, False, True)\n",
    "sysvar_clock_meta = AccountMeta(solana.sysvar.SYSVAR_CLOCK_PUBKEY, False, False)\n",
    "sales_pda_meta = AccountMeta(sales_pda, False, True)\n",
    "mint_authority_meta = AccountMeta(mint_authority, False, False)\n",
    "associated_program_meta = AccountMeta(ASSOCIATED_TOKEN_PROGRAM_ID, False, False)\n",
    "\n",
    "\n",
    "dsol_mint_meta = AccountMeta(dsol_mint, False, False)\n",
    "vault_dsol_token_account_meta = AccountMeta(vault_dsol_token_account, False, True)\n",
    "payer_dsol_token_account_meta = AccountMeta(payer_dsol_token_account, False, True)\n",
    "\n",
    "print(dsol_mint)\n",
    "print(vault_keypair.public_key)\n",
    "print(vault_dsol_token_account)\n",
    "print(payer_keypair.public_key)\n",
    "print(payer_dsol_token_account)\n",
    "print(mint_authority)\n",
    "print(spl_program_meta)\n",
    "print(rent_account_meta)\n",
    "print(associated_token_address)\n",
    "print(sales_pda)"
   ]
  },
  {
   "cell_type": "code",
   "execution_count": 75,
   "metadata": {},
   "outputs": [
    {
     "data": {
      "text/plain": [
       "Bh1DsFGZT5bNNjGvbv9VPKCRkQYXEyHxsyYkKiDPU42k"
      ]
     },
     "execution_count": 75,
     "metadata": {},
     "output_type": "execute_result"
    }
   ],
   "source": [
    "\n",
    "# def init_vault():\n",
    "#     accounts = [\n",
    "#         payer_account_meta,\n",
    "#         vault_account_meta,\n",
    "#         vault_dsol_token_account_meta,\n",
    "#         dsol_mint_meta,\n",
    "#         sys_program_meta,\n",
    "#         spl_program_meta,\n",
    "#         rent_account_meta,\n",
    "\n",
    "#         associated_program_meta,\n",
    "#         # sys_program_meta,\n",
    "#         # sys_program_meta,\n",
    "#     ]\n",
    "\n",
    "#     transaction = Transaction()\n",
    "#     transaction.add(\n",
    "#         TransactionInstruction(\n",
    "#             accounts,\n",
    "#             program_id,\n",
    "#             bytes([9])\n",
    "#         )\n",
    "#     )\n",
    "    \n",
    "#     return f\"https://explorer.solana.com/tx/{client.send_transaction(transaction, payer_keypair, vault_keypair)['result']}?cluster=devnet\"\n",
    "\n",
    "# init_vault()\n",
    "\n",
    "# # time.sleep(5)\n",
    "mint_account_meta.pubkey"
   ]
  },
  {
   "cell_type": "code",
   "execution_count": 76,
   "metadata": {},
   "outputs": [
    {
     "data": {
      "text/plain": [
       "ASV3UahwSK3oRmNkkbyhFNSRSaccL2jJvAYCYQa8RSgG"
      ]
     },
     "execution_count": 76,
     "metadata": {},
     "output_type": "execute_result"
    }
   ],
   "source": [
    "program_id"
   ]
  },
  {
   "cell_type": "code",
   "execution_count": 77,
   "metadata": {},
   "outputs": [
    {
     "data": {
      "text/plain": [
       "'https://explorer.solana.com/tx/3ryR8hCtfWXYpFTuUNeKNsBexgRg6YRhrTdNNDh4by8QfvAi3ZT3MtvmegU8tWtoLHsQ6avGWdSwkEJ6QGJS954Q?cluster=devnet'"
      ]
     },
     "execution_count": 77,
     "metadata": {},
     "output_type": "execute_result"
    }
   ],
   "source": [
    "def mint_avatar():\n",
    "    accounts = [\n",
    "        # program_id_account_meta,\n",
    "        payer_account_meta,\n",
    "        payer_dsol_token_account_meta,\n",
    "        AccountMeta(vault,False, True), \n",
    "        vault_dsol_token_account_meta,\n",
    "        mint_account_meta, \n",
    "        rent_account_meta, \n",
    "        associated_account_meta,\n",
    "        spl_program_meta,\n",
    "        AccountMeta(SYS_PROGRAM_ID, False, False),\n",
    "        mint_authority_meta,\n",
    "        avatar_data_pda_meta,\n",
    "        sales_pda_meta,\n",
    "        AccountMeta(metadata_pda, False, True),\n",
    "        sysvar_clock_meta,\n",
    "\n",
    "        spl_program_meta,\n",
    "        AccountMeta(ASSOCIATED_TOKEN_PROGRAM_ID, False, False),\n",
    "        spl_program_meta,\n",
    "        spl_program_meta,\n",
    "        AccountMeta(metadata_program_pubkey, False, False),\n",
    "    ]   \n",
    "\n",
    "    transaction = Transaction()\n",
    "    transaction.add(TransactionInstruction(\n",
    "        accounts,\n",
    "        program_id,\n",
    "        bytes([0])\n",
    "    ))\n",
    "    \n",
    "    return f\"https://explorer.solana.com/tx/{client.send_transaction(transaction, payer_keypair, mint_account)['result']}?cluster=devnet\"\n",
    "\n",
    "mint_avatar()"
   ]
  },
  {
   "cell_type": "code",
   "execution_count": 78,
   "metadata": {},
   "outputs": [
    {
     "data": {
      "text/plain": [
       "Container(struct_id=0, vault_total=123.6152114868164, counter=52, rent_min_listed=0, rent_max_listed=0, rent_max_ever=0)"
      ]
     },
     "execution_count": 78,
     "metadata": {},
     "output_type": "execute_result"
    }
   ],
   "source": [
    "StructId = Enum(\n",
    "    \"AvatarSales0_0_1\",\n",
    "    \"AvatarData0_0_1\",\n",
    "    \"RentContainerData0_0_1\",\n",
    "    \"AccountRentSpace0_0_1\",\n",
    "    \"CollectionData0_0_1\",\n",
    "    \"ContainerData0_0_1\",\n",
    "    \"GovernorData0_0_1\",\n",
    "    \"GovernorSales0_0_1\",\n",
    "    \"Proposals0_0_1\",\n",
    "    \"GovernorVote0_0_1\",\n",
    "    \"GovernorsVote0_0_1\",\n",
    "    \"ProposalResult0_0_1\",\n",
    "    \"Proposal0_0_1\",\n",
    "    \"TableSales0_0_1\",\n",
    "    \"TableData0_0_1\",\n",
    "    \"ProposalNumGovernors0_0_1\",\n",
    "    \"ProposalLockGovernor0_0_1\",\n",
    "    \"DsolData0_0_1\",\n",
    "    enum_name=\"StructId\"\n",
    ")\n",
    "\n",
    "accountSchema = CStruct(\n",
    "    \"struct_id\"/ U32,\n",
    "    \"vault_total\" / F32,\n",
    "    \"counter\" / U32,\n",
    "    \"rent_min_listed\" / U32,\n",
    "    \"rent_max_listed\" / U32,\n",
    "    \"rent_max_ever\" / U32\n",
    ")\n",
    "\n",
    "getAccountInfo(client,sales_pda)"
   ]
  },
  {
   "cell_type": "code",
   "execution_count": 79,
   "metadata": {},
   "outputs": [
    {
     "name": "stdout",
     "output_type": "stream",
     "text": [
      "PDA: (GWwMrQCJWdaL1kahndZ5VaAWtdSJkUu77uGM2VZfEiFh, 254)\n"
     ]
    },
    {
     "data": {
      "text/plain": [
       "Container(struct_id=1, date_created=1645973032, unlockable_date=1645973032, numeration=4, rarity=2, level=0, xp=0, rent_state=0, use_authority=ListContainer([23, 33, 12, 153, 230, 93, 161, 21, 203, 134, 227, 249, 98, 231, 6, 246, 65, 15, 155, 136, 121, 241, 203, 109, 115, 234, 247, 41, 223, 105, 164, 97]), rent_bump=0)"
      ]
     },
     "execution_count": 79,
     "metadata": {},
     "output_type": "execute_result"
    }
   ],
   "source": [
    "\n",
    "\n",
    "\n",
    "accountSchema = CStruct(\n",
    "    \"struct_id\" / U8,\n",
    "    \"date_created\" / U32,\n",
    "    \"unlockable_date\" / U32,\n",
    "    \"numeration\" /U32,\n",
    "    \"rarity\" / U8,\n",
    "    \"level\" / U8,\n",
    "    \"xp\" / U32,\n",
    "    \"rent_state\" / U8,\n",
    "    \"use_authority\" / U8[32],\n",
    "    \"rent_bump\" / U32,\n",
    ")\n",
    "\n",
    "\n",
    "(locktime_pda, locktime_nonce) = PublicKey.find_program_address([b'locktime_pda', bytes(mint_account_meta.pubkey), bytes(associated_account_meta.pubkey)], program_id)\n",
    "print(f\"PDA: {avatar_data_pda, avatar_pda_nonce}\")\n",
    "\n",
    "getAccountInfo(client,PublicKey(\"4tPJ2U9yRfKejCkPwHTgWCYjV728UmM5X4nrM5A1zHQX\"))"
   ]
  },
  {
   "cell_type": "code",
   "execution_count": 80,
   "metadata": {},
   "outputs": [],
   "source": [
    "# time.sleep(120)\n",
    "\n",
    "# new_accounts = [\n",
    "#     mint_account_meta,\n",
    "#     associated_account_meta,\n",
    "#     spl_program_meta,\n",
    "#     mint_authority_meta,\n",
    "#     avatar_data_pda_meta,\n",
    "#     sysvar_clock_meta,\n",
    "\n",
    "#     spl_program_meta\n",
    "# ]\n",
    "\n",
    "# transaction = Transaction()\n",
    "# transaction.add(TransactionInstruction(\n",
    "#     new_accounts,\n",
    "#     program_id,\n",
    "#     bytes([1])\n",
    "# ))\n",
    "# f\"https://explorer.solana.com/tx/{client.send_transaction(transaction, payer_keypair, mint_account)['result']}?cluster=devnet\""
   ]
  }
 ],
 "metadata": {
  "interpreter": {
   "hash": "b3ba2566441a7c06988d0923437866b63cedc61552a5af99d1f4fb67d367b25f"
  },
  "kernelspec": {
   "display_name": "Python 3.8.8 64-bit ('base': conda)",
   "language": "python",
   "name": "python3"
  },
  "language_info": {
   "codemirror_mode": {
    "name": "ipython",
    "version": 3
   },
   "file_extension": ".py",
   "mimetype": "text/x-python",
   "name": "python",
   "nbconvert_exporter": "python",
   "pygments_lexer": "ipython3",
   "version": "3.9.7"
  },
  "orig_nbformat": 4
 },
 "nbformat": 4,
 "nbformat_minor": 2
}
