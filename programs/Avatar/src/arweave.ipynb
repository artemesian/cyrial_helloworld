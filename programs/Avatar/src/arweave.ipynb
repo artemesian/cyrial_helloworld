{
 "cells": [
  {
   "cell_type": "code",
   "execution_count": 38,
   "metadata": {},
   "outputs": [
    {
     "data": {
      "text/plain": [
       "0.0"
      ]
     },
     "execution_count": 38,
     "metadata": {},
     "output_type": "execute_result"
    }
   ],
   "source": [
    "from arweave.arweave_lib import Wallet, Transaction, API_URL\n",
    "import json\n",
    "\n",
    "# Load your arweave wallet\n",
    "your_ar_wallet = Wallet('arweave-key.json')\n",
    "your_ar_wallet.balance"
   ]
  },
  {
   "cell_type": "code",
   "execution_count": 39,
   "metadata": {},
   "outputs": [
    {
     "name": "stdout",
     "output_type": "stream",
     "text": [
      "https://arweave.net/Y6XxIE1ft2Zxfxs3BUptdWhZqgK7VcMRjJg4APDjZ0s\n"
     ]
    }
   ],
   "source": [
    "metadata = {\n",
    "    \"name\": \"NewB\",\n",
    "    \"symbol\": \"GTree\",\n",
    "    \"description\": \"The New way of Decentralizing Blockchains\",\n",
    "    \"seller_fee_basis_points\": 500,\n",
    "    \"external_url\": \"https://www.Gamestree.com\",\n",
    "    \"attributes\": [\n",
    "        {\n",
    "            \"trait_type\": \"Color\",\n",
    "            \"value\": \"Brown\"\n",
    "        }\n",
    "    ],\n",
    "    \"collection\": {\n",
    "        \"name\": \"Gamestree Avatars\",\n",
    "        \"family\": \"NewB\",\n",
    "    },\n",
    "    \"properties\": {\n",
    "        \"files\": [\n",
    "            {\n",
    "                \"uri\": \"https://cdn.discordapp.com/attachments/884618293577670697/889836216952971305/artflow_202109211228.png\",\n",
    "                \"type\": \"image/png\",\n",
    "            },\n",
    "        ],\n",
    "        \"category\": \"image\",\n",
    "        \"maxSupply\": 0,\n",
    "        \"creators\":[\n",
    "            {\n",
    "            \"address\": \"8yKqaBE3PY3HnBKnHDjogtwpuMYK8gKVUNgnPqVxBcwz\",\n",
    "            \"verified\":1,\n",
    "            \"share\": 0,\n",
    "            },\n",
    "            {\n",
    "            \"address\": \"G473EkeR5gowVn8CRwTSDop3zPwaNixwp62qi7nyVf4z\",\n",
    "            \"verified\": 0,\n",
    "            \"share\": 100,\n",
    "            }\n",
    "            ],\n",
    "    },\n",
    "    \"image\": \"https://cdn.discordapp.com/attachments/884618293577670697/889836216952971305/artflow_202109211228.png\",\n",
    "}\n",
    "\n",
    "# Upload metadata to Arweave\n",
    "meta_transaction = Transaction(your_ar_wallet, data=json.dumps(metadata))\n",
    "meta_transaction.add_tag('Content-Type', 'text/html')\n",
    "meta_transaction.sign()\n",
    "meta_transaction.send()\n",
    "\n",
    "metadata_url = API_URL+\"/\"+meta_transaction.id\n",
    "\n",
    "print(metadata_url)"
   ]
  },
  {
   "cell_type": "code",
   "execution_count": 40,
   "metadata": {},
   "outputs": [
    {
     "data": {
      "text/plain": [
       "['https://arweave.net/OioGclZGd62Rq-9hPWgcw5yVnsiNsPMfUjOVB8cpkxI',\n",
       " 'https://arweave.net/JBfrg0II2UnjTcqbfpBfjJkMvEiJxBL7dqy4NoJE6KY',\n",
       " 'https://arweave.net/b2sC9VSoIsYkwWi35469R5uVR9TuqhyFaTfzA_mGK4o',\n",
       " 'https://arweave.net/64KtiE7AxHpfSvo94WVryVtoXLkegl3UgFPNwbVvtpA',\n",
       " 'https://arweave.net/yZj1tJKobPrl3nF4lZxmb_Pv00ZKCtMDnSR88TIFYrI',\n",
       " 'https://arweave.net/c8xNffeYluRyBq_H7REUGzzQKA6oKPPm9Utu6w4jpcI',\n",
       " 'https://arweave.net/ft3m1VjpNZ809fjeYDhwzB-Y-NJmWyNL2GjtNXYlOv4',\n",
       " 'https://arweave.net/co68y7GK5Ec2-r5ZhigioavtzFPKOQaA6HjSzRj3t2c',\n",
       " 'https://arweave.net/Tdw8rS02eK2LPqsHCH6UrtXGGDdM3DAggySKV0ONYgE',\n",
       " 'https://arweave.net/_oowkkm0nbGiDIhLKh4niZLWLQGh_2BTZ76W0JPPXeI',\n",
       " 'https://arweave.net/s1vtegvJxHDt70oyC3Y4eK0wEzq78l6CqT8e2jdCsdA']"
      ]
     },
     "execution_count": 40,
     "metadata": {},
     "output_type": "execute_result"
    }
   ],
   "source": [
    "[\n",
    "    \"https://arweave.net/OioGclZGd62Rq-9hPWgcw5yVnsiNsPMfUjOVB8cpkxI\",\n",
    "    \"https://arweave.net/JBfrg0II2UnjTcqbfpBfjJkMvEiJxBL7dqy4NoJE6KY\",\n",
    "    \"https://arweave.net/b2sC9VSoIsYkwWi35469R5uVR9TuqhyFaTfzA_mGK4o\",\n",
    "    \"https://arweave.net/64KtiE7AxHpfSvo94WVryVtoXLkegl3UgFPNwbVvtpA\",\n",
    "    \"https://arweave.net/yZj1tJKobPrl3nF4lZxmb_Pv00ZKCtMDnSR88TIFYrI\",\n",
    "    \"https://arweave.net/c8xNffeYluRyBq_H7REUGzzQKA6oKPPm9Utu6w4jpcI\",\n",
    "    \"https://arweave.net/ft3m1VjpNZ809fjeYDhwzB-Y-NJmWyNL2GjtNXYlOv4\",\n",
    "    \"https://arweave.net/co68y7GK5Ec2-r5ZhigioavtzFPKOQaA6HjSzRj3t2c\",\n",
    "    \"https://arweave.net/Tdw8rS02eK2LPqsHCH6UrtXGGDdM3DAggySKV0ONYgE\",\n",
    "    \"https://arweave.net/_oowkkm0nbGiDIhLKh4niZLWLQGh_2BTZ76W0JPPXeI\",\n",
    "    \"https://arweave.net/s1vtegvJxHDt70oyC3Y4eK0wEzq78l6CqT8e2jdCsdA\",\n",
    "    \"https://arweave.net/Y6XxIE1ft2Zxfxs3BUptdWhZqgK7VcMRjJg4APDjZ0s\"\n",
    "    ]"
   ]
  },
  {
   "cell_type": "code",
   "execution_count": null,
   "metadata": {},
   "outputs": [],
   "source": []
  }
 ],
 "metadata": {
  "interpreter": {
   "hash": "b3ba2566441a7c06988d0923437866b63cedc61552a5af99d1f4fb67d367b25f"
  },
  "kernelspec": {
   "display_name": "Python 3.8.8 64-bit ('base': conda)",
   "language": "python",
   "name": "python3"
  },
  "language_info": {
   "codemirror_mode": {
    "name": "ipython",
    "version": 3
   },
   "file_extension": ".py",
   "mimetype": "text/x-python",
   "name": "python",
   "nbconvert_exporter": "python",
   "pygments_lexer": "ipython3",
   "version": "3.9.7"
  },
  "orig_nbformat": 4
 },
 "nbformat": 4,
 "nbformat_minor": 2
}
