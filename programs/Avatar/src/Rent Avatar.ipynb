{
 "cells": [
  {
   "cell_type": "code",
   "execution_count": 53,
   "metadata": {},
   "outputs": [
    {
     "data": {
      "text/plain": [
       "True"
      ]
     },
     "execution_count": 53,
     "metadata": {},
     "output_type": "execute_result"
    }
   ],
   "source": [
    "import solana\n",
    "from solana.publickey import PublicKey\n",
    "from solana.rpc.api import Client\n",
    "from solana.keypair import Keypair\n",
    "from solana import system_program\n",
    "from solana import transaction\n",
    "from solana.system_program import SYS_PROGRAM_ID, CreateAccountParams, create_account\n",
    "from solana.transaction import *\n",
    "from spl.token.constants import TOKEN_PROGRAM_ID, ASSOCIATED_TOKEN_PROGRAM_ID\n",
    "from spl.token.instructions import initialize_mint, InitializeMintParams\n",
    "from spl.token._layouts import MINT_LAYOUT\n",
    "from spl.token.client import Token\n",
    "from spl.token import instructions\n",
    "import base64\n",
    "import base58\n",
    "from borsh_construct import *\n",
    "from solana.rpc.commitment import Commitment\n",
    "import time\n",
    "import sys\n",
    "sys.path.append('../../GlobalRepo/')\n",
    "from global_repo import *\n",
    "\n",
    "\n",
    "client = Client(\"https://api.devnet.solana.com\")\n",
    "\n",
    "client.is_connected()"
   ]
  },
  {
   "cell_type": "code",
   "execution_count": 54,
   "metadata": {},
   "outputs": [],
   "source": [
    "program_id = AVATAR_PROGRAM_ID\n",
    "# program_id_account_meta = AccountMeta(program_id, False, False)\n",
    "sys_program_meta = AccountMeta(SYS_PROGRAM_ID, False, False)\n",
    "spl_program_meta  = AccountMeta(TOKEN_PROGRAM_ID, False, False)\n",
    "# program_id_account_meta"
   ]
  },
  {
   "cell_type": "code",
   "execution_count": 55,
   "metadata": {},
   "outputs": [],
   "source": [
    "# client.request_airdrop(PublicKey(\"DxkiJXK31VEd4R6F44mQRszoUQugpPYMwL9ybcrnt22r\"), 2000000000)"
   ]
  },
  {
   "cell_type": "code",
   "execution_count": 56,
   "metadata": {},
   "outputs": [],
   "source": [
    "def getAccountInfo(client: Client, account_pk: PublicKey):\n",
    "    \"\"\"Fetch account information from RPC, parse out the data and deserialize\"\"\"\n",
    "    comm = Commitment(\"confirmed\")\n",
    "    res = client.get_account_info(account_pk, comm, encoding='base64')\n",
    "    data = res['result']\n",
    "    if isinstance(data, dict):\n",
    "        return accountSchema.parse(base64.urlsafe_b64decode(data['value']['data'][0]))\n",
    "    else:\n",
    "        raise AttributeError(f'Unknown RPC result {data}')"
   ]
  },
  {
   "cell_type": "code",
   "execution_count": 57,
   "metadata": {},
   "outputs": [
    {
     "data": {
      "text/plain": [
       "{'jsonrpc': '2.0',\n",
       " 'error': {'code': -32603, 'message': 'Internal error'},\n",
       " 'id': 1}"
      ]
     },
     "execution_count": 57,
     "metadata": {},
     "output_type": "execute_result"
    }
   ],
   "source": [
    "payer_keypair = Keypair.from_secret_key(base58.b58decode(\"mH4PkhAttpFXSrntbpiJgC8J6wHYFDK5PFWcPN53hMJKziWQucux7MFiW7uXnqKsAY3XBnxUtyVKnomZnD9JxHW\"))\n",
    "client.request_airdrop(payer_keypair.public_key, 2*10**9)"
   ]
  },
  {
   "cell_type": "code",
   "execution_count": 58,
   "metadata": {},
   "outputs": [
    {
     "data": {
      "text/plain": [
       "2ZHc9QxDDaJwqNEFzpAGUrvxCWZSNnXSffHxV9hG2axp"
      ]
     },
     "execution_count": 58,
     "metadata": {},
     "output_type": "execute_result"
    }
   ],
   "source": [
    "payer_keypair.public_key"
   ]
  },
  {
   "cell_type": "code",
   "execution_count": 59,
   "metadata": {},
   "outputs": [],
   "source": [
    "dsol_mint = DSOL_MINT_ID"
   ]
  },
  {
   "cell_type": "code",
   "execution_count": 60,
   "metadata": {},
   "outputs": [
    {
     "data": {
      "text/plain": [
       "3HqXocfan3tVv3N4tTAFhyVePkP856jxngQ6pQxdupXP"
      ]
     },
     "execution_count": 60,
     "metadata": {},
     "output_type": "execute_result"
    }
   ],
   "source": [
    "seed = bytes([25,215,212,154,213,198,45,123]*4)\n",
    "vault_keypair = Keypair.from_seed(seed)\n",
    "vault = VAULT\n",
    "# client.request_airdrop(vault_keypair.public_key, 2*10**9)\n",
    "# time.sleep(5)\n",
    "\n",
    "vault_dsol_token_account = instructions.get_associated_token_address(vault, dsol_mint)\n",
    "vault_keypair.public_key"
   ]
  },
  {
   "cell_type": "code",
   "execution_count": 61,
   "metadata": {},
   "outputs": [],
   "source": [
    "mint = PublicKey(\"Bh1DsFGZT5bNNjGvbv9VPKCRkQYXEyHxsyYkKiDPU42k\")\n",
    "\n",
    "payer_dsol_token_account = instructions.get_associated_token_address(payer_keypair.public_key, dsol_mint)\n",
    "payer_account_meta = AccountMeta(payer_keypair.public_key, True, True)\n",
    "vault_account_meta = AccountMeta(vault, True, True)\n",
    "\n",
    "rent_account_meta = AccountMeta(solana.sysvar.SYSVAR_RENT_PUBKEY, False, False)\n",
    "spl_program_meta  = AccountMeta(TOKEN_PROGRAM_ID, False, False)\n"
   ]
  },
  {
   "cell_type": "code",
   "execution_count": 62,
   "metadata": {},
   "outputs": [],
   "source": [
    "mint_account_meta = AccountMeta(mint, False, False)\n",
    "associated_token_address = instructions.get_associated_token_address(payer_keypair.public_key, mint)\n",
    "associated_account_meta = AccountMeta(associated_token_address, False, True)\n",
    "\n",
    "(mint_authority, nonce) = PublicKey.find_program_address([b\"avatar_mint_authority_pda\"], program_id)\n",
    "(avatar_data_pda, avatar_pda_nonce) = PublicKey.find_program_address([b'avatar_data_pda', bytes(mint_account_meta.pubkey)], program_id)\n",
    "(sales_pda, sales_nonce) = PublicKey.find_program_address([b'dsol_avatar_sales_pda'], program_id)\n",
    "metadata_program_pubkey = METAPLEX_PROGRAM_ID\n",
    "(metadata_pda, metadata_nonce) = PublicKey.find_program_address([b'metadata', bytes(metadata_program_pubkey), bytes(mint_account_meta.pubkey)], metadata_program_pubkey)\n",
    "payer_storage_pda, _ = PublicKey.find_program_address([b'payer_storage_location', bytes(payer_keypair.public_key)], program_id)\n",
    "\n",
    "avatar_data_pda_meta = AccountMeta(avatar_data_pda, False, True)\n",
    "sysvar_clock_meta = AccountMeta(solana.sysvar.SYSVAR_CLOCK_PUBKEY, False, False)\n",
    "sales_pda_meta = AccountMeta(sales_pda, False, True)\n",
    "mint_authority_meta = AccountMeta(mint_authority, False, False)\n",
    "associated_program_meta = AccountMeta(ASSOCIATED_TOKEN_PROGRAM_ID, False, False)\n",
    "payer_storage_meta = AccountMeta(payer_storage_pda, False, True)\n",
    "mint_owner_meta = payer_account_meta\n",
    "\n",
    "\n",
    "dsol_mint_meta = AccountMeta(dsol_mint, False, False)\n",
    "vault_dsol_token_account_meta = AccountMeta(vault_dsol_token_account, False, True)\n",
    "payer_dsol_token_account_meta = AccountMeta(payer_dsol_token_account, False, True)\n",
    "\n",
    "# print(dsol_mint)\n",
    "# print(vault_keypair.public_key)\n",
    "# print(vault_dsol_token_account)\n",
    "# print(payer_keypair.public_key)\n",
    "# print(payer_dsol_token_account)\n",
    "# print(mint_authority)\n",
    "# print(spl_program_meta)\n",
    "# print(rent_account_meta)\n",
    "# print(associated_token_address)\n",
    "# print(sales_pda)"
   ]
  },
  {
   "cell_type": "code",
   "execution_count": 63,
   "metadata": {},
   "outputs": [
    {
     "data": {
      "text/plain": [
       "(Container(payer_max_id=4, rent_listings=ListContainer([Container(payer=ListContainer([23, 33, 12, 153, 230, 93, 161, 21, 203, 134, 227, 249, 98, 231, 6, 246, 65, 15, 155, 136, 121, 241, 203, 109, 115, 234, 247, 41, 223, 105, 164, 97]), bump=3)])),\n",
       " AccountMeta(pubkey=9hSWBdvceKYqHap57sktxEC13uJsFgmDXJafpCMsJho3, is_signer=False, is_writable=True))"
      ]
     },
     "execution_count": 63,
     "metadata": {},
     "output_type": "execute_result"
    }
   ],
   "source": [
    "Listings = CStruct(\n",
    "    \"payer\" / U8[32],\n",
    "    \"bump\" / U32,\n",
    ")\n",
    "\n",
    "accountSchema = CStruct(\n",
    "    \"payer_max_id\"/ U32,\n",
    "    \"rent_listings\" / Vec(Listings),\n",
    ")\n",
    "\n",
    "\n",
    "(account_rent_pda, _account_rent_pda_bump) = PublicKey.find_program_address([b\"account_rent_space\", bytes(payer_keypair.public_key)], program_id);\n",
    "account_rent_space_meta = AccountMeta(account_rent_pda, False, True)\n",
    "collection_data = getAccountInfo(client,payer_storage_pda)\n",
    "\n",
    "\n",
    "\n",
    "collection_unique_bump = 3\n",
    "(container_pda, container_pda_bump) = PublicKey.find_program_address( [b\"Rentable_marketplace\", bytes(payer_keypair.public_key), collection_unique_bump.to_bytes(4,\"big\")], program_id);\n",
    "collection_data, account_rent_space_meta"
   ]
  },
  {
   "cell_type": "code",
   "execution_count": 64,
   "metadata": {},
   "outputs": [
    {
     "data": {
      "text/plain": [
       "'https://explorer.solana.com/tx/21vxPcdY2oSgdmKrMw6wLbp6n9yUe529WUUmjUePKqjH7Qy934R6XuWsyKksys3azXwr1qu5hpgR1EduKoxsAsGz?cluster=devnet'"
      ]
     },
     "execution_count": 64,
     "metadata": {},
     "output_type": "execute_result"
    }
   ],
   "source": [
    "def lease_avatar():\n",
    "    accounts = [\n",
    "        payer_account_meta,\n",
    "        mint_account_meta,\n",
    "        avatar_data_pda_meta,\n",
    "        AccountMeta(container_pda, False, True),\n",
    "        sysvar_clock_meta,\n",
    "        account_rent_space_meta,\n",
    "        mint_owner_meta,\n",
    "        payer_storage_meta,\n",
    "\n",
    "\n",
    "        # sales_pda_meta,\n",
    "        # AccountMeta(container_pda, False, True),\n",
    "        # mint_authority_meta,\n",
    "        # spl_program_meta,\n",
    "        # AccountMeta(payer_storage_pda, False, True),\n",
    "\n",
    "        # payer_dsol_token_account_meta,\n",
    "        # AccountMeta(vault,False, True), \n",
    "        # vault_dsol_token_account_meta, \n",
    "        # rent_account_meta, \n",
    "        # AccountMeta(SYS_PROGRAM_ID, False, False),\n",
    "        # AccountMeta(metadata_pda, False, True),\n",
    "\n",
    "        sys_program_meta,\n",
    "        # AccountMeta(ASSOCIATED_TOKEN_PROGRAM_ID, False, False),\n",
    "        # spl_program_meta,\n",
    "        # spl_program_meta,\n",
    "        # AccountMeta(metadata_program_pubkey, False, False),\n",
    "    ]   \n",
    "\n",
    "    transaction = Transaction()\n",
    "    transaction.add(TransactionInstruction(\n",
    "        accounts,\n",
    "        program_id,\n",
    "        bytes([6])\n",
    "    ))\n",
    "    \n",
    "    return f\"https://explorer.solana.com/tx/{client.send_transaction(transaction, payer_keypair)['result']}?cluster=devnet\"\n",
    "\n",
    "lease_avatar()"
   ]
  },
  {
   "cell_type": "code",
   "execution_count": 65,
   "metadata": {},
   "outputs": [
    {
     "data": {
      "text/plain": [
       "Container(struct_id=0, vault_total=1.0, counter=1, rent_min_listed=1, rent_max_listed=2567708951, rent_max_ever=362896870)"
      ]
     },
     "execution_count": 65,
     "metadata": {},
     "output_type": "execute_result"
    }
   ],
   "source": [
    "StructId = Enum(\n",
    "    \"AvatarSales0_0_1\",\n",
    "    \"AvatarData0_0_1\",\n",
    "    \"RentContainerData0_0_1\",\n",
    "    \"AccountRentSpace0_0_1\",\n",
    "    \"CollectionData0_0_1\",\n",
    "    \"ContainerData0_0_1\",\n",
    "    \"GovernorData0_0_1\",\n",
    "    \"GovernorSales0_0_1\",\n",
    "    \"Proposals0_0_1\",\n",
    "    \"GovernorVote0_0_1\",\n",
    "    \"GovernorsVote0_0_1\",\n",
    "    \"ProposalResult0_0_1\",\n",
    "    \"Proposal0_0_1\",\n",
    "    \"TableSales0_0_1\",\n",
    "    \"TableData0_0_1\",\n",
    "    \"ProposalNumGovernors0_0_1\",\n",
    "    \"ProposalLockGovernor0_0_1\",\n",
    "    \"DsolData0_0_1\",\n",
    "    enum_name=\"StructId\"\n",
    ")\n",
    "\n",
    "accountSchema = CStruct(\n",
    "    \"struct_id\"/ U32,\n",
    "    \"vault_total\" / F32,\n",
    "    \"counter\" / U32,\n",
    "    \"rent_min_listed\" / U32,\n",
    "    \"rent_max_listed\" / U32,\n",
    "    \"rent_max_ever\" / U32\n",
    ")\n",
    "\n",
    "getAccountInfo(client,sales_pda)"
   ]
  },
  {
   "cell_type": "code",
   "execution_count": 66,
   "metadata": {},
   "outputs": [
    {
     "name": "stdout",
     "output_type": "stream",
     "text": [
      "PDA: (GWwMrQCJWdaL1kahndZ5VaAWtdSJkUu77uGM2VZfEiFh, 254)\n"
     ]
    },
    {
     "data": {
      "text/plain": [
       "Container(struct_id=1, date_created=1646841042, unlockable_date=1646943713, numeration=52, rarity=2, level=0, xp=0, rent_state=1, use_authority=ListContainer([23, 33, 12, 153, 230, 93, 161, 21, 203, 134, 227, 249, 98, 231, 6, 246, 65, 15, 155, 136, 121, 241, 203, 109, 115, 234, 247, 41, 223, 105, 164, 97]), rent_bump=3)"
      ]
     },
     "execution_count": 66,
     "metadata": {},
     "output_type": "execute_result"
    }
   ],
   "source": [
    "\n",
    "\n",
    "\n",
    "accountSchema = CStruct(\n",
    "    \"struct_id\" / U32,\n",
    "    \"date_created\" / U32,\n",
    "    \"unlockable_date\" / U32,\n",
    "    \"numeration\" /U32,\n",
    "    \"rarity\" / U8,\n",
    "    \"level\" / U8,\n",
    "    \"xp\" / U32,\n",
    "    \"rent_state\" / U8,\n",
    "    \"use_authority\" / U8[32],\n",
    "    \"rent_bump\" / U32,\n",
    ")\n",
    "\n",
    "\n",
    "(locktime_pda, locktime_nonce) = PublicKey.find_program_address([b'locktime_pda', bytes(mint_account_meta.pubkey), bytes(associated_account_meta.pubkey)], program_id)\n",
    "print(f\"PDA: {avatar_data_pda, avatar_pda_nonce}\")\n",
    "\n",
    "getAccountInfo(client,avatar_data_pda)"
   ]
  },
  {
   "cell_type": "code",
   "execution_count": 67,
   "metadata": {},
   "outputs": [],
   "source": [
    "# time.sleep(120)\n",
    "\n",
    "# new_accounts = [\n",
    "#     mint_account_meta,\n",
    "#     associated_account_meta,\n",
    "#     spl_program_meta,\n",
    "#     mint_authority_meta,\n",
    "#     avatar_data_pda_meta,\n",
    "#     sysvar_clock_meta,\n",
    "\n",
    "#     spl_program_meta\n",
    "# ]\n",
    "\n",
    "# transaction = Transaction()\n",
    "# transaction.add(TransactionInstruction(\n",
    "#     new_accounts,\n",
    "#     program_id,\n",
    "#     bytes([1])\n",
    "# ))\n",
    "# f\"https://explorer.solana.com/tx/{client.send_transaction(transaction, payer_keypair, mint_account)['result']}?cluster=devnet\""
   ]
  }
 ],
 "metadata": {
  "interpreter": {
   "hash": "b3ba2566441a7c06988d0923437866b63cedc61552a5af99d1f4fb67d367b25f"
  },
  "kernelspec": {
   "display_name": "Python 3.8.8 64-bit ('base': conda)",
   "language": "python",
   "name": "python3"
  },
  "language_info": {
   "codemirror_mode": {
    "name": "ipython",
    "version": 3
   },
   "file_extension": ".py",
   "mimetype": "text/x-python",
   "name": "python",
   "nbconvert_exporter": "python",
   "pygments_lexer": "ipython3",
   "version": "3.9.7"
  },
  "orig_nbformat": 4
 },
 "nbformat": 4,
 "nbformat_minor": 2
}
