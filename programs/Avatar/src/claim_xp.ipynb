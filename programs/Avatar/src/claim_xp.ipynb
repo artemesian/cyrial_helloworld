{
 "cells": [
  {
   "cell_type": "code",
   "execution_count": 1,
   "metadata": {},
   "outputs": [
    {
     "data": {
      "text/plain": [
       "True"
      ]
     },
     "execution_count": 1,
     "metadata": {},
     "output_type": "execute_result"
    }
   ],
   "source": [
    "import solana\n",
    "from solana.publickey import PublicKey\n",
    "from solana.rpc.api import Client\n",
    "from solana.keypair import Keypair\n",
    "from solana import system_program\n",
    "from solana import transaction\n",
    "from solana.system_program import SYS_PROGRAM_ID, CreateAccountParams, create_account\n",
    "from solana.transaction import *\n",
    "from spl.token.constants import TOKEN_PROGRAM_ID, ASSOCIATED_TOKEN_PROGRAM_ID\n",
    "from spl.token.instructions import initialize_mint, InitializeMintParams\n",
    "from spl.token._layouts import MINT_LAYOUT\n",
    "from spl.token.client import Token\n",
    "from spl.token import instructions\n",
    "import base64\n",
    "import base58\n",
    "from borsh_construct import *\n",
    "from solana.rpc.commitment import Commitment\n",
    "import time\n",
    "import sys\n",
    "sys.path.append('../../GlobalRepo/')\n",
    "from global_repo import *\n",
    "\n",
    "\n",
    "client = Client(\"https://api.devnet.solana.com\")\n",
    "\n",
    "client.is_connected()"
   ]
  },
  {
   "cell_type": "code",
   "execution_count": 2,
   "metadata": {},
   "outputs": [
    {
     "data": {
      "text/plain": [
       "{'jsonrpc': '2.0',\n",
       " 'result': '3PKA8UtGXDoZc8qqMc1UyYWShxAw5zCSJNaf8mohJtWv7F5HNe5o5BMmyzteDjakcCRySNiq9iUwFJ68QgPdznv',\n",
       " 'id': 1}"
      ]
     },
     "execution_count": 2,
     "metadata": {},
     "output_type": "execute_result"
    }
   ],
   "source": [
    "program_id = AVATAR_PROGRAM_ID\n",
    "payer_keypair = Keypair.from_secret_key(base58.b58decode(\"mH4PkhAttpFXSrntbpiJgC8J6wHYFDK5PFWcPN53hMJKziWQucux7MFiW7uXnqKsAY3XBnxUtyVKnomZnD9JxHW\"))\n",
    "manager_keypair = Keypair.from_seed(b\"helloworldmynameisdsoldaomanager\")\n",
    "sys_program_meta = AccountMeta(SYS_PROGRAM_ID, False, False)\n",
    "spl_program_meta  = AccountMeta(TOKEN_PROGRAM_ID, False, False)\n",
    "client.request_airdrop(payer_keypair.public_key, 2*10**9)"
   ]
  },
  {
   "cell_type": "code",
   "execution_count": 3,
   "metadata": {},
   "outputs": [],
   "source": [
    "def getAccountInfo(client: Client, account_pk: PublicKey):\n",
    "    \"\"\"Fetch account information from RPC, parse out the data and deserialize\"\"\"\n",
    "    comm = Commitment(\"confirmed\")\n",
    "    res = client.get_account_info(account_pk, comm, encoding='base64')\n",
    "    data = res['result']\n",
    "    if isinstance(data, dict):\n",
    "        return accountSchema.parse(base64.urlsafe_b64decode(data['value']['data'][0]))\n",
    "    else:\n",
    "        raise AttributeError(f'Unknown RPC result {data}')\n",
    "\n",
    "payer_storage_pda, _ = PublicKey.find_program_address([b'payer_storage_location', bytes(payer_keypair.public_key)], program_id)\n"
   ]
  },
  {
   "cell_type": "code",
   "execution_count": 4,
   "metadata": {},
   "outputs": [],
   "source": [
    "sysvar_clock_meta = AccountMeta(solana.sysvar.SYSVAR_CLOCK_PUBKEY, False, False)\n",
    "payer_account_meta = AccountMeta(payer_keypair.public_key, True, False)\n",
    "admin_account_meta = AccountMeta(manager_keypair.public_key, True, False)\n",
    "payer_storage_meta = AccountMeta(payer_storage_pda, False, True)\n",
    "\n",
    "accounts = [\n",
    "    payer_account_meta,\n",
    "    admin_account_meta,\n",
    "    payer_storage_meta,\n",
    "    sysvar_clock_meta\n",
    "]\n",
    "\n",
    "\n",
    "mints = []\n",
    "\n",
    "for mint in mints:\n",
    "    mint = PublicKey(mint)\n",
    "    (avatar_data_pda, _avatar_pda_nonce) = PublicKey.find_program_address([b'avatar_data_pda', bytes(mint)], program_id)\n",
    "    accounts += [AccountMeta(mint, False, False), AccountMeta(avatar_data_pda, False, True)]\n",
    "\n"
   ]
  },
  {
   "cell_type": "code",
   "execution_count": 5,
   "metadata": {},
   "outputs": [
    {
     "data": {
      "text/plain": [
       "'https://explorer.solana.com/tx/15kcSdiviwWKm9YiptMwWZEMaP3kGmb9A4PGd4y18xMYw6e11tFaZywSp2RubxSe4czrLjSnAPr72CrdSQo2hHg?cluster=devnet'"
      ]
     },
     "execution_count": 5,
     "metadata": {},
     "output_type": "execute_result"
    }
   ],
   "source": [
    "transaction = Transaction()\n",
    "transaction.add(TransactionInstruction(\n",
    "    accounts,\n",
    "    program_id,\n",
    "    bytes([2,0,0,0,0,0,210,0,0,5])\n",
    "))\n",
    "    \n",
    "f\"https://explorer.solana.com/tx/{client.send_transaction(transaction, payer_keypair, manager_keypair)['result']}?cluster=devnet\"\n"
   ]
  }
 ],
 "metadata": {
  "interpreter": {
   "hash": "b68919eb655d0773185a23d07bc600bc0399219a4090e8bc721f64f37132571c"
  },
  "kernelspec": {
   "display_name": "Python 3.9.7",
   "language": "python",
   "name": "python3"
  },
  "language_info": {
   "codemirror_mode": {
    "name": "ipython",
    "version": 3
   },
   "file_extension": ".py",
   "mimetype": "text/x-python",
   "name": "python",
   "nbconvert_exporter": "python",
   "pygments_lexer": "ipython3",
   "version": "3.9.7"
  },
  "orig_nbformat": 4
 },
 "nbformat": 4,
 "nbformat_minor": 2
}
