{
 "cells": [
  {
   "cell_type": "code",
   "execution_count": 35,
   "metadata": {},
   "outputs": [
    {
     "data": {
      "text/plain": [
       "True"
      ]
     },
     "execution_count": 35,
     "metadata": {},
     "output_type": "execute_result"
    }
   ],
   "source": [
    "import solana\n",
    "from solana.rpc.api import Client\n",
    "from solana.publickey import PublicKey\n",
    "from solana.keypair import Keypair\n",
    "from solana.transaction import Transaction, TransactionInstruction\n",
    "from solana.transaction import AccountMeta\n",
    "from solana.system_program import SYS_PROGRAM_ID\n",
    "from spl.token import instructions\n",
    "from spl.token.constants import TOKEN_PROGRAM_ID, ASSOCIATED_TOKEN_PROGRAM_ID\n",
    "import base58\n",
    "import base64\n",
    "from borsh_construct import *\n",
    "from solana.rpc.commitment import Commitment\n",
    "import time\n",
    "\n",
    "\n",
    "network_url = \"https://api.devnet.solana.com\"\n",
    "client = Client(network_url)\n",
    "\n",
    "program_id = PublicKey(\"BSTpYyZK3X9URjqqkEpERxR14WGLFSGrmbq2Gn7wjyLF\")\n",
    "\n",
    "# Check connection\n",
    "client.is_connected()\n"
   ]
  },
  {
   "cell_type": "code",
   "execution_count": 36,
   "metadata": {},
   "outputs": [
    {
     "data": {
      "text/plain": [
       "tcWyhjGAH8GyH2xBfSJ9tLAKpCkeZ5tRdo3fhAatogp"
      ]
     },
     "execution_count": 36,
     "metadata": {},
     "output_type": "execute_result"
    }
   ],
   "source": [
    "seed = bytes([125,215,212,54,213,78,45,123]*4)\n",
    "payer_keypair = Keypair.from_seed(seed)\n",
    "client.request_airdrop(payer_keypair.public_key, 2*10**9)\n",
    "payer_keypair.public_key"
   ]
  },
  {
   "cell_type": "code",
   "execution_count": 37,
   "metadata": {},
   "outputs": [
    {
     "name": "stdout",
     "output_type": "stream",
     "text": [
      "Dsol Pubkey: DE2vE88TtWEDNB8Zpqs1YX4rrRkTotwsDXmDdenKAyf5\n",
      "Token Mint ID: 4hnebtBZBkWF8NvPr4XUdKQFNj2tHim8nqephcMCsBos\n",
      "Dsol associated token Pubkey: 3bdEvRd2GAVbpfM4XsSYxutzdF7eoYhnnxtiRCiC4B7U\n",
      "Dsol data Pubkey: 2EsUkyW4zDPfdzHHPqymc3NvvNjEUyFDdrG6tF4ybCaK\n",
      "Mint Authority Pubkey: 6sg3ZqcNDTc4g3WnbYUDp3b8LE5q7GmkX6Jf2LgAcdag\n",
      "Associated Token Pubkey: E6VCXz7gmos3nNzqYgJHA84ca9JMoeTUFCyh8caXm3Ra\n"
     ]
    }
   ],
   "source": [
    "dsol_wallet_keypair = Keypair.from_secret_key(base58.b58decode(\"3pz9m7W5ejAEwcQcTeY4695osvh47j1MyEHpMbgScbMtmVY4aicEpwm9HzcHbQCZc3mPJKZUJRYTv5Vpc5iLm9qy\"))\n",
    "print(f\"Dsol Pubkey: {dsol_wallet_keypair.public_key}\")\n",
    "\n",
    "(mint_pda, mint_bump) = PublicKey.find_program_address( [b\"dsol_mint_pda\"], program_id)\n",
    "print(f\"Token Mint ID: {mint_pda}\")\n",
    "\n",
    "dsol_wallet_associated_token_pubkey = instructions.get_associated_token_address(dsol_wallet_keypair.public_key, mint_pda)\n",
    "print(f\"Dsol associated token Pubkey: {dsol_wallet_associated_token_pubkey}\")\n",
    "\n",
    "(dsol_data_pda, dsol_data_bump) = PublicKey.find_program_address( [b\"dsol_data_pda\", bytes(mint_pda), bytes(dsol_wallet_associated_token_pubkey)], program_id)\n",
    "print(f\"Dsol data Pubkey: {dsol_data_pda}\")\n",
    "\n",
    "(mint_authority_pda, mint_authority_bump) = PublicKey.find_program_address([b\"dsol_mint_auth_pda\"], program_id)\n",
    "print(f\"Mint Authority Pubkey: {mint_authority_pda}\")\n",
    "\n",
    "associated_token_pubkey = instructions.get_associated_token_address(payer_keypair.public_key, mint_pda)\n",
    "print(f\"Associated Token Pubkey: {associated_token_pubkey}\")\n",
    "\n",
    "payer_account = AccountMeta(payer_keypair.public_key , True, True)\n",
    "dsol_wallet_account = AccountMeta(dsol_wallet_keypair.public_key , True, True)\n",
    "dsol_wallet_associated_token_account = AccountMeta(dsol_wallet_associated_token_pubkey , False, True)\n",
    "dsol_data_pda_account = AccountMeta(dsol_data_pda, False, True)\n",
    "mint_account = AccountMeta(mint_pda , False, True)\n",
    "mint_authority_account = AccountMeta(mint_authority_pda , False, False)\n",
    "associated_token_account = AccountMeta(associated_token_pubkey, False, True)\n",
    "system_program_account = AccountMeta(SYS_PROGRAM_ID, False, False)\n",
    "token_program_account = AccountMeta(TOKEN_PROGRAM_ID, False, False)\n",
    "associated_program_account = AccountMeta(ASSOCIATED_TOKEN_PROGRAM_ID, False, False)\n",
    "rent_account = AccountMeta(solana.sysvar.SYSVAR_RENT_PUBKEY, False, False)\n",
    "clock_account = AccountMeta(solana.sysvar.SYSVAR_CLOCK_PUBKEY, False, False)\n"
   ]
  },
  {
   "cell_type": "code",
   "execution_count": 38,
   "metadata": {},
   "outputs": [],
   "source": [
    "def create_mint():\n",
    "    accounts = [\n",
    "        payer_account,\n",
    "        dsol_wallet_account,\n",
    "        dsol_wallet_associated_token_account,\n",
    "        dsol_data_pda_account,\n",
    "        mint_account,\n",
    "        mint_authority_account,\n",
    "        system_program_account,\n",
    "        token_program_account,\n",
    "        associated_token_account,\n",
    "        rent_account,\n",
    "        clock_account,\n",
    "\n",
    "        system_program_account,\n",
    "        token_program_account,\n",
    "        associated_program_account,\n",
    "        token_program_account,\n",
    "        associated_program_account,\n",
    "        token_program_account,\n",
    "        system_program_account,\n",
    "        system_program_account,\n",
    "    ]\n",
    "\n",
    "    transaction = Transaction()\n",
    "    transaction.add(\n",
    "        TransactionInstruction(\n",
    "            accounts,\n",
    "            program_id,\n",
    "            bytes([0])\n",
    "        )\n",
    "    )\n",
    "\n",
    "    signature = client.send_transaction(transaction, payer_keypair, dsol_wallet_keypair)['result']\n",
    "    print(f\"https://explorer.solana.com/tx/{signature}?cluster=devnet\")\n"
   ]
  },
  {
   "cell_type": "code",
   "execution_count": 39,
   "metadata": {},
   "outputs": [
    {
     "name": "stdout",
     "output_type": "stream",
     "text": [
      "https://explorer.solana.com/tx/3uYA1qW8UsLacJHxS8Emq7NYsGTRNNtwpiorEybeeQeYD6bzyhNLaTcofj2tpvE7pT6LeEGoCmAh6qGjPx1hKjYJ?cluster=devnet\n"
     ]
    }
   ],
   "source": [
    "# Create an initial supply of Dsol Tokens\n",
    "create_mint()"
   ]
  },
  {
   "cell_type": "code",
   "execution_count": 40,
   "metadata": {},
   "outputs": [],
   "source": [
    "def getAccountInfo(client: Client, account_pk: PublicKey):\n",
    "    \"\"\"Fetch account information from RPC, parse out the data and deserialize\"\"\"\n",
    "    comm = Commitment(\"confirmed\")\n",
    "    res = client.get_account_info(account_pk, comm, encoding='base64')\n",
    "    data = res['result']\n",
    "    if isinstance(data, dict):\n",
    "        return accountSchema.parse(base64.urlsafe_b64decode(data['value']['data'][0]))\n",
    "    else:\n",
    "        raise AttributeError(f'Unknown RPC result {data}')\n",
    "        \n",
    "accountSchema = CStruct(\n",
    "    \"date_created\" / U32,\n",
    "    \"last_inflation_date\" / U32,\n",
    ")"
   ]
  },
  {
   "cell_type": "code",
   "execution_count": 50,
   "metadata": {},
   "outputs": [
    {
     "data": {
      "text/plain": [
       "Container(date_created=1645107234, last_inflation_date=1645107434)"
      ]
     },
     "execution_count": 50,
     "metadata": {},
     "output_type": "execute_result"
    }
   ],
   "source": [
    "dsol_data = getAccountInfo(client, dsol_data_pda)\n",
    "dsol_data"
   ]
  },
  {
   "cell_type": "code",
   "execution_count": 43,
   "metadata": {},
   "outputs": [],
   "source": [
    "def update_mint():\n",
    "    accounts = [\n",
    "        payer_account,\n",
    "        dsol_wallet_associated_token_account,\n",
    "        mint_account,\n",
    "        dsol_data_pda_account,\n",
    "        mint_authority_account,\n",
    "        token_program_account,\n",
    "        associated_token_account,\n",
    "        clock_account,\n",
    "\n",
    "        token_program_account,\n",
    "        token_program_account,\n",
    "        system_program_account,\n",
    "    ]\n",
    "\n",
    "    transaction = Transaction()\n",
    "    transaction.add(\n",
    "        TransactionInstruction(\n",
    "            accounts,\n",
    "            program_id,\n",
    "            bytes([1])\n",
    "        )\n",
    "    )\n",
    "\n",
    "    signature = client.send_transaction(transaction, payer_keypair, dsol_wallet_keypair)['result']\n",
    "    print(f\"https://explorer.solana.com/tx/{signature}?cluster=devnet\")\n"
   ]
  },
  {
   "cell_type": "code",
   "execution_count": 52,
   "metadata": {},
   "outputs": [
    {
     "ename": "RPCException",
     "evalue": "{'code': -32002, 'message': 'Transaction simulation failed: Error processing Instruction 0: invalid instruction data', 'data': {'accounts': None, 'err': {'InstructionError': [0, 'InvalidInstructionData']}, 'logs': ['Program BSTpYyZK3X9URjqqkEpERxR14WGLFSGrmbq2Gn7wjyLF invoke [1]', 'Program log: Remaining 31535335 secs from now to the next inflation', 'Program BSTpYyZK3X9URjqqkEpERxR14WGLFSGrmbq2Gn7wjyLF consumed 4318 of 200000 compute units', 'Program BSTpYyZK3X9URjqqkEpERxR14WGLFSGrmbq2Gn7wjyLF failed: invalid instruction data']}}",
     "output_type": "error",
     "traceback": [
      "\u001b[0;31m---------------------------------------------------------------------------\u001b[0m",
      "\u001b[0;31mRPCException\u001b[0m                              Traceback (most recent call last)",
      "\u001b[1;32m/home/artemesian/PROJECTS/cyrial_helloworld/programs/Dsol/src/dsol_client.ipynb Cell 9'\u001b[0m in \u001b[0;36m<module>\u001b[0;34m\u001b[0m\n\u001b[1;32m      <a href='vscode-notebook-cell://wsl%2Bubuntu/home/artemesian/PROJECTS/cyrial_helloworld/programs/Dsol/src/dsol_client.ipynb#ch0000008vscode-remote?line=0'>1</a>\u001b[0m \u001b[39m# time.sleep(10)\u001b[39;00m\n\u001b[0;32m----> <a href='vscode-notebook-cell://wsl%2Bubuntu/home/artemesian/PROJECTS/cyrial_helloworld/programs/Dsol/src/dsol_client.ipynb#ch0000008vscode-remote?line=1'>2</a>\u001b[0m update_mint()\n",
      "\u001b[1;32m/home/artemesian/PROJECTS/cyrial_helloworld/programs/Dsol/src/dsol_client.ipynb Cell 8'\u001b[0m in \u001b[0;36mupdate_mint\u001b[0;34m()\u001b[0m\n\u001b[1;32m     <a href='vscode-notebook-cell://wsl%2Bubuntu/home/artemesian/PROJECTS/cyrial_helloworld/programs/Dsol/src/dsol_client.ipynb#ch0000007vscode-remote?line=16'>17</a>\u001b[0m transaction \u001b[39m=\u001b[39m Transaction()\n\u001b[1;32m     <a href='vscode-notebook-cell://wsl%2Bubuntu/home/artemesian/PROJECTS/cyrial_helloworld/programs/Dsol/src/dsol_client.ipynb#ch0000007vscode-remote?line=17'>18</a>\u001b[0m transaction\u001b[39m.\u001b[39madd(\n\u001b[1;32m     <a href='vscode-notebook-cell://wsl%2Bubuntu/home/artemesian/PROJECTS/cyrial_helloworld/programs/Dsol/src/dsol_client.ipynb#ch0000007vscode-remote?line=18'>19</a>\u001b[0m     TransactionInstruction(\n\u001b[1;32m     <a href='vscode-notebook-cell://wsl%2Bubuntu/home/artemesian/PROJECTS/cyrial_helloworld/programs/Dsol/src/dsol_client.ipynb#ch0000007vscode-remote?line=19'>20</a>\u001b[0m         accounts,\n\u001b[0;32m   (...)\u001b[0m\n\u001b[1;32m     <a href='vscode-notebook-cell://wsl%2Bubuntu/home/artemesian/PROJECTS/cyrial_helloworld/programs/Dsol/src/dsol_client.ipynb#ch0000007vscode-remote?line=22'>23</a>\u001b[0m     )\n\u001b[1;32m     <a href='vscode-notebook-cell://wsl%2Bubuntu/home/artemesian/PROJECTS/cyrial_helloworld/programs/Dsol/src/dsol_client.ipynb#ch0000007vscode-remote?line=23'>24</a>\u001b[0m )\n\u001b[0;32m---> <a href='vscode-notebook-cell://wsl%2Bubuntu/home/artemesian/PROJECTS/cyrial_helloworld/programs/Dsol/src/dsol_client.ipynb#ch0000007vscode-remote?line=25'>26</a>\u001b[0m signature \u001b[39m=\u001b[39m client\u001b[39m.\u001b[39;49msend_transaction(transaction, payer_keypair, dsol_wallet_keypair)[\u001b[39m'\u001b[39m\u001b[39mresult\u001b[39m\u001b[39m'\u001b[39m]\n\u001b[1;32m     <a href='vscode-notebook-cell://wsl%2Bubuntu/home/artemesian/PROJECTS/cyrial_helloworld/programs/Dsol/src/dsol_client.ipynb#ch0000007vscode-remote?line=26'>27</a>\u001b[0m \u001b[39mprint\u001b[39m(\u001b[39mf\u001b[39m\u001b[39m\"\u001b[39m\u001b[39mhttps://explorer.solana.com/tx/\u001b[39m\u001b[39m{\u001b[39;00msignature\u001b[39m}\u001b[39;00m\u001b[39m?cluster=devnet\u001b[39m\u001b[39m\"\u001b[39m)\n",
      "File \u001b[0;32m~/.local/lib/python3.8/site-packages/solana/rpc/api.py:1185\u001b[0m, in \u001b[0;36mClient.send_transaction\u001b[0;34m(self, txn, opts, recent_blockhash, *signers)\u001b[0m\n\u001b[1;32m   <a href='file:///~/.local/lib/python3.8/site-packages/solana/rpc/api.py?line=1181'>1182</a>\u001b[0m txn\u001b[39m.\u001b[39mrecent_blockhash \u001b[39m=\u001b[39m recent_blockhash\n\u001b[1;32m   <a href='file:///~/.local/lib/python3.8/site-packages/solana/rpc/api.py?line=1183'>1184</a>\u001b[0m txn\u001b[39m.\u001b[39msign(\u001b[39m*\u001b[39msigners)\n\u001b[0;32m-> <a href='file:///~/.local/lib/python3.8/site-packages/solana/rpc/api.py?line=1184'>1185</a>\u001b[0m txn_resp \u001b[39m=\u001b[39m \u001b[39mself\u001b[39;49m\u001b[39m.\u001b[39;49msend_raw_transaction(txn\u001b[39m.\u001b[39;49mserialize(), opts\u001b[39m=\u001b[39;49mopts)\n\u001b[1;32m   <a href='file:///~/.local/lib/python3.8/site-packages/solana/rpc/api.py?line=1185'>1186</a>\u001b[0m \u001b[39mif\u001b[39;00m \u001b[39mself\u001b[39m\u001b[39m.\u001b[39mblockhash_cache:\n\u001b[1;32m   <a href='file:///~/.local/lib/python3.8/site-packages/solana/rpc/api.py?line=1186'>1187</a>\u001b[0m     blockhash_resp \u001b[39m=\u001b[39m \u001b[39mself\u001b[39m\u001b[39m.\u001b[39mget_recent_blockhash(Finalized)\n",
      "File \u001b[0;32m~/.local/lib/python3.8/site-packages/solana/rpc/api.py:1139\u001b[0m, in \u001b[0;36mClient.send_raw_transaction\u001b[0;34m(self, txn, opts)\u001b[0m\n\u001b[1;32m   <a href='file:///~/.local/lib/python3.8/site-packages/solana/rpc/api.py?line=1136'>1137</a>\u001b[0m resp \u001b[39m=\u001b[39m \u001b[39mself\u001b[39m\u001b[39m.\u001b[39m_provider\u001b[39m.\u001b[39mmake_request(\u001b[39m*\u001b[39margs)\n\u001b[1;32m   <a href='file:///~/.local/lib/python3.8/site-packages/solana/rpc/api.py?line=1137'>1138</a>\u001b[0m \u001b[39mif\u001b[39;00m opts\u001b[39m.\u001b[39mskip_confirmation:\n\u001b[0;32m-> <a href='file:///~/.local/lib/python3.8/site-packages/solana/rpc/api.py?line=1138'>1139</a>\u001b[0m     \u001b[39mreturn\u001b[39;00m \u001b[39mself\u001b[39;49m\u001b[39m.\u001b[39;49m_post_send(resp)\n\u001b[1;32m   <a href='file:///~/.local/lib/python3.8/site-packages/solana/rpc/api.py?line=1139'>1140</a>\u001b[0m post_send_args \u001b[39m=\u001b[39m \u001b[39mself\u001b[39m\u001b[39m.\u001b[39m_send_raw_transaction_post_send_args(resp, opts)\n\u001b[1;32m   <a href='file:///~/.local/lib/python3.8/site-packages/solana/rpc/api.py?line=1140'>1141</a>\u001b[0m \u001b[39mreturn\u001b[39;00m \u001b[39mself\u001b[39m\u001b[39m.\u001b[39m__post_send_with_confirm(\u001b[39m*\u001b[39mpost_send_args)\n",
      "File \u001b[0;32m~/.local/lib/python3.8/site-packages/solana/rpc/core.py:418\u001b[0m, in \u001b[0;36m_ClientCore._post_send\u001b[0;34m(resp)\u001b[0m\n\u001b[1;32m    <a href='file:///~/.local/lib/python3.8/site-packages/solana/rpc/core.py?line=415'>416</a>\u001b[0m error \u001b[39m=\u001b[39m resp\u001b[39m.\u001b[39mget(\u001b[39m\"\u001b[39m\u001b[39merror\u001b[39m\u001b[39m\"\u001b[39m)\n\u001b[1;32m    <a href='file:///~/.local/lib/python3.8/site-packages/solana/rpc/core.py?line=416'>417</a>\u001b[0m \u001b[39mif\u001b[39;00m error:\n\u001b[0;32m--> <a href='file:///~/.local/lib/python3.8/site-packages/solana/rpc/core.py?line=417'>418</a>\u001b[0m     \u001b[39mraise\u001b[39;00m RPCException(error)\n\u001b[1;32m    <a href='file:///~/.local/lib/python3.8/site-packages/solana/rpc/core.py?line=418'>419</a>\u001b[0m \u001b[39mif\u001b[39;00m \u001b[39mnot\u001b[39;00m resp\u001b[39m.\u001b[39mget(\u001b[39m\"\u001b[39m\u001b[39mresult\u001b[39m\u001b[39m\"\u001b[39m):\n\u001b[1;32m    <a href='file:///~/.local/lib/python3.8/site-packages/solana/rpc/core.py?line=419'>420</a>\u001b[0m     \u001b[39mraise\u001b[39;00m RPCNoResultException(\u001b[39m\"\u001b[39m\u001b[39mFailed to send transaction\u001b[39m\u001b[39m\"\u001b[39m)\n",
      "\u001b[0;31mRPCException\u001b[0m: {'code': -32002, 'message': 'Transaction simulation failed: Error processing Instruction 0: invalid instruction data', 'data': {'accounts': None, 'err': {'InstructionError': [0, 'InvalidInstructionData']}, 'logs': ['Program BSTpYyZK3X9URjqqkEpERxR14WGLFSGrmbq2Gn7wjyLF invoke [1]', 'Program log: Remaining 31535335 secs from now to the next inflation', 'Program BSTpYyZK3X9URjqqkEpERxR14WGLFSGrmbq2Gn7wjyLF consumed 4318 of 200000 compute units', 'Program BSTpYyZK3X9URjqqkEpERxR14WGLFSGrmbq2Gn7wjyLF failed: invalid instruction data']}}"
     ]
    }
   ],
   "source": [
    "update_mint()"
   ]
  },
  {
   "cell_type": "code",
   "execution_count": null,
   "metadata": {},
   "outputs": [
    {
     "data": {
      "text/plain": [
       "-600"
      ]
     },
     "execution_count": 16,
     "metadata": {},
     "output_type": "execute_result"
    }
   ],
   "source": [
    "1645094545 - 1645095145"
   ]
  }
 ],
 "metadata": {
  "interpreter": {
   "hash": "916dbcbb3f70747c44a77c7bcd40155683ae19c65e1c03b4aa3499c5328201f1"
  },
  "kernelspec": {
   "display_name": "Python 3.8.10 64-bit",
   "language": "python",
   "name": "python3"
  },
  "language_info": {
   "codemirror_mode": {
    "name": "ipython",
    "version": 3
   },
   "file_extension": ".py",
   "mimetype": "text/x-python",
   "name": "python",
   "nbconvert_exporter": "python",
   "pygments_lexer": "ipython3",
   "version": "3.8.10"
  },
  "orig_nbformat": 4
 },
 "nbformat": 4,
 "nbformat_minor": 2
}
