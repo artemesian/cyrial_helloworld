{
 "cells": [
  {
   "cell_type": "code",
   "execution_count": 69,
   "metadata": {},
   "outputs": [
    {
     "data": {
      "text/plain": [
       "True"
      ]
     },
     "execution_count": 69,
     "metadata": {},
     "output_type": "execute_result"
    }
   ],
   "source": [
    "import solana\n",
    "from solana.rpc.api import Client\n",
    "from solana.publickey import PublicKey\n",
    "from solana.keypair import Keypair\n",
    "from solana.transaction import Transaction, TransactionInstruction\n",
    "from solana.transaction import AccountMeta\n",
    "from solana.system_program import SYS_PROGRAM_ID\n",
    "from spl.token import instructions\n",
    "from spl.token.constants import TOKEN_PROGRAM_ID, ASSOCIATED_TOKEN_PROGRAM_ID\n",
    "import base58\n",
    "import base64\n",
    "from borsh_construct import *\n",
    "from solana.rpc.commitment import Commitment\n",
    "\n",
    "\n",
    "network_url = \"https://api.devnet.solana.com\"\n",
    "client = Client(network_url)\n",
    "\n",
    "program_id = PublicKey(\"EVivzWf5pGBGjLo8u7D4VPT4WHs6JTmabP8Fuk47oKi9\")\n",
    "\n",
    "# Check connection\n",
    "client.is_connected()\n"
   ]
  },
  {
   "cell_type": "code",
   "execution_count": 56,
   "metadata": {},
   "outputs": [
    {
     "data": {
      "text/plain": [
       "tcWyhjGAH8GyH2xBfSJ9tLAKpCkeZ5tRdo3fhAatogp"
      ]
     },
     "execution_count": 56,
     "metadata": {},
     "output_type": "execute_result"
    }
   ],
   "source": [
    "seed = bytes([125,215,212,54,213,78,45,123]*4)\n",
    "payer_keypair = Keypair.from_seed(seed)\n",
    "client.request_airdrop(payer_keypair.public_key, 2*10**9)\n",
    "payer_keypair.public_key"
   ]
  },
  {
   "cell_type": "code",
   "execution_count": 57,
   "metadata": {},
   "outputs": [
    {
     "name": "stdout",
     "output_type": "stream",
     "text": [
      "Dsol Pubkey: DE2vE88TtWEDNB8Zpqs1YX4rrRkTotwsDXmDdenKAyf5\n",
      "Token Mint ID: 38S1iz3JtGKcXckZoyJRTUhbfFxepUjP9swadzuuF5Jr\n",
      "Dsol associated token Pubkey: 6VFhP4pPqsen5xfDU1HV4WFNdCpiHqi1fUAw1sQaH2Dk\n",
      "Dsol data Pubkey: BBdPBdJ5CtA6nCy6VhKKYvStqgmaBQnBuWLo8ZS1NY2d\n",
      "Mint Authority Pubkey: HY43ouAxW2sCPECiCWDkyZqsirf5WWj2wzsYFEEVdSob\n",
      "Associated Token Pubkey: 4HQ6A22yEXLi5MtMtThC4dFCEgwX22XzFXGERLBiNquS\n"
     ]
    }
   ],
   "source": [
    "dsol_wallet_keypair = Keypair.from_secret_key(base58.b58decode(\"3pz9m7W5ejAEwcQcTeY4695osvh47j1MyEHpMbgScbMtmVY4aicEpwm9HzcHbQCZc3mPJKZUJRYTv5Vpc5iLm9qy\"))\n",
    "print(f\"Dsol Pubkey: {dsol_wallet_keypair.public_key}\")\n",
    "\n",
    "mint_keypair = Keypair.generate()\n",
    "print(f\"Token Mint ID: {mint_keypair.public_key}\")\n",
    "\n",
    "dsol_wallet_associated_token_pubkey = instructions.get_associated_token_address(dsol_wallet_keypair.public_key, mint_keypair.public_key)\n",
    "print(f\"Dsol associated token Pubkey: {dsol_wallet_associated_token_pubkey}\")\n",
    "\n",
    "(dsol_data_pda, dsol_data_bump) = PublicKey.find_program_address( [b\"dsol_data_pda\", bytes(mint_keypair.public_key), bytes(dsol_wallet_associated_token_pubkey)], program_id)\n",
    "print(f\"Dsol data Pubkey: {dsol_data_pda}\")\n",
    "\n",
    "(mint_authority_pda, mint_authority_bump) = PublicKey.find_program_address([b\"dsol_mint_auth_pda\"], program_id)\n",
    "print(f\"Mint Authority Pubkey: {mint_authority_pda}\")\n",
    "\n",
    "associated_token_pubkey = instructions.get_associated_token_address(payer_keypair.public_key, mint_keypair.public_key)\n",
    "print(f\"Associated Token Pubkey: {associated_token_pubkey}\")\n",
    "\n",
    "payer_account = AccountMeta(payer_keypair.public_key , True, True)\n",
    "dsol_wallet_account = AccountMeta(dsol_wallet_keypair.public_key , True, True)\n",
    "dsol_wallet_associated_token_account = AccountMeta(dsol_wallet_associated_token_pubkey , False, True)\n",
    "dsol_data_pda_account = AccountMeta(dsol_data_pda, False, True)\n",
    "mint_account = AccountMeta(mint_keypair.public_key , True, True)\n",
    "mint_authority_account = AccountMeta(mint_authority_pda , False, False)\n",
    "associated_token_account = AccountMeta(associated_token_pubkey, False, True)\n",
    "system_program_account = AccountMeta(SYS_PROGRAM_ID, False, False)\n",
    "token_program_account = AccountMeta(TOKEN_PROGRAM_ID, False, False)\n",
    "associated_program_account = AccountMeta(ASSOCIATED_TOKEN_PROGRAM_ID, False, False)\n",
    "rent_account = AccountMeta(solana.sysvar.SYSVAR_RENT_PUBKEY, False, False)\n",
    "clock_account = AccountMeta(solana.sysvar.SYSVAR_CLOCK_PUBKEY, False, False)\n"
   ]
  },
  {
   "cell_type": "code",
   "execution_count": 58,
   "metadata": {},
   "outputs": [],
   "source": [
    "def create_mint():\n",
    "    accounts = [\n",
    "        payer_account,\n",
    "        dsol_wallet_account,\n",
    "        dsol_wallet_associated_token_account,\n",
    "        dsol_data_pda_account,\n",
    "        mint_account,\n",
    "        mint_authority_account,\n",
    "        system_program_account,\n",
    "        token_program_account,\n",
    "        associated_token_account,\n",
    "        rent_account,\n",
    "        clock_account,\n",
    "\n",
    "        system_program_account,\n",
    "        token_program_account,\n",
    "        associated_program_account,\n",
    "        token_program_account,\n",
    "        associated_program_account,\n",
    "        token_program_account,\n",
    "        system_program_account,\n",
    "        system_program_account,\n",
    "    ]\n",
    "\n",
    "    transaction = Transaction()\n",
    "    transaction.add(\n",
    "        TransactionInstruction(\n",
    "            accounts,\n",
    "            program_id,\n",
    "            bytes([0])\n",
    "        )\n",
    "    )\n",
    "\n",
    "    signature = client.send_transaction(transaction, payer_keypair, mint_keypair, dsol_wallet_keypair)['result']\n",
    "    print(f\"https://explorer.solana.com/tx/{signature}?cluster=devnet\")\n"
   ]
  },
  {
   "cell_type": "code",
   "execution_count": 59,
   "metadata": {},
   "outputs": [
    {
     "name": "stdout",
     "output_type": "stream",
     "text": [
      "https://explorer.solana.com/tx/5CK9kjj16FUfv3VZn9NraAtsThWQJsdGPTxs42WceWpnbeEHsGhTek8Y1PFDPgieLBMccZjfhZPKUTChygtTVabK?cluster=devnet\n"
     ]
    }
   ],
   "source": [
    "# Create an initial supply of Dsol Tokens\n",
    "create_mint()"
   ]
  },
  {
   "cell_type": "code",
   "execution_count": 77,
   "metadata": {},
   "outputs": [
    {
     "data": {
      "text/plain": [
       "Container(date_created=1645005443, next_inflation_date=1676541443)"
      ]
     },
     "execution_count": 77,
     "metadata": {},
     "output_type": "execute_result"
    }
   ],
   "source": [
    "def getAccountInfo(client: Client, account_pk: PublicKey):\n",
    "    \"\"\"Fetch account information from RPC, parse out the data and deserialize\"\"\"\n",
    "    comm = Commitment(\"confirmed\")\n",
    "    res = client.get_account_info(account_pk, comm, encoding='base64')\n",
    "    data = res['result']\n",
    "    if isinstance(data, dict):\n",
    "        return accountSchema.parse(base64.urlsafe_b64decode(data['value']['data'][0]))\n",
    "    else:\n",
    "        raise AttributeError(f'Unknown RPC result {data}')\n",
    "        \n",
    "accountSchema = CStruct(\n",
    "    \"date_created\" / U32,\n",
    "    \"next_inflation_date\" / U32,\n",
    ")\n",
    "\n",
    "dsol_data = getAccountInfo(client, dsol_data_pda)\n",
    "dsol_data"
   ]
  },
  {
   "cell_type": "code",
   "execution_count": 60,
   "metadata": {},
   "outputs": [],
   "source": [
    "# def update_mint():\n",
    "#     accounts = [\n",
    "#         payer_account,\n",
    "#         dsol_wallet_account,\n",
    "#         dsol_wallet_associated_token_account,\n",
    "#         mint_account,\n",
    "#         mint_authority_account,\n",
    "#         system_program_account,\n",
    "#         token_program_account,\n",
    "#         associated_token_account,\n",
    "#         rent_account,\n",
    "\n",
    "#         system_program_account,\n",
    "#         token_program_account,\n",
    "#         associated_program_account,\n",
    "#         token_program_account,\n",
    "#         associated_program_account,\n",
    "#         token_program_account,\n",
    "#         system_program_account,\n",
    "#         system_program_account,\n",
    "#         system_program_account,\n",
    "#     ]\n",
    "\n",
    "#     transaction = Transaction()\n",
    "#     transaction.add(\n",
    "#         TransactionInstruction(\n",
    "#             accounts,\n",
    "#             program_id,\n",
    "#             bytes([1])\n",
    "#         )\n",
    "#     )\n",
    "\n",
    "#     signature = client.send_transaction(transaction, payer_keypair, mint_keypair, dsol_wallet_keypair)['result']\n",
    "#     print(f\"https://explorer.solana.com/tx/{signature}?cluster=devnet\")\n"
   ]
  }
 ],
 "metadata": {
  "interpreter": {
   "hash": "916dbcbb3f70747c44a77c7bcd40155683ae19c65e1c03b4aa3499c5328201f1"
  },
  "kernelspec": {
   "display_name": "Python 3.8.10 64-bit",
   "language": "python",
   "name": "python3"
  },
  "language_info": {
   "codemirror_mode": {
    "name": "ipython",
    "version": 3
   },
   "file_extension": ".py",
   "mimetype": "text/x-python",
   "name": "python",
   "nbconvert_exporter": "python",
   "pygments_lexer": "ipython3",
   "version": "3.8.10"
  },
  "orig_nbformat": 4
 },
 "nbformat": 4,
 "nbformat_minor": 2
}
